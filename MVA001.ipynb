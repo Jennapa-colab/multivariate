{
  "nbformat": 4,
  "nbformat_minor": 0,
  "metadata": {
    "colab": {
      "name": "MVA001.ipynb",
      "provenance": [],
      "include_colab_link": true
    },
    "kernelspec": {
      "name": "python3",
      "display_name": "Python 3"
    }
  },
  "cells": [
    {
      "cell_type": "markdown",
      "metadata": {
        "id": "view-in-github",
        "colab_type": "text"
      },
      "source": [
        "<a href=\"https://colab.research.google.com/github/Jennapa-colab/multivariate/blob/main/MVA001.ipynb\" target=\"_parent\"><img src=\"https://colab.research.google.com/assets/colab-badge.svg\" alt=\"Open In Colab\"/></a>"
      ]
    },
    {
      "cell_type": "markdown",
      "metadata": {
        "id": "o6fJWojR8CFE"
      },
      "source": [
        "**Scalar Vector and Matrix**"
      ]
    },
    {
      "cell_type": "code",
      "metadata": {
        "id": "9ZOSi1LA76Fl"
      },
      "source": [
        "import numpy as np"
      ],
      "execution_count": null,
      "outputs": []
    },
    {
      "cell_type": "markdown",
      "metadata": {
        "id": "VIvXyr9b8OWd"
      },
      "source": [
        "Salar"
      ]
    },
    {
      "cell_type": "code",
      "metadata": {
        "colab": {
          "base_uri": "https://localhost:8080/"
        },
        "id": "5-KdSWPw8Pip",
        "outputId": "41361a05-a44b-4412-db4c-1bfb59b1b94f"
      },
      "source": [
        "scalar_a = 10 #เป็นค่าคงที่ มีแค่ขนาดเท่านั้น \n",
        "scalar_a"
      ],
      "execution_count": null,
      "outputs": [
        {
          "output_type": "execute_result",
          "data": {
            "text/plain": [
              "10"
            ]
          },
          "metadata": {
            "tags": []
          },
          "execution_count": 54
        }
      ]
    },
    {
      "cell_type": "markdown",
      "metadata": {
        "id": "ihN-TqQ88WmS"
      },
      "source": [
        "**Vector**"
      ]
    },
    {
      "cell_type": "code",
      "metadata": {
        "colab": {
          "base_uri": "https://localhost:8080/"
        },
        "id": "YsXQOHhL8XU7",
        "outputId": "64b371cd-a69a-42a4-a6e5-e4d037988f8c"
      },
      "source": [
        "vector_b = np.zeros([2,1]) #จะมีทั้งขนาดและปริมาณ มีทิศทาง\n",
        "vector_b[0,0] = 1\n",
        "vector_b[1,0] = 3\n",
        "print(vector_b)\n",
        "print(vector_b.shape)"
      ],
      "execution_count": null,
      "outputs": [
        {
          "output_type": "stream",
          "text": [
            "[[1.]\n",
            " [3.]]\n",
            "(2, 1)\n"
          ],
          "name": "stdout"
        }
      ]
    },
    {
      "cell_type": "code",
      "metadata": {
        "colab": {
          "base_uri": "https://localhost:8080/"
        },
        "id": "FERGQtBR8jat",
        "outputId": "0840c2bf-e026-44b3-e0cb-0c6aac81593c"
      },
      "source": [
        "vector_c = np.array([[1],[3]])\n",
        "print(vector_c)\n",
        "print(vector_c.shape)"
      ],
      "execution_count": null,
      "outputs": [
        {
          "output_type": "stream",
          "text": [
            "[[1]\n",
            " [3]]\n",
            "(2, 1)\n"
          ],
          "name": "stdout"
        }
      ]
    },
    {
      "cell_type": "code",
      "metadata": {
        "id": "DmzOooAc8n3J"
      },
      "source": [
        "from  matplotlib import pyplot as plt"
      ],
      "execution_count": null,
      "outputs": []
    },
    {
      "cell_type": "code",
      "metadata": {
        "colab": {
          "base_uri": "https://localhost:8080/",
          "height": 283
        },
        "id": "XeYThFb38rSw",
        "outputId": "288f6d6c-459e-4be0-96ba-9429af4e4c26"
      },
      "source": [
        "plt.plot(vector_b[0,0],vector_b[1,0],'ro') #เป็นการ plot จุด บนแกน X,Y ว่าจะอยู่ในตำแหน่งไหน"
      ],
      "execution_count": null,
      "outputs": [
        {
          "output_type": "execute_result",
          "data": {
            "text/plain": [
              "[<matplotlib.lines.Line2D at 0x7f9575bb64a8>]"
            ]
          },
          "metadata": {
            "tags": []
          },
          "execution_count": 58
        },
        {
          "output_type": "display_data",
          "data": {
            "image/png": "[encoded data removed]",
            "text/plain": [
              "<Figure size 432x288 with 1 Axes>"
            ]
          },
          "metadata": {
            "tags": [],
            "needs_background": "light"
          }
        }
      ]
    },
    {
      "cell_type": "code",
      "metadata": {
        "colab": {
          "base_uri": "https://localhost:8080/",
          "height": 283
        },
        "id": "6kavhr8P8vU_",
        "outputId": "3d172fe6-8333-4396-d52b-60af309be43a"
      },
      "source": [
        "plt.quiver(0,0,vector_b[0,0],vector_b[1,0])"
      ],
      "execution_count": null,
      "outputs": [
        {
          "output_type": "execute_result",
          "data": {
            "text/plain": [
              "<matplotlib.quiver.Quiver at 0x7f9575b12748>"
            ]
          },
          "metadata": {
            "tags": []
          },
          "execution_count": 59
        },
        {
          "output_type": "display_data",
          "data": {
            "image/png": "[encoded data removed]",
            "text/plain": [
              "<Figure size 432x288 with 1 Axes>"
            ]
          },
          "metadata": {
            "tags": [],
            "needs_background": "light"
          }
        }
      ]
    },
    {
      "cell_type": "markdown",
      "metadata": {
        "id": "Vmv9d6eF8yfb"
      },
      "source": [
        "ขนาดของ Vector คำนวณได้โดยใช้ ปิทากอรัส\n",
        "ปิทากอรัส C^2 = A^2 + B^2"
      ]
    },
    {
      "cell_type": "code",
      "metadata": {
        "colab": {
          "base_uri": "https://localhost:8080/"
        },
        "id": "3jHmeOJz8zrh",
        "outputId": "2c91a331-8f0f-43f6-cf2c-43833e452d58"
      },
      "source": [
        "vector_b_size = ((vector_b[0,0]**2) + (vector_b[1,0])**2)**0.5\n",
        "vector_b_size"
      ],
      "execution_count": null,
      "outputs": [
        {
          "output_type": "execute_result",
          "data": {
            "text/plain": [
              "3.1622776601683795"
            ]
          },
          "metadata": {
            "tags": []
          },
          "execution_count": 60
        }
      ]
    },
    {
      "cell_type": "markdown",
      "metadata": {
        "id": "uH8c_wRo88hR"
      },
      "source": [
        "**Matrix**"
      ]
    },
    {
      "cell_type": "code",
      "metadata": {
        "colab": {
          "base_uri": "https://localhost:8080/"
        },
        "id": "A6kxb6LM89eS",
        "outputId": "681ad197-748e-47ca-8e07-2577bafbaf55"
      },
      "source": [
        "matrix_d = np.array([[2,3],[1,4],[-1,1]])\n",
        "matrix_d"
      ],
      "execution_count": null,
      "outputs": [
        {
          "output_type": "execute_result",
          "data": {
            "text/plain": [
              "array([[ 2,  3],\n",
              "       [ 1,  4],\n",
              "       [-1,  1]])"
            ]
          },
          "metadata": {
            "tags": []
          },
          "execution_count": 61
        }
      ]
    },
    {
      "cell_type": "code",
      "metadata": {
        "colab": {
          "base_uri": "https://localhost:8080/"
        },
        "id": "JOcR7IKt9Dfc",
        "outputId": "9843041d-49be-4777-e58b-6f43c57e06fa"
      },
      "source": [
        "matrix_d = matrix_d.T\n",
        "matrix_d"
      ],
      "execution_count": null,
      "outputs": [
        {
          "output_type": "execute_result",
          "data": {
            "text/plain": [
              "array([[ 2,  1, -1],\n",
              "       [ 3,  4,  1]])"
            ]
          },
          "metadata": {
            "tags": []
          },
          "execution_count": 62
        }
      ]
    },
    {
      "cell_type": "code",
      "metadata": {
        "colab": {
          "base_uri": "https://localhost:8080/"
        },
        "id": "_cDLjRZa9GVC",
        "outputId": "b2555bf8-bcdf-4ec3-e0e2-6742116531d7"
      },
      "source": [
        "matrix_d[0,:]"
      ],
      "execution_count": null,
      "outputs": [
        {
          "output_type": "execute_result",
          "data": {
            "text/plain": [
              "array([ 2,  1, -1])"
            ]
          },
          "metadata": {
            "tags": []
          },
          "execution_count": 63
        }
      ]
    },
    {
      "cell_type": "markdown",
      "metadata": {
        "id": "ZVFkPAgP9LXl"
      },
      "source": [
        "การ plot จะใช้ .plot(ค่าX,ค่าY,หน้าตาของจุด)\n",
        "โดยค่า x และ y ไม่จำเป็นต้องมีค่าเดียว"
      ]
    },
    {
      "cell_type": "code",
      "metadata": {
        "colab": {
          "base_uri": "https://localhost:8080/",
          "height": 283
        },
        "id": "AM1LIGNm9Mhi",
        "outputId": "a28e0433-39b4-4a53-f36c-396f75b646fd"
      },
      "source": [
        "plt.plot(matrix_d[0,:],matrix_d[1,:],'ro') #เป็นการ plot ของค่าจาก 0 ในทุกๆ low และจาก 1 ในทุกๆ low\n",
        "plt.plot(0,0,'.b') #plot (ค่าX,ค่าY,หน้าตาของจุด) \n",
        "plt.plot([0,0],[-1,5],'^:k') #จะดูจุดที่ plot จะต้องดูว่ามี x,y ทั้งหมดกี่ตัว เช่น แถวนี้มี x 2 ตัวและ y 2 ตัว \n",
        "#โดย 1 จุด จะประกอบด้วย x,y อย่างละ 1 ตัว\n",
        "plt.plot([-1.5,2.5],[0,0],'>:k')"
      ],
      "execution_count": null,
      "outputs": [
        {
          "output_type": "execute_result",
          "data": {
            "text/plain": [
              "[<matplotlib.lines.Line2D at 0x7f9575af2978>]"
            ]
          },
          "metadata": {
            "tags": []
          },
          "execution_count": 64
        },
        {
          "output_type": "display_data",
          "data": {
            "image/png": "[encoded data removed]",
            "text/plain": [
              "<Figure size 432x288 with 1 Axes>"
            ]
          },
          "metadata": {
            "tags": [],
            "needs_background": "light"
          }
        }
      ]
    },
    {
      "cell_type": "markdown",
      "metadata": {
        "id": "zOngwKEz9aZo"
      },
      "source": [
        "Transpose\n",
        "ใช้เมื่อเราจะคูณ matrix ให้แถวกับหลักมาคูณกันได้\n"
      ]
    },
    {
      "cell_type": "code",
      "metadata": {
        "colab": {
          "base_uri": "https://localhost:8080/"
        },
        "id": "RraLq_bO9bZq",
        "outputId": "43701d79-9d27-4aba-dfa5-1bb53d046a84"
      },
      "source": [
        "A = np.array([[3,-1,2],[1,5,4]])\n",
        "A"
      ],
      "execution_count": null,
      "outputs": [
        {
          "output_type": "execute_result",
          "data": {
            "text/plain": [
              "array([[ 3, -1,  2],\n",
              "       [ 1,  5,  4]])"
            ]
          },
          "metadata": {
            "tags": []
          },
          "execution_count": 65
        }
      ]
    },
    {
      "cell_type": "markdown",
      "metadata": {
        "id": "JmTGYZU59juU"
      },
      "source": [
        "**Matrix Multiply**"
      ]
    },
    {
      "cell_type": "code",
      "metadata": {
        "colab": {
          "base_uri": "https://localhost:8080/"
        },
        "id": "5u8tQWFU9m03",
        "outputId": "698d43c3-5c95-4c01-8873-c2eb6c703444"
      },
      "source": [
        "B = np.dot(A,A.T)\n",
        "B"
      ],
      "execution_count": null,
      "outputs": [
        {
          "output_type": "execute_result",
          "data": {
            "text/plain": [
              "array([[14,  6],\n",
              "       [ 6, 42]])"
            ]
          },
          "metadata": {
            "tags": []
          },
          "execution_count": 66
        }
      ]
    },
    {
      "cell_type": "markdown",
      "metadata": {
        "id": "T9rpH2tJ93At"
      },
      "source": [
        "**Determinant**"
      ]
    },
    {
      "cell_type": "code",
      "metadata": {
        "colab": {
          "base_uri": "https://localhost:8080/"
        },
        "id": "rSGkNklA950D",
        "outputId": "4277b312-5a73-4f4e-8955-80939d5aec6e"
      },
      "source": [
        "np.linalg.det(B)"
      ],
      "execution_count": null,
      "outputs": [
        {
          "output_type": "execute_result",
          "data": {
            "text/plain": [
              "551.9999999999998"
            ]
          },
          "metadata": {
            "tags": []
          },
          "execution_count": 67
        }
      ]
    },
    {
      "cell_type": "code",
      "metadata": {
        "colab": {
          "base_uri": "https://localhost:8080/",
          "height": 283
        },
        "id": "AFhMWB1Y9-bc",
        "outputId": "b58c4558-232a-4301-901f-21a75d62e625"
      },
      "source": [
        "plt.plot([0,1],[0,1],'-r')\n",
        "plt.plot(0,0,'.b')\n",
        "plt.plot([0,0],[-1,5],'^:k')\n",
        "plt.plot([-1.5,2.5],[0,0],'>:k')"
      ],
      "execution_count": null,
      "outputs": [
        {
          "output_type": "execute_result",
          "data": {
            "text/plain": [
              "[<matplotlib.lines.Line2D at 0x7f957ec87e80>]"
            ]
          },
          "metadata": {
            "tags": []
          },
          "execution_count": 68
        },
        {
          "output_type": "display_data",
          "data": {
            "image/png": "[encoded data removed]",
            "text/plain": [
              "<Figure size 432x288 with 1 Axes>"
            ]
          },
          "metadata": {
            "tags": [],
            "needs_background": "light"
          }
        }
      ]
    },
    {
      "cell_type": "code",
      "metadata": {
        "colab": {
          "base_uri": "https://localhost:8080/"
        },
        "id": "Pcwat0HI-C1W",
        "outputId": "1ec6f7af-2631-42f3-8e1a-c5537802037c"
      },
      "source": [
        "B = np.array([[1,2],[3,4]])\n",
        "B"
      ],
      "execution_count": null,
      "outputs": [
        {
          "output_type": "execute_result",
          "data": {
            "text/plain": [
              "array([[1, 2],\n",
              "       [3, 4]])"
            ]
          },
          "metadata": {
            "tags": []
          },
          "execution_count": 69
        }
      ]
    },
    {
      "cell_type": "markdown",
      "metadata": {
        "id": "AWP6apBO-HLq"
      },
      "source": [
        "**Matrix multiplication $B.v$**\n",
        "\n",
        " คือ linear transformation"
      ]
    },
    {
      "cell_type": "code",
      "metadata": {
        "colab": {
          "base_uri": "https://localhost:8080/"
        },
        "id": "Y_Z1jjGM-H6W",
        "outputId": "b02e23e2-9850-4cec-f9bb-fabfc5013ff0"
      },
      "source": [
        "Bv = np.dot(B,np.array([[1],[1]]))\n",
        "Bv"
      ],
      "execution_count": null,
      "outputs": [
        {
          "output_type": "execute_result",
          "data": {
            "text/plain": [
              "array([[3],\n",
              "       [7]])"
            ]
          },
          "metadata": {
            "tags": []
          },
          "execution_count": 70
        }
      ]
    },
    {
      "cell_type": "code",
      "metadata": {
        "colab": {
          "base_uri": "https://localhost:8080/",
          "height": 283
        },
        "id": "gFHC_M5G-NwG",
        "outputId": "c3f02f4a-2ee3-41e8-8b07-ce47ff0bad55"
      },
      "source": [
        "plt.plot([0,Bv[0,0]],[0,Bv[1,0]],'-g') # vector Bv\n",
        "plt.plot([0,1],[0,1],'-r') #vector v ([1,1])\n",
        "plt.plot(0,0,'.b')\n",
        "plt.plot([0,0],[-1,5],'^:k')\n",
        "plt.plot([-1.5,2.5],[0,0],'>:k')"
      ],
      "execution_count": null,
      "outputs": [
        {
          "output_type": "execute_result",
          "data": {
            "text/plain": [
              "[<matplotlib.lines.Line2D at 0x7f9575b4f5f8>]"
            ]
          },
          "metadata": {
            "tags": []
          },
          "execution_count": 71
        },
        {
          "output_type": "display_data",
          "data": {
            "image/png": "[encoded data removed]",
            "text/plain": [
              "<Figure size 432x288 with 1 Axes>"
            ]
          },
          "metadata": {
            "tags": [],
            "needs_background": "light"
          }
        }
      ]
    },
    {
      "cell_type": "markdown",
      "metadata": {
        "id": "uTwtId0s-R8n"
      },
      "source": [
        "Determinant ของ Matrix $Det(B)$ คือ พื้นที่ของ unit vector ที่ถูกเปลี่ยนไปโดย Matrix นั้นๆ"
      ]
    },
    {
      "cell_type": "code",
      "metadata": {
        "colab": {
          "base_uri": "https://localhost:8080/",
          "height": 283
        },
        "id": "ySHO9FsR-U5a",
        "outputId": "b21d99a4-aba7-4205-fe8e-0da2e80c7213"
      },
      "source": [
        "plt.plot([0,Bv[0,0]],[0,Bv[1,0]],'-g') # vector Bv\n",
        "plt.plot([1,1],[1,0],':g') #วาดจุดไข่ปลา พื้นที่ของ Bv\n",
        "plt.plot([0,1],[0,1],'-r') #vector v ([1,1])\n",
        "plt.plot(0,0,'.b')\n",
        "plt.plot([0,0],[-1,5],'^:k')\n",
        "plt.plot([-1.5,2.5],[0,0],'>:k')"
      ],
      "execution_count": null,
      "outputs": [
        {
          "output_type": "execute_result",
          "data": {
            "text/plain": [
              "[<matplotlib.lines.Line2D at 0x7f95759a59e8>]"
            ]
          },
          "metadata": {
            "tags": []
          },
          "execution_count": 72
        },
        {
          "output_type": "display_data",
          "data": {
            "image/png": "[encoded data removed]",
            "text/plain": [
              "<Figure size 432x288 with 1 Axes>"
            ]
          },
          "metadata": {
            "tags": [],
            "needs_background": "light"
          }
        }
      ]
    },
    {
      "cell_type": "code",
      "metadata": {
        "colab": {
          "base_uri": "https://localhost:8080/",
          "height": 283
        },
        "id": "6ThX-NuE-ZYG",
        "outputId": "daecc2dd-466c-4336-b81d-320000719c2d"
      },
      "source": [
        "plt.plot([0,Bv[0,0]],[0,Bv[1,0]],'-g') # vector Bv\n",
        "plt.plot([1,1],[1,0],':g') #วาดจุดไข่ปลา พื้นที่ของ Bv\n",
        "plt.plot([1,0],[1,1],':g') #วาดจุดไข่ปลา พื้นที่ของ Bv\n",
        "plt.plot([0,1],[0,1],'-r') #vector v ([1,1])\n",
        "plt.plot(0,0,'.b')\n",
        "plt.plot([0,0],[-1,5],'^:k')\n",
        "plt.plot([-1.5,2.5],[0,0],'>:k')"
      ],
      "execution_count": null,
      "outputs": [
        {
          "output_type": "execute_result",
          "data": {
            "text/plain": [
              "[<matplotlib.lines.Line2D at 0x7f95759205f8>]"
            ]
          },
          "metadata": {
            "tags": []
          },
          "execution_count": 73
        },
        {
          "output_type": "display_data",
          "data": {
            "image/png": "[encoded data removed]",
            "text/plain": [
              "<Figure size 432x288 with 1 Axes>"
            ]
          },
          "metadata": {
            "tags": [],
            "needs_background": "light"
          }
        }
      ]
    },
    {
      "cell_type": "code",
      "metadata": {
        "colab": {
          "base_uri": "https://localhost:8080/",
          "height": 283
        },
        "id": "V1mEr3gv-cCc",
        "outputId": "b19b74c6-3e1c-4e91-ebd3-ad7a7a072a4d"
      },
      "source": [
        "plt.plot([0,Bv[0,0]],[0,Bv[1,0]],'-g') # vector Bv\n",
        "plt.plot([1,1],[1,0],':r') #วาดจุดไข่ปลา พื้นที่ของ Bv\n",
        "plt.plot([1,0],[1,1],':r') #วาดจุดไข่ปลา พื้นที่ของ Bv\n",
        "plt.plot([3,3],[7,0],':g') #วาดจุดไข่ปลา พื้นที่ของ v\n",
        "plt.plot([0,3],[7,7],':g') #วาดจุดไข่ปลา พื้นที่ของ v\n",
        "plt.plot([0,1],[0,1],'-r') #vector v ([1,1])\n",
        "plt.plot(0,0,'.b')\n",
        "plt.plot([0,0],[-1,5],'^:k')\n",
        "plt.plot([-1.5,2.5],[0,0],'>:k')"
      ],
      "execution_count": null,
      "outputs": [
        {
          "output_type": "execute_result",
          "data": {
            "text/plain": [
              "[<matplotlib.lines.Line2D at 0x7f9575898c88>]"
            ]
          },
          "metadata": {
            "tags": []
          },
          "execution_count": 74
        },
        {
          "output_type": "display_data",
          "data": {
            "image/png": "[encoded data removed]",
            "text/plain": [
              "<Figure size 432x288 with 1 Axes>"
            ]
          },
          "metadata": {
            "tags": [],
            "needs_background": "light"
          }
        }
      ]
    },
    {
      "cell_type": "markdown",
      "metadata": {
        "id": "H_RBCHPM-f68"
      },
      "source": [
        "Identity Matrix (I)\n",
        "สมบัติคือถ้าเอาเมทริกซ์เอกลักษณ์ไปคูณกับตัวไหน ก็จะได้ตัวเดิม"
      ]
    },
    {
      "cell_type": "markdown",
      "metadata": {
        "id": "igCQeFzE_iu6"
      },
      "source": [
        "Identity Matrix (I) คือ matrix จตุรัส\n",
        "$AI = A = IA$"
      ]
    },
    {
      "cell_type": "code",
      "metadata": {
        "id": "EmABwMciBEOa"
      },
      "source": [
        "iden2 = np.identity(2)"
      ],
      "execution_count": null,
      "outputs": []
    },
    {
      "cell_type": "code",
      "metadata": {
        "id": "gz5xQeIWBRu0",
        "colab": {
          "base_uri": "https://localhost:8080/"
        },
        "outputId": "9f6e69c8-5bae-4168-8d1a-aadbe5b1d34b"
      },
      "source": [
        "B"
      ],
      "execution_count": null,
      "outputs": [
        {
          "output_type": "execute_result",
          "data": {
            "text/plain": [
              "array([[1, 2],\n",
              "       [3, 4]])"
            ]
          },
          "metadata": {
            "tags": []
          },
          "execution_count": 76
        }
      ]
    },
    {
      "cell_type": "code",
      "metadata": {
        "id": "aP3V2bBqBVbc",
        "colab": {
          "base_uri": "https://localhost:8080/"
        },
        "outputId": "9fe15678-f79b-4f66-d680-3c89bfbef5d5"
      },
      "source": [
        "np.dot(B,iden2)"
      ],
      "execution_count": null,
      "outputs": [
        {
          "output_type": "execute_result",
          "data": {
            "text/plain": [
              "array([[1., 2.],\n",
              "       [3., 4.]])"
            ]
          },
          "metadata": {
            "tags": []
          },
          "execution_count": 77
        }
      ]
    },
    {
      "cell_type": "code",
      "metadata": {
        "id": "Y-jSiNLKBZbD",
        "colab": {
          "base_uri": "https://localhost:8080/"
        },
        "outputId": "85bcce22-748e-4dc5-8823-9745f3bd0b05"
      },
      "source": [
        "np.dot(iden2,B)"
      ],
      "execution_count": null,
      "outputs": [
        {
          "output_type": "execute_result",
          "data": {
            "text/plain": [
              "array([[1., 2.],\n",
              "       [3., 4.]])"
            ]
          },
          "metadata": {
            "tags": []
          },
          "execution_count": 78
        }
      ]
    },
    {
      "cell_type": "code",
      "metadata": {
        "id": "-V72fOVaBc9W",
        "colab": {
          "base_uri": "https://localhost:8080/"
        },
        "outputId": "e3f89a41-b8af-444b-a63e-7fce31e2eaa5"
      },
      "source": [
        "C = np.array([[-1,2],[2,4]])\n",
        "C"
      ],
      "execution_count": null,
      "outputs": [
        {
          "output_type": "execute_result",
          "data": {
            "text/plain": [
              "array([[-1,  2],\n",
              "       [ 2,  4]])"
            ]
          },
          "metadata": {
            "tags": []
          },
          "execution_count": 79
        }
      ]
    },
    {
      "cell_type": "code",
      "metadata": {
        "id": "6PP5PiiYBf4Z",
        "colab": {
          "base_uri": "https://localhost:8080/"
        },
        "outputId": "4b8dae1e-debd-4c86-e50e-7b1e30dc80d5"
      },
      "source": [
        "np.dot(B,C)"
      ],
      "execution_count": null,
      "outputs": [
        {
          "output_type": "execute_result",
          "data": {
            "text/plain": [
              "array([[ 3, 10],\n",
              "       [ 5, 22]])"
            ]
          },
          "metadata": {
            "tags": []
          },
          "execution_count": 80
        }
      ]
    },
    {
      "cell_type": "code",
      "metadata": {
        "id": "2wHJNG_bBi7M",
        "colab": {
          "base_uri": "https://localhost:8080/"
        },
        "outputId": "3a293669-0e79-4fe6-f606-e0a4004d7122"
      },
      "source": [
        "np.dot(C,B)"
      ],
      "execution_count": null,
      "outputs": [
        {
          "output_type": "execute_result",
          "data": {
            "text/plain": [
              "array([[ 5,  6],\n",
              "       [14, 20]])"
            ]
          },
          "metadata": {
            "tags": []
          },
          "execution_count": 81
        }
      ]
    },
    {
      "cell_type": "markdown",
      "metadata": {
        "id": "cwf7yEC4-lym"
      },
      "source": [
        "**Quiz การบ้านในห้อง Commit : Quiz1feb21**"
      ]
    },
    {
      "cell_type": "code",
      "metadata": {
        "colab": {
          "base_uri": "https://localhost:8080/"
        },
        "id": "3dei_KuX-pRA",
        "outputId": "9284b4a7-6d63-4860-fe60-8b8adf51b4d7"
      },
      "source": [
        "ma1 = np.array([[3,1,6],[7,4,5],[2,-7,1]])\n",
        "ma1"
      ],
      "execution_count": null,
      "outputs": [
        {
          "output_type": "execute_result",
          "data": {
            "text/plain": [
              "array([[ 3,  1,  6],\n",
              "       [ 7,  4,  5],\n",
              "       [ 2, -7,  1]])"
            ]
          },
          "metadata": {
            "tags": []
          },
          "execution_count": 82
        }
      ]
    },
    {
      "cell_type": "code",
      "metadata": {
        "colab": {
          "base_uri": "https://localhost:8080/"
        },
        "id": "ycTuLy9B-xFc",
        "outputId": "a80bf368-24b0-4a9a-e32e-cea8d9b66142"
      },
      "source": [
        "np.linalg.det(ma1)"
      ],
      "execution_count": null,
      "outputs": [
        {
          "output_type": "execute_result",
          "data": {
            "text/plain": [
              "-221.99999999999997"
            ]
          },
          "metadata": {
            "tags": []
          },
          "execution_count": 83
        }
      ]
    },
    {
      "cell_type": "markdown",
      "metadata": {
        "id": "m_XIDuc8CbtF"
      },
      "source": [
        "Eigen value กับ Eigen vector\n",
        "Eigen value ($\\lambda$) -> $|A-\\lambda I | = 0$ ## $latex$\n",
        "Eigen vector ($x$) -> $Ax = \\lambda x$\n",
        "เวลา search หา เช่น Eigen value numpy"
      ]
    },
    {
      "cell_type": "markdown",
      "metadata": {
        "id": "NdaMCHmBEOxS"
      },
      "source": [
        "** HW 5 หา Eigen value กับ Eigen vector ของ**"
      ]
    },
    {
      "cell_type": "markdown",
      "metadata": {
        "id": "hz79loPsELwt"
      },
      "source": [
        "![5830EA09-5624-47C1-8B40-C828AD31D212.jpeg](data:image/jpeg;base64,/9j/4AAQSkZJRgABAQAAkACQAAD/4QCMRXhpZgAATU0AKgAAAAgABQESAAMAAAABAAEAAAEaAAUAAAABAAAASgEbAAUAAAABAAAAUgEoAAMAAAABAAIAAIdpAAQAAAABAAAAWgAAAAAAAACQAAAAAQAAAJAAAAABAAOgAQADAAAAAQABAACgAgAEAAAAAQAAA/GgAwAEAAAAAQAAAT4AAAAA/+0AOFBob3Rvc2hvcCAzLjAAOEJJTQQEAAAAAAAAOEJJTQQlAAAAAAAQ1B2M2Y8AsgTpgAmY7PhCfv/AABEIAT4D8QMBEQACEQEDEQH/xAAfAAABBQEBAQEBAQAAAAAAAAAAAQIDBAUGBwgJCgv/xAC1EAACAQMDAgQDBQUEBAAAAX0BAgMABBEFEiExQQYTUWEHInEUMoGRoQgjQrHBFVLR8CQzYnKCCQoWFxgZGiUmJygpKjQ1Njc4OTpDREVGR0hJSlNUVVZXWFlaY2RlZmdoaWpzdHV2d3h5eoOEhYaHiImKkpOUlZaXmJmaoqOkpaanqKmqsrO0tba3uLm6wsPExcbHyMnK0tPU1dbX2Nna4eLj5OXm5+jp6vHy8/T19vf4+fr/xAAfAQADAQEBAQEBAQEBAAAAAAAAAQIDBAUGBwgJCgv/xAC1EQACAQIEBAMEBwUEBAABAncAAQIDEQQFITEGEkFRB2FxEyIygQgUQpGhscEJIzNS8BVictEKFiQ04SXxFxgZGiYnKCkqNTY3ODk6Q0RFRkdISUpTVFVWV1hZWmNkZWZnaGlqc3R1dnd4eXqCg4SFhoeIiYqSk5SVlpeYmZqio6Slpqeoqaqys7S1tre4ubrCw8TFxsfIycrS09TV1tfY2dri4+Tl5ufo6ery8/T19vf4+fr/2wBDAAEBAQEBAQEBAQEBAQEBAQEBAQEBAQEBAQEBAQEBAQEBAQEBAQEBAQEBAQEBAQEBAQEBAQEBAQEBAQEBAQEBAQH/2wBDAQEBAQEBAQEBAQEBAQEBAQEBAQEBAQEBAQEBAQEBAQEBAQEBAQEBAQEBAQEBAQEBAQEBAQEBAQEBAQEBAQEBAQH/3QAEAH//2gAMAwEAAhEDEQA/AP7+KACgAoAKACgAoAKACgAoAKACgAoAKACgAoAKACgAoAKACgAoAKACgAoAKACgAoAKACgAoAKACgAoAKACgAoAKACgAoAKACgAoAKACgAoAKACgAoAKACgAoAKACgAoAKACgAoAKACgAoAKACgAoAKACgAoAKACgAoAKACgAoAKACgAoAKACgAoAKACgAoAKACgAoAKACgAoAKACgAoAKACgAoAKACgAoAKACgAoAKACgAoAKACgAoAKACgAoAKACgAoAKACgAoAKACgAoAKACgAoAKACgAoAKACgAoAKAP//Q/v4oAKACgAoAKACgAoAKACgAoAKACgAoAKACgAoAKACgAoAKACgAoAKACgAoAKACgAoAKACgAoAKACgAoAKACgAoAKACgAoAKACgAoAKACgAoAKACgAoAKACgAoAKACgAoAKACgAoAKACgAoAKACgAoAKACgAoAKACgAoAKACgAoAKACgAoAKACgAoAKACgAoAKACgAoAKACgAoAKACgAoAKACgAoAKACgAoAKACgAoAKACgAoAKACgAoAKACgAoAKACgAoAKACgAoAKACgAoAKACgAoAKACgAoAKACgAoA//9H+/igAoAKACgAoAKACgAoAKACgAoAKACgAoAKACgAoAKACgAoAKACgAoAKACgAoAKACgAoAKACgAoAKACgAoAKACgAoAKACgAoAKACgAoAKACgAoAKACgAoAKACgAoAKACgAoAKACgAoAKACgAoAKACgAoAKACgAoAKACgAoAKACgAoAKACgAoAKACgAoAKACgAoAKACgAoAKACgAoAKACgAoAKACgAoAKACgAoAKACgAoAKACgAoAKACgAoAKACgAoAKACgAoAKACgAoAKACgAoAKACgAoAKACgAoAKACgD//0v7+KACgAoAKACgAoAKACgAoAKACgAoAKACgAoAKACgAoAKACgAoAKACgAoAKACgAoAKACgAoAKACgAoAKACgAoAKACgAoAKACgAoAKACgAoAKACgAoAKACgAoAKACgAoAKACgAoAKACgAoAKACgAoAKACgAoAKACgAoAKACgAoAKACgAoAKACgAoAKACgAoAKACgAoAKACgAoAKACgAoAKACgAoAKACgAoAKACgAoAKACgAoAKACgAoAKACgAoAKACgAoAKACgAoAKACgAoAKACgAoAKACgAoAKACgAoAKAP//T/v4oAKACgAoAKACgAoAKACgAoAKACgAoAKACgAoAKACgAoAKACgAoAKACgAoAKACgAoAKACgAoAKACgAoAKACgAoAKACgAoAKACgAoAKACgAoAKACgAoAKACgAoAKACgAoAKACgAoAKACgAoAKACgAoAKACgAoAKACgAoAKACgAoAKACgAoAKACgAoAKACgAoAKACgAoAKACgAoAKACgAoAKACgAoAKACgAoAKACgAoAKACgAoAKACgAoAKACgAoAKACgAoAKACgAoAKACgAoAKACgAoAKACgAoAKACgAoA//9T+/igAoAKACgAoAKACgAoAKACgAoAKACgAoAKACgAoAKACgAoAKACgAoAKACgAoAKACgAoAKACgAoAKACgAoAKACgAoAKACgAoAKACgAoAKACgAoAKACgAoAKACgAoAKACgAoAKACgAoAKACgAoAKACgAoAKACgAoAKACgAoAKACgAoAKACgAoAKACgAoAKACgAoAKACgAoAKACgAoAKACgAoAKACgAoAKACgAoAKACgAoAKACgAoAKACgAoAKACgAoAKACgAoAKACgAoAKACgAoAKACgAoAKACgAoAKACgD//1f7+KACgAoAKACgAoAKACgAoAKACgAoAKACgAoAKACgAoAKACgAoAKACgAoAKACgAoAKACgAoAKACgAoAKACgAoAKACgAoAKACgAoAKACgAoAKACgAoAKACgAoAKACgAoAKACgAoAKACgAoAKACgAoAKACgAoAKACgAoAKACgAoAKACgAoAKACgAoAKACgAoAKACgAoAKACgAoAKACgAoAKACgAoAKACgAoAKACgAoAKACgAoAKACgAoAKACgAoAKACgAoAKACgAoAKACgAoAKACgAoAKACgAoAKACgAoAKAP//W/v4oAKACgAoAKACgAoAKACgAoAKACgAoAKACgAoAKACgAoAKACgAoAKACgAoAKACgAoAKACgAoAKACgAoAKACgAoAKACgAoAKACgAoAKACgAoAKACgAoAKACgAoAKACgAoAKACgAoAKACgAoAKACgAoAKACgAoAKACgAoAKACgAoAKACgAoAKACgAoAKACgAoAKACgAoAKACgAoAKACgAoAKACgAoAKACgAoAKACgAoAKACgAoAKACgAoAKACgAoAKACgAoAKACgAoAKACgAoAKACgAoAKACgAoAKACgAoA//9f+/igAoAKACgAoAKACgAoAKACgAoAKACgAoAKACgAoAKACgAoAKACgAoAKACgAoAKACgAoAKACgAoAKACgAoAKACgAoAKACgAoAKACgAoAKACgAoAKACgAoAKACgAoAKACgAoAKACgAoAKACgAoAKACgAoAKACgAoAKACgAoAKACgAoAKACgAoAKACgAoAKACgAoAKACgAoAKACgAoAKACgAoAKACgAoAKACgAoAKACgAoAKACgAoAKACgAoAKACgAoAKACgAoAKACgAoAKACgAoAKACgAoAKACgAoAKACgD//0P7+KACgAoAKACgAoAKACgAoAKACgAoAKACgAoAKACgAoAKACgAoAKACgAoAKACgAoAKACgAoAKACgAoAKACgAoAKACgAoAKACgAoAKACgAoAKACgAoAKACgAoAKACgAoAKACgAoAKACgD8Sv+Cl/wDwXW/Zc/4JdeN9C8CfHDwd8SfEWq6/pNvrFrN4NsLO6to7a5kaJFla4kQiQMh3AAgf3jXyeXcYZfmee4vIKNKvHF4SnOpUnOKVNqEuVqLXX7/ldo+tqcHZjT4RjxlKrh/7OnmSytUlJ/WPb8nPzOOyhbrdu+musj8t/wDiM1/4Jx/9Eq+P/wD4JtL/APj9fWHyQf8AEZr/AME4/wDolXx//wDBNpf/AMfoA/XT/gmZ/wAFpv2bf+CpV14gs/gb4T+IPh2Tw7HcyXh8Z2VparItqUD+Ubd3ySWG3r05xnK/TLhbHvhV8W+0o/2esz/sv2fM/b+35Pac3La3Jy9bv/5H5N8X5euMFwW6WI/tJ5V/ayrcsfq/1dz9nyc2svaX1ta1uq0P2Jr5k+sCgAoAKACgAoAKACgAoAKACgAoAKACgAoAKAPAv2mf2hvCP7LXwZ8b/G3xzY6rqPhnwJoWo6/qtposaS6jNaabAbiZLZJMI0rICEDHBPXGK+f4g4jwfDscvni6daosxx1LAUfZJPlq1fhlO+0e+nnpZHuZFkOKz+vXw+EnShOhh54ibqtpOEN0rJ6v0+6zP5g5f+DzD/gnLDI8TfCr4/bo2KnGjaXjI9P34/z69a96ElOMZLaSur/0/wA/vPKxNCWFr1cPNpzozcJNbNrqiP8A4jNf+Ccf/RKvj/8A+CbS/wD4/VGB6Z8HP+DuP/gn/wDGr4n+CPhV4a+GXxytNd8deIdP8OaXc6jpGmpZQ3moy+TDJcukrMsSscuQM4HANfScM8M43inG1MDgalGnVpUZV5Os2ouMXZpW6/13POzXMqGUYDE5hiIzlRw1KdWcaavJxgrtJaa/P/OP9THh7W7bxHoel69ZpJHa6rZw3sCSgCRY5l3KrgZAYDr/AEzivHzDB1MuxuJwNZxlVwtadGbhrFyg7NryNMtx9LNMBhMwoRlGjjKEK9OM/iUZq6UrJa/L7zZrjO0KACgAoAKACgAoAKACgAoAKACgAoAKACgAoAKACgAoAKACgAoAKACgAoAKACgAoAKACgAoAKACgAoAKACgAoAKACgAoAKACgAoA//R/v4oAKACgAoAKACgAoAKACgAoAKACgAoAKACgAoAKACgAoAKACgAoAKACgAoAKACgAoAKACgAoAKACgAoAKACgAoAKACgAoAKACgAoAKACgAoAKACgAoAKACgAoAKACgAoAKACgAoAKAP4zP+CxXw98EfE//AILB/sneEfiF4X0bxh4Z1PT/AAVb6hoeu2cd9p13BNrkkcsU9vKCkiSISrKcZBxnrXm/RyyzL8y8UvFBZhg6GLWF4GzjE4ZV6aqexxEK0OSrTvflnG+kktPOx6PjjmmYZZ9HfgyWX4zEYOWI8WsBh67oVHTdWhLDe9Snb4oPrF7n9Ftt/wAErf8AgnI1vCzfsYfAAkopJPgLS+Se/wDq69aqkqk0tlJniYGUp4PDSk3KUqUG29W3bdvS7fp9xP8A8Oq/+Ccf/Rl/wA/8ILS//jdZnUe+fBn9lD9m39nZ7uX4G/BT4ffCyS+DreP4M8P2ujtcCTG8Sm3A3B8DdxzjnOK7P7Qx31H+zfrVb6h7b6x9U537D29re19ntz205v8AI4P7Ly/+0P7V+p4f+0vYfVvrvs19Y+r3v7H2nxezvry7X13PoOuM7woAKACgAoAKACgAoAKACgAoAKACgAoAKACgDlfGfgfwj8RPDupeEvHPh3SvFXhnWLWay1TRNatUvNOv7SdCk1vc28mUlilQlXRhhhwc1yYvAYPHKksZhqWJVCrGtR9rBS9nVj8NSHaS6M6cLjMVgpSnhMRVw85wdOcqUnFyg94uzV0+35auPxW3/BK3/gnKzFm/Yx+ALMTkk+AtLyT7/u66kkkklZLZL+l+X3GE5yqTlOcnKc25Sk923u3vr/Wmwn/Dqv8A4Jx/9GX/AAA/8ILS/wD43TJP5rP+C4v7If7MX7O3xp/Yk1T4G/Az4c/CzUb79ob4fW15eeDPDtpo1xcwSTOZIZpLdVLo5ALKeCfTHzd3gvmGNfj3j8u+tVvqK4Jq4j6rzv2KrfWIr2nJa3PbS9/luzu46wmG/wCIKZrjfYU/rTzLEUfrHKva+y9hfk5tXy36afOx/Yh8J/8Akm3gr/sX7D/0XXo8U/8AJRZz/wBh9f8A9KPjeD/+SXyL/sW4b/0g9CrwD6QKACgAoAKACgAoAKACgAoAKACgAoAKACgAoAKACgAoAKACgAoAKACgAoAKACgAoAKACgAoAKACgAoAKACgAoAKACgAoAKACgAoA//S/v4oAKACgAoAKACgAoAKACgAoAKACgAoAKACgAoAKACgAoAKACgAoAKACgAoAKACgAoAKACgAoAKACgAoAKACgAoAKACgAoAKACgAoAKACgAoAKACgAoAKACgAoAKACgAoAKACgAoAKAP4/f+Cp//Kab9kD/AK9fA3/p/es/oyf8nT8WP+zf51/6fgV4/wD/ACjrwL/2eDLv/UVn9fVp/wAe0P8A1zX+VdFX+JP/ABM4cv8A9ywv/XmH5FiszsCgDw740ftAeAvgdpI1HxZdtNdSf8e+j2TxnU7nK5XyYHK79+Nqnu3AwRhvJxmb0cLVq4enSq4vFUcO8VPC4Zc9dUY71OS97X0vby1+z6GGy+denCvWq0sHhalZYeGKxL9nQnXltRjO1nUa1Ub3t06n8oP7bn/B2H4E+DfjPWvhV8Hvg342sPH+nXdxplrL8R9Bji0e8u4pDCl3AYZhJJYPJgrIBkr0zzXfwNDF8a8UcN5bhKmGhluY51hMDmcZNrF4ehVlatGNlaOIjG1k+az9bG2fYbCcOZXmFbHe2qY2ngauKwEqNnhqrUf3bnfVwk92rael5f1I/safGbxH+0H+zP8AB34xeLbXT7LxF4/8DaF4l1a10uN47CC91K0E88dqjlnWFXJ2BjkDglsfL9xx5kGE4Y4ozbJcDOrUw2BxlfD0p1nepKFOdouTVk21vZfcfnfBue4rP8tqYvFwpwqQrumlSTS5VG+vn/Xc+nq+OPrgoAKACgAoAKACgAoAKAPN/iv8WfAnwU8Ea38QfiL4g07w34Z0CxuL++1DUrqO1gWK2jMsgEkpCbggJ5PTnnBrx85zvA5Jh/b4ufvSfLRoRa9rXqNaU6Udeacre6ra+dz0csyvF5tiVhsJTlN/FUna8KNPrUqOztCPV9PO6Uvwe0n/AIKZ/tm/tyar4ksP+Canw/8AAkOi+Fdfu9JuvHvxz0y/XwZrcNkcPNoep6U5FwLhWWS3bOGTJO3Fe5heH+K1l2Gz/M44HLssx1KFbB5fieelm1SlVTlTreyaSdJpW5k1qrJ9ZY5tmXC+XZn/AGDhcTWzjMoUebE4rLZwr5fhK6fLPDV5qV4V4PWUGtO0vs9NY/8ABTH9p/8AY58Q+GPCf/BTHwf4JsD408Q2eg6P49+DljeReBNPl1BtkB1XUtWYeV5e15JiPuxgNtP8XpZVjeEeJM5hwtllbG5Xn0MAsRJ5zKnRwuPxClyPD5e43lVqVJP91C3vL0al4Wd4XibJMrfEP1ajmuURr8uIp5ZGVbF4LDKPNPE4uKjy06NOPxzcvdfrY/djwT428M/EPwzpHi/whq1lrega3ZQX+najYTpcW1xbXCb4pI5Y/lZWU5BBII9Orc2YZfisrxVXB4yjOjXozlCUZpp3i7NpPW3z+6xeWZnhM2wlLG4KrGrRqxUk4tNxuvhlbaS/rZnV1xHeFABQB/J1/wAHFf8AyVr9hr/s434d/wDo2Sq8F/8AlIjH/wDZB1f/AFJietx3/wAmLzX/ALG2I/8AUc/qD+E//JNvBX/Yv2H/AKLr3eKf+Sizn/sPr/8ApR8Lwf8A8kvkX/Ytw3/pB6FXgH0gUAFABQAUAFABQAUAFABQAUAFABQAUAFABQAUAFABQAUAFABQAUAFABQAUAFABQAUAFABQAUAFABQAUAFABQAUAFABQAUAFABQB//0/7+KACgAoAKACgAoAKACgAoAKACgAoAKACgAoAKACgAoAKACgAoAKACgAoAKACgAoAKACgAoAKACgAoAKACgAoAKACgAoAKACgAoAKACgAoAKACgAoAKACgAoAKACgAoAKACgAoAKACgD+P3/gqf/ymm/ZA/wCvXwN/6f3rP6Mn/J0/Fj/s3+df+n4FeP8A/wAo68C/9ngy7/1FZ/X1af8AHtD/ANc1/lXRV/iT/wATOHL/APcsL/15h+RYrM7AoA4jxP8ADbwF41uILrxZ4T0TxBc2237PNqdlHdSQ7Pu+Wz8rt6jBXHXPJrKFCjTxE8XCnCOJqUXh511G1SVB6uk5b8ja1V/PW5dWpOthoYOrJ1MLTrrEwoTd6cK6VlVjHZTtpfR2+al/mRf8HUXwr8EfDv8A4KG/DiTwdoNhoEep+DtJu7u3063jtoJbibU5d8zJGvMhwBnK/SvB+jfWqU/FjD4TncqUuMo10pauMvbWstbW8rP8Pd/UvEvKsLiPBanxDONsfT5csTSXK8PGjzK+ifNd938j/QX/AOCXf/Jhf7MP/ZJPCP8A6blr9x8YP+TgcSf9jTF/+nD+YfDD/kR1/wDsLl/6Qj79r8xP0kKACgAoAKACgAoAKAClKUYxcpNKKV23sl3YH8D3/BzJ+354t+Knx9+GH/BPf4T+IL/S7LxZq2jxeJrnTbp4RdS3tzLpt3pV20LsJIJBjfA689Tuxhfj/CPKn4l+LGFzDHwp4nhzh/NYYKvgqi54Ovha15Yj2bvHWGl27927+9+g8V5x/wAQw8MczxuGoxnxNmOW1sZRnJXgstrUvdSkvfVXnV9ItaXstj+t/wD4Jjfs4+Hf2Zf2N/gv4C0TS7PT7z/hCdAu9fktIUia91j7CkVzczsoUyyuV+Z2GT1OMfN+7eJ+cPMuKsfhqV4YHKa1XLsBRWkKWFoz/dRitkknZJJL0sub+e/DjATjkkc5xMILG8QT/tavKK97nxMVKUX1XvX0a9bM8w/4LFfs36H+0X+w38Z9KvNHt9R17wx4N1/xH4YnaBZbqz1qz091s7i0YqWjnjZsoyEMO3c1/M3iXSq5fHJeKMC6mHxuR5pQxtTF4d8lZYfD+/y8+6inruu/fm/onw4r0cTmlbhvHSvl/ElB5RXpy1ppYt8spSV7bLqvus+b+fL/AINe/wDgpD4p8TP4x/Yg+M/iBrjxP8O5r9dBk1a5drxLHSvK0+205GuHLgq2cRIMZz1zX9aYuphfEjw0yXj7BQiszo08Pg8ZRpr99WoRo+0qY+tFJuTlJ+9Vk1fre6P5vzbL4+Fvihm/CNGVerw3XxdeGExNSXNRhjp1uSnhqM9YqCirxgtUv5ndS/ter8fP0oKACgD+Tr/g4r/5K1+w1/2cb8O//RslV4L/APKRGP8A+yDq/wDqTE9bjv8A5MXmv/Y2xH/qOf1B/Cf/AJJt4K/7F+w/9F17vFP/ACUWc/8AYfX/APSj4Xg//kl8i/7FuG/9IPQq8A+kCgAoAKACgAoAKACgAoAKACgAoAKACgAoAKACgAoAKACgAoAKACgAoAKACgAoAKACgAoAKACgAoAKACgAoAKACgAoAKACgAoAKAP/1P7+KACgAoAKACgAoAKACgAoAKACgAoAKACgAoAKACgAoAKACgAoAKACgAoAKACgAoAKACgAoAKACgAoAKACgAoAKACgAoAKACgAoAKACgAoAKACgAoAKACgAoAKACgAoAKACgAoAKACgD+P3/gqf/ymm/ZA/wCvXwN/6f3rP6Mn/J0/Fj/s3+df+n4FeP8A/wAo68C/9ngy7/1FZ/X1af8AHtD/ANc1/lXRV/iT/wATOHL/APcsL/15h+RYrM7AoAKAP8y//g7Y/wCUg/wo/wCxF0T/ANOc1fL/AEc/+TxYT/srF/6fP2fxD/5R5/7qP/uuf3p/8Eu/+TC/2Yf+ySeEf/Tctfu3jB/ycDiT/saYv/04fyf4Yf8AIjr/APYXL/0hH37X5ifpIUAFABQAUAFABQAUAcl481z/AIRnwb4k1/OP7J0m7vfT/Upur5rjHGSwHC+eYunJxqUMuxFSElupRhdNenz9HsexkGEhj86yzBVPgxOMpUpddJyt5f132P8AJE1Dxt4h/aT/AOC7WnXWuXv25LH9qGLTbIXsjSJFpkXiH5II92cIM8L0GOMZIr9a+iBkWFoZZnmaW56uI4VxGf1ZO3N9aklJzW/vad9Nru3vcH0iuJaWLoPLXQVOGXYR8O0lTjyqapXSnU11cla7Vrd237v+uB4K0xNF8J+H9KjVVSw0u1tlVPuBY0wAvA4x7fnXzudYh4vNswxLvevialTXf3nfXb8vuPmOF6XseHsnpbezwFCOm2kehyXxy0lNd+EPxE0iSN5Y9Q8LapatHGMu6ywlSqjuSOnXP6r+ceIdBV+DOIYtNtZZiZK291D+v+HaP0Pg6o6XFGRTTS5cxw7u9ErTv/WsfXU/yq/2APi5cfs5f8Fy/E1hCDZ2viP49XnguVZ8xn7NdeIUBBGRg4HoRnFfvv0W4PM+BcwyepO9KlwDVxNON7v6zGmorpa6vbTl7W6x/J/pG4DM6md0Myw1NweB4uWZ4hz5rTwlKT55K3xJ79L91ds/1nrC7jvrK2vImDR3MKSoynIKsM5BAGR6cfnX55iKUqFerRkmpU5uDT3TX3f133Ppsuxax2AwmMW2JoQqq399XLdYnaFAH8nX/BxX/wAla/Ya/wCzjfh3/wCjZKrwX/5SIx//AGQdX/1Jietx3/yYvNf+xtiP/Uc/qD+E/wDyTbwV/wBi/Yf+i693in/kos5/7D6//pR8Lwf/AMkvkX/Ytw3/AKQehV4B9IFABQAUAFABQAUAFABQAUAFABQAUAFABQAUAFABQAUAFABQAUAFABQAUAFABQAUAFABQAUAFABQAUAFABQAUAFABQAUAFABQAUAf//V/v4oAKACgAoAKACgAoAKACgAoAKACgAoAKACgAoAKACgAoAKACgAoAKACgAoAKACgAoAKACgAoAKACgAoAKACgAoAKACgAoAKACgAoAKACgAoAKACgAoAKACgAoAKACgAoAKACgAoAKAP4/f+Cp//Kab9kD/AK9fA3/p/es/oyf8nT8WP+zf51/6fgV4/wD/ACjrwL/2eDLv/UVn9fVp/wAe0P8A1zX+VdFX+JP/ABM4cv8A9ywv/XmH5FiszsCgAoA/zL/+Dtj/AJSD/Cj/ALEXRP8A05zV8v8ARz/5PFhP+ysX/p8/Z/EP/lHn/uo/+65/en/wS7/5ML/Zh/7JJ4R/9Ny1+7eMH/JwOJP+xpi//Th/J/hh/wAiOv8A9hcv/SEfftfmJ+khQAUAFABQAUAFABQB4t+0Y7R/Az4pOjFWXwbrBVh1BFs3I6c/556V8J4ltx4I4hadn/ZuJ/8ASP6/pH1HBX/JV5D/ANjLDf8ApxH+T7+wXY2Gq/8ABbkHVGU+V+0MLiJpCMm4GvKQeerZ545/Ov6B+idKUeEM1lG/MvDKt/6QvW/6+W5+JfSfr4jD5zhqeHuqdfjiNHEcu3sZN8yeq0fW+j8r3j/rwWKqlnbKn3ViULj0Ar8/xDbr1XJWbnJteZ9rlUIQy3BQp/BHD01G3axy/wARbmO08DeKrqY4ig0a8kc+irGc18fxxJR4R4hb2/svFf8ApHo/y120PruF4uXEOTxW7x9BL/wL5/l95/kF6LN/bH/BdSOawRp0b9rxXGz5iF/4SLqeD2+n8jX7n9ENcuT5hKWkZcCVJJvtyrW91f7o7eaPL8fMVQl/akVUjeEK1F6/8vE/h6a+VvLQ/wBgDwWpXwpoCsCrDTLYEHgg7Ohr4nOmnm2YNO6eKq2a9fn+f3ny/C6a4dydPdYCh/6SdPXmHvBQB/J1/wAHFf8AyVr9hr/s434d/wDo2Sq8F/8AlIjH/wDZB1f/AFJietx3/wAmLzX/ALG2I/8AUc/qD+E//JNvBX/Yv2H/AKLr3eKf+Sizn/sPr/8ApR8Lwf8A8kvkX/Ytw3/pB6FXgH0gUAFABQAUAFABQAUAFABQAUAFABQAUAFABQAUAFABQAUAFABQAUAFABQAUAFABQAUAFABQAUAFABQAUAFABQAUAFABQAUAFABQB//1v7+KACgAoAKACgAoAKACgAoAKACgAoAKACgAoAKACgAoAKACgAoAKACgAoAKACgAoAKACgAoAKACgAoAKACgAoAKACgAoAKACgAoAKACgAoAKACgAoAKACgAoAKACgAoAKACgAoAKACgD+P3/gqf/ymm/ZA/wCvXwN/6f3rP6Mn/J0/Fj/s3+df+n4FeP8A/wAo68C/9ngy7/1FZ/X1af8AHtD/ANc1/lXRV/iT/wATOHL/APcsL/15h+RYrM7AoAKAP8y//g7Y/wCUg/wo/wCxF0T/ANOc1fL/AEc/+TxYT/srF/6fP2fxD/5R5/7qP/uuf3p/8Eu/+TC/2Yf+ySeEf/Tctfu3jB/ycDiT/saYv/04fyf4Yf8AIjr/APYXL/0hH37X5ifpIUAFABQAUAFABQAUAch4/wDD6eKvBfibw5IodNZ0i7sGUjIInjK4I7g96+Z4ywUsw4XzzBwhzzr5fiKcI2u3KUbJI9jh/GRy/Ossxs7qGGxlGrKzs7QlffX+t7bn+THpfgjVf2af+C8mnab4ktrvSrbU/wBpyK70/wCQwibTZvEWIpF39YCBnI4IFfr30Pc2wmLyfiTLE4wr4Lg7F5I4TaX+104peztffy3/AMN7HjfST4W9lDDZkqlLEU8fGPEqblzOlGpdxWllCpFadbdk1c/1rvDN9Dqfh/SNQt23wXdjBPExOdyOuQcjOc/X8818tmdGeHzDGUKitOlXnCS7ST1PF4cqqtkOU1U7qpgqMk31TieefH/VYdE+C3xL1W4dI4bDwlq1zI8hwipFAWJJPQep7V+c+I9eNDgviDmfx5biYRXVycNEt9fl9+p+hcGU3U4qyKCvd5lhtlf7du67+fof5W//AATk+DepftFf8FwfEuo6LG11aeGfjnd+OLuSBWdBY2niFC8hI/hw3XKj1PSv6B+i+6mVeH2Oz3EU3DCVuA6mX0asl7v1t01KNNSdlz26J9dGr+7+Q/SKq46lntLLcFCMp47jFYPFKUW+TD1JNTmknpZ/au7dnZs/1nrK2WztLe1UYWCJYwB6KPavzqvVdetUqy3qTcn8/v8A67bH1WXYX6lgcLhN/q9GFK668qsWqyO0KAP5Ov8Ag4r/AOStfsNf9nG/Dv8A9GyVXgv/AMpEY/8A7IOr/wCpMT1uO/8Akxea/wDY2xH/AKjn9Qfwn/5Jt4K/7F+w/wDRde7xT/yUWc/9h9f/ANKPheD/APkl8i/7FuG/9IPQq8A+kCgAoAKACgAoAKACgAoAKACgAoAKACgAoAKACgAoAKACgAoAKACgAoAKACgAoAKACgAoAKACgAoAKACgAoAKACgAoAKACgAoAKAP/9f+/igAoAKACgAoAKACgAoAKACgAoAKACgAoAKACgAoAKACgAoAKACgAoAKACgAoAKACgAoAKACgAoAKACgAoAKACgAoAKACgAoAKACgAoAKACgAoAKACgAoAKACgAoAKACgAoAKACgAoA/j9/4Kn/8ppv2QP8Ar18Df+n96z+jJ/ydPxY/7N/nX/p+BXj/AP8AKOvAv/Z4Mu/9RWf19Wn/AB7Q/wDXNf5V0Vf4k/8AEzhy/wD3LC/9eYfkWKzOwKACgD/Mv/4O2P8AlIP8KP8AsRdE/wDTnNXy/wBHP/k8WE/7Kxf+nz9n8Q/+Uef+6j/7rn96f/BLv/kwv9mH/sknhH/03LX7t4wf8nA4k/7GmL/9OH8n+GH/ACI6/wD2Fy/9IR9+1+Yn6SFABQAUAFABQAUAFABSlGMouMknFqzT2a7MD+CD/g5g/YM8TfCH9oP4Vf8ABQz4X6LqF9YeFNb0V/E0Gl27yNbTWdzLqd5qc6wqoSOMD5pnbI74xhvkfCDNZ+Gvi1hMsxlSGG4e4kzWGKrYqT5Iyr4utaWFU3yxfuq/K1fyX2vvuMMon4m+FubYXB1qdPijKsqxGFoe0ly0lltCj7s2knP2im91df4tGf14f8E2f2g9D/aS/Y8+CnxD0i9W8uLvwN4fTV/3ivJBqb2KyzxS4JKyKT8yt8w75xlv3LxPyd5VxbmVSFnhMyxFbHYKS+GWFqz/AHbT2enay9dz+fvDXMJ1+HaOWYicJY3IeXKcW4O6lXw0bTlF7tN7Nr7rHhH/AAWd/aS8Ofs8/sM/GW51DV0sdf8AF/g/XvDPhm2SdY7y71i+0+T7JDboSrPJI4wirkk+mAK/mbxKqTzKWR8L4GFTE47N81w+HnhaC5qssPX9xtwV3KLem29t/tf0Z4bUaWEzLE8SY5cmX8O4Wea1qs17iWFanJczaje3f71c/Ar/AINbf+CcXi/wPH4w/bW+LejT2PiL4i/bodDi1OB4ryfS9U8q/tr/AGzLvfcwP71WxnOOmW/rrH+w8PfDHJfD3C1Iyx1b6vmOLlB+/h4SounUwdXW8Jwd+am07PV9OX+bMyzH/iJ3ihnHF2HWIpcO0cVX+q0ai5adXGRre0hiaUfhcJRdlNWbWnS0v7W6/Gz9KCgAoA/k6/4OK/8AkrX7DX/Zxvw7/wDRslV4L/8AKRGP/wCyDq/+pMT1uO/+TF5r/wBjbEf+o5/UH8J/+SbeCv8AsX7D/wBF17vFP/JRZz/2H1//AEo+F4P/AOSXyL/sW4b/ANIPQq8A+kCgAoAKACgAoAKACgAoAKACgAoAKACgAoAKACgAoAKACgAoAKACgAoAKACgAoAKACgAoAKACgAoAKACgAoAKACgAoAKACgAoAKAP//Q/v4oAKACgAoAKACgAoAKACgAoAKACgAoAKACgAoAKACgAoAKACgAoAKACgAoAKACgAoAKACgAoAKACgAoAKACgAoAKACgAoAKACgAoAKACgAoA848ffF/wCGHwtbRE+Ivjrw34NbxJqtvomgrr+pQ2B1bV7r/j206xEpXzrqbB8uJDubHbjdWEjLH46WW4JPE4+NB4mWEornrxw6dnWcFZqCenNr6q9jpWDxUsJiMcqFR4PCwlUxGJUX7GjCCvKVSeiiorVtvTy3PQba5gvIIrq1lSe3nRZIZo23RyRtyrow6gjoadSnUo1J0qsJQqU5OM4SVpRkt010f9dDipVadenCtRnGpSqRU6dSDvGcXtKL6pk1QaBQAUAFABQAUAFABQAUAFABQB/H7/wVP/5TTfsgf9evgb/0/vWf0ZP+Tp+LH/Zv86/9PwK8f/8AlHXgX/s8GXf+orP6+rT/AI9of+ua/wAq6Kv8Sf8AiZw5f/uWF/68w/IsVmdgUAfIP7YI/bTPgSzH7FJ+EI+IB1KMX5+L/wBv/sL+yvKPmeR9g/e/avNxtz8uzNeJjIZ3Ux8YYeWFjlcqSVWUuZYuNVvV03slbbzPocofDaw2Nec/2g8WqFR4BYXk9i8Rb917fm19nf4rdD+Ln9vX/g3a/wCCx3/BQv4yw/Gz4y/FX9mqw8S2tmtjZ2egazrcem2luk7Txpbx3CM6KjMQq5wAO+ML08HZZR4KzVZzlk6lTGrMP7RVWvK8lW5uaylHVRvr/wAMXnfE2OzzJ6GRYmFKnllCnCH1WldUqs4x5fa1INSTqSWjl8tdHH9xf+Ce/wCzZ/wW/wD2UdA+F3wY8feJv2T/ABR8E/B50fSNVvorvX7zxovhuxVYJotOkkC24uRbqTECqp5nXII2/quI4lybinNMxzPi+hiKNapgqrwbymMU6uZSlzQni3U1dJu/tGve7H5XRyHF5Fhq0OHakJTxOKlXqU8a70acZbxpJbW2jotF12j/AEdQ+b5Ufn7fO2jzNn3d3fb7V+f1OTnl7O/Jd8vNvbpfzPqsP7f2FL6zyfWOSPtvZ35PaW97lvra/wDWxLUGwUAFABQAUAFABQAUAeVfGb4MfD749+ANe+G3xL8P6f4i8MeILC5sLyz1C1juo1juojFJJGkuUEgQ4BI498ivFzrI8JndCnTxF6dWhUVbDYmmkq+HrR+CrSm9YzjupKzX4S9TKc2xeT4lYjCy0kuSvRk/3WIpN3lRrR+1Tla0l1Wh+E/h7/gnB+3f+wvP4gt/+CcPxF+Hmr+F/Emv3Wpv4M+P+qahP4b8P2d1x9k0Cw0tVS1jtUVUtkxhU3A443fQ/wCsfFOOwWFyTOFgMZl2AwsKGEzOfPPOP3S5YRqVpaOFtZJJe9rdnl5jlHDlXHTznK6NfK8fiarni8Dg4xo5ZUlP3p1fZp8zqOWnM5Xcf5be91+l/wDBKz44ftV+OvDPxP8A+Ci/xA0rxBqXhq4tL+3+GXw31O4uvhfPf2knnLNPpGpqS5Ys0LHIJhwAegrbJsv4X4ZzWPEeWUsXmudzwipSnnShWpYCu5c3tsvatKlOnJXpSb92/S6OHMMx4pz3IqvDOPq4PKssWYSq+2yWU6OKx+A5eRYTMG01Up1VrVhdJ+Z+6ngrwV4Z+HvhrSfCPhDSLLQ9A0SzgsNO03T4Et7W2trdPLiiiiT5UVFACqAAB0z0UzDMMVmeKq4zGVp1q9abnKU5OTvJ3erbf9bsMuy7CZXhaeEwdGFGjTikowio3srXdtLs6quI7goAKAP5Ov8Ag4r/AOStfsNf9nG/Dv8A9GyVXgv/AMpEY/8A7IOr/wCpMT1uO/8Akxea/wDY2xH/AKjn9Qfwn/5Jt4K/7F+w/wDRde7xT/yUWc/9h9f/ANKPheD/APkl8i/7FuG/9IPQq8A+kCgAoAKACgAoAKACgAoAKACgAoAKACgAoAKACgAoAKACgAoAKACgAoAKACgAoAKACgAoAKACgAoAKACgAoAKACgAoAKACgAoAKAP/9H+/igAoAKACgAoAKACgAoAKACgAoAKACgAoAKACgAoAKACgAoAKACgAoAKACgAoAKACgAoAKACgAoAKACgAoAKACgAoAKACgAoAKACgAoAKAEJABJOAOpP+R/P8qipUhShKpUkoQgnKUm7JJbtvW39bWuNJt2W7P8AOb/4OgP+Cmms2f7Wvwo+Ffw41iOXT/g/rOi+NrlYZmZIvFOhXssLwTeU20bR1BAce/8AF8d4K55Wq+K1fjHEVGspwmIlkGJpqbtUwdOtzznZ2i011+9LSJ+k8c5XTy/wplwuquJwmccRQ+u+2oy5L5diqPJyOWktZa21XVbNn9m3/BJv9rXSf2wP2MvhR8RLW/tbzWrTwxouleJxbyrJ5OuJYJLeRthmYMrNyHOR0+bqv7/4o5DHKeIp43DwlHAZ5B5rgm0kvq+Ilenaza26LTzZ/NvhvnCxWWYjJqtRSr8PYmWVK7bq1aeFXL7WV7Ntt6u3yV/d/S+vzQ/SAoAKACgAoAKACgAoAKACgAoA/jR/4Kw+Kf7O/wCC3H7HGm/2Nq1158HgRPtdtBvtYt3iBxmR+wHVuOnPGKx+i9L23iR4t4qzp8nBmd4P2M9KsrVov28Y9aLtZS019LS38eKXt/o+8H4fmjT+reKOBx3tKj5YVeXDNfV6W9676Rv95/ZLZnNrbnBGYlOD1HHeuuurVqive02ro8nK58+X4OdnHmoU3yy3Wmz8yzWR3hQAUAFABQAUAFABQAUAFABQAUAFABQAUAFABQAUAFABQAUAfyK/8HHniP8As/4z/sQWX9landeT8fvh7ffaLaHfDJtnkX7Mjd7g9Qncc1y+DWM9n9JGrh/YVpfWeC3Q9rGN6VH2mJX7yrLTlhG3vP8APc97j2hy/R9znG+0pv2ecYmP1dP9/O2GbvGHVPZeZ/U78GLr7d8KfAN55M1v9p8M6bN5E67Jot8Odki9nXoRX1vF9P2XE+eU+aM+TMcRHng7wlae8X1T6H51wXP2nCfD8+WUObLMM+WStJe5s10f9dD02vnD6cKACgAoAKACgAoAKACgAoAKACgAoAKACgAoAKACgAoAKACgAoAKACgAoAKACgAoAKACgAoAKACgAoAKACgAoAKACgAoAKACgAoA/9L+/igAoAKACgAoAKACgAoAKACgAoAKACgAoAKACgAoAKACgAoAKACgAoAKACgAoAKACgAoAKACgAoAKACgAoAKACgAoAKACgAoAKACgAoAKAPlH9tf47Wv7O37OHxP+JTM7ano3hXV7jQrSAg3d/qsFq0tva2kZIMk8hGERTknpmvhOPsfiaWV0sny+M6mZ8Q4iOUYGnSXNVeIxKtT5EpRd+ba34fa+s4Oy/C4vN6eKzGrRoZVlaWPzSviHy0KOCoyTrVKs37sYRWsnJWS10sj/F2/bo8X/Ff4j/tG/EH4l/FjRfE+han8Qte1PxZolp4ot5re6OiandNLbvapN8xtc5CFflz0r0eD8tw+T5RTytOl/aGAaw2cxp2VSGZ0ly4iOIWjVdNe/wAyUu995Xxpms83zeeKp1/rOV8so5JXjLnoVcrUv9nnhpaRdFx+Bx0a77n9ev8AwaG/t3f8I/4p8W/speLNXKWGqLfeJdEW7n4a+meGzt7WHe4GccKqqSe3Wv6kxU58c+GlHF1XSnnXDteOEhTp61I5NhaV1OS+LSTtdLl9dT+asw5uE/EHDY+NOjh8kzuhDBSUFyyq5tiKl/aT1jGTlH1k/LRH+iFX4KfswUAFABQAUAFABQAUAFABQAUAfx+/8FT/APlNN+yB/wBevgb/ANP71n9GT/k6fix/2b/Ov/T8CvH/AP5R14F/7PBl3/qKz+vq0/49of8Armv8q6Kv8Sf+JnDl/wDuWF/68w/IsVmdgUAFABQAUAFABQAUAFABQAUAFABQAUAFABQAUAFABQAUAFAH8nX/AAcV/wDJWv2Gv+zjfh3/AOjZKrwX/wCUiMf/ANkHV/8AUmJ63Hf/ACYvNf8AsbYj/wBRz+oP4T/8k28Ff9i/Yf8Aouvd4p/5KLOf+w+v/wClHwvB/wDyS+Rf9i3Df+kHoVeAfSBQAUAFABQAUAFABQAUAFABQAUAFABQAUAFABQAUAFABQAUAFABQAUAFABQAUAFABQAUAFABQAUAFABQAUAFABQAUAFABQAUAFAH//T/v4oAKACgAoAKACgAoAKACgAoAKACgAoAKACgAoAKACgAoAKACgAoAKACgAoAKACgAoAKACgAoAKACgAoAKACgAoAKACgAoAKACgAoAKACgD+eb/AIKXeNda/aZ/am+B37FfgTUcwaX4h8O/Er4hR2krbpvCcN49hqllciPdviYH54pVCHueKx8LsrocT8d5txXmtCtPhrg3Lq88rxKjeguLcDUU6NFzbcHNx1cY2qdtFY9DjjNMVwd4c/VsDSwWIzbjrGf6tYzCYuLlUpZFmVP38bRgpJxlFq0akk4J6WXxH8/f/B19/wAE39J8B+BPhZ+0J8N/D8Fvp3hnTdG+H18lhahWS0s4pbmS7mES4wAMO7FfXHNfltfMK+U+KubVsTUVLLuJ3WzJx5uWnPNcZWWiv7vM0u3NbvvL7/hTJqea+FGHyDD0sLLNuFoRqyxU1euspwVFR9jCfvPkvqo7a31sj+Oz9gn9o3WP2W/2pPhJ8WdN1W+0ux8P+MNEu9d+wztA13pFteLNc20uCA8cgHKMcH35r+rfCbO44HP55PiIqphuJMO8llGaTp03ipW9q7uy5f5unVdT+e+PMpjmWQYmtGi62LyyM8fgVGPNUWKoxvTdPd811pyq/rof7WP7L3xo0X9oH4D/AAz+LWhXAnsvGnhPSNcB3Kzxtf2wm8uTbkBwCMjP1zxXyfGeR1OHuI80y2UbU6GLrRoSXwzoxm4xlF2jeLto+vlvLo4Kzh5xkGCq1faLF0KVOhjo1fjjiox/eKW2t99NHo7Hv9fLH1oUAFAH4Ef8FFf+Dhz9kT/gmt8YbL4LfGfwP8VNf8S32iR67Fd+EdOsrnT1tZJ2gCM88iMJd6EkdMEYPJFfOZFxLgs/q5lSwtOtCWWY2rgazqpJSq0vicLP4bbb+qs+b6PNOGsblWAweYV6lGVLG06dWnGDblGNS9lLRJPa+r+Vj8+f+IzX/gnH/wBEq+P/AP4JtL/+P19GfOB/xGa/8E4/+iVfH/8A8E2l/wDx+gA/4jNf+Ccf/RKvj/8A+CbS/wD4/QB1fgX/AIPB/wDgnn498YeHPBmlfC/48Q6l4l1a00iyludH0xbeO4u38uN5isxIjUnLYGcema9PJsrr53muAynCyhDEZjiqWFoyqO1ONSrLli5tJ2invp91zys9zfD5Bk+ZZ1ioVKmGyzCVcZXhSSdSVOjHmkoJ2Tlba7+7U/qd+HHjnS/iZ4E8K+P9FhubfSfFujWet6fBeKq3UVtex+ZEk6rlVkCnDAEjPpnCmdZVXyPNcflGKlCeIy/E1MLWlTd6cp0pcsnBu11fbT7hZDnGG4gyfLs6wkakMNmWFpYujCqkqkadWPNFTS0UktHZyXZna15h6x/H7/wVP/5TTfsgf9evgb/0/vWf0ZP+Tp+LH/Zv86/9PwK8f/8AlHXgX/s8GXf+orP6+rT/AI9of+ua/wAq6Kv8Sf8AiZw5f/uWF/68w/IsVmdgUAFABQAUAFABQAUAFABQAUAFABQAUAFABQAUAFABQAUAFAH8nX/BxX/yVr9hr/s434d/+jZKrwX/AOUiMf8A9kHV/wDUmJ63Hf8AyYvNf+xtiP8A1HP6g/hP/wAk28Ff9i/Yf+i693in/kos5/7D6/8A6UfC8H/8kvkX/Ytw3/pB6FXgH0gUAFABQAUAFABQAUAFABQAUAFABQAUAFABQAUAFABQAUAFABQAUAFABQAUAFABQAUAFABQAUAFABQAUAFABQAUAFABQAUAFABQB//U/v4oAKACgAoAKACgAoAKACgAoAKACgAoAKACgAoAKACgAoAKACgAoAKACgAoAKACgAoAKACgAoAKACgAoAKACgAoAKACgAoAKACgAoAKAPNfjB8SdE+EXw08ZfEfxFcx2mk+EdBv9bvJZHVAIbGIyycsQuQo78euOq/L8Y53HIcgx+M5rYj2FSOEin71TEct4QjbVyfZHt8O5TPO84wGXQUrYnE06dSUfsRlJLmfkuv5q6Uv5d/+Cav7Zv7HGt/H74+ftV/tB/tO/BDwv411Hxl4l8JeCbDxB4usbTWLTwJLcreafHJFdN5kexyQQmYw3AzwF/TcihlnCnhXkmSZRj54rEcWvD8YZxaoqn1XMMbR5a+Ek4tOEodacrW63tY+W41xD4q8SJVVgcfgcs4MwD4YWHx1P2dPF4/AVf8AkY4WNmp0pp+5V96Tella59uf8FKf2sf+CaX7XH7I3xb+FE37XX7O2qa1qXhLW/8AhGVufG+lTGDXJrJobOaH7zLKrN8pQbvTPO38S8R8jxGYZdhczy+j7TH5Li4ZhCNOLlWrxoK6oRitZuT2j1P0nw/zqjlWdKhjKrpZfm1P+zsfNOyjha8l7R3eisr6tP0dz/I2+JPhuy8F/EDxZ4X0vWLDXbHw/rl7ptnrelTi507UobaQpHeWVwOJbeUfNHIOGXkV91w7mOOqZfleZyVXBY+VCjiWrOlWw9dq9rauE4P7vK9j5ziKjgaOdZpQy6ftsvhjK0MLN2fPQUrQbaunddV66XaP9LT/AINPv28ovjL+zhqP7PXi7XHuvF3gS7lOi291cb3j8NadaRW1tFEruZAgcnaFBTPYkYr+gvEGhQ4m4VyDjDL4Tl9TwuFyXNJz1qVcfTg6lavNr4ubW825Nn4DwxUfC3G+b8NVq9SdHN1Wz2lOtPmhCdeooxw9N62t0il1vrY/sLr8LP2YKACgD5X+Ln7D/wCyJ8e/EEfiv4z/ALO/wr+JfiSG2FnFrXi7wvZatqEdqrlxbrcTqzCIOSwXOASSM5O3jwuX4LBSrSwmGo4eWIqSrV3SgourVl8U523k+rv5a6nZXx+NxNKnQxGJrVaNFKNKnOTlGEY7KKvolfTT/wC18o/4dV/8E4/+jL/gB/4QWl//ABuuw4w/4dV/8E4/+jL/AIAf+EFpf/xugA/4dV/8E4/+jL/gB/4QWl//ABugC9pn/BL7/gnno2oWeq6V+x38B9P1LT547qyvbbwLpkdxa3ER3RzQyKgKSI3KsDwfXBrbD4ivhK9LE4arOhiKE41KNanJxqU6kdYzhJaqSez6GGKwuHxuHrYTF0aeIw2IhKlXoVYqdOrTlpKE4vSUWt09Hsz7f0fR9L0DS7HRdFsLbTNJ0y3jtNP0+ziWG1tLaEbYoIIl+VI0XhVHAHFGIxFfF16uJxNWdfEV5upWrVJOVSpOXxSnJ6uT6sMLhcPgsPRwmEo08PhsPCNKjQpRUKdKnFWjCEVoopaJLRbI0qxNz+P3/gqf/wAppv2QP+vXwN/6f3rP6Mn/ACdPxY/7N/nX/p+BXj//AMo68C/9ngy7/wBRWf19Wn/HtD/1zX+VdFX+JP8AxM4cv/3LC/8AXmH5FiszsCgAoAKACgAoAKACgAoAKACgAoAKACgAoAKACgAoAKACgAoA/k6/4OK/+StfsNf9nG/Dv/0bJVeC/wDykRj/APsg6v8A6kxPW47/AOTF5r/2NsR/6jn9Qfwn/wCSbeCv+xfsP/Rde7xT/wAlFnP/AGH1/wD0o+F4P/5JfIv+xbhv/SD0KvAPpAoAKACgAoAKACgAoAKACgAoAKACgAoAKACgAoAKACgAoAKACgAoAKACgAoAKACgAoAKACgAoAKACgAoAKACgAoAKACgAoAKACgD/9X+/igAoAKACgAoAKACgAoAKACgAoAKACgAoAKACgAoAKACgAoAKACgAoAKACgAoAKACgAoAKACgAoAKACgAoAKACgAoAKACgAoAKACgAoA/CH/AILU/Fy51zwZ4D/ZC8IXt8fFHx+8Uab4L8Qw6I+dV0zwl4mjksrrViqHfFBC/HnMCgbk44r5TBcLLxT48w3C31uNDK+GcJDirNqqnyKrhsJU5a+Ei/eU6sl9iSSel7o+voZvT4F4MzrjGtFrFY2niMjyGT0/4WqlP2mGtezWq+zd32Stc/MXw5/wZs/sCanoOk6h4s+K3x5PiW7soZ9bNvrWmmA6i65uDFvg37C+Su7n1r7XHYfA4TF4jDZbzLAUKs6eEUrcyoRfuJ8ul0t7aHweW47MMywGEx+bO+ZYujCvjXdv/aKivU1lrv31Nv8A4gyv+Ccf/RVfj/8A+DnS/wD4xXKdp/I7/wAF4/8AgjX4f/4JbfE3w5F8K9X8ReIvhR4h021MOq+J51utSTVrqV9tu00UccIHkqG2Dc2c+ny/n2QcWYzFcR5lw1m1GnSxtH22LwToxahPLoyUKbqc1m6re7V4/mfc5jw3gI8J4XibL683B4qGX4qhXkvarFcjnOdOK09jbZ3v6WZ4l/wQk/bWvv2Of24/h3qlxqUtn4Z8datpXg/Wg0pjtILTUdQjae5mywVVVF+Zzj9Pm/qvwux9LM8FnfB+Pq0o4bGYLEV8tp1JK9TNqi5KMacZOzm0rLl97/FtH+ePEfK6ioYHiPB+xo18lxdPGY3ET92c8vw/vVKPOrOzfR6euiP9ijwf4o0rxr4Y0PxXolzFeaTr+nW+p2FzC4kimtrlN8ckbrwysOhGQfU9a/JMzwFbK8fi8vxEXGthK9ShUi1ZqdN2afo/8z7vJszo5xleBzKhKMqeMw9OvFxd1apG9vlf/PZnSVwHphQB/LB/wVx/4Kef8Fdv2Uf2gdN8BfsY/sf/APC6/hvceG4tRuvE3/CC61r/AJWqtdPG9p9rsXEK7YgH8s/Nzk4yAvyPDObZ1mVbOIZrgvqtPCZlXw+Cl7OVP22Fh/Dq+98XNtdafgfXZ3lOS4LK8uxOAxv1jF4ijSniaXtIz9lUknzx5Uk427O9rWvqflF/w/h/4OOP+kbX/mKPE/8A8cr64+RD/h/D/wAHHH/SNr/zFHif/wCOUAH/AA/h/wCDjj/pG1/5ijxP/wDHKAO6+GX/AAXG/wCDhjxJ8QPCGg+K/wDgnX/ZPhvVtdsbHWtS/wCFW+JYfsWnzyhbi4813Kx+WvO9hhepzxXs8PYPA5hnmV4LM6/1XL8VjaNHGYjmUPY0JytUqcz0XKtbv/M8LibHZhlvD+b4/KcP9bzLCYGvXwWG5HU9viIRvTpckbSlzvSyd30sf29/CHxD4o8W/DHwP4l8a6V/YnizW/Dun6hr+keS9v8A2fqdxCGubXyJMvF5T/LsY5HfJzT4iweBy/PM0wWWYj61l+GxlajhMRzKftqEJWhPmWkuZa3X6MXDGOzHM+H8px+bYb6nmWLwVGtjcLyOHsK843qU+SWsOV6cru1s23dno9eKe8fx+/8ABU//AJTTfsgf9evgb/0/vWf0ZP8Ak6fix/2b/Ov/AE/Arx//AOUdeBf+zwZd/wCorP6+rT/j2h/65r/Kuir/ABJ/4mcOX/7lhf8ArzD8ixWZ2BQAUAFABQAUAFABQAUAFABQAUAFABQAUAFABQAUAFABQAUAfydf8HFf/JWv2Gv+zjfh3/6NkqvBf/lIjH/9kHV/9SYnrcd/8mLzX/sbYj/1HP6g/hP/AMk28Ff9i/Yf+i693in/AJKLOf8AsPr/APpR8Lwf/wAkvkX/AGLcN/6QehV4B9IFABQAUAFABQAUAFABQAUAFABQAUAFABQAUAFABQAUAFABQAUAFABQAUAFABQAUAFABQAUAFABQAUAFABQAUAFABQAUAFABQAUAf/W/v4oAKACgAoAKACgAoAKACgAoAKACgAoAKACgAoAKACgAoAKACgAoAKACgAoAKACgAoAKACgAoAKACgAoAKACgAoAKACgAoAKACgAoA+KP2x/wBvn9nL9iTwXfeKPjR8QNA8P3sdnJc6d4fu9TtbXV9TYIXiSztrhlMxmKlUAI3HgdTXymd8TUMCsTgsB/tubxw86lPCULVKkHtGdSC1UE9G9NdO7l9BlGQYjMPZYqv/ALLlksRGhPHV708P7Td0lVs4+05dUvK+trS/hR/Zh/4LXfDH48/8Fgtf+N/x/wBestF+EGl6Vc+Fvh9NrVzDBpunxQa2LjTNTnNwzQRXEcDHdNHjA5XjIX9S8EMLl+T8D8RPNZ4fC8XZ9iMViXjq3LCpTwGJpq+XKq/3ipxqe97F2S631Z81445hDMYcL5LkOHr4nJslzPB1sZRpR56dbG4dONTGxjG8Zcy2k7N7XabR/oB/Ar9qn9nn9pXSjqvwM+Lfgj4lWsKZux4T1u11ZrF1ALw3ItyfLkjyN44xnkc15eKyjMcJReLq4Wr9T9r7GOMUH9XqT3ShU2d0m13OShmWBq16eCjXpwxssOsR9SlJLEQovTnlTvdRT0vbfrrY95vLy1061nvr6eO1tLWNpri4mYJFDEgy0kjHhVUck9q8bEYihhaNTEYmrCjQoxc6tWpLlhCC3lJvZI9SlSq16sKNGnKrVqyUKdOCvKcnooxXVs/jn/4OZ/2g/wBgb48fsn6z4Ls/jV8NPFvxf8Fa/PLbaH4f8Qabe+ILHVNPspY0sby3BaaIRTHa8Y6Me+cL+QcV4XF1uKOHc+4epVa8sRUwlHFY3Dxbw88snO8/3kObm5t9uW27le8f1Lg3H4bLsr4lyzPFh3SeX4uOFwWLX7yhmTSUKsKcm+WqtlJWfRbpH+Zvpep32jahZ6rptxLaX9hPHc2lzA5jmgnjOUkjccq6nkEf0Ffu2UZlXyfM8DmmGUXiMBiaeJoqd+V1KTvHmtZ2v5/cfkOLwtDG4avhMVTjWw+IpypVqU0pQqU5q0oyi00010tr5WP9O7/g3v8A+C43wT+LnwI8D/s5/Hbx/pPhH4n+FLfT/Cvh2fxLqdvYrr9vZW0dtaQWxuJDNdX11MTsVB8/bPO79S4wweF4z+r8RZDyTzCvQjPOMvppPESxsrzr16dKOroXaSk9Wz804clj+EsVmGU5nRtlTr1MVgMVRi/qmDwXw0qE5PSnyR15U5Jbpn9edpd21/bQXlnPHc2tzGssE8TB45Y3GVdGGQykdD/LpX5BVpVKFSdGtCVOrTk4ThNWlGS3TXRr+tz9Po1qWIpU69CpGrRqxU6dSD5ozi9pRatdP+r7liszQKACgAoAKACgAoAKAP4/f+Cp/wDymm/ZA/69fA3/AKf3rP6Mn/J0/Fj/ALN/nX/p+BXj/wD8o68C/wDZ4Mu/9RWf19Wn/HtD/wBc1/lXRV/iT/xM4cv/ANywv/XmH5FiszsCgAoAKACgAoAKACgAoAKACgAoAKACgAoAKACgAoAKACgAoA/k6/4OK/8AkrX7DX/Zxvw7/wDRslV4L/8AKRGP/wCyDq/+pMT1uO/+TF5r/wBjbEf+o5/UH8J/+SbeCv8AsX7D/wBF17vFP/JRZz/2H1//AEo+F4P/AOSXyL/sW4b/ANIPQq8A+kCgAoAKACgAoAKACgAoAKACgAoAKACgAoAKACgAoAKACgAoAKACgAoAKACgAoAKACgAoAKACgAoAKACgAoAKACgAoAKACgAoAKAP//X/v4oAKACgAoAKACgAoAKACgAoAKACgAoAKACgAoAKACgAoAKACgAoAKACgAoAKACgAoAKACgAoAKACgAoAKACgAoAKACgAoAKACgAoA+evjN+yd+zX+0RLazfHH4J/D34py2IRbOTxn4ftdYa3WPOwRG4B2BMnaBnHtnNcMMsy+njJZhTwdCGOnD2U8VGmlWlTbu4Oe7Tep2f2hjXgllzxNb6iqvt1hed+xVa1vacm3PbS+vy15vBf8Ah1X/AME4/wDoy/4Af+EFpf8A8bruOM+iPgz+zB+z1+zvb3Vp8Dfg94D+FltfO8l5D4M0K20aO5eTG95Rbgb2YABic5xya76mZ5hWwkMBVxleeChNVIYaU26MZxVlJQ1SaT7/AHnGsvwSxjzBYaisc6XsXiuRe2dJu/s+e1+S+tr28tEz268s7XUbWexvoI7q0uo2huLeZQ8U0TjDRyKeGVhwR3rysRh6GKo1MPiaUK1CtFwq0qkeaE4PeMk90z0KVWrQqwrUakqVWlJTp1IO0oSWqlF9Gj4g1/8A4Jlf8E/PFGs6n4i8RfshfAvWdc1m7lv9V1W/8D6ZPeX97O26a5uZmj3STSNy7nknnvToUKOFo08Ph6cKNCjBU6VKmuWFOEdIxilZJJbJL7grVquIqzrVqkqtWpJzqVJvmlOT3lJu12/6vuZH/Dqv/gnH/wBGX/AD/wAILS//AI3WpmbPh7/gmb/wT/8ACetaZ4j8NfsifA3RNe0a7iv9K1bTvBGm297YXkDbobm2mRA0c0TAMjDkHnIrswWYY3LqjrYHFVsLVlFwlOjNwk4veLa3Xl/kzGvQo4mlOhiKUK1KpFxnTqK8ZRejTT3TXTS/ytL7etLS2sLaCzs4I7a1to1iggiUJHFGgwqIowFUDoP59a56tWpXqTrVpyqVaknOc5u8pSe7b6t/1sVRo0sPSp0KFONKjSioU6cFyxhFbRileyX9W2LFZmgUAFABQAUAFABQAUAfxz/8FWNd0ez/AOC1/wCx5Z3WpWkF1LbeBVjt5ZQsrltfcKFQ4LZPTH69ay+jDJVPE7xZr03z0Y8C53hpVI6wVdVoN0m+k0k3a7+d0jTx8hKr9HngqlTi51KPizgMVVhHWVPDxwzvWlppTX82nqz+w+zINrAQcgxrgj6fj/P866qyaq1E91JnnZbKMsBhJRacXQg01s1bdFmsjtCgAoAKACgAoAKACgAoAKACgAoAKACgAoAKACgAoAKACgAoA/ko/wCDjTWdKtPjD+w7bXN/bQXEf7Q3w8upIZJVV0txNIDMynGIwRgtnHY4wDWfgxiKEPpGYqjKrBVa3A86VKm371SpPEx5YQV/ek7aW+7W57XHlKovATN8S4SWHhm+IUqzX7uLWGbs5WsrL/F59j+pD4QTw3Xww8C3FvKk0E3hzTpIpYzuSRGiyrKR1BHT/wCtX0vFkJU+Jc7hOLjOOYYiMoy0cWpaprSz/rXc/P8Ag2UZ8K5DKLUoyyzDNNaprk3T6/h6LY9Hr54+mCgAoAKACgAoAKACgAoAKACgAoAKACgAoAKACgAoAKACgAoAKACgAoAKACgAoAKACgAoAKACgAoAKACgAoAKACgAoAKACgAoAKAP/9D+/igAoAKACgAoAKACgAoAKACgAoAKACgAoAKACgAoAKACgAoAKACgAoAKACgAoAKACgAoAKACgAoAKACgAoAKACgAoAKACgAoAKACgAoAKACgAoAKACgAoAKACgAoAKACgAoAKACgAoA/hN/4LL/8p8f2Hv8Ad+Hn/qRNXF9En/kqPGH/ALAs+/8ATkD1vGL/AJMplf8A2U1L/wBRz+6TTP8AjwtP+uK16uL/AN5rf9fJfmfJZB/yJst/7BKX5F6uc9cKAPlf9pD40fEH4a2NtYfDfwBrPi3xDe7TDdQabJe6RbeYCF+1PEQyFGALjBwp6jOK8TE4rMq2NxGX5dRjTqUcDPFxxWKi1hJyi7exU023Ud7qPLe21/tenTpYHDYKjmOPnUrUauMjg/quDali4OSv9YnB7UEtHK+7tqfwE/8ABWH/AILm/wDBU34ZfHbUv2fPGlh4d+ENjqcso0HU/BkWsaJrp0Ga5a2trt5pJFBvMAkuq7dwyM4w3f4QxwnGnHPDNLG4jEXwHFODwmZYOE19VxU6c/3tGdPXmoSvytO91prqd/GlKpw1w9jamDwtOph8wymeIw+MrU71qDqx93kqL4akfJbrW1z+8D/gnH4q8R+Nv2Kv2dfFPi3WtQ8Q+Ita+F/ha/1bWdUuHur/AFC9nsEaa5up3y0s0rfM7scseTmv1DxUwWEy/jjP8JgsPSwuGo5jioUqFGKhTpwjP3YxitEley28ktj8d8OsZisZk1apiq9XEVFinFTqycmly7Jv/gfk5fb1fnZ+gBQAUAFABQAUAFABQAUAfJ/7W/7TWn/s2/Dm61610268R+MtT36d4R8NadCt3falrc0RaxgFpuDzJNINm1PmJ6E4xXz+ZY7MquOwuR8P4V43OcZOCfuOpQy/D1Hy/X8dy3lTwlKTXtKlrR/vfCergsNg6eGxWbZvWeHynAUqletaSjXxjpLmlg8FfSeLqL+HT0bfe1j+XT9oj9lP/g4S/b+0ibxR4L+NXw//AGZvClzq7apoGk6N4g8S+EvGEelsu62tNYhRWQS7G2zxr8okGOODXbX4axeQ4n6xjs1eZYyGH/2mjgKzqYF1lrP6vF26/Bd7droyw3FGDzeg6eXZV9UwNbXDVcfQ9njY0ZL3PbyUpJVLfHbbW97rl/F/xb+2L/wWi/4Ij/FPRdL/AGmPGviL42eCLvWbea/8VeJr/XvEOhT27y4ksdOvLpo4zO0aM8UTH7pyc5+b6ThPjzh7Mcwo8OZxl9PAxlOKqVKtONPH+xbUHVpylL4eqlrZ9rXlhnHh7nVTLa/FGU5g8VOnRlQjgqFSU6FOcVze2xEI/DGO0paW2e6Uv74/+CdH7dHgH9vr9nXwp8ZfB17aSX13Y2UPiXTraVGOna29qs93aGJCxh8ksBsdty98819NxtwlU4Xx1H2XPUy3MKEcbl9d68+Fqt+y55bObWrs0vuXN8LwnxHPOaeKwmNiqGZ5fXnhq9G3L7X2ekq1KLbbpN3Sk738rWPviviD7EKACgD+Kf8A4OcP+Tj/ANjX/sqHgb/0qlr47wn/AOUrcl/7J7D/APqcj7TxE/5RW4m/7HmN/wDUM/rp/Zr/AOSB/CX/ALEjRf8A0nFfsXiD/wAlvxR/2OcZ/wCnGfjXh9/yRHC//Ymwf/ptHt9fHH2IUAFABQAUAFABQAUAFABQAUAFABQAUAFABQAUAFABQAUAFABQAUAFABQAUAFABQAUAFABQAUAFABQAUAFABQAUAFABQAUAFABQB//0f7+KACgAoAKACgAoAKACgAoAKACgAoAKACgAoAKACgAoAKACgAoAKACgAoAKACgAoAKACgAoAKACgAoAKACgAoAKACgAoAKACgAoAKACgAoAKACgAoAKACgAoAKACgAoAKACgAoAKACgD+E3/gsv/ynx/Ye/wB34ef+pE1cX0Sf+So8Yf8AsCz7/wBOQPW8Yv8AkymV/wDZTUv/AFHP7pNM/wCPC0/64rXq4v8A3mt/18l+Z8lkH/Imy3/sEpfkXq5z1woAKAP8yb/g7Ts7WH/goZ8K5ooIo5ZPAuil5FUBmzqc2cnGTk+/5YG75j6OLcPGDDQi7QlxcpyitIuftvia729Pxbl+xeI1GlPwBji504yxMcYqMa7V6ipLDpqmpWuoq+1/l1P73P8Agl3/AMmF/sw/9kk8I/8ApuWv3Xxg/wCTgcSf9jTF/wDpw/lTww/5Edf/ALC5f+kI+/a/MT9JCgAoAKACgAoAKACgAoA+evFP7OvhLxp8XdH+K3iW5v8AVpdC0yC00rw9evHPodnf205mh1iC1dcx6jHnas4bIH4CtMmn/YksfXwtnjcfGpQqY2Sf1n6pV+LCqqndUU9eRpq+393XMqn9p5RhsmrwisNhsfDMIuC9+VWMeXlm3o4Pe1u2x9CABQFAwBwAOgHoP88VDbbbbu3u3/T/AD+8xjGMIqMUoxirJLRJdktbW9fvPwZ/4OH/AIQfD34jf8E9vinq/i7Q9Ov9U8K6FrOtaFe3FvFJc22o2WmyNbNDI4YqVb7pXkdeeq/j3iTh3Qzfg3G4Hnp4/F8RYHAVJ0dKlbDzetCTVnKMnq4/nex+n+HmLrxw3FWGcnPD/wCr+Mqeyk/cjPb2iW0ZJfas3003Pzt/4NF/hB8RPAP7HXijxB4th1Cy0jxJ4wu9R0W3ulkSGezu7GJre6hVwAyuudrrkHt0LP8A274qVqWG4Y4RyytN1McspwNaXO71KFPkt7Hq4pPpzS1XTY/lXhivDNuOM3zPBUZ0sHg6VfLK7cbRqYynO85Kzs7q2r1/w3Sl/XzX4EfrgUAFAH8U/wDwc4f8nH/sa/8AZUPA3/pVLXx3hP8A8pW5L/2T2H/9TkfaeIn/ACitxN/2PMb/AOoZ/XT+zX/yQP4S/wDYkaL/AOk4r9i8Qf8Akt+KP+xzjP8A04z8a8Pv+SI4X/7E2D/9No9vr44+xCgAoAKACgAoAKACgAoAKACgAoAKACgAoAKACgAoAKACgAoAKACgAoAKACgAoAKACgAoAKACgAoAKACgAoAKACgAoAKACgAoAKAP/9L+/igAoAKACgAoAKACgAoAKACgAoAKACgAoAKACgAoAKACgAoAKACgAoAKACgAoAKACgAoAKACgAoAKACgAoAKACgAoAKACgAoAKACgAoAKACgAoAKACgAoAKACgAoAKACgAoAKACgAoA/hj/4LHaDrN5/wXn/AGIr21027ntIU+HxluIoi0UYXxE2Sz8AYAOc/rwa4/omxdLi3xgoVFyVnlme4lUpaTdD2kf3qV7uDtve3TWz5vT8ZqkKXghk1WpJQp1uLaGGpTlpGpiJYf3aMddaj/l1fkj+4/TgRY2oIwRCuQf8j+X5V6mKaeIrNbOpL8z5bIoyjk+XRkmpLC0k0907bMu1znrBQAUAf5l//B2x/wApB/hR/wBiLon/AKc5q+X+jn/yeLCf9lYv/T5+z+If/KPP/dR/91z+9P8A4Jd/8mF/sw/9kk8I/wDpuWv3bxg/5OBxJ/2NMX/6cP5P8MP+RHX/AOwuX/pCPv2vzE/SQoAKACgAoAKACgAoAKACgDkfGXj3wb8PdIuNe8beJNJ8MaPao0k+o6xdpZ2sSIu5meWQhVCryTzx24rixmY4PAwqTxNenT9nTdRxlJKXIt2rv/5H8mdOHwmJxU4ww9GpWlOShFQi5Xk9l6/KXpsfy+/tsf8ABSn9jj9uH43+H/2Kk+NnhHRvAVtrltc+LvEE/iCxg0vX1W4bT77QIbrcYrg3UbBltnX515wOaXA3DFLjnOsPxfmDawHDmKjickyd/wC+Y7NsLLnw9d0HeNXA1Fo5RtJvvZG/FHEOI4EynGZJl9J1s34iwE8DmmYJXwuU5Xi48tZ+1VpUMwoPW8rqK9Ln9Hn7OPwy+FXwk+EPgzwV8GoNITwJpGiWFro9zoqQi01C1ghEcF5vgxHK0seD5ijBHTFfX8TZlmmaZticTm0alLEe0nGOGqXSw0E/4NOD1hCD0UenzZ8Zwvl2XZbldKll1WniFNRqYjFQanLFV2verVJq/PUn1l1622PdK+ePowoAKAP4uf8Ag5n0fVLz9oj9jK4trC5ngl+LHgS1jljiZke5a6l2wqRgGQjkLnPfjk18r4S4avP6VGVVo0pypUOG6FStUS92nCONTlKb6JLfa34S+w8Q6tOX0XOJMMpxdeed4xxop/vJJ4Oyaje7v/27+p/W7+znbzWvwK+FVvcRPDPD4L0aOWKQbXjdbcZVgehHcV+s8fThU404mqU5KcJ5xjJRlHaUXUdmt9H/AFbY/IOAIyhwVwxCScZRyfBqUXo01T1T+Z7TXyB9eFABQAUAFABQAUAFABQAUAFABQAUAFABQAUAFABQAUAFABQAUAFABQAUAFABQAUAFABQAUAFABQAUAFABQAUAFABQAUAFABQAUAf/9P+/igAoAKACgAoAKACgAoAKACgAoAKACgAoAKACgAoAKACgAoAKACgAoAKACgAoAKACgAoAKACgAoAKACgAoAKACgAoAKACgAoAKACgAoAKACgAoAKACgAoAKACgAoAKACgAoAKACgAoA/j9/4Kn/8ppv2QP8Ar18Df+n96z+jJ/ydPxY/7N/nX/p+BXj/AP8AKOvAv/Z4Mu/9RWf19Wn/AB7Q/wDXNf5V0Vf4k/8AEzhy/wD3LC/9eYfkWKzOwKACgD/Mv/4O2P8AlIP8KP8AsRdE/wDTnNXy/wBHP/k8WE/7Kxf+nz9n8Q/+Uef+6j/7rn96f/BLv/kwv9mH/sknhH/03LX7t4wf8nA4k/7GmL/9OH8n+GH/ACI6/wD2Fy/9IR9+1+Yn6SFABQAUAFABQAUAFABQAUAfjb/wUD/4JC6H+3fq134g1n9p39of4eD+wpNKt/BHgjxeul+CbubczLcX+nFG8ySTd5cr94+OME18muG/q6xtSnVlmNXGYipWazOXtoUadTehSWnLTX2Y6r0ufSf6wznDBUVQp4KGF5E6+BXssRNw+3KWt5tat2ldq+nwn+fp/wAFWf8Ag36/aj/4J4Xl38a/B2p3fjv4eW2ovfx+INHmvNR8R6QULTjU9Vuo41jg8iNQ883O1mzyBhsMr4uxnDmYUcuzKP8AZleVWNPLsZhE6OEs3alQjNy/j72iraK6ttL163CuE4pw2NxmVYn6xClhalbMcLmUubFV5pXqShCPNzQktE31725Y/wBAv/Bqt/wVZ8f/ABobWP2SvjBrmp+I9U8N6PPrHh7VtTuJbqaPTLTyrK2sjNO5YBWYny0Trk8V/UebZZS4u8PaPF1KFKnmeW4uOW4v2ceWWJpUqXPLFVt5Tqze8r9HvdM/mijDF8E8XfUZzq1MgzXSjTm3z4bMa07Ro01pCGHjHaKi3pey0P7mK/Dz9cCgAoA/k6/4OK/+StfsNf8AZxvw7/8ARslV4L/8pEY//sg6v/qTE9bjv/kxea/9jbEf+o5/UH8J/wDkm3gr/sX7D/0XXu8U/wDJRZz/ANh9f/0o+F4P/wCSXyL/ALFuG/8ASD0KvAPpAoAKACgAoAKACgAoAKACgAoAKACgAoAKACgAoAKACgAoAKACgAoAKACgAoAKACgAoAKACgAoAKACgAoAKACgAoAKACgAoAKACgD/1P7+KACgAoAKACgAoAKACgAoAKACgAoAKACgAoAKACgAoAKACgAoAKACgAoAKACgAoAKACgAoAKACgAoAKACgAoAKACgAoAKACgAoAKACgAoAKACgAoAKACgAoAKACgAoAKACgAoAKACgD+P3/gqf/ymm/ZA/wCvXwN/6f3rP6Mn/J0/Fj/s3+df+n4FeP8A/wAo68C/9ngy7/1FZ/X1af8AHtD/ANc1/lXRV/iT/wATOHL/APcsL/15h+RYrM7AoAKAP8y//g7Y/wCUg/wo/wCxF0T/ANOc1fL/AEc/+TxYT/srF/6fP2fxD/5R5/7qP/uuf3p/8Eu/+TC/2Yf+ySeEf/Tctfu3jB/ycDiT/saYv/04fyf4Yf8AIjr/APYXL/0hH37X5ifpIUAFABQAUAFABQAUAFABQAUAfLn7Z/wj8OfG79mj4v8Aw98T20dxp2v+CdcsCXRGaBrq0MXnRbwwWRQeGxx75+X898TMvhiuFsbjU+XEZPTqZlhJLTlxFGPuO+jsvJ39NT7PgHMKmA4pyrlSnSxWLo4fEUpawrUZz9+nOOnNGS3T09bWP8+z/g3D/Z/1rwb/AMFb/wBoDQ/DEM3/AAivw7bxP4fW8kDbGh0rWo08oyINhkK4O35c449K/pzwjxlZ/R7p5zmNVTjmNqDipNyeLq4bm9pZ20d93drp2PxjxqxGGxfiPSyrBQhTr0eIlj3h6StGnhI1nHSCjdQT0v0/l3P9LavyU+0CgAoA/k6/4OK/+StfsNf9nG/Dv/0bJVeC/wDykRj/APsg6v8A6kxPW47/AOTF5r/2NsR/6jn9Qfwn/wCSbeCv+xfsP/Rde7xT/wAlFnP/AGH1/wD0o+F4P/5JfIv+xbhv/SD0KvAPpAoAKACgAoAKACgAoAKACgAoAKACgAoAKACgAoAKACgAoAKACgAoAKACgAoAKACgAoAKACgAoAKACgAoAKACgAoAKACgAoAKACgD/9X+/igAoAKACgAoAKACgAoAKACgAoAKACgAoAKACgAoAKACgAoAKACgAoAKACgAoAKACgAoAKACgAoAKACgAoAKACgAoAKACgAoAKACgAoAKACgAoAKACgAoAKACgAoAKACgAoAKACgAoA/j9/4Kn/8ppv2QP8Ar18Df+n96z+jJ/ydPxY/7N/nX/p+BXj/AP8AKOvAv/Z4Mu/9RWf19Wn/AB7Q/wDXNf5V0Vf4k/8AEzhy/wD3LC/9eYfkWKzOwKAAkAZPQUpSjCLlJqMYq7b0SXdvW1vT7wP8xP8A4OyvEugan/wUI+Gw0/V7G8OneCtIgvxBOsn2SaHUpvNjmwfkdP4lOMep52/LfR1lGPi1hsVKSjho8WLmrv8Ahr9/1le23f193VH7L4iSivAanlzaWPqYyNenhH/HnSlh7KpGGjcW9E1o/PY/vX/4JSeINF179gj9mp9G1Oz1JLT4V+E7W5a0mWYQXCacu+GQr92RR1U4x79a/e/GGnNce5/VcWqdfMMVVozt7tSnKp7s4vZxfS1776bH8oeGTUcnxVGTSq08ZOM6b+KElFJqS3TT6NfdY/RWvy4/SgoAKACgAoAKACgAoAKAPxW/bU/4Lq/sf/sKftA+Ev2ePjHD4oXxL4rgsrldc05bH+wNItr25a2E+qXE7o8MULqWmccKvPtXBwXmWC41zXNsrweIp5e8o9tGvi8wmqWGqVqMrSoUp3V6rveMXur6o9fiDJcZw9w/hs/xEfrFPFVYQpYHDXnjXCcOZVvZtL919nmTevqj9Ofgf+0b8Gv2i/C2n+L/AIQ+PfDnjTSb+1iug+h6nb6gbcSJv8qcwEhJFU5ZeMDnvivo8xyfH5ZJfWaE1RlrRxCi/Y14vadOWilGW6f57nyOV53l+bRl9VrRdWm3Gth217ajNfFCpHeMo9VbTzuj5y/bu/ab0L4UfCDxh4Y8M58WfFHxLo19o/hrwfo22+1iTULuEpaTTWCETG2M3yFlyS3GK/N+JKGN4ojHhLJaTxFbOKiwGNxUU5YfLsNX9yeJxU1f2VOle85tWit+ql+gZDPC5DWXE2dT+rYDKF/aFOEpclbMJ0Pe+qYNOyq4iov4dP7T6PY+Jv8AgjL/AME7D+yz4U8cfG7x5pCWnxZ+OviTUfHWrx3Fv5d/o8PiNEnn0iXzAs1uYJgQYDv2N/EcEr+6Zzj8NkXCPDnh5lc6MsLkOAwlDMK+FadDGZlhoeyq4inJNKcZpXU2uZre9ve/IcPSlxVxnm/H+Kws8PDMJ14ZXhsRHlr0cDVqe1o+3hpy1o7Ss/d6J6n7rV+fn2oUAFAH8nX/AAcV/wDJWv2Gv+zjfh3/AOjZKrwX/wCUiMf/ANkHV/8AUmJ63Hf/ACYvNf8AsbYj/wBRz+oP4T/8k28Ff9i/Yf8Aouvd4p/5KLOf+w+v/wClHwvB/wDyS+Rf9i3Df+kHoVeAfSBQAUAFABQAUAFABQAUAFABQAUAFABQAUAFABQAUAFABQAUAFABQAUAFABQAUAFABQAUAFABQAUAFABQAUAFABQAUAFABQAUAFAH//W/v4oAKACgAoAKACgAoAKACgAoAKACgAoAKACgAoAKACgAoAKACgAoAKACgAoAKACgAoAKACgAoAKACgAoAKACgAoAKACgAoAKACgAoAKACgAoAKACgAoAKACgAoAKACgAoAKACgAoAKAP4/f+Cp//Kab9kD/AK9fA3/p/es/oyf8nT8WP+zf51/6fgV4/wD/ACjrwL/2eDLv/UVn9fVp/wAe0P8A1zX+VdFX+JP/ABM4cv8A9ywv/XmH5FiszsCgD5B/bA/ZM/4a28C2Xgj/AIXZ8XvgiLPU49R/4SH4P+IP+Ee1242RGP7JPdc7rVs72TH3+ecYbxsTk0cVmEMdLGYuEYUlSeDhUthaiTvzThpeT2flprex9DlGf/2Thsbhv7Ny/GfXKFSj7bF0faVcP7RW9pQlpy1I7xd9HrpY/Aj4m/8ABpV+xp8Z/ETeLfit+0j+1H4/8TOpR9c8T+K7HU9RZC+8qbiaJnI3ktyep6Hovp5fhqGVVfbZbShgqvtfb8+HXs5e2/5+XS+Pzsu2lzysTj8bjKdOlisTWxFOlCNOnCrJyjCEfhjHsl00fz+z9m/sv/8ABB3wF+yh4h8G6l8OP2zP2vJPDPgvUbC+svh7qHj2M+DbyOwcNHp97pkUYV7KRF8qSIFQY/l9K+yy7i/HYSvjsTj8Phs9q43AVMCpZtF4l4aNR39vh725K8PsT6dlZOPy2MyDCYii6OGlUy1zrOvUqYG1KdWb352viv11jf5M/eOGLyYo4t7SbFC73OWbHdj618tUnzzlOyjzNvljsvJeR6+Ho/V6FKh7SdX2UIw9pUfNOfKvik+rZLUGwUAFABQAUAFABQAUAfk1/wAFAv8AgjX+x/8A8FFkW6+Mfh2fRvEyWos08Y+F7ayt/Ea2w3ERLfTxswQMxfHI34PBzXy/+quCp4367g62IwLliPrVejhZKnSxFV/FKtG1pOW0m07rTS65fo6HEuMhgqmBxFKhjqcqLoUp4pOpPDxasnRbb5XH7NrW+SR8Xfs/f8G43wa/Zk1DRrj4RftkftgeFdJ0e+gvf+Ea0zx3DZaHfCAj/Rry0gjVZLeRRskTHK8cY+b9Fw3EGOo8scS1mFGnSVKlh8berSpRXw+zjpZx2VmrLvdHw0sky+McT9VoQwVXFucq2Iw0VTrSnP4puS1529b3fz3j+0XgH9ln4aeC7mz1bVLafx54nsTGbXxX4xSLUtehMR3IUvSA42v84xnDc+9cCxqpVcRXwWGw+X1cVzKvUwcPZSqQnrKnO28W97t36pfZ6p4R16OGw2MxNfHYbCwhGlRxU/aU1OCsq1nde0s7cy2tZWtc+kwAoCgYA4AHQD0H+eK4m2223dvdv+n+f3nXGMYRUYpRjFWSWiS7Ja2t6/eLSGFABQB/J1/wcV/8la/Ya/7ON+Hf/o2Sq8F/+UiMf/2QdX/1Jietx3/yYvNf+xtiP/Uc/qD+E/8AyTbwV/2L9h/6Lr3eKf8Akos5/wCw+v8A+lHwvB//ACS+Rf8AYtw3/pB6FXgH0gUAFABQAUAFABQAUAFABQAUAFABQAUAFABQAUAFABQAUAFABQAUAFABQAUAFABQAUAFABQAUAFABQAUAFABQAUAFABQAUAFABQB/9f+/igAoAKACgAoAKACgAoAKACgAoAKACgAoAKACgAoAKACgAoAKACgAoAKACgAoAKACgAoAKACgAoAKACgAoAKACgAoAKACgAoAKACgAoAKACgAoAKACgAoAKACgAoAKACgAoAKACgAoA/j9/4Kn/8ppv2QP8Ar18Df+n96z+jJ/ydPxY/7N/nX/p+BXj/AP8AKOvAv/Z4Mu/9RWf19Wn/AB7Q/wDXNf5V0Vf4k/8AEzhy/wD3LC/9eYfkWKzOwKACgAoAKACgAoAKACgAoAKACgAoAKACgAoAKACgAoAKACgD+Tr/AIOK/wDkrX7DX/Zxvw7/APRslV4L/wDKRGP/AOyDq/8AqTE9bjv/AJMXmv8A2NsR/wCo5/UH8J/+SbeCv+xfsP8A0XXu8U/8lFnP/YfX/wDSj4Xg/wD5JfIv+xbhv/SD0KvAPpAoAKACgAoAKACgAoAKACgAoAKACgAoAKACgAoAKACgAoAKACgAoAKACgAoAKACgAoAKACgAoAKACgAoAKACgAoAKACgAoAKACgD//Q/v4oAKACgAoAKACgAoAKACgAoAKACgAoAKACgAoAKACgAoAKACgAoAKACgAoAKACgAoAKACgAoAKACgAoAKACgAoAKACgAoAKACgAoAKACgAoAKACgAoAKACgAoAKACgAoAKACgAoAKAP4aP+DgD9qDwR+yD/wAFP/2a/jf8QtP1nVPDPhHQ/CeqahaaFFHNqMsFjq8txKsEcrKhcqMLk9T0PNfIeBvF2X8J+KPiDLH0q9VZxwnmmU4f2CT5K9etFwlUva0FbWz+6x9f4p8H5jxf9Hrhijl9WhSllfifhMzr+3bSlQo4a0owt9t30vf5XufSsP8AweZf8E5I4o0Pwq+P+UUKcaLpfb/tvX2U5KU5SWzd/wCtv677nxOFpSoYejRk05U6cYtra6XTf8/vJf8AiM1/4Jx/9Eq+P/8A4JtL/wDj9Qbn66f8EzP+C037Nv8AwVKuvEFn8DfCfxB8OyeHY7mS8PjOytLVZFtSgfyjbu+SSw29enOM5X6ZcLY98Kvi32lH+z1mf9l+z5n7f2/J7Tm5bW5OXrd//I/Jvi/L1xguC3SxH9pPKv7WVblj9X+rufs+Tm1l7S+trWt1Wh+xNfMn1gUAFABQAUAFABQAUAFABQAUAFABQAUAFABQB4F+0z+0N4R/Za+DPjf42+ObHVdR8M+BNC1HX9VtNFjSXUZrTTYDcTJbJJhGlZAQgY4J64xXz/EHEeD4djl88XTrVFmOOpYCj7JJ8tWr8Mp32j3089LI9zIshxWf16+Hwk6UJ0MPPETdVtJwhulZPV+n3WZ/MHL/AMHmH/BOWGR4m+FXx+3RsVONG0vGR6fvx/n16170JKcYyW0ldX/p/n955WJoSwterh5tOdGbhJrZtdUR/wDEZr/wTj/6JV8f/wDwTaX/APH6owPyQ/b4/wCC437MX/BUr9of9jnwd8DfCHxG8O6j4d+PPgTVryXxnY2lrbyQWtwySLCbeRiZCWG0HIx6V9L4McM41eMOO4p9pR+ovhOpl3s7v23tvbKfNa9uS2l9X5LUjjrO8K/CfNsh5Kn1tYmvjuey9l7J0eW19HzX9fVXsf6FXwn/AOSbeCv+xfsP/RdY8U/8lFnP/YfX/wDSj57g/wD5JfIv+xbhv/SD0KvAPpAoAKACgAoAKACgAoAKACgAoAKACgAoAKACgAoAKACgAoAKACgAoAKACgAoAKACgAoAKACgAoAKACgAoAKACgAoAKACgAoAKACgD//R/v4oAKACgAoAKACgAoAKACgAoAKACgAoAKACgAoAKACgAoAKACgAoAKACgAoAKACgAoAKACgAoAKACgAoAKACgAoAKACgAoAKACgAoAKACgAoAKACgAoAKACgAoAKACgAoAKACgAoAKAPm34y/se/su/tD6la6x8cfgR8NvilqtlAlraX/jLw3Z6xc29uh3JDFLOGKxoSSqjgZ4HXbwUcry/D4qpjaODoUsXVTjUxEKaVSabu1KS3Tev/Ds73mmYvALK3jMQ8uVb6wsE6j+rqva3tVTu1z205tHbpqzxL/h1X/wTj/6Mv+AH/hBaX/8AG67zgD/h1X/wTj/6Mv8AgB/4QWl//G6APfPgz+yh+zb+zs93L8Dfgp8PvhZJfB1vH8GeH7XR2uBJjeJTbgbg+Bu45xznFdn9oY76j/Zv1qt9Q9t9Y+qc79h7e1va+z257ac3+Rwf2Xl/9of2r9Tw/wDaXsPq3132a+sfV739j7T4vZ315dr67n0HXGd4UAFABQAUAFABQAUAFABQAUAFABQAUAFABQByvjPwP4R+Inh3UvCXjnw7pXirwzrFrNZapomtWqXmnX9pOhSa3ubeTKSxSoSrowww4Oa5MXgMHjlSWMw1LEqhVjWo+1gpezqx+GpDtJdGdOFxmKwUpTwmIq4ec4OnOVKTi5Qe8XZq6fb8tXH4rb/glb/wTlZizfsY/AFmJySfAWl5J9/3ddSSSSSslsl/S/L7jCc5VJynOTlObcpSe7b3b31/rTYT/h1X/wAE4/8Aoy/4Af8AhBaX/wDG6ZJs+Hv+CZv/AAT/APCetaZ4j8NfsifA3RNe0a7iv9K1bTvBGm297YXkDbobm2mRA0c0TAMjDkHnIrswWYY3LqjrYHFVsLVlFwlOjNwk4veLa3Xl/kzGvQo4mlOhiKUK1KpFxnTqK8ZRejTT3TXTS/ytL7etLS2sLaCzs4I7a1to1iggiUJHFGgwqIowFUDoP59a56tWpXqTrVpyqVaknOc5u8pSe7b6t/1sVRo0sPSp0KFONKjSioU6cFyxhFbRileyX9W2LFZmgUAFABQAUAFABQAUAFABQAUAFABQAUAFABQAUAFABQAUAFABQAUAFABQAUAFABQAUAFABQAUAFABQAUAFABQAUAFABQAUAFABQB//9L+/igAoAKACgAoAKACgAoAKACgAoAKACgAoAKACgAoAKACgAoAKACgAoAKACgAoAKACgAoAKACgAoAKACgAoAKACgAoAKACgAoAKACgAoAKACgAoAKACgAoAKACgAoAKACgAoAKACgAoAKACgAoAKACgAoAKACgAoAKACgAoAKACgAoAKACgAoAKACgAoAKACgAoAKACgAoAKACgAoAKACgAoAKACgAoAKACgAoAKACgAoAKACgAoAKACgAoAKACgAoAKACgAoAKACgAoAKACgAoAKACgAoAKACgAoAKACgD//0/7+KACgAoAKACgAoAKACgAoAKACgAoAKACgAoAKACgAoAKACgAoAKACgAoAKACgAoAKACgAoAKACgAoAKACgAoAKACgAoAKACgAoAKACgAoAKACgAoAKACgAoAKACgAoAKACgAoAKACgAoAKACgAoAKACgAoAKACgAoAKACgAoAKACgAoAKACgAoAKACgAoAKACgAoAKACgAoAKACgAoAKACgAoAKACgAoAKACgAoAKACgAoAKACgAoAKACgAoAKACgAoAKACgAoAKACgAoAKACgAoAKACgAoAKACgAoAKAP//U/v4oAKACgAoAKACgAoAKACgAoAKACgAoAKACgAoAKACgAoAKACgAoAKACgAoAKACgAoAKACgAoAKACgAoAKACgAoAKACgAoAKACgAoAKACgAoAKACgAoAKACgAoAKACgAoAKACgAoAKACgAoAKACgAoAKACgAoAKACgAoAKACgAoAKACgAoAKACgAoAKACgAoAKACgAoAKACgAoAKACgAoAKACgAoAKACgAoAKACgAoAKACgAoAKACgAoAKACgAoAKACgAoAKACgAoAKACgAoAKACgAoAKACgAoAKACgAoA//9X+/igAoAKACgAoAKACgAoAKACgAoAKACgAoAKACgAoAKACgAoAKACgAoAKACgAoAKACgAoAKACgAoAKACgAoAKACgAoAKACgAoAKACgAoAKACgAoAKACgAoAKACgAoAKACgAoAKACgAoAKACgAoAKACgAoAKACgAoAKACgAoAKACgAoAKACgAoAKACgAoAKACgAoAKACgAoAKACgAoAKACgAoAKACgAoAKACgAoAKACgAoAKACgAoAKACgAoAKACgAoAKACgAoAKACgAoAKACgAoAKACgAoAKACgAoAKACgD//1v7+KACgAoAKACgAoAKACgAoAKACgAoAKACgAoAKACgAoAKACgAoAKACgAoAKACgAoAKACgAoAKACgAoAKACgAoAKACgAoAKACgAoAKACgAoAKACgAoAKACgAoAKACgAoAKACgAoAKACgAoAKACgAoAKACgAoAKACgAoAKACgAoAKACgAoAKACgAoAKACgAoAKACgAoAKACgAoAKACgAoAKACgAoAKACgAoAKACgAoAKACgAoAKACgAoAKACgAoAKACgAoAKACgAoAKACgAoAKACgAoAKACgAoAKACgAoAKAP//Z)"
      ]
    },
    {
      "cell_type": "code",
      "metadata": {
        "id": "iQ86rIDWWoTp",
        "colab": {
          "base_uri": "https://localhost:8080/"
        },
        "outputId": "70a6a72e-decc-4edb-c0a3-717f7c9bd0e8"
      },
      "source": [
        "KB = np.array([[1,0],[1,3]])\n",
        "KB"
      ],
      "execution_count": null,
      "outputs": [
        {
          "output_type": "execute_result",
          "data": {
            "text/plain": [
              "array([[1, 0],\n",
              "       [1, 3]])"
            ]
          },
          "metadata": {
            "tags": []
          },
          "execution_count": 84
        }
      ]
    },
    {
      "cell_type": "code",
      "metadata": {
        "id": "grDhZgIRXCQH",
        "colab": {
          "base_uri": "https://localhost:8080/"
        },
        "outputId": "59bb9be2-d794-4d69-c78c-f7d7b60d3cdc"
      },
      "source": [
        "np.linalg.eig(KB)"
      ],
      "execution_count": null,
      "outputs": [
        {
          "output_type": "execute_result",
          "data": {
            "text/plain": [
              "(array([3., 1.]), array([[ 0.        ,  0.89442719],\n",
              "        [ 1.        , -0.4472136 ]]))"
            ]
          },
          "metadata": {
            "tags": []
          },
          "execution_count": 85
        }
      ]
    },
    {
      "cell_type": "code",
      "metadata": {
        "id": "v090wZmcXG9l",
        "colab": {
          "base_uri": "https://localhost:8080/"
        },
        "outputId": "1e43dc5c-2de4-47d4-dce0-2ba8156de2dc"
      },
      "source": [
        "np.linalg.eigvals(KB)"
      ],
      "execution_count": null,
      "outputs": [
        {
          "output_type": "execute_result",
          "data": {
            "text/plain": [
              "array([3., 1.])"
            ]
          },
          "metadata": {
            "tags": []
          },
          "execution_count": 86
        }
      ]
    },
    {
      "cell_type": "markdown",
      "metadata": {
        "id": "gIhhQlNzDyU5"
      },
      "source": [
        ""
      ]
    },
    {
      "cell_type": "code",
      "metadata": {
        "id": "tefpcC34mgki",
        "colab": {
          "base_uri": "https://localhost:8080/"
        },
        "outputId": "2d80310b-30b1-42cb-ef15-685326a05e13"
      },
      "source": [
        "X = np.array([[1,2,-3,4],[4,5,-3,2]])\n",
        "print(f'data X =\\n {X}')\n",
        "C_X = np.cov(X)\n",
        "print(f'Covarience ของ X คือ \\n {C_X}')"
      ],
      "execution_count": null,
      "outputs": [
        {
          "output_type": "stream",
          "text": [
            "data X =\n",
            " [[ 1  2 -3  4]\n",
            " [ 4  5 -3  2]]\n",
            "Covarience ของ X คือ \n",
            " [[ 8.66666667  7.66666667]\n",
            " [ 7.66666667 12.66666667]]\n"
          ],
          "name": "stdout"
        }
      ]
    },
    {
      "cell_type": "code",
      "metadata": {
        "id": "H68573n7mq2y"
      },
      "source": [
        "W,V = np.linalg.eig(C_X)"
      ],
      "execution_count": null,
      "outputs": []
    },
    {
      "cell_type": "code",
      "metadata": {
        "id": "wtGhdBIwmrfw",
        "colab": {
          "base_uri": "https://localhost:8080/"
        },
        "outputId": "e83b1e88-179d-40ec-a39b-096a36b8162c"
      },
      "source": [
        "W"
      ],
      "execution_count": null,
      "outputs": [
        {
          "output_type": "execute_result",
          "data": {
            "text/plain": [
              "array([ 2.74342378, 18.58990955])"
            ]
          },
          "metadata": {
            "tags": []
          },
          "execution_count": 89
        }
      ]
    },
    {
      "cell_type": "code",
      "metadata": {
        "id": "Kph77dLfmvX7",
        "colab": {
          "base_uri": "https://localhost:8080/"
        },
        "outputId": "96ce0a12-cedf-4d2f-d9b2-a80bc75521b9"
      },
      "source": [
        "print(W[1])\n",
        "print(V[:,1])"
      ],
      "execution_count": null,
      "outputs": [
        {
          "output_type": "stream",
          "text": [
            "18.589909549336475\n",
            "[-0.6113829  -0.79133492]\n"
          ],
          "name": "stdout"
        }
      ]
    },
    {
      "cell_type": "code",
      "metadata": {
        "id": "XV3YiJqim4JT",
        "colab": {
          "base_uri": "https://localhost:8080/",
          "height": 283
        },
        "outputId": "e4c6d2cd-c6e5-4138-fa92-966e1c905837"
      },
      "source": [
        "plt.plot(X[0,:],X[1,:],'or')\n",
        "plt.plot([0,3*V[0,1]],[0,3*V[1,1]],'<-b')"
      ],
      "execution_count": null,
      "outputs": [
        {
          "output_type": "execute_result",
          "data": {
            "text/plain": [
              "[<matplotlib.lines.Line2D at 0x7f95758e7f28>]"
            ]
          },
          "metadata": {
            "tags": []
          },
          "execution_count": 91
        },
        {
          "output_type": "display_data",
          "data": {
            "image/png": "[encoded data removed]",
            "text/plain": [
              "<Figure size 432x288 with 1 Axes>"
            ]
          },
          "metadata": {
            "tags": [],
            "needs_background": "light"
          }
        }
      ]
    },
    {
      "cell_type": "markdown",
      "metadata": {
        "id": "isSsGmXNm9Dj"
      },
      "source": [
        "**Inverse Matrix**\n",
        "inverse ของ $A$ เขียน $A^{-1}$\n",
        "นิยาม $A*A^{-1} = I = A^{-1}*A$"
      ]
    },
    {
      "cell_type": "code",
      "metadata": {
        "id": "OvYzOwSfnGDd",
        "colab": {
          "base_uri": "https://localhost:8080/"
        },
        "outputId": "7fa960ad-5161-4d8d-872f-89c9bd142af2"
      },
      "source": [
        "C_X"
      ],
      "execution_count": null,
      "outputs": [
        {
          "output_type": "execute_result",
          "data": {
            "text/plain": [
              "array([[ 8.66666667,  7.66666667],\n",
              "       [ 7.66666667, 12.66666667]])"
            ]
          },
          "metadata": {
            "tags": []
          },
          "execution_count": 92
        }
      ]
    },
    {
      "cell_type": "code",
      "metadata": {
        "id": "RBiDjZb7nLYa",
        "colab": {
          "base_uri": "https://localhost:8080/"
        },
        "outputId": "cf48ad6a-c174-4147-a498-5d7876a3e091"
      },
      "source": [
        "inv_C_X = np.linalg.inv(C_X)\n",
        "inv_C_X"
      ],
      "execution_count": null,
      "outputs": [
        {
          "output_type": "execute_result",
          "data": {
            "text/plain": [
              "array([[ 0.24836601, -0.1503268 ],\n",
              "       [-0.1503268 ,  0.16993464]])"
            ]
          },
          "metadata": {
            "tags": []
          },
          "execution_count": 93
        }
      ]
    },
    {
      "cell_type": "code",
      "metadata": {
        "id": "3N1AXoxPnOGU",
        "colab": {
          "base_uri": "https://localhost:8080/"
        },
        "outputId": "32150aa3-cffa-44e7-bebc-d5c7a35aac2d"
      },
      "source": [
        "#ตรวจสอบได้โดย เอา C_X * inv_C_X\n",
        "np.dot(C_X,inv_C_X)"
      ],
      "execution_count": null,
      "outputs": [
        {
          "output_type": "execute_result",
          "data": {
            "text/plain": [
              "array([[1.00000000e+00, 2.23193529e-16],\n",
              "       [1.26018779e-16, 1.00000000e+00]])"
            ]
          },
          "metadata": {
            "tags": []
          },
          "execution_count": 94
        }
      ]
    },
    {
      "cell_type": "code",
      "metadata": {
        "id": "4FcQJ0BLnTCG",
        "colab": {
          "base_uri": "https://localhost:8080/"
        },
        "outputId": "3708b9bc-8738-4899-8276-44c903c8f846"
      },
      "source": [
        "#ตรวจสอบได้โดย เอา inv_C_X * C_X \n",
        "np.dot(inv_C_X,C_X)"
      ],
      "execution_count": null,
      "outputs": [
        {
          "output_type": "execute_result",
          "data": {
            "text/plain": [
              "array([[1.00000000e+00, 1.26018779e-16],\n",
              "       [2.23193529e-16, 1.00000000e+00]])"
            ]
          },
          "metadata": {
            "tags": []
          },
          "execution_count": 95
        }
      ]
    },
    {
      "cell_type": "code",
      "metadata": {
        "id": "MTLhAas9nXh5",
        "colab": {
          "base_uri": "https://localhost:8080/"
        },
        "outputId": "3b626255-aa78-4387-a954-dedff0179236"
      },
      "source": [
        "#ตรวจสอบได้โดย inv ตัวที่ได้ ให้ได้เป็นค่าเดิม\n",
        "np.linalg.inv(inv_C_X)"
      ],
      "execution_count": null,
      "outputs": [
        {
          "output_type": "execute_result",
          "data": {
            "text/plain": [
              "array([[ 8.66666667,  7.66666667],\n",
              "       [ 7.66666667, 12.66666667]])"
            ]
          },
          "metadata": {
            "tags": []
          },
          "execution_count": 96
        }
      ]
    },
    {
      "cell_type": "markdown",
      "metadata": {
        "id": "UjecF3ZMnbb1"
      },
      "source": [
        "**load Data**"
      ]
    },
    {
      "cell_type": "code",
      "metadata": {
        "id": "274-nEhlnczW"
      },
      "source": [
        "import pandas as pd"
      ],
      "execution_count": null,
      "outputs": []
    },
    {
      "cell_type": "code",
      "metadata": {
        "id": "2UfFK0H4n2Nr",
        "colab": {
          "base_uri": "https://localhost:8080/",
          "height": 181
        },
        "outputId": "e0ff88ac-1760-4436-dcc8-9e924f2484ce"
      },
      "source": [
        "pollution_data = pd.read_csv('/content/pollution.txt',sep='\\t+')\n",
        "pollution_data"
      ],
      "execution_count": 1,
      "outputs": [
        {
          "output_type": "error",
          "ename": "NameError",
          "evalue": "ignored",
          "traceback": [
            "\u001b[0;31m---------------------------------------------------------------------------\u001b[0m",
            "\u001b[0;31mNameError\u001b[0m                                 Traceback (most recent call last)",
            "\u001b[0;32m<ipython-input-1-e732c1236ad8>\u001b[0m in \u001b[0;36m<module>\u001b[0;34m()\u001b[0m\n\u001b[0;32m----> 1\u001b[0;31m \u001b[0mpollution_data\u001b[0m \u001b[0;34m=\u001b[0m \u001b[0mpd\u001b[0m\u001b[0;34m.\u001b[0m\u001b[0mread_csv\u001b[0m\u001b[0;34m(\u001b[0m\u001b[0;34m'/content/pollution.txt'\u001b[0m\u001b[0;34m,\u001b[0m\u001b[0msep\u001b[0m\u001b[0;34m=\u001b[0m\u001b[0;34m'\\t+'\u001b[0m\u001b[0;34m)\u001b[0m\u001b[0;34m\u001b[0m\u001b[0;34m\u001b[0m\u001b[0m\n\u001b[0m\u001b[1;32m      2\u001b[0m \u001b[0mpollution_data\u001b[0m\u001b[0;34m\u001b[0m\u001b[0;34m\u001b[0m\u001b[0m\n",
            "\u001b[0;31mNameError\u001b[0m: name 'pd' is not defined"
          ]
        }
      ]
    }
  ]
}