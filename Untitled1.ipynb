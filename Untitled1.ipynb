{
  "nbformat": 4,
  "nbformat_minor": 0,
  "metadata": {
    "colab": {
      "name": "Untitled1.ipynb",
      "provenance": [],
      "authorship_tag": "ABX9TyPX1gLjyPL8zBYfVd+X+t5j",
      "include_colab_link": true
    },
    "kernelspec": {
      "name": "python3",
      "display_name": "Python 3"
    },
    "language_info": {
      "name": "python"
    }
  },
  "cells": [
    {
      "cell_type": "markdown",
      "metadata": {
        "id": "view-in-github",
        "colab_type": "text"
      },
      "source": [
        "<a href=\"https://colab.research.google.com/github/Jennapa-colab/multivariate/blob/main/Untitled1.ipynb\" target=\"_parent\"><img src=\"https://colab.research.google.com/assets/colab-badge.svg\" alt=\"Open In Colab\"/></a>"
      ]
    },
    {
      "cell_type": "markdown",
      "metadata": {
        "id": "Yy8nmG_v7tdI"
      },
      "source": [
        "# Quiz 4 ทดลองทำ PCA กับ ข้อมูล X แล้ว plotgraph"
      ]
    },
    {
      "cell_type": "code",
      "metadata": {
        "id": "K1ZesFha8TWe"
      },
      "source": [
        "import matplotlib.pyplot as plt\n",
        "import seaborn as sns; sns.set()\n",
        "import numpy as np"
      ],
      "execution_count": 2,
      "outputs": []
    },
    {
      "cell_type": "code",
      "metadata": {
        "id": "ouvrLY9R8Xu8"
      },
      "source": [
        "def make_hello(N=1000, rseed=42):\n",
        "    # Make a plot with \"HELLO\" text; save as PNG\n",
        "    fig, ax = plt.subplots(figsize=(4, 1))\n",
        "    fig.subplots_adjust(left=0, right=1, bottom=0, top=1)\n",
        "    ax.axis('off')\n",
        "    ax.text(0.5, 0.4, 'HELLO', va='center', ha='center', weight='bold', size=85)\n",
        "    fig.savefig('hello.png')\n",
        "    plt.close(fig)\n",
        "    \n",
        "    # Open this PNG and draw random points from it\n",
        "    from matplotlib.image import imread\n",
        "    data = imread('hello.png')[::-1, :, 0].T\n",
        "    rng = np.random.RandomState(rseed)\n",
        "    X = rng.rand(4 * N, 2)\n",
        "    i, j = (X * data.shape).astype(int).T\n",
        "    mask = (data[i, j] < 1)\n",
        "    X = X[mask]\n",
        "    X[:, 0] *= (data.shape[0] / data.shape[1])\n",
        "    X = X[:N]\n",
        "    return X[np.argsort(X[:, 0])]"
      ],
      "execution_count": 3,
      "outputs": []
    },
    {
      "cell_type": "code",
      "metadata": {
        "id": "NBzjQywN7tC5"
      },
      "source": [
        "import numpy as np"
      ],
      "execution_count": null,
      "outputs": []
    },
    {
      "cell_type": "code",
      "metadata": {
        "id": "1wZjkaFo7-3D"
      },
      "source": [
        "from sklearn.decomposition import PCA"
      ],
      "execution_count": null,
      "outputs": []
    },
    {
      "cell_type": "code",
      "metadata": {
        "colab": {
          "base_uri": "https://localhost:8080/",
          "height": 171
        },
        "id": "_ehR6SQK8CQf",
        "outputId": "17568e66-be04-4006-90f7-336613b1dbc9"
      },
      "source": [
        "pca = PCA(n_components=2)"
      ],
      "execution_count": 1,
      "outputs": [
        {
          "output_type": "error",
          "ename": "NameError",
          "evalue": "ignored",
          "traceback": [
            "\u001b[0;31m---------------------------------------------------------------------------\u001b[0m",
            "\u001b[0;31mNameError\u001b[0m                                 Traceback (most recent call last)",
            "\u001b[0;32m<ipython-input-1-b837c45125c0>\u001b[0m in \u001b[0;36m<module>\u001b[0;34m()\u001b[0m\n\u001b[0;32m----> 1\u001b[0;31m \u001b[0mpca\u001b[0m \u001b[0;34m=\u001b[0m \u001b[0mPCA\u001b[0m\u001b[0;34m(\u001b[0m\u001b[0mn_components\u001b[0m\u001b[0;34m=\u001b[0m\u001b[0;36m2\u001b[0m\u001b[0;34m)\u001b[0m\u001b[0;34m\u001b[0m\u001b[0;34m\u001b[0m\u001b[0m\n\u001b[0m",
            "\u001b[0;31mNameError\u001b[0m: name 'PCA' is not defined"
          ]
        }
      ]
    },
    {
      "cell_type": "code",
      "metadata": {
        "id": "ZWdQxN-u8HV6"
      },
      "source": [
        "new_pca2 = pca.fit_transform(X)"
      ],
      "execution_count": null,
      "outputs": []
    }
  ]
}