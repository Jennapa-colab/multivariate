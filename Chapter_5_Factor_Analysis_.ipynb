{
  "nbformat": 4,
  "nbformat_minor": 0,
  "metadata": {
    "colab": {
      "name": "Chapter_5_Factor Analysis .ipynb",
      "provenance": [],
      "include_colab_link": true
    },
    "kernelspec": {
      "name": "python3",
      "display_name": "Python 3"
    },
    "language_info": {
      "name": "python"
    }
  },
  "cells": [
    {
      "cell_type": "markdown",
      "metadata": {
        "id": "view-in-github",
        "colab_type": "text"
      },
      "source": [
        "<a href=\"https://colab.research.google.com/github/Jennapa-colab/multivariate/blob/main/Chapter_5_Factor_Analysis_.ipynb\" target=\"_parent\"><img src=\"https://colab.research.google.com/assets/colab-badge.svg\" alt=\"Open In Colab\"/></a>"
      ]
    },
    {
      "cell_type": "markdown",
      "metadata": {
        "id": "k_35-ax7H1JR"
      },
      "source": [
        "https://www.datacamp.com/community/tutorials/introduction-factor-analysis"
      ]
    },
    {
      "cell_type": "code",
      "metadata": {
        "id": "q0FL2VcvHCUX"
      },
      "source": [
        "import pandas as pd"
      ],
      "execution_count": 1,
      "outputs": []
    },
    {
      "cell_type": "code",
      "metadata": {
        "colab": {
          "base_uri": "https://localhost:8080/",
          "height": 241
        },
        "id": "Pi49vy-vD6ov",
        "outputId": "1571c299-1a1e-41df-9860-a024a400bbf8"
      },
      "source": [
        "BFI_data = pd.read_csv('https://vincentarelbundock.github.io/Rdatasets/csv/psych/bfi.csv')\n",
        "BFI_data.head()"
      ],
      "execution_count": 2,
      "outputs": [
        {
          "output_type": "execute_result",
          "data": {
            "text/html": [
              "<div>\n",
              "<style scoped>\n",
              "    .dataframe tbody tr th:only-of-type {\n",
              "        vertical-align: middle;\n",
              "    }\n",
              "\n",
              "    .dataframe tbody tr th {\n",
              "        vertical-align: top;\n",
              "    }\n",
              "\n",
              "    .dataframe thead th {\n",
              "        text-align: right;\n",
              "    }\n",
              "</style>\n",
              "<table border=\"1\" class=\"dataframe\">\n",
              "  <thead>\n",
              "    <tr style=\"text-align: right;\">\n",
              "      <th></th>\n",
              "      <th>Unnamed: 0</th>\n",
              "      <th>A1</th>\n",
              "      <th>A2</th>\n",
              "      <th>A3</th>\n",
              "      <th>A4</th>\n",
              "      <th>A5</th>\n",
              "      <th>C1</th>\n",
              "      <th>C2</th>\n",
              "      <th>C3</th>\n",
              "      <th>C4</th>\n",
              "      <th>C5</th>\n",
              "      <th>E1</th>\n",
              "      <th>E2</th>\n",
              "      <th>E3</th>\n",
              "      <th>E4</th>\n",
              "      <th>E5</th>\n",
              "      <th>N1</th>\n",
              "      <th>N2</th>\n",
              "      <th>N3</th>\n",
              "      <th>N4</th>\n",
              "      <th>N5</th>\n",
              "      <th>O1</th>\n",
              "      <th>O2</th>\n",
              "      <th>O3</th>\n",
              "      <th>O4</th>\n",
              "      <th>O5</th>\n",
              "      <th>gender</th>\n",
              "      <th>education</th>\n",
              "      <th>age</th>\n",
              "    </tr>\n",
              "  </thead>\n",
              "  <tbody>\n",
              "    <tr>\n",
              "      <th>0</th>\n",
              "      <td>61617</td>\n",
              "      <td>2.0</td>\n",
              "      <td>4.0</td>\n",
              "      <td>3.0</td>\n",
              "      <td>4.0</td>\n",
              "      <td>4.0</td>\n",
              "      <td>2.0</td>\n",
              "      <td>3.0</td>\n",
              "      <td>3.0</td>\n",
              "      <td>4.0</td>\n",
              "      <td>4.0</td>\n",
              "      <td>3.0</td>\n",
              "      <td>3.0</td>\n",
              "      <td>3.0</td>\n",
              "      <td>4.0</td>\n",
              "      <td>4.0</td>\n",
              "      <td>3.0</td>\n",
              "      <td>4.0</td>\n",
              "      <td>2.0</td>\n",
              "      <td>2.0</td>\n",
              "      <td>3.0</td>\n",
              "      <td>3.0</td>\n",
              "      <td>6</td>\n",
              "      <td>3.0</td>\n",
              "      <td>4.0</td>\n",
              "      <td>3.0</td>\n",
              "      <td>1</td>\n",
              "      <td>NaN</td>\n",
              "      <td>16</td>\n",
              "    </tr>\n",
              "    <tr>\n",
              "      <th>1</th>\n",
              "      <td>61618</td>\n",
              "      <td>2.0</td>\n",
              "      <td>4.0</td>\n",
              "      <td>5.0</td>\n",
              "      <td>2.0</td>\n",
              "      <td>5.0</td>\n",
              "      <td>5.0</td>\n",
              "      <td>4.0</td>\n",
              "      <td>4.0</td>\n",
              "      <td>3.0</td>\n",
              "      <td>4.0</td>\n",
              "      <td>1.0</td>\n",
              "      <td>1.0</td>\n",
              "      <td>6.0</td>\n",
              "      <td>4.0</td>\n",
              "      <td>3.0</td>\n",
              "      <td>3.0</td>\n",
              "      <td>3.0</td>\n",
              "      <td>3.0</td>\n",
              "      <td>5.0</td>\n",
              "      <td>5.0</td>\n",
              "      <td>4.0</td>\n",
              "      <td>2</td>\n",
              "      <td>4.0</td>\n",
              "      <td>3.0</td>\n",
              "      <td>3.0</td>\n",
              "      <td>2</td>\n",
              "      <td>NaN</td>\n",
              "      <td>18</td>\n",
              "    </tr>\n",
              "    <tr>\n",
              "      <th>2</th>\n",
              "      <td>61620</td>\n",
              "      <td>5.0</td>\n",
              "      <td>4.0</td>\n",
              "      <td>5.0</td>\n",
              "      <td>4.0</td>\n",
              "      <td>4.0</td>\n",
              "      <td>4.0</td>\n",
              "      <td>5.0</td>\n",
              "      <td>4.0</td>\n",
              "      <td>2.0</td>\n",
              "      <td>5.0</td>\n",
              "      <td>2.0</td>\n",
              "      <td>4.0</td>\n",
              "      <td>4.0</td>\n",
              "      <td>4.0</td>\n",
              "      <td>5.0</td>\n",
              "      <td>4.0</td>\n",
              "      <td>5.0</td>\n",
              "      <td>4.0</td>\n",
              "      <td>2.0</td>\n",
              "      <td>3.0</td>\n",
              "      <td>4.0</td>\n",
              "      <td>2</td>\n",
              "      <td>5.0</td>\n",
              "      <td>5.0</td>\n",
              "      <td>2.0</td>\n",
              "      <td>2</td>\n",
              "      <td>NaN</td>\n",
              "      <td>17</td>\n",
              "    </tr>\n",
              "    <tr>\n",
              "      <th>3</th>\n",
              "      <td>61621</td>\n",
              "      <td>4.0</td>\n",
              "      <td>4.0</td>\n",
              "      <td>6.0</td>\n",
              "      <td>5.0</td>\n",
              "      <td>5.0</td>\n",
              "      <td>4.0</td>\n",
              "      <td>4.0</td>\n",
              "      <td>3.0</td>\n",
              "      <td>5.0</td>\n",
              "      <td>5.0</td>\n",
              "      <td>5.0</td>\n",
              "      <td>3.0</td>\n",
              "      <td>4.0</td>\n",
              "      <td>4.0</td>\n",
              "      <td>4.0</td>\n",
              "      <td>2.0</td>\n",
              "      <td>5.0</td>\n",
              "      <td>2.0</td>\n",
              "      <td>4.0</td>\n",
              "      <td>1.0</td>\n",
              "      <td>3.0</td>\n",
              "      <td>3</td>\n",
              "      <td>4.0</td>\n",
              "      <td>3.0</td>\n",
              "      <td>5.0</td>\n",
              "      <td>2</td>\n",
              "      <td>NaN</td>\n",
              "      <td>17</td>\n",
              "    </tr>\n",
              "    <tr>\n",
              "      <th>4</th>\n",
              "      <td>61622</td>\n",
              "      <td>2.0</td>\n",
              "      <td>3.0</td>\n",
              "      <td>3.0</td>\n",
              "      <td>4.0</td>\n",
              "      <td>5.0</td>\n",
              "      <td>4.0</td>\n",
              "      <td>4.0</td>\n",
              "      <td>5.0</td>\n",
              "      <td>3.0</td>\n",
              "      <td>2.0</td>\n",
              "      <td>2.0</td>\n",
              "      <td>2.0</td>\n",
              "      <td>5.0</td>\n",
              "      <td>4.0</td>\n",
              "      <td>5.0</td>\n",
              "      <td>2.0</td>\n",
              "      <td>3.0</td>\n",
              "      <td>4.0</td>\n",
              "      <td>4.0</td>\n",
              "      <td>3.0</td>\n",
              "      <td>3.0</td>\n",
              "      <td>3</td>\n",
              "      <td>4.0</td>\n",
              "      <td>3.0</td>\n",
              "      <td>3.0</td>\n",
              "      <td>1</td>\n",
              "      <td>NaN</td>\n",
              "      <td>17</td>\n",
              "    </tr>\n",
              "  </tbody>\n",
              "</table>\n",
              "</div>"
            ],
            "text/plain": [
              "   Unnamed: 0   A1   A2   A3   A4   A5  ...   O3   O4   O5  gender  education  age\n",
              "0       61617  2.0  4.0  3.0  4.0  4.0  ...  3.0  4.0  3.0       1        NaN   16\n",
              "1       61618  2.0  4.0  5.0  2.0  5.0  ...  4.0  3.0  3.0       2        NaN   18\n",
              "2       61620  5.0  4.0  5.0  4.0  4.0  ...  5.0  5.0  2.0       2        NaN   17\n",
              "3       61621  4.0  4.0  6.0  5.0  5.0  ...  4.0  3.0  5.0       2        NaN   17\n",
              "4       61622  2.0  3.0  3.0  4.0  5.0  ...  4.0  3.0  3.0       1        NaN   17\n",
              "\n",
              "[5 rows x 29 columns]"
            ]
          },
          "metadata": {
            "tags": []
          },
          "execution_count": 2
        }
      ]
    },
    {
      "cell_type": "markdown",
      "metadata": {
        "id": "1mJANVLEEhVU"
      },
      "source": [
        "##Factor Analysis'\n",
        "\n",
        "##Assumtion :\n",
        "\n",
        "ในข้อมูล mutivariate ที่มีตัวแปร Observe Variables จำนวน n  ตัว \n",
        "\n",
        "มีตัวแปร Factor(Latent variable)  จำนวน k  ตัว ที่สามารถอธิบายข้อมูลทั้งหมดได้\n",
        "\n",
        "โดย k< n "
      ]
    },
    {
      "cell_type": "code",
      "metadata": {
        "id": "nHIrd4AiJzf0"
      },
      "source": [
        ""
      ],
      "execution_count": 2,
      "outputs": []
    },
    {
      "cell_type": "markdown",
      "metadata": {
        "id": "38umx7uWUD6b"
      },
      "source": [
        "##Assumption ในการทำ Factor Analysis :\n",
        "\n",
        "there are no outliers in data : ต้องไม่มี outliers\n",
        "\n",
        "Sample size should be greater than the factor : จำนวน data ต้องน้อยว่า จำนวน \n",
        "Factor Analysis\n",
        "\n",
        "There should not be prefact multicollonearity : เช่น การหา correlation จะได้เท่ากับ 1 หรือ plot กราฟจะได้เป็นเส้นตรง\n",
        "\n",
        "There should not be homoscedasticity : เช่น ตัวข้อมูลที่มีการกระจายคล้ายๆกัน เป็นกลุ่มที่อยู่ใกล้ๆกัน ความ error ของข้อมูลอยู่ในกรอบเดียวกัน \n",
        "\n",
        "*ซึ่งจาก Assumption เราสามารถใช้เครื่องมือในการทำได้*"
      ]
    },
    {
      "cell_type": "code",
      "metadata": {
        "colab": {
          "base_uri": "https://localhost:8080/"
        },
        "id": "z-K345J4Uho5",
        "outputId": "1952db50-badf-42bc-aab6-0b169fc7ec27"
      },
      "source": [
        "!pip install factor_analyzer #ถ้าเกิดเราใช้ libary ที่ไม่ได้มีคนใช้บ่อย เราจะต้องทำการติดตั้งเอง\n",
        "import matplotlib.pyplot as plt"
      ],
      "execution_count": 3,
      "outputs": [
        {
          "output_type": "stream",
          "text": [
            "Collecting factor_analyzer\n",
            "\u001b[?25l  Downloading https://files.pythonhosted.org/packages/44/b5/cbd83484ca6dd4c6562c6d66a6a3a0ecf526e79b2b575b9fb4bf5ad172dd/factor_analyzer-0.3.2.tar.gz (40kB)\n",
            "\r\u001b[K     |████████▏                       | 10kB 13.9MB/s eta 0:00:01\r\u001b[K     |████████████████▍               | 20kB 9.9MB/s eta 0:00:01\r\u001b[K     |████████████████████████▌       | 30kB 9.8MB/s eta 0:00:01\r\u001b[K     |████████████████████████████████| 40kB 3.0MB/s \n",
            "\u001b[?25hRequirement already satisfied: pandas in /usr/local/lib/python3.7/dist-packages (from factor_analyzer) (1.1.5)\n",
            "Requirement already satisfied: scipy in /usr/local/lib/python3.7/dist-packages (from factor_analyzer) (1.4.1)\n",
            "Requirement already satisfied: numpy in /usr/local/lib/python3.7/dist-packages (from factor_analyzer) (1.19.5)\n",
            "Requirement already satisfied: scikit-learn in /usr/local/lib/python3.7/dist-packages (from factor_analyzer) (0.22.2.post1)\n",
            "Requirement already satisfied: python-dateutil>=2.7.3 in /usr/local/lib/python3.7/dist-packages (from pandas->factor_analyzer) (2.8.1)\n",
            "Requirement already satisfied: pytz>=2017.2 in /usr/local/lib/python3.7/dist-packages (from pandas->factor_analyzer) (2018.9)\n",
            "Requirement already satisfied: joblib>=0.11 in /usr/local/lib/python3.7/dist-packages (from scikit-learn->factor_analyzer) (1.0.1)\n",
            "Requirement already satisfied: six>=1.5 in /usr/local/lib/python3.7/dist-packages (from python-dateutil>=2.7.3->pandas->factor_analyzer) (1.15.0)\n",
            "Building wheels for collected packages: factor-analyzer\n",
            "  Building wheel for factor-analyzer (setup.py) ... \u001b[?25l\u001b[?25hdone\n",
            "  Created wheel for factor-analyzer: filename=factor_analyzer-0.3.2-cp37-none-any.whl size=40383 sha256=da1c6d6f43d09786dc9259d9c210377cda8e57523947019d2b505d07deea59e7\n",
            "  Stored in directory: /root/.cache/pip/wheels/4a/d0/57/f1330cb9c80e82d8d05391c74c94ed61ce3f03bf6157f3d6db\n",
            "Successfully built factor-analyzer\n",
            "Installing collected packages: factor-analyzer\n",
            "Successfully installed factor-analyzer-0.3.2\n"
          ],
          "name": "stdout"
        }
      ]
    },
    {
      "cell_type": "code",
      "metadata": {
        "id": "jLu_GKb7UlSf"
      },
      "source": [
        "from factor_analyzer import FactorAnalyzer"
      ],
      "execution_count": 4,
      "outputs": []
    },
    {
      "cell_type": "markdown",
      "metadata": {
        "id": "eqfI3BM4IxSc"
      },
      "source": [
        "## Quiz5\n",
        "เลือกข้อมูล"
      ]
    },
    {
      "cell_type": "code",
      "metadata": {
        "colab": {
          "base_uri": "https://localhost:8080/",
          "height": 439
        },
        "id": "ZpbbZf2DT1YU",
        "outputId": "87cce57a-6142-4e4e-a688-8bcb01d9b1be"
      },
      "source": [
        "BFI_data_dropped = BFI_data.iloc[:,1:26]\n",
        "BFI_data_dropped"
      ],
      "execution_count": 5,
      "outputs": [
        {
          "output_type": "execute_result",
          "data": {
            "text/html": [
              "<div>\n",
              "<style scoped>\n",
              "    .dataframe tbody tr th:only-of-type {\n",
              "        vertical-align: middle;\n",
              "    }\n",
              "\n",
              "    .dataframe tbody tr th {\n",
              "        vertical-align: top;\n",
              "    }\n",
              "\n",
              "    .dataframe thead th {\n",
              "        text-align: right;\n",
              "    }\n",
              "</style>\n",
              "<table border=\"1\" class=\"dataframe\">\n",
              "  <thead>\n",
              "    <tr style=\"text-align: right;\">\n",
              "      <th></th>\n",
              "      <th>A1</th>\n",
              "      <th>A2</th>\n",
              "      <th>A3</th>\n",
              "      <th>A4</th>\n",
              "      <th>A5</th>\n",
              "      <th>C1</th>\n",
              "      <th>C2</th>\n",
              "      <th>C3</th>\n",
              "      <th>C4</th>\n",
              "      <th>C5</th>\n",
              "      <th>E1</th>\n",
              "      <th>E2</th>\n",
              "      <th>E3</th>\n",
              "      <th>E4</th>\n",
              "      <th>E5</th>\n",
              "      <th>N1</th>\n",
              "      <th>N2</th>\n",
              "      <th>N3</th>\n",
              "      <th>N4</th>\n",
              "      <th>N5</th>\n",
              "      <th>O1</th>\n",
              "      <th>O2</th>\n",
              "      <th>O3</th>\n",
              "      <th>O4</th>\n",
              "      <th>O5</th>\n",
              "    </tr>\n",
              "  </thead>\n",
              "  <tbody>\n",
              "    <tr>\n",
              "      <th>0</th>\n",
              "      <td>2.0</td>\n",
              "      <td>4.0</td>\n",
              "      <td>3.0</td>\n",
              "      <td>4.0</td>\n",
              "      <td>4.0</td>\n",
              "      <td>2.0</td>\n",
              "      <td>3.0</td>\n",
              "      <td>3.0</td>\n",
              "      <td>4.0</td>\n",
              "      <td>4.0</td>\n",
              "      <td>3.0</td>\n",
              "      <td>3.0</td>\n",
              "      <td>3.0</td>\n",
              "      <td>4.0</td>\n",
              "      <td>4.0</td>\n",
              "      <td>3.0</td>\n",
              "      <td>4.0</td>\n",
              "      <td>2.0</td>\n",
              "      <td>2.0</td>\n",
              "      <td>3.0</td>\n",
              "      <td>3.0</td>\n",
              "      <td>6</td>\n",
              "      <td>3.0</td>\n",
              "      <td>4.0</td>\n",
              "      <td>3.0</td>\n",
              "    </tr>\n",
              "    <tr>\n",
              "      <th>1</th>\n",
              "      <td>2.0</td>\n",
              "      <td>4.0</td>\n",
              "      <td>5.0</td>\n",
              "      <td>2.0</td>\n",
              "      <td>5.0</td>\n",
              "      <td>5.0</td>\n",
              "      <td>4.0</td>\n",
              "      <td>4.0</td>\n",
              "      <td>3.0</td>\n",
              "      <td>4.0</td>\n",
              "      <td>1.0</td>\n",
              "      <td>1.0</td>\n",
              "      <td>6.0</td>\n",
              "      <td>4.0</td>\n",
              "      <td>3.0</td>\n",
              "      <td>3.0</td>\n",
              "      <td>3.0</td>\n",
              "      <td>3.0</td>\n",
              "      <td>5.0</td>\n",
              "      <td>5.0</td>\n",
              "      <td>4.0</td>\n",
              "      <td>2</td>\n",
              "      <td>4.0</td>\n",
              "      <td>3.0</td>\n",
              "      <td>3.0</td>\n",
              "    </tr>\n",
              "    <tr>\n",
              "      <th>2</th>\n",
              "      <td>5.0</td>\n",
              "      <td>4.0</td>\n",
              "      <td>5.0</td>\n",
              "      <td>4.0</td>\n",
              "      <td>4.0</td>\n",
              "      <td>4.0</td>\n",
              "      <td>5.0</td>\n",
              "      <td>4.0</td>\n",
              "      <td>2.0</td>\n",
              "      <td>5.0</td>\n",
              "      <td>2.0</td>\n",
              "      <td>4.0</td>\n",
              "      <td>4.0</td>\n",
              "      <td>4.0</td>\n",
              "      <td>5.0</td>\n",
              "      <td>4.0</td>\n",
              "      <td>5.0</td>\n",
              "      <td>4.0</td>\n",
              "      <td>2.0</td>\n",
              "      <td>3.0</td>\n",
              "      <td>4.0</td>\n",
              "      <td>2</td>\n",
              "      <td>5.0</td>\n",
              "      <td>5.0</td>\n",
              "      <td>2.0</td>\n",
              "    </tr>\n",
              "    <tr>\n",
              "      <th>3</th>\n",
              "      <td>4.0</td>\n",
              "      <td>4.0</td>\n",
              "      <td>6.0</td>\n",
              "      <td>5.0</td>\n",
              "      <td>5.0</td>\n",
              "      <td>4.0</td>\n",
              "      <td>4.0</td>\n",
              "      <td>3.0</td>\n",
              "      <td>5.0</td>\n",
              "      <td>5.0</td>\n",
              "      <td>5.0</td>\n",
              "      <td>3.0</td>\n",
              "      <td>4.0</td>\n",
              "      <td>4.0</td>\n",
              "      <td>4.0</td>\n",
              "      <td>2.0</td>\n",
              "      <td>5.0</td>\n",
              "      <td>2.0</td>\n",
              "      <td>4.0</td>\n",
              "      <td>1.0</td>\n",
              "      <td>3.0</td>\n",
              "      <td>3</td>\n",
              "      <td>4.0</td>\n",
              "      <td>3.0</td>\n",
              "      <td>5.0</td>\n",
              "    </tr>\n",
              "    <tr>\n",
              "      <th>4</th>\n",
              "      <td>2.0</td>\n",
              "      <td>3.0</td>\n",
              "      <td>3.0</td>\n",
              "      <td>4.0</td>\n",
              "      <td>5.0</td>\n",
              "      <td>4.0</td>\n",
              "      <td>4.0</td>\n",
              "      <td>5.0</td>\n",
              "      <td>3.0</td>\n",
              "      <td>2.0</td>\n",
              "      <td>2.0</td>\n",
              "      <td>2.0</td>\n",
              "      <td>5.0</td>\n",
              "      <td>4.0</td>\n",
              "      <td>5.0</td>\n",
              "      <td>2.0</td>\n",
              "      <td>3.0</td>\n",
              "      <td>4.0</td>\n",
              "      <td>4.0</td>\n",
              "      <td>3.0</td>\n",
              "      <td>3.0</td>\n",
              "      <td>3</td>\n",
              "      <td>4.0</td>\n",
              "      <td>3.0</td>\n",
              "      <td>3.0</td>\n",
              "    </tr>\n",
              "    <tr>\n",
              "      <th>...</th>\n",
              "      <td>...</td>\n",
              "      <td>...</td>\n",
              "      <td>...</td>\n",
              "      <td>...</td>\n",
              "      <td>...</td>\n",
              "      <td>...</td>\n",
              "      <td>...</td>\n",
              "      <td>...</td>\n",
              "      <td>...</td>\n",
              "      <td>...</td>\n",
              "      <td>...</td>\n",
              "      <td>...</td>\n",
              "      <td>...</td>\n",
              "      <td>...</td>\n",
              "      <td>...</td>\n",
              "      <td>...</td>\n",
              "      <td>...</td>\n",
              "      <td>...</td>\n",
              "      <td>...</td>\n",
              "      <td>...</td>\n",
              "      <td>...</td>\n",
              "      <td>...</td>\n",
              "      <td>...</td>\n",
              "      <td>...</td>\n",
              "      <td>...</td>\n",
              "    </tr>\n",
              "    <tr>\n",
              "      <th>2795</th>\n",
              "      <td>6.0</td>\n",
              "      <td>1.0</td>\n",
              "      <td>3.0</td>\n",
              "      <td>3.0</td>\n",
              "      <td>3.0</td>\n",
              "      <td>6.0</td>\n",
              "      <td>6.0</td>\n",
              "      <td>6.0</td>\n",
              "      <td>1.0</td>\n",
              "      <td>1.0</td>\n",
              "      <td>1.0</td>\n",
              "      <td>4.0</td>\n",
              "      <td>5.0</td>\n",
              "      <td>5.0</td>\n",
              "      <td>6.0</td>\n",
              "      <td>1.0</td>\n",
              "      <td>1.0</td>\n",
              "      <td>1.0</td>\n",
              "      <td>NaN</td>\n",
              "      <td>1.0</td>\n",
              "      <td>6.0</td>\n",
              "      <td>1</td>\n",
              "      <td>6.0</td>\n",
              "      <td>6.0</td>\n",
              "      <td>1.0</td>\n",
              "    </tr>\n",
              "    <tr>\n",
              "      <th>2796</th>\n",
              "      <td>2.0</td>\n",
              "      <td>4.0</td>\n",
              "      <td>4.0</td>\n",
              "      <td>3.0</td>\n",
              "      <td>5.0</td>\n",
              "      <td>2.0</td>\n",
              "      <td>3.0</td>\n",
              "      <td>4.0</td>\n",
              "      <td>4.0</td>\n",
              "      <td>3.0</td>\n",
              "      <td>2.0</td>\n",
              "      <td>2.0</td>\n",
              "      <td>4.0</td>\n",
              "      <td>4.0</td>\n",
              "      <td>3.0</td>\n",
              "      <td>NaN</td>\n",
              "      <td>3.0</td>\n",
              "      <td>2.0</td>\n",
              "      <td>3.0</td>\n",
              "      <td>3.0</td>\n",
              "      <td>6.0</td>\n",
              "      <td>3</td>\n",
              "      <td>5.0</td>\n",
              "      <td>4.0</td>\n",
              "      <td>2.0</td>\n",
              "    </tr>\n",
              "    <tr>\n",
              "      <th>2797</th>\n",
              "      <td>2.0</td>\n",
              "      <td>3.0</td>\n",
              "      <td>5.0</td>\n",
              "      <td>2.0</td>\n",
              "      <td>5.0</td>\n",
              "      <td>5.0</td>\n",
              "      <td>5.0</td>\n",
              "      <td>5.0</td>\n",
              "      <td>1.0</td>\n",
              "      <td>1.0</td>\n",
              "      <td>2.0</td>\n",
              "      <td>2.0</td>\n",
              "      <td>6.0</td>\n",
              "      <td>3.0</td>\n",
              "      <td>6.0</td>\n",
              "      <td>3.0</td>\n",
              "      <td>4.0</td>\n",
              "      <td>3.0</td>\n",
              "      <td>3.0</td>\n",
              "      <td>1.0</td>\n",
              "      <td>5.0</td>\n",
              "      <td>1</td>\n",
              "      <td>6.0</td>\n",
              "      <td>4.0</td>\n",
              "      <td>3.0</td>\n",
              "    </tr>\n",
              "    <tr>\n",
              "      <th>2798</th>\n",
              "      <td>5.0</td>\n",
              "      <td>2.0</td>\n",
              "      <td>2.0</td>\n",
              "      <td>4.0</td>\n",
              "      <td>4.0</td>\n",
              "      <td>5.0</td>\n",
              "      <td>5.0</td>\n",
              "      <td>5.0</td>\n",
              "      <td>2.0</td>\n",
              "      <td>6.0</td>\n",
              "      <td>2.0</td>\n",
              "      <td>2.0</td>\n",
              "      <td>4.0</td>\n",
              "      <td>5.0</td>\n",
              "      <td>4.0</td>\n",
              "      <td>5.0</td>\n",
              "      <td>5.0</td>\n",
              "      <td>6.0</td>\n",
              "      <td>4.0</td>\n",
              "      <td>1.0</td>\n",
              "      <td>5.0</td>\n",
              "      <td>2</td>\n",
              "      <td>5.0</td>\n",
              "      <td>5.0</td>\n",
              "      <td>1.0</td>\n",
              "    </tr>\n",
              "    <tr>\n",
              "      <th>2799</th>\n",
              "      <td>2.0</td>\n",
              "      <td>3.0</td>\n",
              "      <td>1.0</td>\n",
              "      <td>4.0</td>\n",
              "      <td>2.0</td>\n",
              "      <td>5.0</td>\n",
              "      <td>5.0</td>\n",
              "      <td>3.0</td>\n",
              "      <td>3.0</td>\n",
              "      <td>3.0</td>\n",
              "      <td>3.0</td>\n",
              "      <td>3.0</td>\n",
              "      <td>1.0</td>\n",
              "      <td>2.0</td>\n",
              "      <td>2.0</td>\n",
              "      <td>1.0</td>\n",
              "      <td>2.0</td>\n",
              "      <td>2.0</td>\n",
              "      <td>1.0</td>\n",
              "      <td>1.0</td>\n",
              "      <td>3.0</td>\n",
              "      <td>1</td>\n",
              "      <td>3.0</td>\n",
              "      <td>5.0</td>\n",
              "      <td>1.0</td>\n",
              "    </tr>\n",
              "  </tbody>\n",
              "</table>\n",
              "<p>2800 rows × 25 columns</p>\n",
              "</div>"
            ],
            "text/plain": [
              "       A1   A2   A3   A4   A5   C1   C2  ...   N4   N5   O1  O2   O3   O4   O5\n",
              "0     2.0  4.0  3.0  4.0  4.0  2.0  3.0  ...  2.0  3.0  3.0   6  3.0  4.0  3.0\n",
              "1     2.0  4.0  5.0  2.0  5.0  5.0  4.0  ...  5.0  5.0  4.0   2  4.0  3.0  3.0\n",
              "2     5.0  4.0  5.0  4.0  4.0  4.0  5.0  ...  2.0  3.0  4.0   2  5.0  5.0  2.0\n",
              "3     4.0  4.0  6.0  5.0  5.0  4.0  4.0  ...  4.0  1.0  3.0   3  4.0  3.0  5.0\n",
              "4     2.0  3.0  3.0  4.0  5.0  4.0  4.0  ...  4.0  3.0  3.0   3  4.0  3.0  3.0\n",
              "...   ...  ...  ...  ...  ...  ...  ...  ...  ...  ...  ...  ..  ...  ...  ...\n",
              "2795  6.0  1.0  3.0  3.0  3.0  6.0  6.0  ...  NaN  1.0  6.0   1  6.0  6.0  1.0\n",
              "2796  2.0  4.0  4.0  3.0  5.0  2.0  3.0  ...  3.0  3.0  6.0   3  5.0  4.0  2.0\n",
              "2797  2.0  3.0  5.0  2.0  5.0  5.0  5.0  ...  3.0  1.0  5.0   1  6.0  4.0  3.0\n",
              "2798  5.0  2.0  2.0  4.0  4.0  5.0  5.0  ...  4.0  1.0  5.0   2  5.0  5.0  1.0\n",
              "2799  2.0  3.0  1.0  4.0  2.0  5.0  5.0  ...  1.0  1.0  3.0   1  3.0  5.0  1.0\n",
              "\n",
              "[2800 rows x 25 columns]"
            ]
          },
          "metadata": {
            "tags": []
          },
          "execution_count": 5
        }
      ]
    },
    {
      "cell_type": "code",
      "metadata": {
        "id": "11_BOPCcT6ei"
      },
      "source": [
        "BFI_data_dropped = BFI_data_dropped.dropna()"
      ],
      "execution_count": 6,
      "outputs": []
    },
    {
      "cell_type": "code",
      "metadata": {
        "id": "8Uq3lcm_08pK",
        "colab": {
          "base_uri": "https://localhost:8080/"
        },
        "outputId": "60e7cd03-0587-4dda-d5f4-75394d54c368"
      },
      "source": [
        "BFI_data_dropped.shape"
      ],
      "execution_count": 7,
      "outputs": [
        {
          "output_type": "execute_result",
          "data": {
            "text/plain": [
              "(2436, 25)"
            ]
          },
          "metadata": {
            "tags": []
          },
          "execution_count": 7
        }
      ]
    },
    {
      "cell_type": "markdown",
      "metadata": {
        "id": "bgrA9VNaxXo8"
      },
      "source": [
        "##Batlett's test\n",
        "*ใช้สำหรับทดสอบความเท่ากันของความแปรปรวนของกลุ่มตัวอย่างหลายกลุ่ม*"
      ]
    },
    {
      "cell_type": "code",
      "metadata": {
        "id": "cNQdyty81JSg",
        "colab": {
          "base_uri": "https://localhost:8080/"
        },
        "outputId": "104c16e6-cf95-4b4e-85b6-ba8611ebee9c"
      },
      "source": [
        "from factor_analyzer.factor_analyzer import calculate_bartlett_sphericity\n",
        "\n",
        "chi_square_value,p_value = calculate_bartlett_sphericity(BFI_data_dropped)\n",
        "\n",
        "chi_square_value, p_value\n"
      ],
      "execution_count": 8,
      "outputs": [
        {
          "output_type": "execute_result",
          "data": {
            "text/plain": [
              "(18170.966350869243, 0.0)"
            ]
          },
          "metadata": {
            "tags": []
          },
          "execution_count": 8
        }
      ]
    },
    {
      "cell_type": "markdown",
      "metadata": {
        "id": "ytbuKRiU3cbY"
      },
      "source": [
        "##Kaiser-Meyer-Olkin (KMO) Test \n",
        "\n",
        "*เพื่อใช้ในการวัดความเหมาะสมของข้อมูล*"
      ]
    },
    {
      "cell_type": "code",
      "metadata": {
        "id": "Ow9xZ3iM2bSO",
        "colab": {
          "base_uri": "https://localhost:8080/"
        },
        "outputId": "0b0a0d29-5f6f-415e-b543-ca3b33269ed3"
      },
      "source": [
        "from factor_analyzer.factor_analyzer import calculate_kmo\n",
        "\n",
        "kmo_all,kmo_model=calculate_kmo(BFI_data_dropped)\n",
        "\n",
        "kmo_model\n"
      ],
      "execution_count": 9,
      "outputs": [
        {
          "output_type": "execute_result",
          "data": {
            "text/plain": [
              "0.8485397221949221"
            ]
          },
          "metadata": {
            "tags": []
          },
          "execution_count": 9
        }
      ]
    },
    {
      "cell_type": "markdown",
      "metadata": {
        "id": "lG0zvPZv4woQ"
      },
      "source": [
        "##Factor analysis"
      ]
    },
    {
      "cell_type": "markdown",
      "metadata": {
        "id": "He_FQrNn6TzD"
      },
      "source": [
        "##import"
      ]
    },
    {
      "cell_type": "code",
      "metadata": {
        "id": "9oSRYvW36TVH"
      },
      "source": [
        "from factor_analyzer import FactorAnalyzer"
      ],
      "execution_count": 10,
      "outputs": []
    },
    {
      "cell_type": "markdown",
      "metadata": {
        "id": "Yg6ZgxFf8VTp"
      },
      "source": [
        "##Define"
      ]
    },
    {
      "cell_type": "code",
      "metadata": {
        "id": "taajZgiL8aVk"
      },
      "source": [
        "fa = FactorAnalyzer(n_factors=20)"
      ],
      "execution_count": 11,
      "outputs": []
    },
    {
      "cell_type": "markdown",
      "metadata": {
        "id": "VUqQ2YRU8nVj"
      },
      "source": [
        "##Fit-transform"
      ]
    },
    {
      "cell_type": "code",
      "metadata": {
        "id": "1R7iLTOY8ytU"
      },
      "source": [
        "data_fa = fa.fit_transform(BFI_data_dropped)"
      ],
      "execution_count": 12,
      "outputs": []
    },
    {
      "cell_type": "code",
      "metadata": {
        "id": "GoF63YOP8y3p",
        "colab": {
          "base_uri": "https://localhost:8080/"
        },
        "outputId": "49a874bf-f691-41ba-b1f4-70fd9eca8855"
      },
      "source": [
        "data_fa.shape"
      ],
      "execution_count": 13,
      "outputs": [
        {
          "output_type": "execute_result",
          "data": {
            "text/plain": [
              "(2436, 20)"
            ]
          },
          "metadata": {
            "tags": []
          },
          "execution_count": 13
        }
      ]
    },
    {
      "cell_type": "markdown",
      "metadata": {
        "id": "UERGVtf9-iqO"
      },
      "source": [
        "##วิธีสังเกตว่าเราจะลดเหลือ dimension (มี factors ทั้งหมดกี่ตัว)"
      ]
    },
    {
      "cell_type": "code",
      "metadata": {
        "id": "s19-k8Wc9Yez"
      },
      "source": [
        "ev,v = fa.get_eigenvalues()"
      ],
      "execution_count": 14,
      "outputs": []
    },
    {
      "cell_type": "markdown",
      "metadata": {
        "id": "k4u3t84s-y9V"
      },
      "source": [
        "##ใช้ eigen values"
      ]
    },
    {
      "cell_type": "code",
      "metadata": {
        "id": "Zd9TrOo6-gvo",
        "colab": {
          "base_uri": "https://localhost:8080/"
        },
        "outputId": "05c22e6f-5fb8-4ee7-edcd-eda412c54863"
      },
      "source": [
        "ev"
      ],
      "execution_count": 15,
      "outputs": [
        {
          "output_type": "execute_result",
          "data": {
            "text/plain": [
              "array([5.13431118, 2.75188667, 2.14270195, 1.85232761, 1.54816285,\n",
              "       1.07358247, 0.83953893, 0.79920618, 0.71898919, 0.68808879,\n",
              "       0.67637336, 0.65179984, 0.62325295, 0.59656284, 0.56309083,\n",
              "       0.54330533, 0.51451752, 0.49450315, 0.48263952, 0.448921  ,\n",
              "       0.42336611, 0.40067145, 0.38780448, 0.38185679, 0.26253902])"
            ]
          },
          "metadata": {
            "tags": []
          },
          "execution_count": 15
        }
      ]
    },
    {
      "cell_type": "markdown",
      "metadata": {
        "id": "Alnufaw0_B3u"
      },
      "source": [
        "##Scree plot \n",
        "*โชว์ว่าแต่ละกราฟมี eigen values เท่าไหร่*"
      ]
    },
    {
      "cell_type": "code",
      "metadata": {
        "id": "m0KIBvss-7Kn",
        "colab": {
          "base_uri": "https://localhost:8080/",
          "height": 312
        },
        "outputId": "7f630c27-4186-461f-8b92-6be810dcae0f"
      },
      "source": [
        "#Create scree plot using matplotlib\n",
        "plt.scatter(range(1,BFI_data_dropped.shape[1]+1),ev)\n",
        "plt.plot(range(1,BFI_data_dropped.shape[1]+1),ev)\n",
        "plt.title('Scree Plot')\n",
        "plt.xlabel('Factors')\n",
        "plt.ylabel('Eigenvalue')\n",
        "plt.grid()\n",
        "plt.show"
      ],
      "execution_count": 16,
      "outputs": [
        {
          "output_type": "execute_result",
          "data": {
            "text/plain": [
              "<function matplotlib.pyplot.show>"
            ]
          },
          "metadata": {
            "tags": []
          },
          "execution_count": 16
        },
        {
          "output_type": "display_data",
          "data": {
            "image/png": "[encoded data removed]",
            "text/plain": [
              "<Figure size 432x288 with 1 Axes>"
            ]
          },
          "metadata": {
            "tags": [],
            "needs_background": "light"
          }
        }
      ]
    },
    {
      "cell_type": "code",
      "metadata": {
        "id": "yGN1c5it8xk1",
        "colab": {
          "base_uri": "https://localhost:8080/",
          "height": 295
        },
        "outputId": "9c50528a-1b51-44e9-a02e-27d9a43b065c"
      },
      "source": [
        "#Create scree plot using matplotlib\n",
        "plt.plot(range(1,BFI_data_dropped.shape[1]+1),ev,'bo-')\n",
        "plt.plot(range(0,BFI_data_dropped.shape[1]+1),'r--')\n",
        "plt.title('Scree Plot')\n",
        "plt.xlabel('Factors')\n",
        "plt.ylabel('Eigenvalue')\n",
        "plt.grid()\n",
        "plt.show()"
      ],
      "execution_count": 17,
      "outputs": [
        {
          "output_type": "display_data",
          "data": {
            "image/png": "[encoded data removed]",
            "text/plain": [
              "<Figure size 432x288 with 1 Axes>"
            ]
          },
          "metadata": {
            "tags": [],
            "needs_background": "light"
          }
        }
      ]
    },
    {
      "cell_type": "code",
      "metadata": {
        "id": "sPRCynN1B5mD",
        "colab": {
          "base_uri": "https://localhost:8080/"
        },
        "outputId": "d1a259d3-882a-4c1b-8c06-fd6ecd0e5b12"
      },
      "source": [
        "data_fa[:,:6]"
      ],
      "execution_count": 18,
      "outputs": [
        {
          "output_type": "execute_result",
          "data": {
            "text/plain": [
              "array([[-0.89749661, -0.12809666, -1.22649076,  1.08665889,  0.42476701,\n",
              "         0.03981611],\n",
              "       [ 0.33679356, -0.15018138, -0.04332274, -0.10339328,  0.29665648,\n",
              "        -1.11019718],\n",
              "       [-0.24521029,  0.80409961,  0.39343377, -0.30106518,  0.82703928,\n",
              "        -0.2982022 ],\n",
              "       ...,\n",
              "       [ 0.38724631, -0.02183587,  1.19616826, -1.19357208,  0.79669501,\n",
              "        -0.95295109],\n",
              "       [-0.75695976,  0.94984758,  1.24363484, -1.15230215,  2.2534133 ,\n",
              "        -1.0218667 ],\n",
              "       [-2.35583952, -1.49829856,  0.49436981, -1.64734311,  0.94742323,\n",
              "         0.43462495]])"
            ]
          },
          "metadata": {
            "tags": []
          },
          "execution_count": 18
        }
      ]
    },
    {
      "cell_type": "markdown",
      "metadata": {
        "id": "taoE55vuCX0a"
      },
      "source": [
        "##Factor loading"
      ]
    },
    {
      "cell_type": "code",
      "metadata": {
        "id": "f9m6w1dZCXdp",
        "colab": {
          "base_uri": "https://localhost:8080/"
        },
        "outputId": "c3ea811c-de43-435f-b2c3-5d10c284edc5"
      },
      "source": [
        "fa.loadings_.shape"
      ],
      "execution_count": 19,
      "outputs": [
        {
          "output_type": "execute_result",
          "data": {
            "text/plain": [
              "(25, 20)"
            ]
          },
          "metadata": {
            "tags": []
          },
          "execution_count": 19
        }
      ]
    },
    {
      "cell_type": "code",
      "metadata": {
        "id": "zvyz5htkCnj5",
        "outputId": "b2bc20f9-8d19-42a4-8e8a-49a42128830b",
        "colab": {
          "base_uri": "https://localhost:8080/"
        }
      },
      "source": [
        "fa.loadings_"
      ],
      "execution_count": 20,
      "outputs": [
        {
          "output_type": "execute_result",
          "data": {
            "text/plain": [
              "array([[ 4.39221644e-02, -7.23791989e-03, -3.54953863e-02,\n",
              "         6.36904232e-02,  1.86674726e-02,  7.56067826e-01,\n",
              "         3.79571050e-02,  6.18021132e-02, -1.21231838e-03,\n",
              "         4.98167814e-02, -2.38173505e-02,  4.66514142e-02,\n",
              "         4.62005355e-02,  3.02085508e-02, -1.17663825e-01,\n",
              "         1.13469789e-02, -6.77496110e-03, -4.75707513e-02,\n",
              "         3.80305889e-02, -1.32410506e-05],\n",
              "       [-3.61660798e-02, -7.05831938e-02,  2.60349595e-02,\n",
              "         3.14887147e-02,  1.39800152e-02, -3.53463277e-01,\n",
              "         4.64083497e-02,  8.38715235e-02,  9.55513114e-02,\n",
              "         8.65737514e-02,  5.62178309e-02,  9.13535039e-02,\n",
              "         3.71647110e-02,  5.18919280e-02, -6.40070765e-02,\n",
              "         2.44624623e-02, -5.05741873e-02, -7.11741066e-02,\n",
              "         3.32392439e-02, -1.03131820e-01],\n",
              "       [ 1.25240910e-01,  6.35958266e-02,  5.74261728e-01,\n",
              "         5.81639394e-02,  4.81248438e-02, -2.30739166e-01,\n",
              "         2.24828463e-02,  4.31813917e-02, -1.31675268e-01,\n",
              "         9.04356027e-02, -8.58365401e-02, -1.05676028e-03,\n",
              "         5.17142791e-02, -9.17643061e-02, -1.23642611e-01,\n",
              "        -1.52886601e-04,  1.25851617e-02,  6.36721639e-04,\n",
              "         9.65768702e-02,  2.56825369e-02],\n",
              "       [-6.98978238e-03,  2.50855387e-02,  1.00524066e-01,\n",
              "        -3.28862347e-02, -2.00133306e-02,  3.02942021e-02,\n",
              "        -5.85016452e-02, -4.59056406e-02,  7.85635765e-03,\n",
              "         7.14037611e-01, -3.01074013e-02, -4.69316124e-02,\n",
              "        -1.25894032e-02,  3.48879948e-02,  5.28996131e-02,\n",
              "        -1.64187010e-02,  1.68011775e-02, -4.37964224e-03,\n",
              "        -6.40957978e-02,  2.54545472e-02],\n",
              "       [-8.18890698e-02, -4.54625132e-02,  7.60359671e-01,\n",
              "         4.35972070e-02, -7.11734560e-02,  4.42803915e-02,\n",
              "         8.86624767e-02, -6.14075740e-02,  8.73155923e-02,\n",
              "         1.06703907e-02,  8.07940440e-02,  6.65554053e-02,\n",
              "        -7.81796806e-02,  1.34931462e-01,  2.05073663e-02,\n",
              "        -8.44588038e-03, -2.92520758e-02, -5.38830935e-02,\n",
              "        -1.77020859e-02,  3.44251985e-04],\n",
              "       [-2.16375290e-02,  6.55315913e-01,  1.95964985e-02,\n",
              "        -1.44521857e-02, -1.79331409e-02,  5.12600502e-02,\n",
              "        -1.48806751e-02, -2.28630264e-02,  3.36999970e-02,\n",
              "        -8.15895312e-02,  1.64943131e-02, -2.08031265e-02,\n",
              "        -5.80083971e-03,  2.54676775e-02,  5.53527154e-02,\n",
              "        -2.93812480e-02, -1.60865154e-03,  1.54398345e-03,\n",
              "         5.76283979e-01,  6.75406707e-03],\n",
              "       [-3.49435018e-03,  7.59424189e-01, -5.08226227e-02,\n",
              "         6.67106426e-02,  1.57776029e-02, -5.26611122e-02,\n",
              "         9.26390394e-02,  9.07597280e-02,  3.29792181e-02,\n",
              "         1.47787155e-01,  5.43056218e-02,  8.47547762e-02,\n",
              "         2.61492786e-02,  8.43205709e-03, -9.05947755e-02,\n",
              "         1.48707518e-02, -3.03218924e-02, -2.51122709e-02,\n",
              "        -3.51764932e-02, -3.45460963e-02],\n",
              "       [ 1.21509019e-03,  2.87377352e-01,  3.25234509e-02,\n",
              "        -5.59118342e-02,  5.33950263e-03,  4.07183926e-02,\n",
              "        -7.87687720e-02, -2.90562728e-02, -2.90386633e-02,\n",
              "        -5.24737507e-02, -2.92997663e-02,  7.01037448e-01,\n",
              "        -8.67677510e-03, -4.06777304e-02,  5.81500971e-02,\n",
              "         3.16354942e-03,  2.00855731e-02,  3.43530427e-02,\n",
              "        -2.13662326e-02,  8.74505142e-03],\n",
              "       [-9.47716578e-04, -3.12340175e-01, -1.83514861e-02,\n",
              "         5.17829397e-02, -4.68914226e-03,  1.37862700e-03,\n",
              "         1.71033980e-01,  5.23107440e-02,  1.91337157e-02,\n",
              "         3.29302629e-02,  6.44092330e-02,  3.33429590e-02,\n",
              "         3.87734994e-04, -3.07113025e-03,  3.60625984e-03,\n",
              "        -4.72409619e-02,  6.18864799e-01,  3.05930620e-05,\n",
              "         2.27780829e-02, -7.52637975e-03],\n",
              "       [-6.36247005e-03, -1.97116268e-02,  4.46499142e-02,\n",
              "        -1.24221679e-01,  3.00345914e-02,  3.96032424e-02,\n",
              "         7.82832813e-01,  6.97787302e-03, -1.53528053e-02,\n",
              "        -7.07464516e-02, -1.04885122e-01, -7.30258505e-02,\n",
              "         1.46015215e-02, -1.23829544e-02,  1.76741038e-02,\n",
              "         9.47155775e-02,  5.70486985e-02,  1.72632791e-02,\n",
              "        -1.76228252e-02, -1.41526536e-03],\n",
              "       [-2.09791043e-02,  2.20292208e-02,  3.76800865e-02,\n",
              "         8.18110730e-01,  2.35879788e-02,  4.68850118e-02,\n",
              "        -1.59591916e-01,  2.26039579e-03, -7.24420803e-03,\n",
              "        -5.70347835e-02, -8.77704264e-02, -6.15404827e-02,\n",
              "         5.79800247e-03,  6.27101106e-03,  2.08112336e-02,\n",
              "         9.17440159e-02,  5.20888967e-02,  1.58236432e-02,\n",
              "        -1.52980285e-02, -2.00171807e-03],\n",
              "       [-2.78505651e-03, -1.07877718e-02, -6.95865415e-03,\n",
              "         4.30566340e-01,  1.21442438e-02,  9.37127806e-02,\n",
              "         9.06486533e-02, -2.13392757e-02, -4.38302898e-02,\n",
              "         7.24132730e-02,  1.26807729e-01, -2.03246150e-02,\n",
              "        -1.86671352e-02, -1.91739426e-01,  1.38850632e-01,\n",
              "        -1.02216622e-01, -5.02405792e-02,  1.14458346e-01,\n",
              "         1.08865582e-02, -1.02712644e-01],\n",
              "       [-1.32434244e-02, -3.81543627e-02,  3.62041675e-01,\n",
              "        -1.17062656e-01,  5.84173192e-02,  5.77627878e-02,\n",
              "        -1.16307477e-01,  1.46296858e-01,  8.03129773e-02,\n",
              "        -7.11090358e-02, -1.93851043e-02, -3.68781469e-02,\n",
              "         1.21933891e-01, -4.29404731e-02,  5.17436677e-03,\n",
              "         2.90838831e-02,  1.53780188e-02,  2.28930801e-02,\n",
              "        -6.71245142e-02, -1.58039802e-01],\n",
              "       [ 3.52715337e-02,  1.76712336e-02,  2.17469289e-01,\n",
              "        -2.77717441e-01,  5.72162078e-02,  4.60041947e-02,\n",
              "        -1.36996473e-02,  2.86223197e-02, -7.87100335e-02,\n",
              "         5.65534847e-02,  2.56899067e-02, -5.60859463e-02,\n",
              "         3.34557189e-02,  6.02174208e-01,  7.92781378e-02,\n",
              "        -3.77343676e-02, -3.37682807e-03,  1.15185928e-01,\n",
              "         2.54992107e-02, -2.35513064e-02],\n",
              "       [ 4.14859717e-02,  5.73363151e-02,  2.16302929e-02,\n",
              "        -4.24945858e-02,  1.18521641e-02, -2.90636946e-02,\n",
              "        -1.31045174e-02, -2.00917193e-02,  7.65426359e-01,\n",
              "         1.18788332e-02, -3.53405838e-02, -3.13386351e-02,\n",
              "        -3.75042064e-03, -6.54093831e-02,  7.54996732e-03,\n",
              "        -7.10735926e-03,  1.20831543e-02,  2.90421205e-02,\n",
              "         2.76652405e-02,  1.55204720e-02],\n",
              "       [ 8.89358146e-01, -6.79741809e-02,  4.74746775e-03,\n",
              "        -5.91071181e-02,  5.13299672e-02,  8.83995684e-02,\n",
              "        -2.85287065e-02,  9.75738324e-02,  6.16213714e-02,\n",
              "         7.94422336e-02,  6.11756772e-02,  1.36277881e-02,\n",
              "         4.96871654e-02, -7.57162442e-02,  2.28930610e-02,\n",
              "         3.68633011e-02, -1.15436899e-02,  5.15119497e-02,\n",
              "         6.24855018e-03,  3.68195335e-01],\n",
              "       [ 9.57872493e-01,  3.37265282e-02,  1.49659085e-03,\n",
              "         6.14940513e-02, -5.50211764e-02, -5.08406545e-02,\n",
              "         2.50979303e-02, -7.07445164e-02,  7.98758253e-03,\n",
              "        -1.43988250e-01, -3.20653865e-02, -7.78114229e-03,\n",
              "        -2.27568680e-02,  1.19671489e-01, -9.22916851e-03,\n",
              "        -9.87411600e-02,  4.75270567e-04, -6.94676317e-02,\n",
              "        -6.64271931e-02,  1.83166624e-03],\n",
              "       [ 5.54238758e-01,  1.22367879e-02,  9.77605264e-04,\n",
              "        -7.40264226e-02, -3.13975792e-02,  7.24444631e-02,\n",
              "        -3.51335636e-02, -8.66642157e-02, -2.55808006e-02,\n",
              "         8.90428446e-02,  1.33638400e-03, -2.30668994e-03,\n",
              "        -1.08985136e-01,  2.64914867e-03,  5.90802387e-02,\n",
              "         3.80375790e-01,  2.16982463e-02,  2.46461400e-02,\n",
              "         6.39308361e-02, -9.07771429e-02],\n",
              "       [ 2.40347496e-01, -5.56844214e-03, -4.17676439e-03,\n",
              "         1.33749668e-01, -1.53812818e-02, -2.06667695e-02,\n",
              "         1.55992468e-01, -4.68921930e-03,  1.71641023e-03,\n",
              "        -7.06919438e-02,  1.06423130e-01,  5.98029876e-03,\n",
              "         3.42393815e-02, -3.44801621e-02,  4.51642635e-02,\n",
              "         4.53693461e-01, -5.41053703e-02,  1.17476185e-02,\n",
              "        -6.52062156e-02,  2.60689253e-02],\n",
              "       [ 1.39843032e-01,  3.56453434e-02,  1.27584945e-02,\n",
              "        -4.32361364e-02,  2.46987488e-02, -5.12222336e-02,\n",
              "        -1.03044213e-01,  1.52446038e-02, -3.22379074e-02,\n",
              "        -3.58776740e-02,  7.23865464e-01, -3.10013799e-02,\n",
              "         2.28725842e-02,  1.95289439e-02, -5.78053793e-02,\n",
              "         6.85410150e-02,  4.15921161e-02, -2.26483349e-02,\n",
              "         1.08975205e-02,  1.53455465e-02],\n",
              "       [-3.17507191e-02,  1.24227127e-02,  1.57016208e-02,\n",
              "        -9.20629574e-03, -1.55680018e-01,  4.43135699e-02,\n",
              "         1.61904390e-02, -7.61591483e-02,  2.57622634e-02,\n",
              "        -1.07269118e-02,  1.99292695e-02, -6.52527734e-03,\n",
              "         6.64977695e-01,  2.31666474e-02,  8.26116494e-02,\n",
              "        -7.29413170e-03, -7.80042469e-04,  5.70465301e-03,\n",
              "        -4.37271201e-03,  1.23554230e-02],\n",
              "       [-2.91003400e-02,  1.72014474e-02,  1.88523515e-02,\n",
              "        -2.17713047e-02,  6.87267690e-01,  7.29973827e-02,\n",
              "         1.46966709e-02, -8.82286616e-02, -1.74945751e-02,\n",
              "        -2.86311032e-02,  3.46433587e-02, -2.84993271e-02,\n",
              "        -6.80876363e-02, -1.66975289e-02,  1.04455933e-01,\n",
              "        -3.33285517e-02, -3.62631970e-03, -3.59818111e-02,\n",
              "        -1.92970660e-02,  1.26718602e-02],\n",
              "       [-2.66556720e-02,  3.17768879e-02,  4.35594358e-02,\n",
              "        -2.03333942e-02, -2.60466403e-01,  5.35900867e-02,\n",
              "         7.68345634e-03,  7.97094482e-01, -1.89015332e-02,\n",
              "        -5.01553309e-02,  1.07440912e-02, -2.86856652e-02,\n",
              "        -8.24759503e-02,  2.20498239e-02,  9.76582844e-02,\n",
              "        -2.44809331e-02,  4.19362123e-03,  1.20384786e-02,\n",
              "        -2.06570287e-02,  2.81057230e-02],\n",
              "       [ 4.04060335e-02, -9.76128968e-03, -3.28131242e-02,\n",
              "         5.17835888e-02,  1.68219144e-02, -1.08278967e-01,\n",
              "         1.21334012e-02,  7.36685292e-02,  7.49204371e-03,\n",
              "         4.57215248e-02, -4.11064687e-02,  4.56119260e-02,\n",
              "         5.32208741e-02,  4.33965664e-02,  5.86563676e-01,\n",
              "         3.52900991e-02,  1.75776051e-03, -5.52685295e-02,\n",
              "         3.72001079e-02, -2.52344376e-03],\n",
              "       [ 7.83045370e-04, -9.30635527e-03, -2.41043136e-02,\n",
              "         4.38461792e-02,  5.11337889e-01, -5.43308359e-02,\n",
              "         2.20065807e-02,  7.93118256e-03,  3.11246941e-02,\n",
              "        -6.53374230e-03, -1.62806692e-02,  3.88643290e-02,\n",
              "         1.40406942e-03,  9.32180242e-02, -7.59678119e-02,\n",
              "         1.55890618e-02, -2.00235483e-03,  5.66451978e-01,\n",
              "         1.45544115e-03,  1.07126261e-02]])"
            ]
          },
          "metadata": {
            "tags": []
          },
          "execution_count": 20
        }
      ]
    },
    {
      "cell_type": "markdown",
      "metadata": {
        "id": "OBm14FalK6WU"
      },
      "source": [
        "##ทำการ Run Factor Analyzer ด้วย Parameters ที่มีจำนวน factor เท่ากับ 6"
      ]
    },
    {
      "cell_type": "code",
      "metadata": {
        "id": "YucLXRmtKp8G"
      },
      "source": [
        "from factor_analyzer import FactorAnalyzer\n",
        "fa2 = FactorAnalyzer(n_factors=6)\n",
        "data_fa = fa2.fit_transform(BFI_data_dropped)"
      ],
      "execution_count": 21,
      "outputs": []
    },
    {
      "cell_type": "code",
      "metadata": {
        "id": "EMuD5pM1Kvyq",
        "outputId": "8f0186f0-e343-4624-b43e-44b6aee539b0",
        "colab": {
          "base_uri": "https://localhost:8080/"
        }
      },
      "source": [
        "fa2.loadings_.shape"
      ],
      "execution_count": 22,
      "outputs": [
        {
          "output_type": "execute_result",
          "data": {
            "text/plain": [
              "(25, 6)"
            ]
          },
          "metadata": {
            "tags": []
          },
          "execution_count": 22
        }
      ]
    },
    {
      "cell_type": "markdown",
      "metadata": {
        "id": "z8-0EEfFLK3y"
      },
      "source": [
        "##Plot Factor Loadings"
      ]
    },
    {
      "cell_type": "code",
      "metadata": {
        "id": "S_WMjd00LeeP"
      },
      "source": [
        "from matplotlib import pyplot as plt\n",
        "import numpy as np\n",
        "import matplotlib"
      ],
      "execution_count": 23,
      "outputs": []
    },
    {
      "cell_type": "code",
      "metadata": {
        "id": "d83VNZ_ZLjaR",
        "outputId": "aa441ce6-803b-4933-b3eb-1df0a508eb6e",
        "colab": {
          "base_uri": "https://localhost:8080/",
          "height": 880
        }
      },
      "source": [
        "matplotlib.rcParams['figure.figsize']=[15,15]\n",
        "plt.imshow(np.absolute(fa2.loadings_))"
      ],
      "execution_count": 24,
      "outputs": [
        {
          "output_type": "execute_result",
          "data": {
            "text/plain": [
              "<matplotlib.image.AxesImage at 0x7f1230e6cf10>"
            ]
          },
          "metadata": {
            "tags": []
          },
          "execution_count": 24
        },
        {
          "output_type": "display_data",
          "data": {
            "image/png": "[encoded data removed]",
            "text/plain": [
              "<Figure size 1080x1080 with 1 Axes>"
            ]
          },
          "metadata": {
            "tags": [],
            "needs_background": "light"
          }
        }
      ]
    },
    {
      "cell_type": "code",
      "metadata": {
        "id": "qkShFSuXLqVC",
        "outputId": "2387ae7b-d97c-4e64-9480-ac05c556350d",
        "colab": {
          "base_uri": "https://localhost:8080/"
        }
      },
      "source": [
        "BFI_data_dropped.columns"
      ],
      "execution_count": 25,
      "outputs": [
        {
          "output_type": "execute_result",
          "data": {
            "text/plain": [
              "Index(['A1', 'A2', 'A3', 'A4', 'A5', 'C1', 'C2', 'C3', 'C4', 'C5', 'E1', 'E2',\n",
              "       'E3', 'E4', 'E5', 'N1', 'N2', 'N3', 'N4', 'N5', 'O1', 'O2', 'O3', 'O4',\n",
              "       'O5'],\n",
              "      dtype='object')"
            ]
          },
          "metadata": {
            "tags": []
          },
          "execution_count": 25
        }
      ]
    },
    {
      "cell_type": "code",
      "metadata": {
        "id": "PxG1XEylLrtM",
        "outputId": "08a3aa42-02e8-4acd-d641-b9c0d146fcaf",
        "colab": {
          "base_uri": "https://localhost:8080/",
          "height": 642
        }
      },
      "source": [
        "plt.bar(range(25),np.absolute(fa2.loadings_[:,0]),tick_label=BFI_data_dropped.columns)"
      ],
      "execution_count": 27,
      "outputs": [
        {
          "output_type": "execute_result",
          "data": {
            "text/plain": [
              "<BarContainer object of 25 artists>"
            ]
          },
          "metadata": {
            "tags": []
          },
          "execution_count": 27
        },
        {
          "output_type": "display_data",
          "data": {
            "image/png": "[encoded data removed]",
            "text/plain": [
              "<Figure size 1080x1080 with 1 Axes>"
            ]
          },
          "metadata": {
            "tags": [],
            "needs_background": "light"
          }
        }
      ]
    },
    {
      "cell_type": "code",
      "metadata": {
        "id": "EO_rk3ulLzXO"
      },
      "source": [
        ""
      ],
      "execution_count": null,
      "outputs": []
    },
    {
      "cell_type": "markdown",
      "metadata": {
        "id": "Vlj7FDyUL3VX"
      },
      "source": [
        "##Exam 3\n",
        "*ให้ทำ Factor Analysis ข้อมูล Fifa 2018*"
      ]
    },
    {
      "cell_type": "markdown",
      "metadata": {
        "id": "vzFIKf-EMEEF"
      },
      "source": [
        "##Import Data"
      ]
    },
    {
      "cell_type": "code",
      "metadata": {
        "id": "LcdtMbFdL-ql",
        "outputId": "8ea2dc3a-1872-4f0a-dea3-58ae2294b25a",
        "colab": {
          "base_uri": "https://localhost:8080/",
          "height": 813
        }
      },
      "source": [
        "example = pd.read_csv('FIFA 2018 Statistics.csv')\n",
        "example"
      ],
      "execution_count": 28,
      "outputs": [
        {
          "output_type": "execute_result",
          "data": {
            "text/html": [
              "<div>\n",
              "<style scoped>\n",
              "    .dataframe tbody tr th:only-of-type {\n",
              "        vertical-align: middle;\n",
              "    }\n",
              "\n",
              "    .dataframe tbody tr th {\n",
              "        vertical-align: top;\n",
              "    }\n",
              "\n",
              "    .dataframe thead th {\n",
              "        text-align: right;\n",
              "    }\n",
              "</style>\n",
              "<table border=\"1\" class=\"dataframe\">\n",
              "  <thead>\n",
              "    <tr style=\"text-align: right;\">\n",
              "      <th></th>\n",
              "      <th>Date</th>\n",
              "      <th>Team</th>\n",
              "      <th>Opponent</th>\n",
              "      <th>Goal Scored</th>\n",
              "      <th>Ball Possession %</th>\n",
              "      <th>Attempts</th>\n",
              "      <th>On-Target</th>\n",
              "      <th>Off-Target</th>\n",
              "      <th>Blocked</th>\n",
              "      <th>Corners</th>\n",
              "      <th>Offsides</th>\n",
              "      <th>Free Kicks</th>\n",
              "      <th>Saves</th>\n",
              "      <th>Pass Accuracy %</th>\n",
              "      <th>Passes</th>\n",
              "      <th>Distance Covered (Kms)</th>\n",
              "      <th>Fouls Committed</th>\n",
              "      <th>Yellow Card</th>\n",
              "      <th>Yellow &amp; Red</th>\n",
              "      <th>Red</th>\n",
              "      <th>Man of the Match</th>\n",
              "      <th>1st Goal</th>\n",
              "      <th>Round</th>\n",
              "      <th>PSO</th>\n",
              "      <th>Goals in PSO</th>\n",
              "      <th>Own goals</th>\n",
              "      <th>Own goal Time</th>\n",
              "    </tr>\n",
              "  </thead>\n",
              "  <tbody>\n",
              "    <tr>\n",
              "      <th>0</th>\n",
              "      <td>14-06-2018</td>\n",
              "      <td>Russia</td>\n",
              "      <td>Saudi Arabia</td>\n",
              "      <td>5</td>\n",
              "      <td>40</td>\n",
              "      <td>13</td>\n",
              "      <td>7</td>\n",
              "      <td>3</td>\n",
              "      <td>3</td>\n",
              "      <td>6</td>\n",
              "      <td>3</td>\n",
              "      <td>11</td>\n",
              "      <td>0</td>\n",
              "      <td>78</td>\n",
              "      <td>306</td>\n",
              "      <td>118</td>\n",
              "      <td>22</td>\n",
              "      <td>0</td>\n",
              "      <td>0</td>\n",
              "      <td>0</td>\n",
              "      <td>Yes</td>\n",
              "      <td>12.0</td>\n",
              "      <td>Group Stage</td>\n",
              "      <td>No</td>\n",
              "      <td>0</td>\n",
              "      <td>NaN</td>\n",
              "      <td>NaN</td>\n",
              "    </tr>\n",
              "    <tr>\n",
              "      <th>1</th>\n",
              "      <td>14-06-2018</td>\n",
              "      <td>Saudi Arabia</td>\n",
              "      <td>Russia</td>\n",
              "      <td>0</td>\n",
              "      <td>60</td>\n",
              "      <td>6</td>\n",
              "      <td>0</td>\n",
              "      <td>3</td>\n",
              "      <td>3</td>\n",
              "      <td>2</td>\n",
              "      <td>1</td>\n",
              "      <td>25</td>\n",
              "      <td>2</td>\n",
              "      <td>86</td>\n",
              "      <td>511</td>\n",
              "      <td>105</td>\n",
              "      <td>10</td>\n",
              "      <td>0</td>\n",
              "      <td>0</td>\n",
              "      <td>0</td>\n",
              "      <td>No</td>\n",
              "      <td>NaN</td>\n",
              "      <td>Group Stage</td>\n",
              "      <td>No</td>\n",
              "      <td>0</td>\n",
              "      <td>NaN</td>\n",
              "      <td>NaN</td>\n",
              "    </tr>\n",
              "    <tr>\n",
              "      <th>2</th>\n",
              "      <td>15-06-2018</td>\n",
              "      <td>Egypt</td>\n",
              "      <td>Uruguay</td>\n",
              "      <td>0</td>\n",
              "      <td>43</td>\n",
              "      <td>8</td>\n",
              "      <td>3</td>\n",
              "      <td>3</td>\n",
              "      <td>2</td>\n",
              "      <td>0</td>\n",
              "      <td>1</td>\n",
              "      <td>7</td>\n",
              "      <td>3</td>\n",
              "      <td>78</td>\n",
              "      <td>395</td>\n",
              "      <td>112</td>\n",
              "      <td>12</td>\n",
              "      <td>2</td>\n",
              "      <td>0</td>\n",
              "      <td>0</td>\n",
              "      <td>No</td>\n",
              "      <td>NaN</td>\n",
              "      <td>Group Stage</td>\n",
              "      <td>No</td>\n",
              "      <td>0</td>\n",
              "      <td>NaN</td>\n",
              "      <td>NaN</td>\n",
              "    </tr>\n",
              "    <tr>\n",
              "      <th>3</th>\n",
              "      <td>15-06-2018</td>\n",
              "      <td>Uruguay</td>\n",
              "      <td>Egypt</td>\n",
              "      <td>1</td>\n",
              "      <td>57</td>\n",
              "      <td>14</td>\n",
              "      <td>4</td>\n",
              "      <td>6</td>\n",
              "      <td>4</td>\n",
              "      <td>5</td>\n",
              "      <td>1</td>\n",
              "      <td>13</td>\n",
              "      <td>3</td>\n",
              "      <td>86</td>\n",
              "      <td>589</td>\n",
              "      <td>111</td>\n",
              "      <td>6</td>\n",
              "      <td>0</td>\n",
              "      <td>0</td>\n",
              "      <td>0</td>\n",
              "      <td>Yes</td>\n",
              "      <td>89.0</td>\n",
              "      <td>Group Stage</td>\n",
              "      <td>No</td>\n",
              "      <td>0</td>\n",
              "      <td>NaN</td>\n",
              "      <td>NaN</td>\n",
              "    </tr>\n",
              "    <tr>\n",
              "      <th>4</th>\n",
              "      <td>15-06-2018</td>\n",
              "      <td>Morocco</td>\n",
              "      <td>Iran</td>\n",
              "      <td>0</td>\n",
              "      <td>64</td>\n",
              "      <td>13</td>\n",
              "      <td>3</td>\n",
              "      <td>6</td>\n",
              "      <td>4</td>\n",
              "      <td>5</td>\n",
              "      <td>0</td>\n",
              "      <td>14</td>\n",
              "      <td>2</td>\n",
              "      <td>86</td>\n",
              "      <td>433</td>\n",
              "      <td>101</td>\n",
              "      <td>22</td>\n",
              "      <td>1</td>\n",
              "      <td>0</td>\n",
              "      <td>0</td>\n",
              "      <td>No</td>\n",
              "      <td>NaN</td>\n",
              "      <td>Group Stage</td>\n",
              "      <td>No</td>\n",
              "      <td>0</td>\n",
              "      <td>1.0</td>\n",
              "      <td>90.0</td>\n",
              "    </tr>\n",
              "    <tr>\n",
              "      <th>...</th>\n",
              "      <td>...</td>\n",
              "      <td>...</td>\n",
              "      <td>...</td>\n",
              "      <td>...</td>\n",
              "      <td>...</td>\n",
              "      <td>...</td>\n",
              "      <td>...</td>\n",
              "      <td>...</td>\n",
              "      <td>...</td>\n",
              "      <td>...</td>\n",
              "      <td>...</td>\n",
              "      <td>...</td>\n",
              "      <td>...</td>\n",
              "      <td>...</td>\n",
              "      <td>...</td>\n",
              "      <td>...</td>\n",
              "      <td>...</td>\n",
              "      <td>...</td>\n",
              "      <td>...</td>\n",
              "      <td>...</td>\n",
              "      <td>...</td>\n",
              "      <td>...</td>\n",
              "      <td>...</td>\n",
              "      <td>...</td>\n",
              "      <td>...</td>\n",
              "      <td>...</td>\n",
              "      <td>...</td>\n",
              "    </tr>\n",
              "    <tr>\n",
              "      <th>123</th>\n",
              "      <td>11-07-2018</td>\n",
              "      <td>England</td>\n",
              "      <td>Croatia</td>\n",
              "      <td>1</td>\n",
              "      <td>46</td>\n",
              "      <td>11</td>\n",
              "      <td>1</td>\n",
              "      <td>6</td>\n",
              "      <td>4</td>\n",
              "      <td>4</td>\n",
              "      <td>3</td>\n",
              "      <td>24</td>\n",
              "      <td>5</td>\n",
              "      <td>79</td>\n",
              "      <td>479</td>\n",
              "      <td>148</td>\n",
              "      <td>14</td>\n",
              "      <td>1</td>\n",
              "      <td>0</td>\n",
              "      <td>0</td>\n",
              "      <td>No</td>\n",
              "      <td>5.0</td>\n",
              "      <td>Semi- Finals</td>\n",
              "      <td>No</td>\n",
              "      <td>0</td>\n",
              "      <td>NaN</td>\n",
              "      <td>NaN</td>\n",
              "    </tr>\n",
              "    <tr>\n",
              "      <th>124</th>\n",
              "      <td>14-07-2018</td>\n",
              "      <td>Belgium</td>\n",
              "      <td>England</td>\n",
              "      <td>2</td>\n",
              "      <td>43</td>\n",
              "      <td>12</td>\n",
              "      <td>4</td>\n",
              "      <td>3</td>\n",
              "      <td>5</td>\n",
              "      <td>4</td>\n",
              "      <td>1</td>\n",
              "      <td>5</td>\n",
              "      <td>5</td>\n",
              "      <td>88</td>\n",
              "      <td>510</td>\n",
              "      <td>108</td>\n",
              "      <td>11</td>\n",
              "      <td>1</td>\n",
              "      <td>0</td>\n",
              "      <td>0</td>\n",
              "      <td>Yes</td>\n",
              "      <td>4.0</td>\n",
              "      <td>3rd Place</td>\n",
              "      <td>No</td>\n",
              "      <td>0</td>\n",
              "      <td>NaN</td>\n",
              "      <td>NaN</td>\n",
              "    </tr>\n",
              "    <tr>\n",
              "      <th>125</th>\n",
              "      <td>14-07-2018</td>\n",
              "      <td>England</td>\n",
              "      <td>Belgium</td>\n",
              "      <td>0</td>\n",
              "      <td>57</td>\n",
              "      <td>15</td>\n",
              "      <td>5</td>\n",
              "      <td>7</td>\n",
              "      <td>3</td>\n",
              "      <td>5</td>\n",
              "      <td>0</td>\n",
              "      <td>12</td>\n",
              "      <td>2</td>\n",
              "      <td>92</td>\n",
              "      <td>698</td>\n",
              "      <td>110</td>\n",
              "      <td>5</td>\n",
              "      <td>2</td>\n",
              "      <td>0</td>\n",
              "      <td>0</td>\n",
              "      <td>No</td>\n",
              "      <td>NaN</td>\n",
              "      <td>3rd Place</td>\n",
              "      <td>No</td>\n",
              "      <td>0</td>\n",
              "      <td>NaN</td>\n",
              "      <td>NaN</td>\n",
              "    </tr>\n",
              "    <tr>\n",
              "      <th>126</th>\n",
              "      <td>15-07-2018</td>\n",
              "      <td>France</td>\n",
              "      <td>Croatia</td>\n",
              "      <td>4</td>\n",
              "      <td>39</td>\n",
              "      <td>8</td>\n",
              "      <td>6</td>\n",
              "      <td>1</td>\n",
              "      <td>1</td>\n",
              "      <td>2</td>\n",
              "      <td>1</td>\n",
              "      <td>14</td>\n",
              "      <td>1</td>\n",
              "      <td>75</td>\n",
              "      <td>271</td>\n",
              "      <td>99</td>\n",
              "      <td>14</td>\n",
              "      <td>2</td>\n",
              "      <td>0</td>\n",
              "      <td>0</td>\n",
              "      <td>Yes</td>\n",
              "      <td>18.0</td>\n",
              "      <td>Final</td>\n",
              "      <td>No</td>\n",
              "      <td>0</td>\n",
              "      <td>1.0</td>\n",
              "      <td>18.0</td>\n",
              "    </tr>\n",
              "    <tr>\n",
              "      <th>127</th>\n",
              "      <td>15-07-2018</td>\n",
              "      <td>Croatia</td>\n",
              "      <td>France</td>\n",
              "      <td>2</td>\n",
              "      <td>61</td>\n",
              "      <td>15</td>\n",
              "      <td>3</td>\n",
              "      <td>8</td>\n",
              "      <td>4</td>\n",
              "      <td>6</td>\n",
              "      <td>1</td>\n",
              "      <td>15</td>\n",
              "      <td>3</td>\n",
              "      <td>83</td>\n",
              "      <td>547</td>\n",
              "      <td>100</td>\n",
              "      <td>13</td>\n",
              "      <td>1</td>\n",
              "      <td>0</td>\n",
              "      <td>0</td>\n",
              "      <td>No</td>\n",
              "      <td>28.0</td>\n",
              "      <td>Final</td>\n",
              "      <td>No</td>\n",
              "      <td>0</td>\n",
              "      <td>NaN</td>\n",
              "      <td>NaN</td>\n",
              "    </tr>\n",
              "  </tbody>\n",
              "</table>\n",
              "<p>128 rows × 27 columns</p>\n",
              "</div>"
            ],
            "text/plain": [
              "           Date          Team  ... Own goals  Own goal Time\n",
              "0    14-06-2018        Russia  ...       NaN            NaN\n",
              "1    14-06-2018  Saudi Arabia  ...       NaN            NaN\n",
              "2    15-06-2018         Egypt  ...       NaN            NaN\n",
              "3    15-06-2018       Uruguay  ...       NaN            NaN\n",
              "4    15-06-2018       Morocco  ...       1.0           90.0\n",
              "..          ...           ...  ...       ...            ...\n",
              "123  11-07-2018       England  ...       NaN            NaN\n",
              "124  14-07-2018       Belgium  ...       NaN            NaN\n",
              "125  14-07-2018       England  ...       NaN            NaN\n",
              "126  15-07-2018        France  ...       1.0           18.0\n",
              "127  15-07-2018       Croatia  ...       NaN            NaN\n",
              "\n",
              "[128 rows x 27 columns]"
            ]
          },
          "metadata": {
            "tags": []
          },
          "execution_count": 28
        }
      ]
    },
    {
      "cell_type": "markdown",
      "metadata": {
        "id": "x6vu6IybMccn"
      },
      "source": [
        "##เลือกข้อมูลมาเฉพาะที่ต้องการคือ Goal - scored ถึง red"
      ]
    },
    {
      "cell_type": "code",
      "metadata": {
        "id": "9CdayoQEMChA",
        "outputId": "e2a85ab2-5ed5-4a29-c861-201e469e645f",
        "colab": {
          "base_uri": "https://localhost:8080/"
        }
      },
      "source": [
        "example.shape\n"
      ],
      "execution_count": 29,
      "outputs": [
        {
          "output_type": "execute_result",
          "data": {
            "text/plain": [
              "(128, 27)"
            ]
          },
          "metadata": {
            "tags": []
          },
          "execution_count": 29
        }
      ]
    },
    {
      "cell_type": "code",
      "metadata": {
        "id": "5ky-HAW8M9Fn",
        "outputId": "92ec369e-286c-4b79-c01f-69140332aab6",
        "colab": {
          "base_uri": "https://localhost:8080/",
          "height": 473
        }
      },
      "source": [
        "example_drop = example.iloc[:,3:20]\n",
        "example_drop"
      ],
      "execution_count": 30,
      "outputs": [
        {
          "output_type": "execute_result",
          "data": {
            "text/html": [
              "<div>\n",
              "<style scoped>\n",
              "    .dataframe tbody tr th:only-of-type {\n",
              "        vertical-align: middle;\n",
              "    }\n",
              "\n",
              "    .dataframe tbody tr th {\n",
              "        vertical-align: top;\n",
              "    }\n",
              "\n",
              "    .dataframe thead th {\n",
              "        text-align: right;\n",
              "    }\n",
              "</style>\n",
              "<table border=\"1\" class=\"dataframe\">\n",
              "  <thead>\n",
              "    <tr style=\"text-align: right;\">\n",
              "      <th></th>\n",
              "      <th>Goal Scored</th>\n",
              "      <th>Ball Possession %</th>\n",
              "      <th>Attempts</th>\n",
              "      <th>On-Target</th>\n",
              "      <th>Off-Target</th>\n",
              "      <th>Blocked</th>\n",
              "      <th>Corners</th>\n",
              "      <th>Offsides</th>\n",
              "      <th>Free Kicks</th>\n",
              "      <th>Saves</th>\n",
              "      <th>Pass Accuracy %</th>\n",
              "      <th>Passes</th>\n",
              "      <th>Distance Covered (Kms)</th>\n",
              "      <th>Fouls Committed</th>\n",
              "      <th>Yellow Card</th>\n",
              "      <th>Yellow &amp; Red</th>\n",
              "      <th>Red</th>\n",
              "    </tr>\n",
              "  </thead>\n",
              "  <tbody>\n",
              "    <tr>\n",
              "      <th>0</th>\n",
              "      <td>5</td>\n",
              "      <td>40</td>\n",
              "      <td>13</td>\n",
              "      <td>7</td>\n",
              "      <td>3</td>\n",
              "      <td>3</td>\n",
              "      <td>6</td>\n",
              "      <td>3</td>\n",
              "      <td>11</td>\n",
              "      <td>0</td>\n",
              "      <td>78</td>\n",
              "      <td>306</td>\n",
              "      <td>118</td>\n",
              "      <td>22</td>\n",
              "      <td>0</td>\n",
              "      <td>0</td>\n",
              "      <td>0</td>\n",
              "    </tr>\n",
              "    <tr>\n",
              "      <th>1</th>\n",
              "      <td>0</td>\n",
              "      <td>60</td>\n",
              "      <td>6</td>\n",
              "      <td>0</td>\n",
              "      <td>3</td>\n",
              "      <td>3</td>\n",
              "      <td>2</td>\n",
              "      <td>1</td>\n",
              "      <td>25</td>\n",
              "      <td>2</td>\n",
              "      <td>86</td>\n",
              "      <td>511</td>\n",
              "      <td>105</td>\n",
              "      <td>10</td>\n",
              "      <td>0</td>\n",
              "      <td>0</td>\n",
              "      <td>0</td>\n",
              "    </tr>\n",
              "    <tr>\n",
              "      <th>2</th>\n",
              "      <td>0</td>\n",
              "      <td>43</td>\n",
              "      <td>8</td>\n",
              "      <td>3</td>\n",
              "      <td>3</td>\n",
              "      <td>2</td>\n",
              "      <td>0</td>\n",
              "      <td>1</td>\n",
              "      <td>7</td>\n",
              "      <td>3</td>\n",
              "      <td>78</td>\n",
              "      <td>395</td>\n",
              "      <td>112</td>\n",
              "      <td>12</td>\n",
              "      <td>2</td>\n",
              "      <td>0</td>\n",
              "      <td>0</td>\n",
              "    </tr>\n",
              "    <tr>\n",
              "      <th>3</th>\n",
              "      <td>1</td>\n",
              "      <td>57</td>\n",
              "      <td>14</td>\n",
              "      <td>4</td>\n",
              "      <td>6</td>\n",
              "      <td>4</td>\n",
              "      <td>5</td>\n",
              "      <td>1</td>\n",
              "      <td>13</td>\n",
              "      <td>3</td>\n",
              "      <td>86</td>\n",
              "      <td>589</td>\n",
              "      <td>111</td>\n",
              "      <td>6</td>\n",
              "      <td>0</td>\n",
              "      <td>0</td>\n",
              "      <td>0</td>\n",
              "    </tr>\n",
              "    <tr>\n",
              "      <th>4</th>\n",
              "      <td>0</td>\n",
              "      <td>64</td>\n",
              "      <td>13</td>\n",
              "      <td>3</td>\n",
              "      <td>6</td>\n",
              "      <td>4</td>\n",
              "      <td>5</td>\n",
              "      <td>0</td>\n",
              "      <td>14</td>\n",
              "      <td>2</td>\n",
              "      <td>86</td>\n",
              "      <td>433</td>\n",
              "      <td>101</td>\n",
              "      <td>22</td>\n",
              "      <td>1</td>\n",
              "      <td>0</td>\n",
              "      <td>0</td>\n",
              "    </tr>\n",
              "    <tr>\n",
              "      <th>...</th>\n",
              "      <td>...</td>\n",
              "      <td>...</td>\n",
              "      <td>...</td>\n",
              "      <td>...</td>\n",
              "      <td>...</td>\n",
              "      <td>...</td>\n",
              "      <td>...</td>\n",
              "      <td>...</td>\n",
              "      <td>...</td>\n",
              "      <td>...</td>\n",
              "      <td>...</td>\n",
              "      <td>...</td>\n",
              "      <td>...</td>\n",
              "      <td>...</td>\n",
              "      <td>...</td>\n",
              "      <td>...</td>\n",
              "      <td>...</td>\n",
              "    </tr>\n",
              "    <tr>\n",
              "      <th>123</th>\n",
              "      <td>1</td>\n",
              "      <td>46</td>\n",
              "      <td>11</td>\n",
              "      <td>1</td>\n",
              "      <td>6</td>\n",
              "      <td>4</td>\n",
              "      <td>4</td>\n",
              "      <td>3</td>\n",
              "      <td>24</td>\n",
              "      <td>5</td>\n",
              "      <td>79</td>\n",
              "      <td>479</td>\n",
              "      <td>148</td>\n",
              "      <td>14</td>\n",
              "      <td>1</td>\n",
              "      <td>0</td>\n",
              "      <td>0</td>\n",
              "    </tr>\n",
              "    <tr>\n",
              "      <th>124</th>\n",
              "      <td>2</td>\n",
              "      <td>43</td>\n",
              "      <td>12</td>\n",
              "      <td>4</td>\n",
              "      <td>3</td>\n",
              "      <td>5</td>\n",
              "      <td>4</td>\n",
              "      <td>1</td>\n",
              "      <td>5</td>\n",
              "      <td>5</td>\n",
              "      <td>88</td>\n",
              "      <td>510</td>\n",
              "      <td>108</td>\n",
              "      <td>11</td>\n",
              "      <td>1</td>\n",
              "      <td>0</td>\n",
              "      <td>0</td>\n",
              "    </tr>\n",
              "    <tr>\n",
              "      <th>125</th>\n",
              "      <td>0</td>\n",
              "      <td>57</td>\n",
              "      <td>15</td>\n",
              "      <td>5</td>\n",
              "      <td>7</td>\n",
              "      <td>3</td>\n",
              "      <td>5</td>\n",
              "      <td>0</td>\n",
              "      <td>12</td>\n",
              "      <td>2</td>\n",
              "      <td>92</td>\n",
              "      <td>698</td>\n",
              "      <td>110</td>\n",
              "      <td>5</td>\n",
              "      <td>2</td>\n",
              "      <td>0</td>\n",
              "      <td>0</td>\n",
              "    </tr>\n",
              "    <tr>\n",
              "      <th>126</th>\n",
              "      <td>4</td>\n",
              "      <td>39</td>\n",
              "      <td>8</td>\n",
              "      <td>6</td>\n",
              "      <td>1</td>\n",
              "      <td>1</td>\n",
              "      <td>2</td>\n",
              "      <td>1</td>\n",
              "      <td>14</td>\n",
              "      <td>1</td>\n",
              "      <td>75</td>\n",
              "      <td>271</td>\n",
              "      <td>99</td>\n",
              "      <td>14</td>\n",
              "      <td>2</td>\n",
              "      <td>0</td>\n",
              "      <td>0</td>\n",
              "    </tr>\n",
              "    <tr>\n",
              "      <th>127</th>\n",
              "      <td>2</td>\n",
              "      <td>61</td>\n",
              "      <td>15</td>\n",
              "      <td>3</td>\n",
              "      <td>8</td>\n",
              "      <td>4</td>\n",
              "      <td>6</td>\n",
              "      <td>1</td>\n",
              "      <td>15</td>\n",
              "      <td>3</td>\n",
              "      <td>83</td>\n",
              "      <td>547</td>\n",
              "      <td>100</td>\n",
              "      <td>13</td>\n",
              "      <td>1</td>\n",
              "      <td>0</td>\n",
              "      <td>0</td>\n",
              "    </tr>\n",
              "  </tbody>\n",
              "</table>\n",
              "<p>128 rows × 17 columns</p>\n",
              "</div>"
            ],
            "text/plain": [
              "     Goal Scored  Ball Possession %  Attempts  ...  Yellow Card  Yellow & Red  Red\n",
              "0              5                 40        13  ...            0             0    0\n",
              "1              0                 60         6  ...            0             0    0\n",
              "2              0                 43         8  ...            2             0    0\n",
              "3              1                 57        14  ...            0             0    0\n",
              "4              0                 64        13  ...            1             0    0\n",
              "..           ...                ...       ...  ...          ...           ...  ...\n",
              "123            1                 46        11  ...            1             0    0\n",
              "124            2                 43        12  ...            1             0    0\n",
              "125            0                 57        15  ...            2             0    0\n",
              "126            4                 39         8  ...            2             0    0\n",
              "127            2                 61        15  ...            1             0    0\n",
              "\n",
              "[128 rows x 17 columns]"
            ]
          },
          "metadata": {
            "tags": []
          },
          "execution_count": 30
        }
      ]
    },
    {
      "cell_type": "markdown",
      "metadata": {
        "id": "4TggPyzNNJhJ"
      },
      "source": [
        "##ดูของขนาดข้อมูล"
      ]
    },
    {
      "cell_type": "code",
      "metadata": {
        "id": "RGn0Tpv-NMFb",
        "outputId": "7ac6a521-d326-4347-b2a2-2b78fe0a22cf",
        "colab": {
          "base_uri": "https://localhost:8080/"
        }
      },
      "source": [
        "example_drop.shape"
      ],
      "execution_count": 31,
      "outputs": [
        {
          "output_type": "execute_result",
          "data": {
            "text/plain": [
              "(128, 17)"
            ]
          },
          "metadata": {
            "tags": []
          },
          "execution_count": 31
        }
      ]
    },
    {
      "cell_type": "markdown",
      "metadata": {
        "id": "Bc72CZPnNXh-"
      },
      "source": [
        "##Bartlett’s test\n",
        "\n",
        "*p value เข้าใกล้ 0 *"
      ]
    },
    {
      "cell_type": "code",
      "metadata": {
        "id": "3yImfwUiNW85",
        "outputId": "4cb7d574-4287-46e4-e139-a0d30611a9b0",
        "colab": {
          "base_uri": "https://localhost:8080/"
        }
      },
      "source": [
        "from factor_analyzer.factor_analyzer import calculate_bartlett_sphericity\n",
        "\n",
        "chi_square_value,p_value = calculate_bartlett_sphericity(example_drop)\n",
        "\n",
        "chi_square_value, p_value"
      ],
      "execution_count": 34,
      "outputs": [
        {
          "output_type": "execute_result",
          "data": {
            "text/plain": [
              "(1299.3697851171412, 2.713580160466225e-189)"
            ]
          },
          "metadata": {
            "tags": []
          },
          "execution_count": 34
        }
      ]
    },
    {
      "cell_type": "markdown",
      "metadata": {
        "id": "Bfe62c04Nukb"
      },
      "source": [
        "*จาก output สามารถแปลผล ได้ว่า*\n",
        "*ค่า P-value มีค่า  2.713580160466225e-189  ซึ่งมีค่าเข้าใกล้ 0*\n"
      ]
    },
    {
      "cell_type": "markdown",
      "metadata": {
        "id": "FwO82j3zOHtz"
      },
      "source": [
        "##Kaiser-Meyer-Olkin (KMO) Test\n",
        "\n",
        "ถ้าค่า KMO model มีค่ามากกว่า 0.6 แปลว่าข้อมูลเหมาะสมที่นำไปทำ Factor Analysis"
      ]
    },
    {
      "cell_type": "code",
      "metadata": {
        "id": "E7n8rTxCN5Co",
        "outputId": "9d0a0eb0-b89b-4ab5-84ad-a2cae4cc5da9",
        "colab": {
          "base_uri": "https://localhost:8080/"
        }
      },
      "source": [
        "from factor_analyzer.factor_analyzer import calculate_kmo\n",
        "\n",
        "kmo_all,kmo_model=calculate_kmo(example_drop)\n",
        "\n",
        "kmo_model"
      ],
      "execution_count": 55,
      "outputs": [
        {
          "output_type": "execute_result",
          "data": {
            "text/plain": [
              "0.5594556344508279"
            ]
          },
          "metadata": {
            "tags": []
          },
          "execution_count": 55
        }
      ]
    },
    {
      "cell_type": "markdown",
      "metadata": {
        "id": "jWskBBZSOhc_"
      },
      "source": [
        "*จาก Output จะแปลผลได้ว่า*\n",
        "*ค่า KMO จาก model มีค่าประมาณ 0.5594556344508279 หรือประมาณได้ 0.6 ซึ่งเหมาะสมที่จะนำไปทำ Factor Analysis*"
      ]
    },
    {
      "cell_type": "markdown",
      "metadata": {
        "id": "Rpv_NFm3O0CQ"
      },
      "source": [
        "##Factor Analysis"
      ]
    },
    {
      "cell_type": "markdown",
      "metadata": {
        "id": "iCyPRdr7Pomt"
      },
      "source": [
        "###IMPORT"
      ]
    },
    {
      "cell_type": "code",
      "metadata": {
        "id": "ptURE7IvOv5D"
      },
      "source": [
        "from factor_analyzer import FactorAnalyzer"
      ],
      "execution_count": 37,
      "outputs": []
    },
    {
      "cell_type": "markdown",
      "metadata": {
        "id": "lYJvclWJPtcV"
      },
      "source": [
        "##DEFINE "
      ]
    },
    {
      "cell_type": "code",
      "metadata": {
        "id": "TByNStP1O-8x"
      },
      "source": [
        " example_fa = FactorAnalyzer(n_factors=10)\n",
        " "
      ],
      "execution_count": 39,
      "outputs": []
    },
    {
      "cell_type": "markdown",
      "metadata": {
        "id": "tKOLN5N8P6_D"
      },
      "source": [
        "## Fit-transform"
      ]
    },
    {
      "cell_type": "code",
      "metadata": {
        "id": "fK2ZYmWzPLcy"
      },
      "source": [
        "data_example_fa = example_fa.fit_transform(example_drop)"
      ],
      "execution_count": 46,
      "outputs": []
    },
    {
      "cell_type": "markdown",
      "metadata": {
        "id": "hoVjHefKTnru"
      },
      "source": [
        "##ตรวจสอบ ขนาดข้อมูล"
      ]
    },
    {
      "cell_type": "code",
      "metadata": {
        "id": "9a_ePL1ZSA_X",
        "outputId": "ae0d09c9-a369-427e-af9e-53cc9bb3aab1",
        "colab": {
          "base_uri": "https://localhost:8080/"
        }
      },
      "source": [
        "data_example_fa.shape\n"
      ],
      "execution_count": 48,
      "outputs": [
        {
          "output_type": "execute_result",
          "data": {
            "text/plain": [
              "(128, 10)"
            ]
          },
          "metadata": {
            "tags": []
          },
          "execution_count": 48
        }
      ]
    },
    {
      "cell_type": "markdown",
      "metadata": {
        "id": "UreI6thvT5O1"
      },
      "source": [
        "##Eigen values"
      ]
    },
    {
      "cell_type": "code",
      "metadata": {
        "id": "b8Q4WD1oT8IX",
        "outputId": "48d25e33-f5f5-4d26-baac-62fbc06a18a4",
        "colab": {
          "base_uri": "https://localhost:8080/"
        }
      },
      "source": [
        "ev,v = example_fa.get_eigenvalues()\n",
        "ev"
      ],
      "execution_count": 51,
      "outputs": [
        {
          "output_type": "execute_result",
          "data": {
            "text/plain": [
              "array([4.93533676, 1.66110682, 1.45898601, 1.31857945, 1.27991548,\n",
              "       1.1607222 , 0.89822418, 0.80740568, 0.78874612, 0.65948826,\n",
              "       0.56563441, 0.48116939, 0.38549929, 0.29659929, 0.22859409,\n",
              "       0.06848785, 0.00550471])"
            ]
          },
          "metadata": {
            "tags": []
          },
          "execution_count": 51
        }
      ]
    },
    {
      "cell_type": "markdown",
      "metadata": {
        "id": "4MFCnhWyULq6"
      },
      "source": [
        "##Scree Plot"
      ]
    },
    {
      "cell_type": "code",
      "metadata": {
        "id": "w6i4jt5rUHv-",
        "outputId": "e2d8dc05-bd8d-4034-cc13-97b202217204",
        "colab": {
          "base_uri": "https://localhost:8080/",
          "height": 644
        }
      },
      "source": [
        "plt.plot(range(1,example_drop.shape[1]+1),ev,'bo-')\n",
        "plt.plot([0,example_drop.shape[1]+1],[1,1],'r--')\n",
        "plt.title('Scree Plot Fifa with 17 factors')\n",
        "plt.xlabel('Factors')\n",
        "plt.ylabel('Eigenvalue')\n",
        "plt.grid()\n",
        "plt.show()"
      ],
      "execution_count": 53,
      "outputs": [
        {
          "output_type": "display_data",
          "data": {
            "image/png": "[encoded data removed]",
            "text/plain": [
              "<Figure size 1080x1080 with 1 Axes>"
            ]
          },
          "metadata": {
            "tags": [],
            "needs_background": "light"
          }
        }
      ]
    },
    {
      "cell_type": "markdown",
      "metadata": {
        "id": "xBmrt8eGUe6B"
      },
      "source": [
        "##จากข้อมูลจะเห็นได้ว่าจากมี 17 factor  และมีค่ามากกว่า 1 อยู่ 6 ตัว"
      ]
    },
    {
      "cell_type": "code",
      "metadata": {
        "id": "wJhnatL0UaI0",
        "outputId": "e313cf5f-7bd1-4b17-8580-833c5ca7bde7",
        "colab": {
          "base_uri": "https://localhost:8080/"
        }
      },
      "source": [
        "data_example_fa[:,:6]"
      ],
      "execution_count": 54,
      "outputs": [
        {
          "output_type": "execute_result",
          "data": {
            "text/plain": [
              "array([[-1.14061137e+00,  1.05033795e+00,  2.79854567e+00,\n",
              "         3.57574560e-01, -5.95152711e-02, -7.48334076e-02],\n",
              "       [ 5.33831171e-01, -1.78150280e-01, -1.10088651e+00,\n",
              "         1.81432000e-02, -8.36944321e-01, -7.31531607e-01],\n",
              "       [-7.29379706e-01,  3.96402498e-01, -7.02153492e-01,\n",
              "        -2.77221903e-01,  1.34345254e-01, -5.61356514e-01],\n",
              "       [ 7.08580342e-01,  3.36178613e-01, -3.31529441e-01,\n",
              "        -2.60518967e-01, -1.38667315e+00,  1.34916077e-01],\n",
              "       [ 3.25530467e-01, -3.71841487e-01, -4.14431700e-01,\n",
              "         3.27492853e-01,  2.50366459e-01,  2.57255932e-01],\n",
              "       [-1.34130209e+00, -5.34562069e-01,  2.52429472e-01,\n",
              "        -5.22235915e-01,  1.05852627e+00, -1.07428697e+00],\n",
              "       [-5.46867894e-01, -4.92844282e-01,  9.46711298e-01,\n",
              "        -3.59877314e-01, -1.85391071e-01, -3.25465436e-01],\n",
              "       [ 1.67488741e+00, -4.32704892e-01,  7.61605381e-01,\n",
              "        -3.70473849e-01, -8.35201718e-01, -5.88310671e-01],\n",
              "       [ 2.62530209e-01, -3.24159295e-01,  6.58987216e-01,\n",
              "        -8.77493871e-02, -1.29974193e-01, -2.53944852e-01],\n",
              "       [-4.24340037e-01,  2.94944349e-01,  4.29409238e-02,\n",
              "        -1.64381947e-02,  1.25250458e+00, -1.11481292e+00],\n",
              "       [ 1.95876399e+00, -4.46975965e-01, -3.61523432e-01,\n",
              "         3.78163388e-02, -1.35874423e+00,  2.54926969e+00],\n",
              "       [-2.08882967e+00, -1.88315017e-02, -9.70957261e-02,\n",
              "        -2.16254041e-01, -6.44227818e-01, -7.44602446e-01],\n",
              "       [-1.13023467e-01, -1.86239106e-01, -2.97895618e-01,\n",
              "        -2.22964741e-01, -5.62470690e-01,  4.57419585e-01],\n",
              "       [-5.79705484e-01,  2.67017734e-01,  1.84093790e-01,\n",
              "         2.16481968e-01,  5.45634263e-01, -4.35644718e-01],\n",
              "       [ 1.91713667e-01, -1.68566869e-01,  2.97003398e-01,\n",
              "         7.05696188e-02,  5.23795988e-01, -5.16332969e-01],\n",
              "       [-2.72239288e-01, -4.89047675e-01, -9.80538749e-01,\n",
              "        -3.10055851e-02, -2.27316336e-02,  1.01966276e+00],\n",
              "       [-1.23346248e-01, -3.64285360e-02, -6.51761097e-01,\n",
              "         1.85936300e-01,  5.65122914e-01,  6.06494933e-02],\n",
              "       [-2.97922468e-01,  1.96200209e-01,  3.88046147e-02,\n",
              "         4.47998161e-03,  3.60714543e-01, -6.48805858e-01],\n",
              "       [ 9.39499385e-01,  2.95628629e-01, -2.39799127e-01,\n",
              "        -1.51633941e-01, -3.37278747e-01,  1.55986629e+00],\n",
              "       [-1.12457695e+00, -3.95892986e-02,  4.07359193e-01,\n",
              "        -4.24913701e-01,  2.84232064e-01, -3.72874610e-01],\n",
              "       [ 5.11996719e-01, -2.72746579e-01, -3.87642085e-01,\n",
              "        -3.10369709e-01, -5.43121239e-01,  1.26838979e+00],\n",
              "       [-2.42001288e-01,  7.95623673e-02, -3.26243458e-02,\n",
              "        -1.49980559e-01,  1.03658919e+00, -1.27621926e+00],\n",
              "       [ 3.09253969e-03, -3.45964922e-01, -6.97980197e-02,\n",
              "         2.32866611e-01,  1.89502372e-01,  7.59341359e-01],\n",
              "       [-5.31938248e-01, -3.40097273e-01, -9.32193283e-01,\n",
              "         4.35478826e-01,  1.00694242e+00, -4.14036551e-01],\n",
              "       [ 9.12307220e-01, -3.62280886e-01,  1.26221663e+00,\n",
              "         8.98399815e-02,  7.65873647e-01, -3.66204217e-01],\n",
              "       [-7.74051832e-01, -6.63482792e-01, -6.54190082e-01,\n",
              "        -2.59606852e-01,  1.99538017e+00, -1.29695998e+00],\n",
              "       [-8.42058865e-01, -3.54054671e-01, -2.02329205e-01,\n",
              "        -2.30382892e-01, -6.26005287e-01, -6.77676309e-01],\n",
              "       [ 6.12123138e-01, -1.09371483e-01,  9.07193812e-01,\n",
              "        -2.16378691e-01, -6.92670363e-01, -8.06428204e-02],\n",
              "       [-5.56953139e-01, -1.25871638e+00, -6.44086390e-01,\n",
              "        -3.87320560e-02,  4.59378691e-01,  7.09651980e-01],\n",
              "       [ 8.61050269e-01, -4.97631493e-01,  4.62562434e-01,\n",
              "        -1.38999280e-01, -7.04281466e-01, -1.57426034e-01],\n",
              "       [ 6.26529608e-01,  2.32296184e-01, -1.25986637e-02,\n",
              "        -2.81543275e-01, -7.01189194e-01, -1.09311691e+00],\n",
              "       [-8.03503780e-01,  1.25630962e-02,  3.69402988e-01,\n",
              "        -1.27813348e-01,  4.16918389e-01, -5.80145626e-01],\n",
              "       [-6.40380429e-01,  7.99243147e-01,  6.77333936e-01,\n",
              "         1.29494354e-01, -2.67289507e-01, -1.32356525e-01],\n",
              "       [-1.42818154e-01,  3.95529062e-01, -6.16044825e-01,\n",
              "        -2.21118615e-01, -4.81295325e-01,  1.54688879e-01],\n",
              "       [-4.67509318e-01, -1.05180767e-01, -3.99644730e-01,\n",
              "         3.17623410e-01,  1.30423140e-01, -2.73318455e-02],\n",
              "       [ 1.75653737e-02,  2.17735238e-01, -5.48974966e-01,\n",
              "         2.06757096e-01,  2.09977718e-02, -3.48556675e-01],\n",
              "       [ 3.15334813e-01, -5.23719722e-01, -1.52798556e-01,\n",
              "        -5.94117926e-01, -1.18169362e+00, -2.39310582e-01],\n",
              "       [ 7.39953249e-01, -7.07803705e-01, -9.24387707e-01,\n",
              "        -1.83811695e-01, -1.04862701e+00, -6.02493141e-01],\n",
              "       [-1.79979304e+00, -1.09617819e-03, -1.12941806e+00,\n",
              "        -2.25645701e-01,  3.52977742e-01, -1.36898273e+00],\n",
              "       [ 2.11628106e+00, -2.04181831e-01, -9.72704032e-01,\n",
              "         1.07305207e-01, -1.10551513e+00,  1.44924200e+00],\n",
              "       [-8.35656394e-02,  3.78366851e-01,  3.44536089e-01,\n",
              "        -5.59532265e-01, -2.58114607e-01, -1.06890930e+00],\n",
              "       [ 1.67554445e-01,  5.65854288e-01, -5.73410801e-02,\n",
              "        -3.29440672e-01, -1.37895603e+00,  2.71911174e-01],\n",
              "       [-4.31196011e-01, -2.63922738e-01, -3.31075560e-01,\n",
              "        -2.31018064e-01, -1.52384039e-02, -4.65153850e-01],\n",
              "       [ 4.26784251e-01, -3.95917274e-01, -1.07862229e+00,\n",
              "        -1.26605892e-01,  6.85655665e-02, -4.84575965e-01],\n",
              "       [ 5.24250313e-01, -5.59806839e-01, -1.05679538e+00,\n",
              "         3.20892875e-01,  7.71395466e-01, -8.51484399e-02],\n",
              "       [-6.00753883e-01, -1.86765428e-01,  1.13551613e+00,\n",
              "        -1.21896544e-01,  1.68593294e+00,  2.50503912e-01],\n",
              "       [ 1.83318956e+00, -1.57671240e-01,  5.19798791e-01,\n",
              "        -9.42187282e-02, -4.68241300e-01,  8.95443947e-01],\n",
              "       [-1.48697240e+00,  1.71561363e-01, -9.57228698e-01,\n",
              "        -2.77523180e-01, -3.58786384e-01, -1.41819697e+00],\n",
              "       [ 3.65377238e-01, -5.24106434e-01,  6.28968446e-02,\n",
              "        -6.97396846e-02, -6.08868149e-01,  1.00749388e+00],\n",
              "       [-1.09152620e+00,  5.61283999e-02, -6.57002482e-01,\n",
              "        -1.59965319e-01, -9.21816620e-01, -7.77388017e-01],\n",
              "       [-1.09542449e+00,  8.74395108e-01,  9.73556213e-02,\n",
              "        -1.62571719e-01,  1.50739351e+00, -4.42463168e-01],\n",
              "       [ 6.35415106e-01,  4.82706116e-01,  3.50489795e-01,\n",
              "        -1.19064003e-02, -5.10100926e-01,  1.27616924e+00],\n",
              "       [ 1.57581188e-01, -6.04215812e-02,  3.07763687e+00,\n",
              "        -2.75020586e-01, -1.14054663e+00,  1.68321217e-01],\n",
              "       [ 2.23136719e-02, -3.96667961e-01,  4.06988694e-01,\n",
              "        -3.27718473e-01, -5.44295664e-01,  2.11199645e-01],\n",
              "       [-6.17446737e-01, -7.65246076e-01, -5.07258978e-02,\n",
              "         2.27645849e-01,  1.87431164e+00,  2.29785384e+00],\n",
              "       [ 5.93535986e-01, -7.64998678e-01,  6.65610498e-01,\n",
              "        -2.81663239e-01, -1.19858606e+00, -6.45894662e-01],\n",
              "       [ 1.39732611e+00,  6.97261955e-01,  8.39941540e-01,\n",
              "         6.86060236e+00, -1.05958904e+00,  1.52461005e+00],\n",
              "       [-1.72862350e+00,  2.01911704e-01,  5.57043095e-01,\n",
              "        -1.70623257e-01,  4.14087979e-01, -9.37271899e-01],\n",
              "       [ 1.06162060e+00, -7.06922165e-01,  2.95283291e+00,\n",
              "        -3.03852935e-01, -3.70829664e-01, -5.72988807e-01],\n",
              "       [-1.50192669e-01, -1.55123241e+00, -3.44923296e-01,\n",
              "        -7.14113642e-01,  6.39170801e-01, -9.87671984e-01],\n",
              "       [ 7.78857235e-02, -2.23185003e-01,  3.06349978e-01,\n",
              "        -1.16703547e-01, -9.67119074e-03, -7.83437821e-01],\n",
              "       [-5.88555311e-01, -3.66730275e-01,  7.84246515e-01,\n",
              "        -6.05473962e-02,  6.68451875e-01, -2.62500889e-01],\n",
              "       [-3.16410702e-01, -5.78722830e-02, -1.13397372e+00,\n",
              "         1.45245631e-01,  3.52999911e-01,  1.66888315e-01],\n",
              "       [ 3.21732327e-01,  1.52672009e-01,  5.10237481e-01,\n",
              "         3.45947646e-03, -9.73890968e-01,  3.79486718e-01],\n",
              "       [ 4.48830971e-01, -3.88736473e-01,  1.45796168e+00,\n",
              "        -1.28695541e-01, -1.39507239e-01,  2.03202577e-01],\n",
              "       [-8.29502147e-01, -3.85982135e-01, -1.07600737e-01,\n",
              "         6.43474038e+00,  1.20387736e-01, -7.96790085e-01],\n",
              "       [ 1.37378390e+00, -3.98659636e-01,  3.74432422e-01,\n",
              "        -4.53974945e-01, -1.55089855e+00,  6.41033725e-01],\n",
              "       [-7.94831176e-01, -9.14604653e-02, -2.25737999e-01,\n",
              "        -4.41660950e-01,  2.83565339e-01, -8.34691403e-01],\n",
              "       [ 1.97973549e+00, -2.41284495e-01,  2.64567506e-02,\n",
              "        -5.21037743e-01, -1.78701068e+00, -8.49313013e-01],\n",
              "       [-1.45197320e+00,  2.38758388e-01,  7.35442027e-01,\n",
              "        -4.61763467e-01,  2.66063158e+00, -8.19300630e-01],\n",
              "       [-1.58854054e+00, -1.05850495e+00, -5.46549301e-01,\n",
              "        -3.10039539e-01,  3.46240540e-01, -8.27116414e-01],\n",
              "       [ 1.52325858e+00, -1.50843663e+00, -5.98411060e-01,\n",
              "        -2.37270317e-01,  7.43290476e-01, -9.22032969e-02],\n",
              "       [-1.18054959e+00, -1.04729691e-01, -1.18777824e+00,\n",
              "         2.86327819e-03, -3.48156640e-01, -6.33798413e-01],\n",
              "       [ 1.22384029e+00, -2.48435272e-01, -7.91731754e-01,\n",
              "        -3.72516111e-01, -1.34427743e+00, -9.21404229e-01],\n",
              "       [ 6.55975463e-01, -2.59964073e-01, -1.33412295e+00,\n",
              "        -1.30906659e-01,  9.45657624e-01,  6.27101751e-01],\n",
              "       [-2.06547806e-01, -6.45976725e-01,  2.73298804e-01,\n",
              "        -9.59877395e-02,  2.18025269e-01, -1.42610096e+00],\n",
              "       [-1.36105338e+00, -6.53452759e-01,  8.07283305e-04,\n",
              "        -2.05052100e-01,  6.80096146e-01, -8.58920121e-01],\n",
              "       [ 9.91007861e-01, -5.16227104e-01,  2.96272313e-01,\n",
              "         3.03517478e-01,  7.26596253e-01, -9.94374602e-01],\n",
              "       [-8.20914259e-01, -2.06848426e-01, -2.82781605e-01,\n",
              "        -6.15477586e-02,  3.92704377e-01,  2.30500537e-01],\n",
              "       [ 6.09760014e-01, -4.34871261e-01,  7.10763005e-02,\n",
              "        -2.92338746e-01, -4.97105567e-02, -4.19572253e-02],\n",
              "       [-1.84295447e+00,  9.75226801e-01,  9.27222165e-01,\n",
              "        -2.78279676e-01,  1.42661526e+00, -5.79832108e-01],\n",
              "       [ 1.63878087e+00,  7.69762606e-01, -9.17873969e-01,\n",
              "        -1.98512713e-02, -1.56930966e+00,  2.13780201e+00],\n",
              "       [ 6.85776817e-01, -9.32938161e-01, -1.29760941e+00,\n",
              "         1.72224325e-01,  5.53126239e-01,  1.83784749e+00],\n",
              "       [-1.68383975e+00, -1.66535905e-01,  9.05808023e-01,\n",
              "        -2.47581914e-01,  1.12644221e-01, -7.27421476e-01],\n",
              "       [-3.08543709e-01,  5.16585812e-01, -1.29671803e+00,\n",
              "        -7.82763160e-02,  5.88839989e-01,  1.72782332e-01],\n",
              "       [ 1.11242937e+00, -3.07010044e-01,  2.34024042e-01,\n",
              "         7.62563610e-03, -1.36027514e+00,  1.32278618e-01],\n",
              "       [ 9.75002126e-01, -4.07626361e-01, -9.28046254e-02,\n",
              "        -1.31839534e-01,  2.81834463e-01,  1.80282790e-01],\n",
              "       [-6.87440127e-01, -2.88109821e-01,  7.37388900e-01,\n",
              "        -3.83698312e-01,  6.81586124e-01, -2.63988762e-01],\n",
              "       [ 8.73916854e-01, -2.11435076e+00, -1.31599245e+00,\n",
              "        -3.58315317e-01, -7.45847140e-01, -7.06247597e-02],\n",
              "       [ 2.94990479e-01, -2.30411743e+00, -1.03671950e+00,\n",
              "        -4.35262424e-01, -1.29960964e+00,  2.37816682e-01],\n",
              "       [-9.22049552e-01, -7.66628038e-01, -5.55659268e-01,\n",
              "        -1.54029503e-01, -1.10392865e-01, -1.05099608e+00],\n",
              "       [ 1.39252794e-01, -6.30430511e-01, -1.97550284e-01,\n",
              "         2.50973243e-01, -7.18479537e-02, -1.16636089e+00],\n",
              "       [-1.17286516e+00, -4.13556107e-01,  1.52264136e-01,\n",
              "        -2.51873781e-01,  9.65462616e-01, -9.80541470e-01],\n",
              "       [ 1.17113964e+00, -3.21611722e-02,  7.48063765e-01,\n",
              "         2.99130715e-01,  8.44339992e-01,  2.17814703e-01],\n",
              "       [ 1.58108060e-01,  1.27557942e-01, -1.02709286e+00,\n",
              "        -2.43467615e-01, -9.99956129e-01,  4.26534245e-01],\n",
              "       [ 5.20518322e-01, -1.56196961e-01, -3.66857809e-01,\n",
              "        -2.68845760e-01,  1.56573099e-01,  1.11125424e+00],\n",
              "       [-6.14869856e-01, -7.69192616e-01,  1.75272972e+00,\n",
              "        -4.05733251e-01,  1.22748188e+00, -9.42610391e-01],\n",
              "       [ 8.61613649e-01, -1.03122898e+00,  5.07555979e-01,\n",
              "         1.14571396e-01,  1.82872685e+00, -2.43353253e-02],\n",
              "       [-1.41231457e+00,  3.31067060e-02,  3.03038995e-01,\n",
              "         9.74932562e-02, -6.10893631e-01, -9.97615378e-01],\n",
              "       [ 7.97572544e-01, -9.68142225e-03, -6.24196479e-01,\n",
              "         4.48854891e-01, -4.79246698e-01,  4.63543562e+00],\n",
              "       [ 3.29394397e+00,  2.34396356e+00, -5.63396140e-01,\n",
              "        -1.51773215e-02, -1.44749132e+00,  2.13423978e+00],\n",
              "       [-2.19323128e+00,  3.21978924e+00,  1.94039349e-01,\n",
              "         1.76432344e-01,  7.92413196e-01, -4.81739315e-01],\n",
              "       [ 4.52895857e-01,  2.17162592e+00, -3.73672458e-02,\n",
              "        -1.25553483e-01, -1.47977207e+00,  1.16593762e+00],\n",
              "       [-3.45399940e-01,  2.47674515e+00,  1.73797147e-01,\n",
              "        -1.75257029e-01, -2.31714813e-01, -2.68446882e-01],\n",
              "       [-3.08215719e-02, -1.16509055e+00,  8.32022714e-01,\n",
              "        -3.95475068e-01, -3.84932029e-01,  4.76903439e-01],\n",
              "       [ 2.02566911e-01, -1.65241863e+00, -1.43983134e+00,\n",
              "         9.89727976e-02,  1.35512330e+00,  1.85813498e+00],\n",
              "       [ 9.37403220e-01,  1.86828572e-01,  1.13120531e+00,\n",
              "        -1.79472936e-01, -1.23199543e+00,  1.33673402e+00],\n",
              "       [-1.97096339e-01,  1.16787588e-01,  3.50022339e-01,\n",
              "        -2.27310411e-01, -5.68574386e-01, -1.80014683e-01],\n",
              "       [-1.33269362e+00, -4.51982253e-02, -3.09578259e-01,\n",
              "        -2.55003796e-01, -3.85366969e-01, -1.32288257e-01],\n",
              "       [ 1.06977547e+00, -3.52114526e-01, -1.62581954e+00,\n",
              "         5.28272293e-01,  1.42892540e-01,  2.68850458e+00],\n",
              "       [-3.37723546e-01,  2.48688737e+00,  1.24489405e-01,\n",
              "         8.99632758e-02,  2.67537399e+00, -1.17521617e-01],\n",
              "       [ 5.76243036e-02,  3.08550560e+00, -1.91385431e-01,\n",
              "         1.27657861e-01,  1.80165882e-01,  3.13071356e-01],\n",
              "       [-1.04449446e+00, -1.51366494e-01, -8.65664172e-01,\n",
              "         1.07613223e-01,  3.51218517e-01, -7.52499062e-01],\n",
              "       [ 4.94945157e-01, -5.63588188e-01, -4.11149556e-02,\n",
              "        -1.33691061e-01,  1.19286621e-01, -5.50170600e-01],\n",
              "       [ 8.04067144e-01, -2.45849407e-01,  1.55475749e-01,\n",
              "        -2.87176633e-02,  1.23819193e-02,  2.58501926e+00],\n",
              "       [-5.87274103e-01, -2.15448624e-01,  6.11195481e-01,\n",
              "        -1.25087462e-01,  4.27715211e-01, -5.12536455e-01],\n",
              "       [-7.47844561e-01,  6.88896229e-03, -9.65814618e-01,\n",
              "        -2.02968717e-01, -1.74775984e-03, -9.34478128e-01],\n",
              "       [ 3.64878596e-01,  2.52253435e-01, -3.76627737e-01,\n",
              "         1.24370002e-01, -6.42372730e-01,  7.79646785e-01],\n",
              "       [-1.37603116e+00,  3.58469424e+00,  1.38343384e+00,\n",
              "         7.03147076e-01,  5.50942136e-01, -5.11665066e-01],\n",
              "       [ 1.15940104e+00,  2.75079228e+00,  1.88286547e-01,\n",
              "         2.83401811e-01,  1.17983014e+00,  1.37748637e-01],\n",
              "       [-6.13844647e-01, -3.70102043e-01, -6.77554436e-02,\n",
              "        -7.16807641e-01, -2.43361137e-01,  9.41210533e-01],\n",
              "       [ 1.12358329e+00, -5.38271194e-01, -7.69228672e-01,\n",
              "        -2.02726741e-01,  5.27644428e-01, -6.97091652e-01],\n",
              "       [ 2.58419141e-01,  3.22776919e+00,  1.04033154e+00,\n",
              "         3.27941148e-01,  5.08832897e-01,  4.31039051e-01],\n",
              "       [-6.42288719e-01,  3.47885322e+00, -9.61382551e-04,\n",
              "         2.50659970e-01, -6.03083583e-02, -2.39830165e-01],\n",
              "       [ 4.79581160e-02, -6.02050869e-02,  3.11324684e-01,\n",
              "        -4.38941726e-01, -5.26768869e-01,  6.03338453e-01],\n",
              "       [ 1.30564472e+00,  1.52376854e-01, -7.85831196e-01,\n",
              "        -6.45437778e-01, -6.58990947e-01, -1.05463445e-01],\n",
              "       [-1.14736335e+00, -6.04957682e-01,  1.72370918e+00,\n",
              "        -6.02569299e-02,  4.43664037e-01, -9.10766961e-01],\n",
              "       [ 7.44178734e-01, -4.71574957e-01, -3.29454853e-02,\n",
              "        -3.39511580e-02, -5.25737045e-01,  2.57221672e-01]])"
            ]
          },
          "metadata": {
            "tags": []
          },
          "execution_count": 54
        }
      ]
    },
    {
      "cell_type": "markdown",
      "metadata": {
        "id": "g6XP63XuWOxF"
      },
      "source": [
        "##Run Factor Analyzer  ด้วย Paremeters \n",
        "*factor = 6*\n"
      ]
    },
    {
      "cell_type": "code",
      "metadata": {
        "id": "iCFaQ-7BWfER"
      },
      "source": [
        "from factor_analyzer import FactorAnalyzer\n",
        "ex_fa2 = FactorAnalyzer(n_factors=6)\n",
        "data_ex_fa2 = ex_fa2.fit_transform(example_drop)"
      ],
      "execution_count": 56,
      "outputs": []
    },
    {
      "cell_type": "markdown",
      "metadata": {
        "id": "M5NCnNzTWsWZ"
      },
      "source": [
        "*เช็คขนาดของข้อมูล*"
      ]
    },
    {
      "cell_type": "code",
      "metadata": {
        "id": "Dlxz5UkzWGzV",
        "outputId": "ee1261a0-6cae-4b33-9061-ad8e280e7249",
        "colab": {
          "base_uri": "https://localhost:8080/"
        }
      },
      "source": [
        "ex_fa2.loadings_.shape"
      ],
      "execution_count": 57,
      "outputs": [
        {
          "output_type": "execute_result",
          "data": {
            "text/plain": [
              "(17, 6)"
            ]
          },
          "metadata": {
            "tags": []
          },
          "execution_count": 57
        }
      ]
    },
    {
      "cell_type": "markdown",
      "metadata": {
        "id": "cU_3RttTW3tz"
      },
      "source": [
        "##Plot factor loadings"
      ]
    },
    {
      "cell_type": "code",
      "metadata": {
        "id": "jZrKhMmrW-J9"
      },
      "source": [
        "from matplotlib import pyplot as plt\n",
        "import numpy as np\n",
        "import matplotlib"
      ],
      "execution_count": 58,
      "outputs": []
    },
    {
      "cell_type": "markdown",
      "metadata": {
        "id": "wYDN3nFZXHt5"
      },
      "source": [
        "##Matrix plot >>>Confirmatory Factors Analysis "
      ]
    },
    {
      "cell_type": "markdown",
      "metadata": {
        "id": "XRLRvKZoXbVJ"
      },
      "source": [
        "## Matrix plot"
      ]
    },
    {
      "cell_type": "code",
      "metadata": {
        "id": "UrL_hJR6XPjx",
        "outputId": "6e1873c4-e7c1-4e3f-d5c2-9bfe62e1e9ce",
        "colab": {
          "base_uri": "https://localhost:8080/",
          "height": 880
        }
      },
      "source": [
        "matplotlib.rcParams['figure.figsize']=[15,15]\n",
        "plt.imshow(np.absolute(ex_fa2.loadings_))"
      ],
      "execution_count": 59,
      "outputs": [
        {
          "output_type": "execute_result",
          "data": {
            "text/plain": [
              "<matplotlib.image.AxesImage at 0x7f122c4a9190>"
            ]
          },
          "metadata": {
            "tags": []
          },
          "execution_count": 59
        },
        {
          "output_type": "display_data",
          "data": {
            "image/png": "[encoded data removed]",
            "text/plain": [
              "<Figure size 1080x1080 with 1 Axes>"
            ]
          },
          "metadata": {
            "tags": [],
            "needs_background": "light"
          }
        }
      ]
    },
    {
      "cell_type": "markdown",
      "metadata": {
        "id": "XlCIZ6LhXlsP"
      },
      "source": [
        "*จากกราฟจะเห็นว่า กราฟนี้มี 4 จุดคือ* \n",
        "\n",
        "1,0] , [5,1] , [3,2] และ [13,3]\n",
        "\n",
        "\n"
      ]
    },
    {
      "cell_type": "markdown",
      "metadata": {
        "id": "jCsbhhSJYLjL"
      },
      "source": [
        "#### ตรวจสอบชื่อทั้งหมด 17 Factors"
      ]
    },
    {
      "cell_type": "code",
      "metadata": {
        "id": "HRYqb_LBXg8u",
        "outputId": "391c1829-3c8f-40e2-edae-2811648886af",
        "colab": {
          "base_uri": "https://localhost:8080/"
        }
      },
      "source": [
        "example_drop.columns\n",
        "\n"
      ],
      "execution_count": 61,
      "outputs": [
        {
          "output_type": "execute_result",
          "data": {
            "text/plain": [
              "Index(['Goal Scored', 'Ball Possession %', 'Attempts', 'On-Target',\n",
              "       'Off-Target', 'Blocked', 'Corners', 'Offsides', 'Free Kicks', 'Saves',\n",
              "       'Pass Accuracy %', 'Passes', 'Distance Covered (Kms)',\n",
              "       'Fouls Committed', 'Yellow Card', 'Yellow & Red', 'Red'],\n",
              "      dtype='object')"
            ]
          },
          "metadata": {
            "tags": []
          },
          "execution_count": 61
        }
      ]
    },
    {
      "cell_type": "code",
      "metadata": {
        "id": "vSGdA0ZiYU8Y",
        "outputId": "31c37d05-79df-4083-9264-fa01759c9ff6",
        "colab": {
          "base_uri": "https://localhost:8080/",
          "height": 642
        }
      },
      "source": [
        "plt.bar(range(17),np.absolute(ex_fa2.loadings_[:,0]),tick_label=example_drop.columns)"
      ],
      "execution_count": 63,
      "outputs": [
        {
          "output_type": "execute_result",
          "data": {
            "text/plain": [
              "<BarContainer object of 17 artists>"
            ]
          },
          "metadata": {
            "tags": []
          },
          "execution_count": 63
        },
        {
          "output_type": "display_data",
          "data": {
            "image/png": "[encoded data removed]",
            "text/plain": [
              "<Figure size 1080x1080 with 1 Axes>"
            ]
          },
          "metadata": {
            "tags": [],
            "needs_background": "light"
          }
        }
      ]
    },
    {
      "cell_type": "markdown",
      "metadata": {
        "id": "LxT6PsG7YcAV"
      },
      "source": [
        "*จากผลการทำลอง FIFA 2018 Statistcics พบว่า*\n",
        "*ในข้อมูล Fifa 2018 Statistics นี้*\n",
        "*จะมีตัวแปร Factors จำนวน 6 ตัว*\n",
        "*ที่จะสามารถอธิบายข้อมูลทั้งหมดได้และสามารถวิเคราะห์ Exporatory Factors Analysis และ Confirmatory Factors Analysis ได้*\n",
        "\n"
      ]
    },
    {
      "cell_type": "markdown",
      "metadata": {
        "id": "ffQwRuT3ZOSr"
      },
      "source": [
        "##END"
      ]
    }
  ]
}