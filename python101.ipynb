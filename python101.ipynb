{
  "nbformat": 4,
  "nbformat_minor": 0,
  "metadata": {
    "colab": {
      "name": "python101.ipynb",
      "provenance": [],
      "include_colab_link": true
    },
    "kernelspec": {
      "name": "python3",
      "display_name": "Python 3"
    }
  },
  "cells": [
    {
      "cell_type": "markdown",
      "metadata": {
        "id": "view-in-github",
        "colab_type": "text"
      },
      "source": [
        "<a href=\"https://colab.research.google.com/github/Jennapa-colab/multivariate/blob/main/python101.ipynb\" target=\"_parent\"><img src=\"https://colab.research.google.com/assets/colab-badge.svg\" alt=\"Open In Colab\"/></a>"
      ]
    },
    {
      "cell_type": "markdown",
      "metadata": {
        "id": "frYw0UVQ5LZi"
      },
      "source": [
        "     Variable\r\n",
        "     หลักการตั้งชื่อตัวแปรเบื้องต้น\r\n",
        "     1.ตั้งให้สื่อ\r\n",
        "     2.ภาษาอังกฤษ\r\n",
        "     3.ใชัตัวเลขได้ แต่ห้ามขึ้นต้นด้วยตัวเลข\r\n",
        "     4.ห้ามเว้นวรรค\r\n",
        "     5.ตัวเล็กกับตัวใหญ่ไม่เหมือนกัน\r\n",
        "     มี output 2 mode: ออกหน้าจอ กับ เข้าไปเก็บในตัวแปร"
      ]
    },
    {
      "cell_type": "code",
      "metadata": {
        "colab": {
          "base_uri": "https://localhost:8080/"
        },
        "id": "st4HuUDD8ROA",
        "outputId": "65a63cac-84e4-4b10-f4d1-b6937f147245"
      },
      "source": [
        "3.4159"
      ],
      "execution_count": 79,
      "outputs": [
        {
          "output_type": "execute_result",
          "data": {
            "text/plain": [
              "3.4159"
            ]
          },
          "metadata": {
            "tags": []
          },
          "execution_count": 79
        }
      ]
    },
    {
      "cell_type": "code",
      "metadata": {
        "id": "oO7QoYG-7czX"
      },
      "source": [
        "Pi = 3.14159"
      ],
      "execution_count": 81,
      "outputs": []
    },
    {
      "cell_type": "code",
      "metadata": {
        "colab": {
          "base_uri": "https://localhost:8080/"
        },
        "id": "kvq5T8lH8SIp",
        "outputId": "2b31c123-641b-4ef7-e8a6-88747ab90e12"
      },
      "source": [
        "Pi"
      ],
      "execution_count": 80,
      "outputs": [
        {
          "output_type": "execute_result",
          "data": {
            "text/plain": [
              "3.14159"
            ]
          },
          "metadata": {
            "tags": []
          },
          "execution_count": 80
        }
      ]
    },
    {
      "cell_type": "code",
      "metadata": {
        "colab": {
          "base_uri": "https://localhost:8080/"
        },
        "id": "5cGqlvrf8tqF",
        "outputId": "21c37f19-6a69-4140-e86f-93f965f236ee"
      },
      "source": [
        "a = 1234567\r\n",
        "print (a)"
      ],
      "execution_count": 82,
      "outputs": [
        {
          "output_type": "stream",
          "text": [
            "1234567\n"
          ],
          "name": "stdout"
        }
      ]
    },
    {
      "cell_type": "markdown",
      "metadata": {
        "id": "fp-Y7GLq9L3Q"
      },
      "source": [
        "**ชนิดของตัวแปร 3 ชนิด**\r\n",
        "**จำนวนเต็ม (integer,int)**\r\n",
        "\r\n",
        "\r\n",
        "\r\n"
      ]
    },
    {
      "cell_type": "code",
      "metadata": {
        "colab": {
          "base_uri": "https://localhost:8080/"
        },
        "id": "vHNfs8sz9IkP",
        "outputId": "14ccc904-44b6-4d19-bae2-00735962b684"
      },
      "source": [
        "aaa = 1092\r\n",
        "print(aaa)"
      ],
      "execution_count": 83,
      "outputs": [
        {
          "output_type": "stream",
          "text": [
            "1092\n"
          ],
          "name": "stdout"
        }
      ]
    },
    {
      "cell_type": "markdown",
      "metadata": {
        "id": "f3S5LVzv-APd"
      },
      "source": [
        "**จำนวนจริง(float)**"
      ]
    },
    {
      "cell_type": "code",
      "metadata": {
        "colab": {
          "base_uri": "https://localhost:8080/"
        },
        "id": "NkNu5lZi9I4d",
        "outputId": "467b1cde-3cd7-4e8e-b1ce-cb93cb5751c0"
      },
      "source": [
        "bbb = 11.\r\n",
        "print(bbb)"
      ],
      "execution_count": 84,
      "outputs": [
        {
          "output_type": "stream",
          "text": [
            "11.0\n"
          ],
          "name": "stdout"
        }
      ]
    },
    {
      "cell_type": "markdown",
      "metadata": {
        "id": "BG7k8Q4z-atq"
      },
      "source": [
        "**ตัวอักษร-ข้อความ(character และ text,string)**"
      ]
    },
    {
      "cell_type": "code",
      "metadata": {
        "colab": {
          "base_uri": "https://localhost:8080/"
        },
        "id": "0Qg82cj9-aV5",
        "outputId": "07d69901-8143-4b0f-ee46-ec50aeda06c1"
      },
      "source": [
        "ccc = '1233456'\r\n",
        "#ใช้ ' เรียกว่า single quote หรือ \" เรียกว่า double quote ล้อมตัวหนังสือเพื่อระบุว่าเป็น charecter-string  \r\n",
        "print(ccc)\r\n"
      ],
      "execution_count": 85,
      "outputs": [
        {
          "output_type": "stream",
          "text": [
            "1233456\n"
          ],
          "name": "stdout"
        }
      ]
    },
    {
      "cell_type": "code",
      "metadata": {
        "colab": {
          "base_uri": "https://localhost:8080/"
        },
        "id": "KQ089BbD8t9t",
        "outputId": "4dccb04b-ad5d-4a7c-f4de-7236ec8b7fd6"
      },
      "source": [
        "aaa+bbb # int+ float"
      ],
      "execution_count": 86,
      "outputs": [
        {
          "output_type": "execute_result",
          "data": {
            "text/plain": [
              "1103.0"
            ]
          },
          "metadata": {
            "tags": []
          },
          "execution_count": 86
        }
      ]
    },
    {
      "cell_type": "code",
      "metadata": {
        "colab": {
          "base_uri": "https://localhost:8080/",
          "height": 171
        },
        "id": "tIv2V_GT8uPl",
        "outputId": "f61a1467-ac5c-43da-f1d3-d67517b60c02"
      },
      "source": [
        "bbb+ccc"
      ],
      "execution_count": 87,
      "outputs": [
        {
          "output_type": "error",
          "ename": "TypeError",
          "evalue": "ignored",
          "traceback": [
            "\u001b[0;31m---------------------------------------------------------------------------\u001b[0m",
            "\u001b[0;31mTypeError\u001b[0m                                 Traceback (most recent call last)",
            "\u001b[0;32m<ipython-input-87-c95aa0bdc4a5>\u001b[0m in \u001b[0;36m<module>\u001b[0;34m()\u001b[0m\n\u001b[0;32m----> 1\u001b[0;31m \u001b[0mbbb\u001b[0m\u001b[0;34m+\u001b[0m\u001b[0mccc\u001b[0m\u001b[0;34m\u001b[0m\u001b[0;34m\u001b[0m\u001b[0m\n\u001b[0m",
            "\u001b[0;31mTypeError\u001b[0m: unsupported operand type(s) for +: 'float' and 'str'"
          ]
        }
      ]
    },
    {
      "cell_type": "code",
      "metadata": {
        "colab": {
          "base_uri": "https://localhost:8080/"
        },
        "id": "UQVSCdRd_tng",
        "outputId": "2e8e733b-ab4a-41f4-8fbd-cc68213b91d1"
      },
      "source": [
        "ddd = 'เจนนภา'\r\n",
        "print(ddd)"
      ],
      "execution_count": 88,
      "outputs": [
        {
          "output_type": "stream",
          "text": [
            "เจนนภา\n"
          ],
          "name": "stdout"
        }
      ]
    },
    {
      "cell_type": "markdown",
      "metadata": {
        "id": "1XE3WJnt_1VE"
      },
      "source": [
        "**การเปลี่ยนชนิดของตัวแปร variable casting**"
      ]
    },
    {
      "cell_type": "code",
      "metadata": {
        "colab": {
          "base_uri": "https://localhost:8080/"
        },
        "id": "kAn-Djr3ABFq",
        "outputId": "f089b709-4e08-4e8a-a476-0eea2a6dd2d4"
      },
      "source": [
        "aaa+int(ccc)  #บวกกันได้ปกติ"
      ],
      "execution_count": 89,
      "outputs": [
        {
          "output_type": "execute_result",
          "data": {
            "text/plain": [
              "1234548"
            ]
          },
          "metadata": {
            "tags": []
          },
          "execution_count": 89
        }
      ]
    },
    {
      "cell_type": "code",
      "metadata": {
        "colab": {
          "base_uri": "https://localhost:8080/"
        },
        "id": "DTrwVDaxABYn",
        "outputId": "e6647049-c01b-4e30-a955-69cc9820e267"
      },
      "source": [
        "aaa+float(ccc) #float จะมีจุดทศนิยมตามมาด้วย"
      ],
      "execution_count": 90,
      "outputs": [
        {
          "output_type": "execute_result",
          "data": {
            "text/plain": [
              "1234548.0"
            ]
          },
          "metadata": {
            "tags": []
          },
          "execution_count": 90
        }
      ]
    },
    {
      "cell_type": "code",
      "metadata": {
        "colab": {
          "base_uri": "https://localhost:8080/",
          "height": 38
        },
        "id": "aF0A2KWzAV5u",
        "outputId": "4c833870-19ce-4747-84d8-a64608f42fed"
      },
      "source": [
        "str(aaa)"
      ],
      "execution_count": 91,
      "outputs": [
        {
          "output_type": "execute_result",
          "data": {
            "application/vnd.google.colaboratory.intrinsic+json": {
              "type": "string"
            },
            "text/plain": [
              "'1092'"
            ]
          },
          "metadata": {
            "tags": []
          },
          "execution_count": 91
        }
      ]
    },
    {
      "cell_type": "markdown",
      "metadata": {
        "id": "x_C756Z2AdhA"
      },
      "source": [
        "**การดำเนินการ (Operation +,-,*,/,%)**"
      ]
    },
    {
      "cell_type": "code",
      "metadata": {
        "colab": {
          "base_uri": "https://localhost:8080/",
          "height": 171
        },
        "id": "V_auYo1qAvB4",
        "outputId": "da2626d9-0826-4af5-e782-29b78dab2db1"
      },
      "source": [
        "a+b #ไม่ได้กำหนดค่า b"
      ],
      "execution_count": 92,
      "outputs": [
        {
          "output_type": "error",
          "ename": "NameError",
          "evalue": "ignored",
          "traceback": [
            "\u001b[0;31m---------------------------------------------------------------------------\u001b[0m",
            "\u001b[0;31mNameError\u001b[0m                                 Traceback (most recent call last)",
            "\u001b[0;32m<ipython-input-92-bf9e73abbae3>\u001b[0m in \u001b[0;36m<module>\u001b[0;34m()\u001b[0m\n\u001b[0;32m----> 1\u001b[0;31m \u001b[0ma\u001b[0m\u001b[0;34m+\u001b[0m\u001b[0mb\u001b[0m \u001b[0;31m#ไม่ได้กำหนดค่า b\u001b[0m\u001b[0;34m\u001b[0m\u001b[0;34m\u001b[0m\u001b[0m\n\u001b[0m",
            "\u001b[0;31mNameError\u001b[0m: name 'b' is not defined"
          ]
        }
      ]
    },
    {
      "cell_type": "code",
      "metadata": {
        "colab": {
          "base_uri": "https://localhost:8080/"
        },
        "id": "5KuDU1p4A-Zu",
        "outputId": "4210d9e4-a90a-47ef-f43c-0841f491104e"
      },
      "source": [
        "aaa+bbb #มีจุดทศนิยมเพราะ bbb เป็น float"
      ],
      "execution_count": 93,
      "outputs": [
        {
          "output_type": "execute_result",
          "data": {
            "text/plain": [
              "1103.0"
            ]
          },
          "metadata": {
            "tags": []
          },
          "execution_count": 93
        }
      ]
    },
    {
      "cell_type": "code",
      "metadata": {
        "colab": {
          "base_uri": "https://localhost:8080/"
        },
        "id": "6JF441g_A-um",
        "outputId": "530c4d79-a6a5-4976-befc-ff5d9224e7f7"
      },
      "source": [
        "aaa-bbb"
      ],
      "execution_count": 94,
      "outputs": [
        {
          "output_type": "execute_result",
          "data": {
            "text/plain": [
              "1081.0"
            ]
          },
          "metadata": {
            "tags": []
          },
          "execution_count": 94
        }
      ]
    },
    {
      "cell_type": "code",
      "metadata": {
        "colab": {
          "base_uri": "https://localhost:8080/"
        },
        "id": "-wItU9kDBOj_",
        "outputId": "e424cb05-2036-4c1b-cc90-2fab656cdaf6"
      },
      "source": [
        "ab = aaa*bbb\r\n",
        "print(ab)"
      ],
      "execution_count": 95,
      "outputs": [
        {
          "output_type": "stream",
          "text": [
            "12012.0\n"
          ],
          "name": "stdout"
        }
      ]
    },
    {
      "cell_type": "code",
      "metadata": {
        "colab": {
          "base_uri": "https://localhost:8080/"
        },
        "id": "4c-V9lj3BbrG",
        "outputId": "0ba95b17-f2ba-49de-f0d3-bf4eb64cffed"
      },
      "source": [
        "ab+int(ccc) #ออกเป็นค่า float"
      ],
      "execution_count": 96,
      "outputs": [
        {
          "output_type": "execute_result",
          "data": {
            "text/plain": [
              "1245468.0"
            ]
          },
          "metadata": {
            "tags": []
          },
          "execution_count": 96
        }
      ]
    },
    {
      "cell_type": "markdown",
      "metadata": {
        "id": "q_EA0cCkBpwa"
      },
      "source": [
        "**% คือ เครื่องหมาย modulo**"
      ]
    },
    {
      "cell_type": "code",
      "metadata": {
        "colab": {
          "base_uri": "https://localhost:8080/"
        },
        "id": "8GfaFyPvB5mp",
        "outputId": "45cf165e-9512-4da5-9238-515787d466e7"
      },
      "source": [
        "5%3 #เป็นการหารเอาเศษ"
      ],
      "execution_count": 97,
      "outputs": [
        {
          "output_type": "execute_result",
          "data": {
            "text/plain": [
              "2"
            ]
          },
          "metadata": {
            "tags": []
          },
          "execution_count": 97
        }
      ]
    },
    {
      "cell_type": "code",
      "metadata": {
        "colab": {
          "base_uri": "https://localhost:8080/"
        },
        "id": "keZfvPnzB57E",
        "outputId": "a4c1200e-b8a3-46df-a879-49cc4409dc92"
      },
      "source": [
        "7%3"
      ],
      "execution_count": 98,
      "outputs": [
        {
          "output_type": "execute_result",
          "data": {
            "text/plain": [
              "1"
            ]
          },
          "metadata": {
            "tags": []
          },
          "execution_count": 98
        }
      ]
    },
    {
      "cell_type": "markdown",
      "metadata": {
        "id": "GzwHK7YwCNYL"
      },
      "source": [
        "**คำสั่ง print แบบพิเศษ (การ format string)**"
      ]
    },
    {
      "cell_type": "code",
      "metadata": {
        "colab": {
          "base_uri": "https://localhost:8080/"
        },
        "id": "scHhaNIMCZYW",
        "outputId": "787e4f0d-b8b8-4029-9032-3bd7f00c1876"
      },
      "source": [
        "print('ตัวแปร') #สิ่งที่อยู่ในวงเล็บ คือ ตัวแปร และ string"
      ],
      "execution_count": 99,
      "outputs": [
        {
          "output_type": "stream",
          "text": [
            "ตัวแปร\n"
          ],
          "name": "stdout"
        }
      ]
    },
    {
      "cell_type": "code",
      "metadata": {
        "colab": {
          "base_uri": "https://localhost:8080/"
        },
        "id": "GhsGKVFcCZrq",
        "outputId": "29d48a83-2c84-43ad-bd10-37693809f959"
      },
      "source": [
        "print( f'% คือการหารเอาเศษ เช่น 7%3 = {7%3}') #เพิ่ม f หน้า string ' และใช้ {} ใส่โค้ด"
      ],
      "execution_count": 100,
      "outputs": [
        {
          "output_type": "stream",
          "text": [
            "% คือการหารเอาเศษ เช่น 7%3 = 1\n"
          ],
          "name": "stdout"
        }
      ]
    },
    {
      "cell_type": "code",
      "metadata": {
        "colab": {
          "base_uri": "https://localhost:8080/"
        },
        "id": "H2Xp67iPDpgJ",
        "outputId": "e168b003-1075-4dea-97dd-7762ea05c30b"
      },
      "source": [
        "print (f'% คือการหารเอาเศษ เช่น 7%3 ={7%3}) \\\\\r\n",
        "แต่ \\n/ คือการหารปกติ เช่น 7/3 = {7/3} \\\\\r\n",
        "และ \\n// คือการหารเอาส่วน เช่น 7//3 = {7//3} \\\\\r\n",
        "หรือ \\n ใช้ int () เพื่อหารเอาส่วน เช่น int(7/3) = {int(7/3)}  ')\r\n",
        "# \\n คือการขึ้นบรรทัดใหม่ ส่วน \\\\ ใช้ในการตัดโค้ด\r\n"
      ],
      "execution_count": 101,
      "outputs": [
        {
          "output_type": "stream",
          "text": [
            "% คือการหารเอาเศษ เช่น 7%3 =1) \\แต่ \n",
            "/ คือการหารปกติ เช่น 7/3 = 2.3333333333333335 \\และ \n",
            "// คือการหารเอาส่วน เช่น 7//3 = 2 \\หรือ \n",
            " ใช้ int () เพื่อหารเอาส่วน เช่น int(7/3) = 2  \n"
          ],
          "name": "stdout"
        }
      ]
    },
    {
      "cell_type": "markdown",
      "metadata": {
        "id": "iB2K08bHFfRQ"
      },
      "source": [
        "**DATA STRUCTURE(โครงสร้างข้อมูล)**"
      ]
    },
    {
      "cell_type": "code",
      "metadata": {
        "colab": {
          "base_uri": "https://localhost:8080/"
        },
        "id": "BkCLK2SuFrwt",
        "outputId": "5a5f654c-c78d-4408-8c7b-44a8864bff46"
      },
      "source": [
        "[111, 'c' ,'งง' ,aaa]"
      ],
      "execution_count": 102,
      "outputs": [
        {
          "output_type": "execute_result",
          "data": {
            "text/plain": [
              "[111, 'c', 'งง', 1092]"
            ]
          },
          "metadata": {
            "tags": []
          },
          "execution_count": 102
        }
      ]
    },
    {
      "cell_type": "markdown",
      "metadata": {
        "id": "ADvaQg0_GAuV"
      },
      "source": [
        "**list สามารถสร้างได้ 2 แบบ ดังนี้**\r\n",
        "                   **แบบที่ 1 >square brckets**"
      ]
    },
    {
      "cell_type": "code",
      "metadata": {
        "colab": {
          "base_uri": "https://localhost:8080/"
        },
        "id": "R89DkWHBFr6u",
        "outputId": "02380a76-e17e-474d-bf0c-ea62a80c73db"
      },
      "source": [
        "list_a=[]\r\n",
        "print(list_a)"
      ],
      "execution_count": 103,
      "outputs": [
        {
          "output_type": "stream",
          "text": [
            "[]\n"
          ],
          "name": "stdout"
        }
      ]
    },
    {
      "cell_type": "code",
      "metadata": {
        "colab": {
          "base_uri": "https://localhost:8080/"
        },
        "id": "d3DjMrq8FsL0",
        "outputId": "454764ef-3fcb-496d-bcbc-a0c1a49e0286"
      },
      "source": [
        "list_b = [111, 'c', 'งง',aaa]\r\n",
        "print(list_b)"
      ],
      "execution_count": 104,
      "outputs": [
        {
          "output_type": "stream",
          "text": [
            "[111, 'c', 'งง', 1092]\n"
          ],
          "name": "stdout"
        }
      ]
    },
    {
      "cell_type": "markdown",
      "metadata": {
        "id": "BjjyWv5rHdpM"
      },
      "source": [
        "**ลำดับที่อยู่ใน list มีความสำคัญ(ลำดับใน list เริ่มจาก 0,1,2,...)**"
      ]
    },
    {
      "cell_type": "code",
      "metadata": {
        "colab": {
          "base_uri": "https://localhost:8080/"
        },
        "id": "QZihto30Hspx",
        "outputId": "e1e39d8e-1ce4-49bb-a93d-906a35e9e2c1"
      },
      "source": [
        "list_b[3] #เริ่มนับตัวแรกจาก 0 ลำดับ คือความสำคัญของ list"
      ],
      "execution_count": 105,
      "outputs": [
        {
          "output_type": "execute_result",
          "data": {
            "text/plain": [
              "1092"
            ]
          },
          "metadata": {
            "tags": []
          },
          "execution_count": 105
        }
      ]
    },
    {
      "cell_type": "code",
      "metadata": {
        "colab": {
          "base_uri": "https://localhost:8080/",
          "height": 38
        },
        "id": "jeQi1BXhHs3C",
        "outputId": "6dfa3e74-75b6-4531-a284-d7dbac488942"
      },
      "source": [
        "list_b[2]"
      ],
      "execution_count": 106,
      "outputs": [
        {
          "output_type": "execute_result",
          "data": {
            "application/vnd.google.colaboratory.intrinsic+json": {
              "type": "string"
            },
            "text/plain": [
              "'งง'"
            ]
          },
          "metadata": {
            "tags": []
          },
          "execution_count": 106
        }
      ]
    },
    {
      "cell_type": "markdown",
      "metadata": {
        "id": "ms94u7ZlIE_e"
      },
      "source": [
        "**แบบที่ 2**"
      ]
    },
    {
      "cell_type": "code",
      "metadata": {
        "colab": {
          "base_uri": "https://localhost:8080/"
        },
        "id": "ah5IS1dGIIte",
        "outputId": "7ce0a350-f49c-4df1-c7eb-89ec902690fc"
      },
      "source": [
        "list_c = list()\r\n",
        "print(list_c)"
      ],
      "execution_count": 107,
      "outputs": [
        {
          "output_type": "stream",
          "text": [
            "[]\n"
          ],
          "name": "stdout"
        }
      ]
    },
    {
      "cell_type": "markdown",
      "metadata": {
        "id": "tzh7lS1MISkQ"
      },
      "source": [
        "**append()เพิ่มสมาชิกใน list**"
      ]
    },
    {
      "cell_type": "code",
      "metadata": {
        "colab": {
          "base_uri": "https://localhost:8080/"
        },
        "id": "-tO9heWaIbza",
        "outputId": "6c191abe-21d7-43a1-bcf0-48181462b2de"
      },
      "source": [
        "list_b.append ('u')  #เพิ่มสมาชิก u เข้าไปใน list จะไปอยู่ลำดับสุดท้าย \r\n",
        "print(list_b)"
      ],
      "execution_count": 108,
      "outputs": [
        {
          "output_type": "stream",
          "text": [
            "[111, 'c', 'งง', 1092, 'u']\n"
          ],
          "name": "stdout"
        }
      ]
    },
    {
      "cell_type": "markdown",
      "metadata": {
        "id": "MAjio5z9IvDB"
      },
      "source": [
        "0 คือ สมาชิกตัวแรก , -1 คือสมาชิดตัวสุดท้าย"
      ]
    },
    {
      "cell_type": "code",
      "metadata": {
        "colab": {
          "base_uri": "https://localhost:8080/",
          "height": 38
        },
        "id": "irZpFVwDI3mR",
        "outputId": "faa7868b-1999-4986-fa25-56c589c37a13"
      },
      "source": [
        "list_b[-1] #ตัวที่อยู่ในวงเล็บหลังจากตัวแปร list เรียกว่า index ใช้สำหรับชี้ข้อมูลใน list (ชี้จากข้างหน้าและชี้จากข้างหลัง)"
      ],
      "execution_count": 109,
      "outputs": [
        {
          "output_type": "execute_result",
          "data": {
            "application/vnd.google.colaboratory.intrinsic+json": {
              "type": "string"
            },
            "text/plain": [
              "'u'"
            ]
          },
          "metadata": {
            "tags": []
          },
          "execution_count": 109
        }
      ]
    },
    {
      "cell_type": "markdown",
      "metadata": {
        "id": "87xGjx4bJq1C"
      },
      "source": [
        "**String > list og characters**"
      ]
    },
    {
      "cell_type": "code",
      "metadata": {
        "colab": {
          "base_uri": "https://localhost:8080/"
        },
        "id": "tuw8x0pvJ1Ri",
        "outputId": "c2b9fb79-9f5f-4ac4-f022-d74162e6227a"
      },
      "source": [
        "t = 'python is easy'\r\n",
        "print(t)"
      ],
      "execution_count": 111,
      "outputs": [
        {
          "output_type": "stream",
          "text": [
            "python is easy\n"
          ],
          "name": "stdout"
        }
      ]
    },
    {
      "cell_type": "code",
      "metadata": {
        "colab": {
          "base_uri": "https://localhost:8080/",
          "height": 38
        },
        "id": "Clr3esOPJ2bI",
        "outputId": "b80c57b8-b7a6-42f4-eb01-a0cdad68c55e"
      },
      "source": [
        "t[1]"
      ],
      "execution_count": 112,
      "outputs": [
        {
          "output_type": "execute_result",
          "data": {
            "application/vnd.google.colaboratory.intrinsic+json": {
              "type": "string"
            },
            "text/plain": [
              "'y'"
            ]
          },
          "metadata": {
            "tags": []
          },
          "execution_count": 112
        }
      ]
    },
    {
      "cell_type": "code",
      "metadata": {
        "colab": {
          "base_uri": "https://localhost:8080/",
          "height": 38
        },
        "id": "7uSIAtiZJ2sx",
        "outputId": "cf215d72-c554-4aa2-921e-191bd08569ca"
      },
      "source": [
        "t[-4]"
      ],
      "execution_count": 113,
      "outputs": [
        {
          "output_type": "execute_result",
          "data": {
            "application/vnd.google.colaboratory.intrinsic+json": {
              "type": "string"
            },
            "text/plain": [
              "'e'"
            ]
          },
          "metadata": {
            "tags": []
          },
          "execution_count": 113
        }
      ]
    },
    {
      "cell_type": "code",
      "metadata": {
        "colab": {
          "base_uri": "https://localhost:8080/",
          "height": 38
        },
        "id": "0fGL4q2jJ364",
        "outputId": "be90bd8b-f1f5-4e40-e932-7b9e21023051"
      },
      "source": [
        "t[6]"
      ],
      "execution_count": 114,
      "outputs": [
        {
          "output_type": "execute_result",
          "data": {
            "application/vnd.google.colaboratory.intrinsic+json": {
              "type": "string"
            },
            "text/plain": [
              "' '"
            ]
          },
          "metadata": {
            "tags": []
          },
          "execution_count": 114
        }
      ]
    },
    {
      "cell_type": "markdown",
      "metadata": {
        "id": "IgCM095Y_3FG"
      },
      "source": [
        "**คาบ3 11 มกราคม 2021**"
      ]
    },
    {
      "cell_type": "code",
      "metadata": {
        "id": "vvcku09D-wVX",
        "outputId": "5d9a94da-434a-49af-a2af-61cb31c34090",
        "colab": {
          "base_uri": "https://localhost:8080/"
        }
      },
      "source": [
        "len(t)"
      ],
      "execution_count": 115,
      "outputs": [
        {
          "output_type": "execute_result",
          "data": {
            "text/plain": [
              "14"
            ]
          },
          "metadata": {
            "tags": []
          },
          "execution_count": 115
        }
      ]
    },
    {
      "cell_type": "code",
      "metadata": {
        "id": "YsVNxnU1-xtp",
        "outputId": "b21020af-74b9-4892-e261-18c0929cd9ec",
        "colab": {
          "base_uri": "https://localhost:8080/"
        }
      },
      "source": [
        "list_b"
      ],
      "execution_count": 116,
      "outputs": [
        {
          "output_type": "execute_result",
          "data": {
            "text/plain": [
              "[111, 'c', 'งง', 1092, 'u']"
            ]
          },
          "metadata": {
            "tags": []
          },
          "execution_count": 116
        }
      ]
    },
    {
      "cell_type": "code",
      "metadata": {
        "id": "Py-HhbH4-x83",
        "outputId": "4f811e09-073a-4050-8d76-fc4be69e764e",
        "colab": {
          "base_uri": "https://localhost:8080/"
        }
      },
      "source": [
        "len(list_b)"
      ],
      "execution_count": 117,
      "outputs": [
        {
          "output_type": "execute_result",
          "data": {
            "text/plain": [
              "5"
            ]
          },
          "metadata": {
            "tags": []
          },
          "execution_count": 117
        }
      ]
    },
    {
      "cell_type": "code",
      "metadata": {
        "id": "HRL-V7KP-yMC",
        "outputId": "94b74c00-b428-4324-bbc6-3056eb657fcb",
        "colab": {
          "base_uri": "https://localhost:8080/"
        }
      },
      "source": [
        "print(list_b)"
      ],
      "execution_count": 118,
      "outputs": [
        {
          "output_type": "stream",
          "text": [
            "[111, 'c', 'งง', 1092, 'u']\n"
          ],
          "name": "stdout"
        }
      ]
    },
    {
      "cell_type": "markdown",
      "metadata": {
        "id": "OQOhv0TmAfF1"
      },
      "source": [
        "**List slicing สามารถทำได้โดยใช้ colon : **"
      ]
    },
    {
      "cell_type": "code",
      "metadata": {
        "id": "rfTA-4UAAdyI",
        "outputId": "92cdc02d-45f1-40ef-8bbc-82382c368494",
        "colab": {
          "base_uri": "https://localhost:8080/"
        }
      },
      "source": [
        "print(t)\r\n",
        "print(t[7:9])\r\n",
        "print(len(t[7:9]))"
      ],
      "execution_count": 119,
      "outputs": [
        {
          "output_type": "stream",
          "text": [
            "python is easy\n",
            "is\n",
            "2\n"
          ],
          "name": "stdout"
        }
      ]
    },
    {
      "cell_type": "code",
      "metadata": {
        "id": "-w7MPv97BM6Q",
        "outputId": "753c21a4-dfab-4fe5-d7d4-1c0896bcb660",
        "colab": {
          "base_uri": "https://localhost:8080/",
          "height": 38
        }
      },
      "source": [
        "t[0:14:2]"
      ],
      "execution_count": 120,
      "outputs": [
        {
          "output_type": "execute_result",
          "data": {
            "application/vnd.google.colaboratory.intrinsic+json": {
              "type": "string"
            },
            "text/plain": [
              "'pto ses'"
            ]
          },
          "metadata": {
            "tags": []
          },
          "execution_count": 120
        }
      ]
    },
    {
      "cell_type": "markdown",
      "metadata": {
        "id": "h98iI02eBlnQ"
      },
      "source": [
        " **Quiz** \r\n",
        "     ให้ใช้ list slicing"
      ]
    },
    {
      "cell_type": "code",
      "metadata": {
        "id": "DNKEn-vQBkpj",
        "outputId": "e402e956-40dc-444b-aa5c-499ec6d545db",
        "colab": {
          "base_uri": "https://localhost:8080/"
        }
      },
      "source": [
        "Z=[1,2,3,4,5,6,7,8,9,10]\r\n",
        "print(Z[1:10:2])"
      ],
      "execution_count": 121,
      "outputs": [
        {
          "output_type": "stream",
          "text": [
            "[2, 4, 6, 8, 10]\n"
          ],
          "name": "stdout"
        }
      ]
    },
    {
      "cell_type": "code",
      "metadata": {
        "id": "neE8xo1pCLqJ",
        "outputId": "e2876a7a-5944-48bf-c76f-3f2766b4774d",
        "colab": {
          "base_uri": "https://localhost:8080/"
        }
      },
      "source": [
        "print(t)\r\n",
        "print(t[10:])\r\n",
        "print(t[-4:])\r\n",
        "print(t[:])"
      ],
      "execution_count": 123,
      "outputs": [
        {
          "output_type": "stream",
          "text": [
            "python is easy\n",
            "easy\n",
            "easy\n",
            "python is easy\n"
          ],
          "name": "stdout"
        }
      ]
    },
    {
      "cell_type": "code",
      "metadata": {
        "id": "ZH9i4DPDCepU",
        "outputId": "b5b8d27a-3cb6-4c1d-bc99-eeef9707f7d5",
        "colab": {
          "base_uri": "https://localhost:8080/"
        }
      },
      "source": [
        "print(Z[::2])"
      ],
      "execution_count": 124,
      "outputs": [
        {
          "output_type": "stream",
          "text": [
            "[1, 3, 5, 7, 9]\n"
          ],
          "name": "stdout"
        }
      ]
    },
    {
      "cell_type": "markdown",
      "metadata": {
        "id": "oJSu-mnjCqYA"
      },
      "source": [
        "**เราสามารถเอา list มาต่อได้ด้วย +**"
      ]
    },
    {
      "cell_type": "code",
      "metadata": {
        "id": "7eYZbOKuCppL",
        "outputId": "084125a9-14b5-4506-9364-565976d92bf0",
        "colab": {
          "base_uri": "https://localhost:8080/",
          "height": 38
        }
      },
      "source": [
        "t+ '??'"
      ],
      "execution_count": 125,
      "outputs": [
        {
          "output_type": "execute_result",
          "data": {
            "application/vnd.google.colaboratory.intrinsic+json": {
              "type": "string"
            },
            "text/plain": [
              "'python is easy??'"
            ]
          },
          "metadata": {
            "tags": []
          },
          "execution_count": 125
        }
      ]
    },
    {
      "cell_type": "code",
      "metadata": {
        "id": "pJv7FyQBC91I",
        "outputId": "aa81068e-d165-450c-b7dd-e93f3831712d",
        "colab": {
          "base_uri": "https://localhost:8080/",
          "height": 171
        }
      },
      "source": [
        "t+list_b #ไม่สามารถเอา list มาต่อกับ string ได้"
      ],
      "execution_count": 126,
      "outputs": [
        {
          "output_type": "error",
          "ename": "TypeError",
          "evalue": "ignored",
          "traceback": [
            "\u001b[0;31m---------------------------------------------------------------------------\u001b[0m",
            "\u001b[0;31mTypeError\u001b[0m                                 Traceback (most recent call last)",
            "\u001b[0;32m<ipython-input-126-38fc1d5b01dc>\u001b[0m in \u001b[0;36m<module>\u001b[0;34m()\u001b[0m\n\u001b[0;32m----> 1\u001b[0;31m \u001b[0mt\u001b[0m\u001b[0;34m+\u001b[0m\u001b[0mlist_b\u001b[0m\u001b[0;34m\u001b[0m\u001b[0;34m\u001b[0m\u001b[0m\n\u001b[0m",
            "\u001b[0;31mTypeError\u001b[0m: must be str, not list"
          ]
        }
      ]
    },
    {
      "cell_type": "code",
      "metadata": {
        "id": "4bCzv1DzDN7H",
        "outputId": "5dd4f647-09dd-466c-8acc-2bad2d66ac69",
        "colab": {
          "base_uri": "https://localhost:8080/"
        }
      },
      "source": [
        "print(list_a)\r\n",
        "list_b = [111,'c','งง',aaa]\r\n",
        "print (list_b)\r\n",
        "print(list_b+list_a)"
      ],
      "execution_count": 127,
      "outputs": [
        {
          "output_type": "stream",
          "text": [
            "[]\n",
            "[111, 'c', 'งง', 1092]\n",
            "[111, 'c', 'งง', 1092]\n"
          ],
          "name": "stdout"
        }
      ]
    },
    {
      "cell_type": "code",
      "metadata": {
        "id": "Bruv8bHGD_Vj",
        "outputId": "24413d5a-327f-41aa-a30c-ab9a90186ac4",
        "colab": {
          "base_uri": "https://localhost:8080/"
        }
      },
      "source": [
        "list_b . append(list_a)\r\n",
        "print(list_b)"
      ],
      "execution_count": 128,
      "outputs": [
        {
          "output_type": "stream",
          "text": [
            "[111, 'c', 'งง', 1092, []]\n"
          ],
          "name": "stdout"
        }
      ]
    },
    {
      "cell_type": "markdown",
      "metadata": {
        "id": "sTvCIEHJEPON"
      },
      "source": [
        "**การแบ่ง string ตามสัญลักษณ์ที่กำหนด -> splist string**"
      ]
    },
    {
      "cell_type": "code",
      "metadata": {
        "id": "g622sB4iEkJB",
        "outputId": "efa4a275-6a59-432e-92bf-9b2c9d7e9919",
        "colab": {
          "base_uri": "https://localhost:8080/",
          "height": 38
        }
      },
      "source": [
        "t"
      ],
      "execution_count": 129,
      "outputs": [
        {
          "output_type": "execute_result",
          "data": {
            "application/vnd.google.colaboratory.intrinsic+json": {
              "type": "string"
            },
            "text/plain": [
              "'python is easy'"
            ]
          },
          "metadata": {
            "tags": []
          },
          "execution_count": 129
        }
      ]
    },
    {
      "cell_type": "code",
      "metadata": {
        "id": "d2mWxOUiEl7b",
        "outputId": "2c8a1e09-6838-439b-adbd-b947aea6d240",
        "colab": {
          "base_uri": "https://localhost:8080/"
        }
      },
      "source": [
        "t.split( ' ')"
      ],
      "execution_count": 130,
      "outputs": [
        {
          "output_type": "execute_result",
          "data": {
            "text/plain": [
              "['python', 'is', 'easy']"
            ]
          },
          "metadata": {
            "tags": []
          },
          "execution_count": 130
        }
      ]
    },
    {
      "cell_type": "code",
      "metadata": {
        "id": "GtMnVD6IEsgo"
      },
      "source": [
        "time = '12:30:15'"
      ],
      "execution_count": 132,
      "outputs": []
    },
    {
      "cell_type": "code",
      "metadata": {
        "id": "Trikqe5uEzOw",
        "outputId": "c57aaf76-6551-4949-e327-08ce17046749",
        "colab": {
          "base_uri": "https://localhost:8080/"
        }
      },
      "source": [
        "t_sp = time.split(':')\r\n",
        "print(t_sp)"
      ],
      "execution_count": 133,
      "outputs": [
        {
          "output_type": "stream",
          "text": [
            "['12', '30', '15']\n"
          ],
          "name": "stdout"
        }
      ]
    },
    {
      "cell_type": "code",
      "metadata": {
        "id": "nQWTr-ptFB_H",
        "outputId": "cd75fb27-fed1-4208-8ee8-ed04b07d6cdc",
        "colab": {
          "base_uri": "https://localhost:8080/"
        }
      },
      "source": [
        "t_sp=t.split ( ' ')\r\n",
        "print(t_sp)"
      ],
      "execution_count": 135,
      "outputs": [
        {
          "output_type": "stream",
          "text": [
            "['python', 'is', 'easy']\n"
          ],
          "name": "stdout"
        }
      ]
    },
    {
      "cell_type": "code",
      "metadata": {
        "id": "qMGfBfRhFOhi",
        "outputId": "19aa5f7a-4e9c-4082-ad71-2db56ae51327",
        "colab": {
          "base_uri": "https://localhost:8080/"
        }
      },
      "source": [
        "#วิธีรวมกลับ\r\n",
        "print(':'.join(t_sp))"
      ],
      "execution_count": 136,
      "outputs": [
        {
          "output_type": "stream",
          "text": [
            "python:is:easy\n"
          ],
          "name": "stdout"
        }
      ]
    },
    {
      "cell_type": "markdown",
      "metadata": {
        "id": "lr9onGavFp2D"
      },
      "source": [
        "** HW  คำนวณเวลาเป็นวินาทีของเวลาต่อไปนี้  โดยใช้คำสั่ง split()ช่วย**"
      ]
    },
    {
      "cell_type": "markdown",
      "metadata": {
        "id": "f32hmTquF8zz"
      },
      "source": [
        "     12:30:15\r\n",
        "     13:41:07\r\n",
        "     12:53:15\r\n",
        "     00:59:25\r\n",
        "     11:11:11\r\n",
        "     16:06:09\r\n",
        "     21:12:30\r\n",
        "     10:06:15"
      ]
    },
    {
      "cell_type": "code",
      "metadata": {
        "id": "jyGgY43aF62f",
        "outputId": "d5eded3d-c645-43e2-cdeb-52e8991b4a26",
        "colab": {
          "base_uri": "https://localhost:8080/"
        }
      },
      "source": [
        "q1='12:30:15'\r\n",
        "q1.split( ' : ' )\r\n",
        "list_q1=[12,30,15]\r\n",
        "h=list_q1[0]*3600\r\n",
        "m=list_q1[1]*60\r\n",
        "s=list_q1[2]\r\n",
        "Ans_q1 = h+m+s\r\n",
        "print(Ans_q1)"
      ],
      "execution_count": 140,
      "outputs": [
        {
          "output_type": "stream",
          "text": [
            "45015\n"
          ],
          "name": "stdout"
        }
      ]
    },
    {
      "cell_type": "code",
      "metadata": {
        "id": "-snhlaUaHKx3"
      },
      "source": [
        ""
      ],
      "execution_count": null,
      "outputs": []
    }
  ]
}