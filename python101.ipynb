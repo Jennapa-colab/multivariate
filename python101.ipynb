{
  "nbformat": 4,
  "nbformat_minor": 0,
  "metadata": {
    "colab": {
      "name": "python101.ipynb",
      "provenance": [],
      "authorship_tag": "ABX9TyOSYyNv8/mDJDyweC6h9mX9",
      "include_colab_link": true
    },
    "kernelspec": {
      "name": "python3",
      "display_name": "Python 3"
    }
  },
  "cells": [
    {
      "cell_type": "markdown",
      "metadata": {
        "id": "view-in-github",
        "colab_type": "text"
      },
      "source": [
        "<a href=\"https://colab.research.google.com/github/Jennapa-colab/multivariate/blob/main/python101.ipynb\" target=\"_parent\"><img src=\"https://colab.research.google.com/assets/colab-badge.svg\" alt=\"Open In Colab\"/></a>"
      ]
    },
    {
      "cell_type": "markdown",
      "metadata": {
        "id": "frYw0UVQ5LZi"
      },
      "source": [
        "     Variable\r\n",
        "     หลักการตั้งชื่อตัวแปรเบื้องต้น\r\n",
        "     1.ตั้งให้สื่อ\r\n",
        "     2.ภาษาอังกฤษ\r\n",
        "     3.ใชัตัวเลขได้ แต่ห้ามขึ้นต้นด้วยตัวเลข\r\n",
        "     4.ห้ามเว้นวรรค\r\n",
        "     5.ตัวเล็กกับตัวใหญ่ไม่เหมือนกัน\r\n",
        "     มี output 2 mode: ออกหน้าจอ กับ เข้าไปเก็บในตัวแปร"
      ]
    },
    {
      "cell_type": "code",
      "metadata": {
        "colab": {
          "base_uri": "https://localhost:8080/"
        },
        "id": "st4HuUDD8ROA",
        "outputId": "208be95e-b89a-4fce-93dc-50b9a8582956"
      },
      "source": [
        "3.4159"
      ],
      "execution_count": 11,
      "outputs": [
        {
          "output_type": "execute_result",
          "data": {
            "text/plain": [
              "3.4159"
            ]
          },
          "metadata": {
            "tags": []
          },
          "execution_count": 11
        }
      ]
    },
    {
      "cell_type": "code",
      "metadata": {
        "id": "oO7QoYG-7czX"
      },
      "source": [
        "Pi = 3.14159"
      ],
      "execution_count": 9,
      "outputs": []
    },
    {
      "cell_type": "code",
      "metadata": {
        "colab": {
          "base_uri": "https://localhost:8080/"
        },
        "id": "kvq5T8lH8SIp",
        "outputId": "3f211920-74ba-497e-bb21-140c78363f1a"
      },
      "source": [
        "Pi"
      ],
      "execution_count": 12,
      "outputs": [
        {
          "output_type": "execute_result",
          "data": {
            "text/plain": [
              "3.14159"
            ]
          },
          "metadata": {
            "tags": []
          },
          "execution_count": 12
        }
      ]
    },
    {
      "cell_type": "code",
      "metadata": {
        "colab": {
          "base_uri": "https://localhost:8080/"
        },
        "id": "5cGqlvrf8tqF",
        "outputId": "825771d9-80f3-4c19-f52b-898ad4c42bc1"
      },
      "source": [
        "a = 1234567\r\n",
        "print (a)"
      ],
      "execution_count": 13,
      "outputs": [
        {
          "output_type": "stream",
          "text": [
            "1234567\n"
          ],
          "name": "stdout"
        }
      ]
    },
    {
      "cell_type": "markdown",
      "metadata": {
        "id": "fp-Y7GLq9L3Q"
      },
      "source": [
        "**ชนิดของตัวแปร 3 ชนิด**\r\n",
        "**จำนวนเต็ม (integer,int)**\r\n",
        "\r\n",
        "\r\n",
        "\r\n"
      ]
    },
    {
      "cell_type": "code",
      "metadata": {
        "colab": {
          "base_uri": "https://localhost:8080/"
        },
        "id": "vHNfs8sz9IkP",
        "outputId": "09e1ed8f-3011-47dd-d62d-76324b5826fe"
      },
      "source": [
        "aaa = 1092\r\n",
        "print(aaa)"
      ],
      "execution_count": 14,
      "outputs": [
        {
          "output_type": "stream",
          "text": [
            "1092\n"
          ],
          "name": "stdout"
        }
      ]
    },
    {
      "cell_type": "markdown",
      "metadata": {
        "id": "f3S5LVzv-APd"
      },
      "source": [
        "**จำนวนจริง(float)**"
      ]
    },
    {
      "cell_type": "code",
      "metadata": {
        "colab": {
          "base_uri": "https://localhost:8080/"
        },
        "id": "NkNu5lZi9I4d",
        "outputId": "16fa4df9-9e01-43eb-8726-b2c77d25e9b8"
      },
      "source": [
        "bbb = 11.\r\n",
        "print(bbb)"
      ],
      "execution_count": 15,
      "outputs": [
        {
          "output_type": "stream",
          "text": [
            "11.0\n"
          ],
          "name": "stdout"
        }
      ]
    },
    {
      "cell_type": "markdown",
      "metadata": {
        "id": "BG7k8Q4z-atq"
      },
      "source": [
        "**ตัวอักษร-ข้อความ(character และ text,string)**"
      ]
    },
    {
      "cell_type": "code",
      "metadata": {
        "colab": {
          "base_uri": "https://localhost:8080/"
        },
        "id": "0Qg82cj9-aV5",
        "outputId": "1e27d08f-b490-45e8-83f7-923863717276"
      },
      "source": [
        "ccc = '1233456'\r\n",
        "#ใช้ ' เรียกว่า single quote หรือ \" เรียกว่า double quote ล้อมตัวหนังสือเพื่อระบุว่าเป็น charecter-string  \r\n",
        "print(ccc)\r\n"
      ],
      "execution_count": 19,
      "outputs": [
        {
          "output_type": "stream",
          "text": [
            "1233456\n"
          ],
          "name": "stdout"
        }
      ]
    },
    {
      "cell_type": "code",
      "metadata": {
        "colab": {
          "base_uri": "https://localhost:8080/"
        },
        "id": "KQ089BbD8t9t",
        "outputId": "24b62454-a786-4110-f1f4-f8850a98374a"
      },
      "source": [
        "aaa+bbb # int+ float"
      ],
      "execution_count": 20,
      "outputs": [
        {
          "output_type": "execute_result",
          "data": {
            "text/plain": [
              "1103.0"
            ]
          },
          "metadata": {
            "tags": []
          },
          "execution_count": 20
        }
      ]
    },
    {
      "cell_type": "code",
      "metadata": {
        "colab": {
          "base_uri": "https://localhost:8080/",
          "height": 164
        },
        "id": "tIv2V_GT8uPl",
        "outputId": "096e99c0-3b09-4cfd-aa7d-57e888a3826e"
      },
      "source": [
        "bbb+ccc"
      ],
      "execution_count": 21,
      "outputs": [
        {
          "output_type": "error",
          "ename": "TypeError",
          "evalue": "ignored",
          "traceback": [
            "\u001b[0;31m---------------------------------------------------------------------------\u001b[0m",
            "\u001b[0;31mTypeError\u001b[0m                                 Traceback (most recent call last)",
            "\u001b[0;32m<ipython-input-21-c95aa0bdc4a5>\u001b[0m in \u001b[0;36m<module>\u001b[0;34m()\u001b[0m\n\u001b[0;32m----> 1\u001b[0;31m \u001b[0mbbb\u001b[0m\u001b[0;34m+\u001b[0m\u001b[0mccc\u001b[0m\u001b[0;34m\u001b[0m\u001b[0;34m\u001b[0m\u001b[0m\n\u001b[0m",
            "\u001b[0;31mTypeError\u001b[0m: unsupported operand type(s) for +: 'float' and 'str'"
          ]
        }
      ]
    },
    {
      "cell_type": "code",
      "metadata": {
        "colab": {
          "base_uri": "https://localhost:8080/"
        },
        "id": "UQVSCdRd_tng",
        "outputId": "d77ec81c-9b61-4464-fafb-218c5e0020cb"
      },
      "source": [
        "ddd = 'เจนนภา'\r\n",
        "print(ddd)"
      ],
      "execution_count": 22,
      "outputs": [
        {
          "output_type": "stream",
          "text": [
            "เจนนภา\n"
          ],
          "name": "stdout"
        }
      ]
    },
    {
      "cell_type": "markdown",
      "metadata": {
        "id": "1XE3WJnt_1VE"
      },
      "source": [
        "**การเปลี่ยนชนิดของตัวแปร variable casting**"
      ]
    },
    {
      "cell_type": "code",
      "metadata": {
        "colab": {
          "base_uri": "https://localhost:8080/"
        },
        "id": "kAn-Djr3ABFq",
        "outputId": "dae64281-20fe-4a33-c199-b246f4aa066e"
      },
      "source": [
        "aaa+int(ccc)  #บวกกันได้ปกติ"
      ],
      "execution_count": 23,
      "outputs": [
        {
          "output_type": "execute_result",
          "data": {
            "text/plain": [
              "1234548"
            ]
          },
          "metadata": {
            "tags": []
          },
          "execution_count": 23
        }
      ]
    },
    {
      "cell_type": "code",
      "metadata": {
        "colab": {
          "base_uri": "https://localhost:8080/"
        },
        "id": "DTrwVDaxABYn",
        "outputId": "bac7ffde-ec4f-4fc8-dcf4-046e1f2ea5f1"
      },
      "source": [
        "aaa+float(ccc) #float จะมีจุดทศนิยมตามมาด้วย"
      ],
      "execution_count": 24,
      "outputs": [
        {
          "output_type": "execute_result",
          "data": {
            "text/plain": [
              "1234548.0"
            ]
          },
          "metadata": {
            "tags": []
          },
          "execution_count": 24
        }
      ]
    },
    {
      "cell_type": "code",
      "metadata": {
        "colab": {
          "base_uri": "https://localhost:8080/",
          "height": 34
        },
        "id": "aF0A2KWzAV5u",
        "outputId": "ed28d8dd-7a6f-47ab-c83e-6d1225736b1a"
      },
      "source": [
        "str(aaa)"
      ],
      "execution_count": 25,
      "outputs": [
        {
          "output_type": "execute_result",
          "data": {
            "application/vnd.google.colaboratory.intrinsic+json": {
              "type": "string"
            },
            "text/plain": [
              "'1092'"
            ]
          },
          "metadata": {
            "tags": []
          },
          "execution_count": 25
        }
      ]
    },
    {
      "cell_type": "markdown",
      "metadata": {
        "id": "x_C756Z2AdhA"
      },
      "source": [
        "**การดำเนินการ (Operation +,-,*,/,%)**"
      ]
    },
    {
      "cell_type": "code",
      "metadata": {
        "colab": {
          "base_uri": "https://localhost:8080/",
          "height": 164
        },
        "id": "V_auYo1qAvB4",
        "outputId": "c41cf60e-bb05-4259-d086-539d60afca59"
      },
      "source": [
        "a+b #ไม่ได้กำหนดค่า b"
      ],
      "execution_count": 26,
      "outputs": [
        {
          "output_type": "error",
          "ename": "NameError",
          "evalue": "ignored",
          "traceback": [
            "\u001b[0;31m---------------------------------------------------------------------------\u001b[0m",
            "\u001b[0;31mNameError\u001b[0m                                 Traceback (most recent call last)",
            "\u001b[0;32m<ipython-input-26-bf9e73abbae3>\u001b[0m in \u001b[0;36m<module>\u001b[0;34m()\u001b[0m\n\u001b[0;32m----> 1\u001b[0;31m \u001b[0ma\u001b[0m\u001b[0;34m+\u001b[0m\u001b[0mb\u001b[0m \u001b[0;31m#ไม่ได้กำหนดค่า b\u001b[0m\u001b[0;34m\u001b[0m\u001b[0;34m\u001b[0m\u001b[0m\n\u001b[0m",
            "\u001b[0;31mNameError\u001b[0m: name 'b' is not defined"
          ]
        }
      ]
    },
    {
      "cell_type": "code",
      "metadata": {
        "colab": {
          "base_uri": "https://localhost:8080/"
        },
        "id": "5KuDU1p4A-Zu",
        "outputId": "bcfd1263-d996-48d0-dff6-e36293965a5f"
      },
      "source": [
        "aaa+bbb #มีจุดทศนิยมเพราะ bbb เป็น float"
      ],
      "execution_count": 27,
      "outputs": [
        {
          "output_type": "execute_result",
          "data": {
            "text/plain": [
              "1103.0"
            ]
          },
          "metadata": {
            "tags": []
          },
          "execution_count": 27
        }
      ]
    },
    {
      "cell_type": "code",
      "metadata": {
        "colab": {
          "base_uri": "https://localhost:8080/"
        },
        "id": "6JF441g_A-um",
        "outputId": "0df46441-310a-4d3c-c808-d55516304321"
      },
      "source": [
        "aaa-bbb"
      ],
      "execution_count": 28,
      "outputs": [
        {
          "output_type": "execute_result",
          "data": {
            "text/plain": [
              "1081.0"
            ]
          },
          "metadata": {
            "tags": []
          },
          "execution_count": 28
        }
      ]
    },
    {
      "cell_type": "code",
      "metadata": {
        "colab": {
          "base_uri": "https://localhost:8080/"
        },
        "id": "-wItU9kDBOj_",
        "outputId": "a797c479-8002-46bd-ea14-3dd1446163fd"
      },
      "source": [
        "ab = aaa*bbb\r\n",
        "print(ab)"
      ],
      "execution_count": 31,
      "outputs": [
        {
          "output_type": "stream",
          "text": [
            "12012.0\n"
          ],
          "name": "stdout"
        }
      ]
    },
    {
      "cell_type": "code",
      "metadata": {
        "colab": {
          "base_uri": "https://localhost:8080/"
        },
        "id": "4c-V9lj3BbrG",
        "outputId": "3f27830a-1b96-4d1c-b0e9-2f1996f5be5b"
      },
      "source": [
        "ab+int(ccc) #ออกเป็นค่า float"
      ],
      "execution_count": 32,
      "outputs": [
        {
          "output_type": "execute_result",
          "data": {
            "text/plain": [
              "1245468.0"
            ]
          },
          "metadata": {
            "tags": []
          },
          "execution_count": 32
        }
      ]
    },
    {
      "cell_type": "markdown",
      "metadata": {
        "id": "q_EA0cCkBpwa"
      },
      "source": [
        "**% คือ เครื่องหมาย modulo**"
      ]
    },
    {
      "cell_type": "code",
      "metadata": {
        "colab": {
          "base_uri": "https://localhost:8080/"
        },
        "id": "8GfaFyPvB5mp",
        "outputId": "3b841064-b508-4a61-f806-28be76306288"
      },
      "source": [
        "5%3 #เป็นการหารเอาเศษ"
      ],
      "execution_count": 33,
      "outputs": [
        {
          "output_type": "execute_result",
          "data": {
            "text/plain": [
              "2"
            ]
          },
          "metadata": {
            "tags": []
          },
          "execution_count": 33
        }
      ]
    },
    {
      "cell_type": "code",
      "metadata": {
        "colab": {
          "base_uri": "https://localhost:8080/"
        },
        "id": "keZfvPnzB57E",
        "outputId": "73e6181e-842c-4b70-bf4a-610aaef34478"
      },
      "source": [
        "7%3"
      ],
      "execution_count": 34,
      "outputs": [
        {
          "output_type": "execute_result",
          "data": {
            "text/plain": [
              "1"
            ]
          },
          "metadata": {
            "tags": []
          },
          "execution_count": 34
        }
      ]
    },
    {
      "cell_type": "markdown",
      "metadata": {
        "id": "GzwHK7YwCNYL"
      },
      "source": [
        "**คำสั่ง print แบบพิเศษ (การ format string)**"
      ]
    },
    {
      "cell_type": "code",
      "metadata": {
        "colab": {
          "base_uri": "https://localhost:8080/"
        },
        "id": "scHhaNIMCZYW",
        "outputId": "ae16ff75-5ded-47b3-93a7-ce9e34273c82"
      },
      "source": [
        "print('ตัวแปร') #สิ่งที่อยู่ในวงเล็บ คือ ตัวแปร และ string"
      ],
      "execution_count": 35,
      "outputs": [
        {
          "output_type": "stream",
          "text": [
            "ตัวแปร\n"
          ],
          "name": "stdout"
        }
      ]
    },
    {
      "cell_type": "code",
      "metadata": {
        "colab": {
          "base_uri": "https://localhost:8080/"
        },
        "id": "GhsGKVFcCZrq",
        "outputId": "7991c742-c371-4873-f381-438f493aac66"
      },
      "source": [
        "print( f'% คือการหารเอาเศษ เช่น 7%3 = {7%3}') #เพิ่ม f หน้า string ' และใช้ {} ใส่โค้ด"
      ],
      "execution_count": 38,
      "outputs": [
        {
          "output_type": "stream",
          "text": [
            "% คือการหารเอาเศษ เช่น 7%3 = 1\n"
          ],
          "name": "stdout"
        }
      ]
    },
    {
      "cell_type": "code",
      "metadata": {
        "colab": {
          "base_uri": "https://localhost:8080/"
        },
        "id": "H2Xp67iPDpgJ",
        "outputId": "41aca5fa-fd29-4d0d-c1dc-2e4d4e9aeef7"
      },
      "source": [
        "print (f'% คือการหารเอาเศษ เช่น 7%3 ={7%3}) \\\\\r\n",
        "แต่ \\n/ คือการหารปกติ เช่น 7/3 = {7/3} \\\\\r\n",
        "และ \\n// คือการหารเอาส่วน เช่น 7//3 = {7//3} \\\\\r\n",
        "หรือ \\n ใช้ int () เพื่อหารเอาส่วน เช่น int(7/3) = {int(7/3)}  ')\r\n",
        "# \\n คือการขึ้นบรรทัดใหม่ ส่วน \\\\ ใช้ในการตัดโค้ด\r\n"
      ],
      "execution_count": 41,
      "outputs": [
        {
          "output_type": "stream",
          "text": [
            "% คือการหารเอาเศษ เช่น 7%3 =1) \\แต่ \n",
            "/ คือการหารปกติ เช่น 7/3 = 2.3333333333333335 \\และ \n",
            "// คือการหารเอาส่วน เช่น 7//3 = 2 \\หรือ \n",
            " ใช้ int () เพื่อหารเอาส่วน เช่น int(7/3) = 2  \n"
          ],
          "name": "stdout"
        }
      ]
    },
    {
      "cell_type": "markdown",
      "metadata": {
        "id": "iB2K08bHFfRQ"
      },
      "source": [
        "**DATA STRUCTURE(โครงสร้างข้อมูล)**"
      ]
    },
    {
      "cell_type": "code",
      "metadata": {
        "colab": {
          "base_uri": "https://localhost:8080/"
        },
        "id": "BkCLK2SuFrwt",
        "outputId": "312e3892-4889-41d9-ebbd-01bfa1149475"
      },
      "source": [
        "[111, 'c' ,'งง' ,aaa]"
      ],
      "execution_count": 43,
      "outputs": [
        {
          "output_type": "execute_result",
          "data": {
            "text/plain": [
              "[111, 'c', 'งง', 1092]"
            ]
          },
          "metadata": {
            "tags": []
          },
          "execution_count": 43
        }
      ]
    },
    {
      "cell_type": "markdown",
      "metadata": {
        "id": "ADvaQg0_GAuV"
      },
      "source": [
        "**list สามารถสร้างได้ 2 แบบ ดังนี้**\r\n",
        "                   **แบบที่ 1 >square brckets**"
      ]
    },
    {
      "cell_type": "code",
      "metadata": {
        "colab": {
          "base_uri": "https://localhost:8080/"
        },
        "id": "R89DkWHBFr6u",
        "outputId": "959e142d-4d42-45a9-ca93-970a84a3f5a5"
      },
      "source": [
        "list_a=[]\r\n",
        "print(list_a)"
      ],
      "execution_count": 44,
      "outputs": [
        {
          "output_type": "stream",
          "text": [
            "[]\n"
          ],
          "name": "stdout"
        }
      ]
    },
    {
      "cell_type": "code",
      "metadata": {
        "colab": {
          "base_uri": "https://localhost:8080/"
        },
        "id": "d3DjMrq8FsL0",
        "outputId": "cea303ce-ddd4-48bd-9ff8-77073d90273f"
      },
      "source": [
        "list_b = [111, 'c', 'งง',aaa]\r\n",
        "print(list_b)"
      ],
      "execution_count": 45,
      "outputs": [
        {
          "output_type": "stream",
          "text": [
            "[111, 'c', 'งง', 1092]\n"
          ],
          "name": "stdout"
        }
      ]
    },
    {
      "cell_type": "markdown",
      "metadata": {
        "id": "BjjyWv5rHdpM"
      },
      "source": [
        "**ลำดับที่อยู่ใน list มีความสำคัญ(ลำดับใน list เริ่มจาก 0,1,2,...)**"
      ]
    },
    {
      "cell_type": "code",
      "metadata": {
        "colab": {
          "base_uri": "https://localhost:8080/"
        },
        "id": "QZihto30Hspx",
        "outputId": "79c9dfd2-a7fd-43a8-a07e-20b7f1fe343a"
      },
      "source": [
        "list_b[3] #เริ่มนับตัวแรกจาก 0 ลำดับ คือความสำคัญของ list"
      ],
      "execution_count": 46,
      "outputs": [
        {
          "output_type": "execute_result",
          "data": {
            "text/plain": [
              "1092"
            ]
          },
          "metadata": {
            "tags": []
          },
          "execution_count": 46
        }
      ]
    },
    {
      "cell_type": "code",
      "metadata": {
        "colab": {
          "base_uri": "https://localhost:8080/",
          "height": 34
        },
        "id": "jeQi1BXhHs3C",
        "outputId": "132a208f-5c55-4439-ad3c-1d45990261bc"
      },
      "source": [
        "list_b[2]"
      ],
      "execution_count": 47,
      "outputs": [
        {
          "output_type": "execute_result",
          "data": {
            "application/vnd.google.colaboratory.intrinsic+json": {
              "type": "string"
            },
            "text/plain": [
              "'งง'"
            ]
          },
          "metadata": {
            "tags": []
          },
          "execution_count": 47
        }
      ]
    },
    {
      "cell_type": "markdown",
      "metadata": {
        "id": "ms94u7ZlIE_e"
      },
      "source": [
        "**แบบที่ 2**"
      ]
    },
    {
      "cell_type": "code",
      "metadata": {
        "colab": {
          "base_uri": "https://localhost:8080/"
        },
        "id": "ah5IS1dGIIte",
        "outputId": "85898118-ecaf-4cd8-816b-0dfa49723541"
      },
      "source": [
        "list_c = list()\r\n",
        "print(list_c)"
      ],
      "execution_count": 49,
      "outputs": [
        {
          "output_type": "stream",
          "text": [
            "[]\n"
          ],
          "name": "stdout"
        }
      ]
    },
    {
      "cell_type": "markdown",
      "metadata": {
        "id": "tzh7lS1MISkQ"
      },
      "source": [
        "**append()เพิ่มสมาชิกใน list**"
      ]
    },
    {
      "cell_type": "code",
      "metadata": {
        "colab": {
          "base_uri": "https://localhost:8080/"
        },
        "id": "-tO9heWaIbza",
        "outputId": "004dec15-ed6c-488c-c737-b2e57decfe62"
      },
      "source": [
        "list_b.append ('u')  #เพิ่มสมาชิก u เข้าไปใน list จะไปอยู่ลำดับสุดท้าย \r\n",
        "print(list_b)"
      ],
      "execution_count": 50,
      "outputs": [
        {
          "output_type": "stream",
          "text": [
            "[111, 'c', 'งง', 1092, 'u']\n"
          ],
          "name": "stdout"
        }
      ]
    },
    {
      "cell_type": "markdown",
      "metadata": {
        "id": "MAjio5z9IvDB"
      },
      "source": [
        "0 คือ สมาชิกตัวแรก , -1 คือสมาชิดตัวสุดท้าย"
      ]
    },
    {
      "cell_type": "code",
      "metadata": {
        "colab": {
          "base_uri": "https://localhost:8080/",
          "height": 34
        },
        "id": "irZpFVwDI3mR",
        "outputId": "00d7e9d3-ddde-4bdb-cdd7-c2ef199e373c"
      },
      "source": [
        "list_b[-1] #ตัวที่อยู่ในวงเล็บหลังจากตัวแปร list เรียกว่า index ใช้สำหรับชี้ข้อมูลใน list (ชี้จากข้างหน้าและชี้จากข้างหลัง)"
      ],
      "execution_count": 51,
      "outputs": [
        {
          "output_type": "execute_result",
          "data": {
            "application/vnd.google.colaboratory.intrinsic+json": {
              "type": "string"
            },
            "text/plain": [
              "'u'"
            ]
          },
          "metadata": {
            "tags": []
          },
          "execution_count": 51
        }
      ]
    },
    {
      "cell_type": "markdown",
      "metadata": {
        "id": "87xGjx4bJq1C"
      },
      "source": [
        "**String > list og characters**"
      ]
    },
    {
      "cell_type": "code",
      "metadata": {
        "colab": {
          "base_uri": "https://localhost:8080/"
        },
        "id": "tuw8x0pvJ1Ri",
        "outputId": "0ebc7b40-627c-4f17-b58b-4023d1f7643a"
      },
      "source": [
        "t = 'python is easy'\r\n",
        "print(t)"
      ],
      "execution_count": 52,
      "outputs": [
        {
          "output_type": "stream",
          "text": [
            "python is easy\n"
          ],
          "name": "stdout"
        }
      ]
    },
    {
      "cell_type": "code",
      "metadata": {
        "colab": {
          "base_uri": "https://localhost:8080/",
          "height": 34
        },
        "id": "Clr3esOPJ2bI",
        "outputId": "32150aab-9e10-4758-fcff-0e7557364ce7"
      },
      "source": [
        "t[1]"
      ],
      "execution_count": 54,
      "outputs": [
        {
          "output_type": "execute_result",
          "data": {
            "application/vnd.google.colaboratory.intrinsic+json": {
              "type": "string"
            },
            "text/plain": [
              "'y'"
            ]
          },
          "metadata": {
            "tags": []
          },
          "execution_count": 54
        }
      ]
    },
    {
      "cell_type": "code",
      "metadata": {
        "colab": {
          "base_uri": "https://localhost:8080/",
          "height": 34
        },
        "id": "7uSIAtiZJ2sx",
        "outputId": "ce464207-b327-4d1e-8f8d-635965b27a06"
      },
      "source": [
        "t[-4]"
      ],
      "execution_count": 55,
      "outputs": [
        {
          "output_type": "execute_result",
          "data": {
            "application/vnd.google.colaboratory.intrinsic+json": {
              "type": "string"
            },
            "text/plain": [
              "'e'"
            ]
          },
          "metadata": {
            "tags": []
          },
          "execution_count": 55
        }
      ]
    },
    {
      "cell_type": "code",
      "metadata": {
        "colab": {
          "base_uri": "https://localhost:8080/",
          "height": 34
        },
        "id": "0fGL4q2jJ364",
        "outputId": "f922db8d-4f89-431c-df76-6622e5bc01ed"
      },
      "source": [
        "t[6]"
      ],
      "execution_count": 56,
      "outputs": [
        {
          "output_type": "execute_result",
          "data": {
            "application/vnd.google.colaboratory.intrinsic+json": {
              "type": "string"
            },
            "text/plain": [
              "' '"
            ]
          },
          "metadata": {
            "tags": []
          },
          "execution_count": 56
        }
      ]
    }
  ]
}