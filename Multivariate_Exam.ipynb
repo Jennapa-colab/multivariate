{
  "nbformat": 4,
  "nbformat_minor": 0,
  "metadata": {
    "colab": {
      "name": "Multivariate Exam.ipynb",
      "provenance": [],
      "include_colab_link": true
    },
    "kernelspec": {
      "name": "python3",
      "display_name": "Python 3"
    },
    "language_info": {
      "name": "python"
    }
  },
  "cells": [
    {
      "cell_type": "markdown",
      "metadata": {
        "id": "view-in-github",
        "colab_type": "text"
      },
      "source": [
        "<a href=\"https://colab.research.google.com/github/Jennapa-colab/multivariate/blob/main/Multivariate_Exam.ipynb\" target=\"_parent\"><img src=\"https://colab.research.google.com/assets/colab-badge.svg\" alt=\"Open In Colab\"/></a>"
      ]
    },
    {
      "cell_type": "markdown",
      "metadata": {
        "id": "JZxiNADfaDtv"
      },
      "source": [
        "ให้นักศึกษาทำข้อสอบใน Colab Notebook นี้โดยกรอกข้อมูลของตัวเองใน cell ที่ 2 แล้วรัน cell ที่ 1 - 5 และเริ่มทำข้อสอบใน cell ที่ 6 เป็นต้นไป\n",
        "\n",
        "โดยโจทย์คือ\n",
        "1. ข้อมูลโจทย์ อยู่ใน ตัวแปร ```Data```\n",
        "2. ทำ clustering แล้วทำ visualize ข้อมูลแบบ 2 มิติ\n",
        "3. ลด Dimension ของข้อมูลเหลือ 2 มิติ แล้วทำ clustering แล้ว visualize ข้อมูลแบบ 2 มิติ\n",
        "4. เปรียบเทียบความแตกต่างของผลข้อ 2. กับ ข้อ 3.\n",
        "5. เขียน comments อธิบายทุกขั้นตอน\n",
        "6. อัด video อธิบาย code ทุกๆขั้นตอนรวมถึงผลแล้วอัพลง youtube ในรูปแบบ unlist \n",
        "7. commit โดยใช้ชื่อ commit เป็น link youtube ที่อธิบาย code ในข้อ 6.\n",
        "\n",
        "กำหนดส่งวันที่ 2 พฤษภาคม 2564 (โดยให้มากรอกวันที่ commit ครั้งสุดท้ายใน sheet: https://docs.google.com/spreadsheets/d/1_qJwLDJVtOW1HxBcf_FHVc6UT4J_SOonuR6o3EEnVzw/edit?usp=sharing ช่อง Final)"
      ]
    },
    {
      "cell_type": "code",
      "metadata": {
        "id": "cWl2x1bPGtQl"
      },
      "source": [
        "from sklearn.datasets import make_blobs\n",
        "import random,math\n",
        "import numpy as np\n",
        "import pandas"
      ],
      "execution_count": 103,
      "outputs": []
    },
    {
      "cell_type": "code",
      "metadata": {
        "id": "gZfzuiHsZksh"
      },
      "source": [
        "Name = 'เจนนภา พุนานิล'\n",
        "ID = '620205153'"
      ],
      "execution_count": 104,
      "outputs": []
    },
    {
      "cell_type": "code",
      "metadata": {
        "id": "8hFQXkF5aAiA"
      },
      "source": [
        "def DataGenerator(name , id):\n",
        "    random.seed(int(id[3:6]))\n",
        "    numfeat = random.randint(20,30)\n",
        "    ct = random.randint(len(name)-6,len(name))\n",
        "    \n",
        "    X, y = make_blobs(n_samples=10000, centers=ct, n_features=numfeat , random_state=int(id[3:6]))\n",
        "\n",
        "    print(f'{id[3:6]}:{numfeat}:{ct}')\n",
        "    X_t = (X[:,1]*2)+int(id[3])\n",
        "    X_t2 = (X[:,-1]*5)+int(id[4])\n",
        "\n",
        "    DT = np.append(X,X_t.reshape([10000,1]),axis=1)\n",
        "    DT = np.append(DT,X_t2.reshape([10000,1]),axis=1)\n",
        "    \n",
        "    return pandas.DataFrame(DT)"
      ],
      "execution_count": 105,
      "outputs": []
    },
    {
      "cell_type": "code",
      "metadata": {
        "colab": {
          "base_uri": "https://localhost:8080/"
        },
        "id": "hbXlxumSBX9i",
        "outputId": "f8a52984-e46e-412e-b413-31458e22b24d"
      },
      "source": [
        "Data = DataGenerator(Name,ID)"
      ],
      "execution_count": 106,
      "outputs": [
        {
          "output_type": "stream",
          "text": [
            "205:26:11\n"
          ],
          "name": "stdout"
        }
      ]
    },
    {
      "cell_type": "code",
      "metadata": {
        "colab": {
          "base_uri": "https://localhost:8080/",
          "height": 439
        },
        "id": "pQcCySXvBdN-",
        "outputId": "f8b34423-b0f8-42dc-af4f-826d82d28270"
      },
      "source": [
        "Data"
      ],
      "execution_count": 107,
      "outputs": [
        {
          "output_type": "execute_result",
          "data": {
            "text/html": [
              "<div>\n",
              "<style scoped>\n",
              "    .dataframe tbody tr th:only-of-type {\n",
              "        vertical-align: middle;\n",
              "    }\n",
              "\n",
              "    .dataframe tbody tr th {\n",
              "        vertical-align: top;\n",
              "    }\n",
              "\n",
              "    .dataframe thead th {\n",
              "        text-align: right;\n",
              "    }\n",
              "</style>\n",
              "<table border=\"1\" class=\"dataframe\">\n",
              "  <thead>\n",
              "    <tr style=\"text-align: right;\">\n",
              "      <th></th>\n",
              "      <th>0</th>\n",
              "      <th>1</th>\n",
              "      <th>2</th>\n",
              "      <th>3</th>\n",
              "      <th>4</th>\n",
              "      <th>5</th>\n",
              "      <th>6</th>\n",
              "      <th>7</th>\n",
              "      <th>8</th>\n",
              "      <th>9</th>\n",
              "      <th>10</th>\n",
              "      <th>11</th>\n",
              "      <th>12</th>\n",
              "      <th>13</th>\n",
              "      <th>14</th>\n",
              "      <th>15</th>\n",
              "      <th>16</th>\n",
              "      <th>17</th>\n",
              "      <th>18</th>\n",
              "      <th>19</th>\n",
              "      <th>20</th>\n",
              "      <th>21</th>\n",
              "      <th>22</th>\n",
              "      <th>23</th>\n",
              "      <th>24</th>\n",
              "      <th>25</th>\n",
              "      <th>26</th>\n",
              "      <th>27</th>\n",
              "    </tr>\n",
              "  </thead>\n",
              "  <tbody>\n",
              "    <tr>\n",
              "      <th>0</th>\n",
              "      <td>0.746081</td>\n",
              "      <td>1.963649</td>\n",
              "      <td>-3.176159</td>\n",
              "      <td>-6.402508</td>\n",
              "      <td>-7.359925</td>\n",
              "      <td>4.730829</td>\n",
              "      <td>5.799691</td>\n",
              "      <td>-6.149527</td>\n",
              "      <td>7.347787</td>\n",
              "      <td>0.023327</td>\n",
              "      <td>-4.965278</td>\n",
              "      <td>-0.004448</td>\n",
              "      <td>8.948408</td>\n",
              "      <td>9.677902</td>\n",
              "      <td>6.208102</td>\n",
              "      <td>-0.463013</td>\n",
              "      <td>5.781165</td>\n",
              "      <td>-0.794780</td>\n",
              "      <td>-2.692595</td>\n",
              "      <td>5.232439</td>\n",
              "      <td>3.777623</td>\n",
              "      <td>5.294714</td>\n",
              "      <td>-6.155839</td>\n",
              "      <td>7.682633</td>\n",
              "      <td>-2.159569</td>\n",
              "      <td>0.450328</td>\n",
              "      <td>5.927297</td>\n",
              "      <td>2.251642</td>\n",
              "    </tr>\n",
              "    <tr>\n",
              "      <th>1</th>\n",
              "      <td>-4.807520</td>\n",
              "      <td>3.760107</td>\n",
              "      <td>-5.621673</td>\n",
              "      <td>9.387034</td>\n",
              "      <td>7.098877</td>\n",
              "      <td>-7.837570</td>\n",
              "      <td>-5.120543</td>\n",
              "      <td>-1.691722</td>\n",
              "      <td>9.725839</td>\n",
              "      <td>10.768628</td>\n",
              "      <td>0.672162</td>\n",
              "      <td>5.976725</td>\n",
              "      <td>-1.741181</td>\n",
              "      <td>-3.056779</td>\n",
              "      <td>7.790765</td>\n",
              "      <td>-2.222485</td>\n",
              "      <td>-7.677237</td>\n",
              "      <td>5.695793</td>\n",
              "      <td>-4.916433</td>\n",
              "      <td>8.563735</td>\n",
              "      <td>-9.088730</td>\n",
              "      <td>3.367314</td>\n",
              "      <td>0.758942</td>\n",
              "      <td>-2.398818</td>\n",
              "      <td>-0.260307</td>\n",
              "      <td>6.044223</td>\n",
              "      <td>9.520215</td>\n",
              "      <td>30.221117</td>\n",
              "    </tr>\n",
              "    <tr>\n",
              "      <th>2</th>\n",
              "      <td>5.593417</td>\n",
              "      <td>-4.931845</td>\n",
              "      <td>-8.901668</td>\n",
              "      <td>-7.038077</td>\n",
              "      <td>9.885714</td>\n",
              "      <td>3.533791</td>\n",
              "      <td>6.471191</td>\n",
              "      <td>-5.604961</td>\n",
              "      <td>-9.256491</td>\n",
              "      <td>1.070084</td>\n",
              "      <td>-1.175886</td>\n",
              "      <td>9.047849</td>\n",
              "      <td>7.756356</td>\n",
              "      <td>4.308344</td>\n",
              "      <td>-1.331975</td>\n",
              "      <td>-0.623895</td>\n",
              "      <td>5.628885</td>\n",
              "      <td>0.972647</td>\n",
              "      <td>-4.020952</td>\n",
              "      <td>4.208513</td>\n",
              "      <td>9.227652</td>\n",
              "      <td>9.120627</td>\n",
              "      <td>-3.041579</td>\n",
              "      <td>4.442665</td>\n",
              "      <td>10.270662</td>\n",
              "      <td>2.319351</td>\n",
              "      <td>-7.863690</td>\n",
              "      <td>11.596756</td>\n",
              "    </tr>\n",
              "    <tr>\n",
              "      <th>3</th>\n",
              "      <td>2.719730</td>\n",
              "      <td>-2.958296</td>\n",
              "      <td>7.403377</td>\n",
              "      <td>-7.562966</td>\n",
              "      <td>4.354402</td>\n",
              "      <td>6.672606</td>\n",
              "      <td>5.438045</td>\n",
              "      <td>1.112302</td>\n",
              "      <td>-8.184561</td>\n",
              "      <td>-8.173706</td>\n",
              "      <td>-7.698810</td>\n",
              "      <td>2.058201</td>\n",
              "      <td>3.327009</td>\n",
              "      <td>-10.397335</td>\n",
              "      <td>-0.371899</td>\n",
              "      <td>-8.825595</td>\n",
              "      <td>3.291795</td>\n",
              "      <td>4.297427</td>\n",
              "      <td>-4.077083</td>\n",
              "      <td>-0.571625</td>\n",
              "      <td>3.014798</td>\n",
              "      <td>9.271884</td>\n",
              "      <td>9.882933</td>\n",
              "      <td>-0.983544</td>\n",
              "      <td>-7.272469</td>\n",
              "      <td>7.801703</td>\n",
              "      <td>-3.916593</td>\n",
              "      <td>39.008513</td>\n",
              "    </tr>\n",
              "    <tr>\n",
              "      <th>4</th>\n",
              "      <td>-8.595029</td>\n",
              "      <td>7.107728</td>\n",
              "      <td>1.542347</td>\n",
              "      <td>-3.011885</td>\n",
              "      <td>-9.271411</td>\n",
              "      <td>1.021657</td>\n",
              "      <td>9.781685</td>\n",
              "      <td>-5.654519</td>\n",
              "      <td>8.917947</td>\n",
              "      <td>8.823196</td>\n",
              "      <td>-1.250732</td>\n",
              "      <td>8.700323</td>\n",
              "      <td>-9.317812</td>\n",
              "      <td>0.825720</td>\n",
              "      <td>2.474870</td>\n",
              "      <td>8.082394</td>\n",
              "      <td>2.857187</td>\n",
              "      <td>-7.718466</td>\n",
              "      <td>5.080408</td>\n",
              "      <td>-6.808975</td>\n",
              "      <td>5.000012</td>\n",
              "      <td>-9.687336</td>\n",
              "      <td>1.580805</td>\n",
              "      <td>-4.616937</td>\n",
              "      <td>-4.824128</td>\n",
              "      <td>6.648780</td>\n",
              "      <td>16.215457</td>\n",
              "      <td>33.243901</td>\n",
              "    </tr>\n",
              "    <tr>\n",
              "      <th>...</th>\n",
              "      <td>...</td>\n",
              "      <td>...</td>\n",
              "      <td>...</td>\n",
              "      <td>...</td>\n",
              "      <td>...</td>\n",
              "      <td>...</td>\n",
              "      <td>...</td>\n",
              "      <td>...</td>\n",
              "      <td>...</td>\n",
              "      <td>...</td>\n",
              "      <td>...</td>\n",
              "      <td>...</td>\n",
              "      <td>...</td>\n",
              "      <td>...</td>\n",
              "      <td>...</td>\n",
              "      <td>...</td>\n",
              "      <td>...</td>\n",
              "      <td>...</td>\n",
              "      <td>...</td>\n",
              "      <td>...</td>\n",
              "      <td>...</td>\n",
              "      <td>...</td>\n",
              "      <td>...</td>\n",
              "      <td>...</td>\n",
              "      <td>...</td>\n",
              "      <td>...</td>\n",
              "      <td>...</td>\n",
              "      <td>...</td>\n",
              "    </tr>\n",
              "    <tr>\n",
              "      <th>9995</th>\n",
              "      <td>-2.416864</td>\n",
              "      <td>5.567816</td>\n",
              "      <td>-6.360796</td>\n",
              "      <td>1.673636</td>\n",
              "      <td>3.862207</td>\n",
              "      <td>-6.409543</td>\n",
              "      <td>-9.457410</td>\n",
              "      <td>-6.302617</td>\n",
              "      <td>8.918462</td>\n",
              "      <td>1.541444</td>\n",
              "      <td>0.294547</td>\n",
              "      <td>-6.152960</td>\n",
              "      <td>7.622955</td>\n",
              "      <td>-5.109692</td>\n",
              "      <td>7.026165</td>\n",
              "      <td>-6.354529</td>\n",
              "      <td>3.843526</td>\n",
              "      <td>7.801566</td>\n",
              "      <td>2.079603</td>\n",
              "      <td>-5.183824</td>\n",
              "      <td>-6.572174</td>\n",
              "      <td>2.441687</td>\n",
              "      <td>-7.288748</td>\n",
              "      <td>-3.054824</td>\n",
              "      <td>-3.772848</td>\n",
              "      <td>-7.222291</td>\n",
              "      <td>13.135633</td>\n",
              "      <td>-36.111456</td>\n",
              "    </tr>\n",
              "    <tr>\n",
              "      <th>9996</th>\n",
              "      <td>2.186832</td>\n",
              "      <td>-5.586467</td>\n",
              "      <td>8.024322</td>\n",
              "      <td>-7.995908</td>\n",
              "      <td>3.438596</td>\n",
              "      <td>7.660373</td>\n",
              "      <td>6.623906</td>\n",
              "      <td>4.097856</td>\n",
              "      <td>-9.483874</td>\n",
              "      <td>-7.463528</td>\n",
              "      <td>-8.390956</td>\n",
              "      <td>2.324239</td>\n",
              "      <td>4.174721</td>\n",
              "      <td>-9.877421</td>\n",
              "      <td>-0.828186</td>\n",
              "      <td>-8.099301</td>\n",
              "      <td>3.301888</td>\n",
              "      <td>4.199326</td>\n",
              "      <td>-4.612607</td>\n",
              "      <td>-0.023282</td>\n",
              "      <td>2.460059</td>\n",
              "      <td>8.898448</td>\n",
              "      <td>7.971302</td>\n",
              "      <td>-0.830947</td>\n",
              "      <td>-8.309971</td>\n",
              "      <td>8.500479</td>\n",
              "      <td>-9.172934</td>\n",
              "      <td>42.502396</td>\n",
              "    </tr>\n",
              "    <tr>\n",
              "      <th>9997</th>\n",
              "      <td>-5.381866</td>\n",
              "      <td>5.906657</td>\n",
              "      <td>2.799436</td>\n",
              "      <td>-9.719801</td>\n",
              "      <td>-8.263723</td>\n",
              "      <td>-1.467805</td>\n",
              "      <td>-2.142341</td>\n",
              "      <td>1.607989</td>\n",
              "      <td>-6.840705</td>\n",
              "      <td>-1.658529</td>\n",
              "      <td>1.134903</td>\n",
              "      <td>-4.226189</td>\n",
              "      <td>-2.039111</td>\n",
              "      <td>8.990565</td>\n",
              "      <td>2.321984</td>\n",
              "      <td>-9.156661</td>\n",
              "      <td>-8.921819</td>\n",
              "      <td>0.872673</td>\n",
              "      <td>8.124689</td>\n",
              "      <td>4.477137</td>\n",
              "      <td>-6.214742</td>\n",
              "      <td>-2.701106</td>\n",
              "      <td>7.174459</td>\n",
              "      <td>0.368499</td>\n",
              "      <td>0.075974</td>\n",
              "      <td>-7.220183</td>\n",
              "      <td>13.813313</td>\n",
              "      <td>-36.100917</td>\n",
              "    </tr>\n",
              "    <tr>\n",
              "      <th>9998</th>\n",
              "      <td>-4.497349</td>\n",
              "      <td>6.695842</td>\n",
              "      <td>2.452071</td>\n",
              "      <td>-3.451667</td>\n",
              "      <td>-9.798585</td>\n",
              "      <td>-0.595841</td>\n",
              "      <td>9.201871</td>\n",
              "      <td>-4.383545</td>\n",
              "      <td>7.723183</td>\n",
              "      <td>10.101979</td>\n",
              "      <td>-1.636417</td>\n",
              "      <td>7.612986</td>\n",
              "      <td>-5.801983</td>\n",
              "      <td>-0.876524</td>\n",
              "      <td>1.688253</td>\n",
              "      <td>10.428903</td>\n",
              "      <td>2.618210</td>\n",
              "      <td>-8.520074</td>\n",
              "      <td>4.707777</td>\n",
              "      <td>-9.585377</td>\n",
              "      <td>2.757491</td>\n",
              "      <td>-8.226398</td>\n",
              "      <td>1.557084</td>\n",
              "      <td>-4.931987</td>\n",
              "      <td>-5.360272</td>\n",
              "      <td>5.391540</td>\n",
              "      <td>15.391683</td>\n",
              "      <td>26.957699</td>\n",
              "    </tr>\n",
              "    <tr>\n",
              "      <th>9999</th>\n",
              "      <td>-6.725083</td>\n",
              "      <td>3.810336</td>\n",
              "      <td>-7.357701</td>\n",
              "      <td>9.929943</td>\n",
              "      <td>5.235598</td>\n",
              "      <td>-7.008766</td>\n",
              "      <td>-3.975769</td>\n",
              "      <td>1.350686</td>\n",
              "      <td>5.562501</td>\n",
              "      <td>10.356916</td>\n",
              "      <td>2.204121</td>\n",
              "      <td>7.177307</td>\n",
              "      <td>-2.864131</td>\n",
              "      <td>-3.019604</td>\n",
              "      <td>9.236347</td>\n",
              "      <td>-1.472736</td>\n",
              "      <td>-5.015611</td>\n",
              "      <td>6.067998</td>\n",
              "      <td>-5.397748</td>\n",
              "      <td>7.483631</td>\n",
              "      <td>-9.301822</td>\n",
              "      <td>3.447087</td>\n",
              "      <td>0.156512</td>\n",
              "      <td>-2.315479</td>\n",
              "      <td>-1.732602</td>\n",
              "      <td>8.780604</td>\n",
              "      <td>9.620672</td>\n",
              "      <td>43.903021</td>\n",
              "    </tr>\n",
              "  </tbody>\n",
              "</table>\n",
              "<p>10000 rows × 28 columns</p>\n",
              "</div>"
            ],
            "text/plain": [
              "            0         1         2   ...        25         26         27\n",
              "0     0.746081  1.963649 -3.176159  ...  0.450328   5.927297   2.251642\n",
              "1    -4.807520  3.760107 -5.621673  ...  6.044223   9.520215  30.221117\n",
              "2     5.593417 -4.931845 -8.901668  ...  2.319351  -7.863690  11.596756\n",
              "3     2.719730 -2.958296  7.403377  ...  7.801703  -3.916593  39.008513\n",
              "4    -8.595029  7.107728  1.542347  ...  6.648780  16.215457  33.243901\n",
              "...        ...       ...       ...  ...       ...        ...        ...\n",
              "9995 -2.416864  5.567816 -6.360796  ... -7.222291  13.135633 -36.111456\n",
              "9996  2.186832 -5.586467  8.024322  ...  8.500479  -9.172934  42.502396\n",
              "9997 -5.381866  5.906657  2.799436  ... -7.220183  13.813313 -36.100917\n",
              "9998 -4.497349  6.695842  2.452071  ...  5.391540  15.391683  26.957699\n",
              "9999 -6.725083  3.810336 -7.357701  ...  8.780604   9.620672  43.903021\n",
              "\n",
              "[10000 rows x 28 columns]"
            ]
          },
          "metadata": {
            "tags": []
          },
          "execution_count": 107
        }
      ]
    },
    {
      "cell_type": "code",
      "metadata": {
        "id": "YDPAOp1l2DdP",
        "colab": {
          "base_uri": "https://localhost:8080/"
        },
        "outputId": "ab805305-675c-4352-bc9b-95f74891a774"
      },
      "source": [
        "Data.shape \n",
        "#มีทั้งหมด 28 dimension\n",
        "#ดูขนาดของข้อมูล Data ก่อน"
      ],
      "execution_count": 108,
      "outputs": [
        {
          "output_type": "execute_result",
          "data": {
            "text/plain": [
              "(10000, 28)"
            ]
          },
          "metadata": {
            "tags": []
          },
          "execution_count": 108
        }
      ]
    },
    {
      "cell_type": "markdown",
      "metadata": {
        "id": "JGROOoES6GIH"
      },
      "source": [
        "##2.Clustering data แล้วต่อด้วยการทำ Visualize เพื่อให้ข้อมูลออกมา ในรปแบบที่เป็น 2 มิติ"
      ]
    },
    {
      "cell_type": "markdown",
      "metadata": {
        "id": "Sok-bWok6fy2"
      },
      "source": [
        "##Import"
      ]
    },
    {
      "cell_type": "markdown",
      "metadata": {
        "id": "2U7aB_Mm6kg2"
      },
      "source": [
        "##Import funcion ที่ใช้ในการทำ K-mean "
      ]
    },
    {
      "cell_type": "markdown",
      "metadata": {
        "id": "nLBFO8076wcj"
      },
      "source": [
        "##DATA มากจาก sklearn.cluster"
      ]
    },
    {
      "cell_type": "code",
      "metadata": {
        "id": "Y_sGS58Y67d_"
      },
      "source": [
        "from sklearn.cluster import KMeans\n",
        "#ทำการ import function ที่ต้องการใช้ในการทำ K-mean จาก sklearn.cluster"
      ],
      "execution_count": 109,
      "outputs": []
    },
    {
      "cell_type": "markdown",
      "metadata": {
        "id": "3qekW2oP7H88"
      },
      "source": [
        "##Defind\n",
        "**เพื่อกำหนดค่า K"
      ]
    },
    {
      "cell_type": "code",
      "metadata": {
        "id": "cgr5TkKG7UO7"
      },
      "source": [
        "Kmeans = KMeans(n_clusters  = 3, random_state = 2021 )\n",
        "#random_state=2021 เริ่มสุ่มที่จุดเดียวกัน จะได้มีกลุ่มเหมือนกัน"
      ],
      "execution_count": 110,
      "outputs": []
    },
    {
      "cell_type": "code",
      "metadata": {
        "id": "jUARadkFEuyJ",
        "colab": {
          "base_uri": "https://localhost:8080/"
        },
        "outputId": "ab92cc5e-ae1f-44cf-f394-80f398d0c54e"
      },
      "source": [
        "Kmeans.fit(Data)"
      ],
      "execution_count": 111,
      "outputs": [
        {
          "output_type": "execute_result",
          "data": {
            "text/plain": [
              "KMeans(algorithm='auto', copy_x=True, init='k-means++', max_iter=300,\n",
              "       n_clusters=3, n_init=10, n_jobs=None, precompute_distances='auto',\n",
              "       random_state=2021, tol=0.0001, verbose=0)"
            ]
          },
          "metadata": {
            "tags": []
          },
          "execution_count": 111
        }
      ]
    },
    {
      "cell_type": "markdown",
      "metadata": {
        "id": "Vfc1rpww83xw"
      },
      "source": [
        "##จุดที่คำนวณได้"
      ]
    },
    {
      "cell_type": "code",
      "metadata": {
        "colab": {
          "base_uri": "https://localhost:8080/"
        },
        "id": "JdGBmVdk81jg",
        "outputId": "12e4213f-326e-4432-e10a-068607800fc6"
      },
      "source": [
        "Kmeans.cluster_centers_\n",
        "#จุด Centroid มี 3 กลุ่ม เพราะ k=3"
      ],
      "execution_count": 112,
      "outputs": [
        {
          "output_type": "execute_result",
          "data": {
            "text/plain": [
              "array([[-1.62015776e+00,  2.93529339e+00,  2.07121094e+00,\n",
              "        -1.52064696e-01,  2.01731715e+00, -9.68489454e-01,\n",
              "        -2.15942801e+00,  5.26754570e-01,  4.07091441e-01,\n",
              "         3.15318731e-02, -2.27420084e+00, -1.95466660e+00,\n",
              "         6.57635271e-01,  3.31036515e+00,  3.71624517e+00,\n",
              "        -4.02717113e+00,  9.74515053e-02,  5.35591715e+00,\n",
              "        -1.00170938e+00, -3.32173269e-02, -2.20651924e+00,\n",
              "         9.03429329e-01,  2.60951536e-01,  1.64295290e+00,\n",
              "         1.25927408e-01, -3.61145327e+00,  7.87058678e+00,\n",
              "        -1.80572663e+01],\n",
              "       [ 5.21067085e+00, -3.75798240e+00, -2.16094639e+00,\n",
              "        -2.99666134e+00,  5.21444576e+00,  6.02867023e+00,\n",
              "         2.81488752e+00,  1.58828790e+00, -8.37134138e+00,\n",
              "        -4.81273824e+00, -5.72638209e+00,  5.98803157e+00,\n",
              "         6.86160622e+00, -8.03543385e-01,  2.55517799e-01,\n",
              "        -1.34211795e+00,  5.57396202e+00,  4.05224057e-01,\n",
              "        -1.46752378e+00,  2.16379357e+00,  6.37801845e+00,\n",
              "         5.57624495e+00,  3.43297609e+00,  6.52112374e-01,\n",
              "         1.26686337e-01,  5.51960944e+00, -5.51596480e+00,\n",
              "         2.75980472e+01],\n",
              "       [-5.95556888e+00,  5.56207864e+00, -1.57684201e+00,\n",
              "         2.38194302e+00, -1.43270299e+00, -4.40568174e+00,\n",
              "         2.28092636e+00, -1.92609059e+00,  7.81505581e+00,\n",
              "         9.56667138e+00, -1.38853434e-01,  6.67954466e+00,\n",
              "        -5.75595608e+00, -1.65018500e+00,  5.60268250e+00,\n",
              "         3.80421957e+00, -1.95880604e+00, -3.75081803e-01,\n",
              "        -7.90688493e-01,  2.10714601e-01, -2.89554053e+00,\n",
              "        -3.21039346e+00,  3.93053274e-01, -3.82085458e+00,\n",
              "        -3.52024674e+00,  6.36797106e+00,  1.31241573e+01,\n",
              "         3.18398553e+01]])"
            ]
          },
          "metadata": {
            "tags": []
          },
          "execution_count": 112
        }
      ]
    },
    {
      "cell_type": "markdown",
      "metadata": {
        "id": "qUdnsE3y7R7I"
      },
      "source": [
        "##การจัดกลุ่มของ DATA"
      ]
    },
    {
      "cell_type": "code",
      "metadata": {
        "colab": {
          "base_uri": "https://localhost:8080/"
        },
        "id": "P3awMzbo9hLB",
        "outputId": "5baa27f0-bc9f-48ab-e50c-78e967ef4c73"
      },
      "source": [
        "y = Kmeans.predict(Data)\n",
        "y\n",
        "#เนื่องจากมี data ที่มากเกินไป จึงจะทำ PCA ข้อมูลเพื่อลด dimensions \n",
        "#กำหนดให้ข้อมูลที่ทำการจัดกลุ่มเป็น y "
      ],
      "execution_count": 113,
      "outputs": [
        {
          "output_type": "execute_result",
          "data": {
            "text/plain": [
              "array([0, 2, 1, ..., 0, 2, 2], dtype=int32)"
            ]
          },
          "metadata": {
            "tags": []
          },
          "execution_count": 113
        }
      ]
    },
    {
      "cell_type": "markdown",
      "metadata": {
        "id": "9u8zvBbj91xG"
      },
      "source": [
        "##PCA เพื่อลด DIMENTION"
      ]
    },
    {
      "cell_type": "markdown",
      "metadata": {
        "id": "42Eqroj3j2Km"
      },
      "source": [
        "##ทำ PCA ข้อมูล Data แล้ว วาดกราฟ scatter plot โดยใส่สีตามผลการทำ kmeans clustering แล้วนำมาเทียบกับ กราฟ PCA - scatter ของข้อมูลจริง"
      ]
    },
    {
      "cell_type": "code",
      "metadata": {
        "id": "6P4xgUgruId1"
      },
      "source": [
        "from sklearn.decomposition import PCA\n",
        "\n",
        "pca = PCA(n_components=2)  \n",
        "\n",
        "new_pca = pca.fit_transform(Data) \n",
        "#ทำ PCA ข้อมูล Data ใส่สีตามผลการทำ kmeans clustering "
      ],
      "execution_count": 115,
      "outputs": []
    },
    {
      "cell_type": "code",
      "metadata": {
        "id": "3vjU6L8yuPb4",
        "colab": {
          "base_uri": "https://localhost:8080/"
        },
        "outputId": "93eb301f-4b5d-443d-cbae-aeb39e35591d"
      },
      "source": [
        "new_pca"
      ],
      "execution_count": 116,
      "outputs": [
        {
          "output_type": "execute_result",
          "data": {
            "text/plain": [
              "array([[  1.09308328,  -1.58599123],\n",
              "       [-22.10860691,  21.23673002],\n",
              "       [-13.94661022, -22.53597766],\n",
              "       ...,\n",
              "       [ 43.5931879 ,   2.59581914],\n",
              "       [-22.60486342,  27.72079257],\n",
              "       [-35.93040225,  23.6008884 ]])"
            ]
          },
          "metadata": {
            "tags": []
          },
          "execution_count": 116
        }
      ]
    },
    {
      "cell_type": "code",
      "metadata": {
        "id": "z8bRQmqhmAWy"
      },
      "source": [
        "matplotlib.rcParams['figure.figsize']=[5,5] #ทำการเพิ่มขนาดของกราฟ เพื่อให้ดูการกระจายของข้อมูลได้ง่ายขึ้นและดูข้อมุลที่ซ้อนทับกันได้ง่ายขึ้น"
      ],
      "execution_count": 117,
      "outputs": []
    },
    {
      "cell_type": "code",
      "metadata": {
        "id": "_lxMaq2ZufTm"
      },
      "source": [
        "from matplotlib import pyplot as plt"
      ],
      "execution_count": 118,
      "outputs": []
    },
    {
      "cell_type": "code",
      "metadata": {
        "id": "-fBDtxGhumuM",
        "colab": {
          "base_uri": "https://localhost:8080/",
          "height": 338
        },
        "outputId": "e2c67362-7132-468e-9ccb-433e7684b97e"
      },
      "source": [
        "plt.plot(new_pca[:50,0],new_pca[:50,1],'or')   \n",
        "plt.plot(new_pca[50:100,0],new_pca[50:100,1],'og')\n",
        "plt.plot(new_pca[100:,0],new_pca[100:,1],'oy')  \n",
        "#จะทำ PCA กี่รอบก็ได้เท่าเดิม เนื่องจาก  data ดูในมุมมองที่มีการกระจายข้อมูลดีที่สุด"
      ],
      "execution_count": 119,
      "outputs": [
        {
          "output_type": "execute_result",
          "data": {
            "text/plain": [
              "[<matplotlib.lines.Line2D at 0x7fd97f593690>]"
            ]
          },
          "metadata": {
            "tags": []
          },
          "execution_count": 119
        },
        {
          "output_type": "display_data",
          "data": {
            "image/png": "[encoded data removed]",
            "text/plain": [
              "<Figure size 360x360 with 1 Axes>"
            ]
          },
          "metadata": {
            "tags": [],
            "needs_background": "light"
          }
        }
      ]
    },
    {
      "cell_type": "code",
      "metadata": {
        "id": "pmi6VxzCvAXu",
        "colab": {
          "base_uri": "https://localhost:8080/",
          "height": 338
        },
        "outputId": "711f11e4-4cc0-4e40-f3ca-cd1db7f48be9"
      },
      "source": [
        "kmeans = KMeans(n_clusters=3, random_state=2021)\n",
        "kmeans.fit(Data)\n",
        "y = kmeans.predict(Data)\n",
        "plt.scatter(new_pca[:,0],new_pca[:,1],c=y)"
      ],
      "execution_count": 120,
      "outputs": [
        {
          "output_type": "execute_result",
          "data": {
            "text/plain": [
              "<matplotlib.collections.PathCollection at 0x7fd97f577610>"
            ]
          },
          "metadata": {
            "tags": []
          },
          "execution_count": 120
        },
        {
          "output_type": "display_data",
          "data": {
            "image/png": "[encoded data removed]",
            "text/plain": [
              "<Figure size 360x360 with 1 Axes>"
            ]
          },
          "metadata": {
            "tags": [],
            "needs_background": "light"
          }
        }
      ]
    },
    {
      "cell_type": "code",
      "metadata": {
        "id": "ZqgIDUoIVLS3",
        "colab": {
          "base_uri": "https://localhost:8080/",
          "height": 338
        },
        "outputId": "a273612a-257d-41a0-8a69-28ea55a55dcf"
      },
      "source": [
        "plt.scatter(new_pca[:,0],new_pca[:,1],c=y) # cluster center\n",
        "plt.plot(kmeans.cluster_centers_[:,0],kmeans.cluster_centers_[:,1],'or')"
      ],
      "execution_count": 121,
      "outputs": [
        {
          "output_type": "execute_result",
          "data": {
            "text/plain": [
              "[<matplotlib.lines.Line2D at 0x7fd97f4ebc90>]"
            ]
          },
          "metadata": {
            "tags": []
          },
          "execution_count": 121
        },
        {
          "output_type": "display_data",
          "data": {
            "image/png": "[encoded data removed]",
            "text/plain": [
              "<Figure size 360x360 with 1 Axes>"
            ]
          },
          "metadata": {
            "tags": [],
            "needs_background": "light"
          }
        }
      ]
    },
    {
      "cell_type": "markdown",
      "metadata": {
        "id": "XNSmyV-OVOM5"
      },
      "source": [
        "#SSE (Sum of Squared Errors)\n",
        "\n"
      ]
    },
    {
      "cell_type": "code",
      "metadata": {
        "id": "tTHHQnycvafL",
        "colab": {
          "base_uri": "https://localhost:8080/"
        },
        "outputId": "f74b9289-b6ef-46fd-c6fa-acbca6b7a133"
      },
      "source": [
        "kmeans.inertia_\n",
        "#ทำการหาค่า Sum of Squared Errors"
      ],
      "execution_count": 122,
      "outputs": [
        {
          "output_type": "execute_result",
          "data": {
            "text/plain": [
              "8130119.824511663"
            ]
          },
          "metadata": {
            "tags": []
          },
          "execution_count": 122
        }
      ]
    },
    {
      "cell_type": "code",
      "metadata": {
        "id": "53p_G5s1vrmJ"
      },
      "source": [
        "SSE = list()\n",
        "for k in [1,2,3,4,5,6,7,8]:\n",
        "    kmeans = KMeans(n_clusters=k, random_state=2021)\n",
        "    kmeans.fit(Data)\n",
        "    SSE.append(kmeans.inertia_)\n",
        "#ทำการวนรูปข้อมูลเพื่อจะเปลี่ยน k จาก 1 ให้เป็นค่าดังต่อไปนี้ คือ 2,3,4,5,6,7และ 8"
      ],
      "execution_count": 123,
      "outputs": []
    },
    {
      "cell_type": "code",
      "metadata": {
        "id": "u31cpXL3v9gU",
        "colab": {
          "base_uri": "https://localhost:8080/"
        },
        "outputId": "a1f2bb69-712b-4757-e161-c8d8ab14d83f"
      },
      "source": [
        "SSE\n",
        "#เมื่อทำการรันข้อมูลแล้วจะมีข้อมูลออกมาทั้งหมด 8 ตัวด้วยกัน"
      ],
      "execution_count": 124,
      "outputs": [
        {
          "output_type": "execute_result",
          "data": {
            "text/plain": [
              "[16607826.092277102,\n",
              " 10024787.189454779,\n",
              " 8130119.824511663,\n",
              " 6671451.476620875,\n",
              " 5434692.0346080605,\n",
              " 4422697.092483179,\n",
              " 3465739.297022264,\n",
              " 2605789.1966648363]"
            ]
          },
          "metadata": {
            "tags": []
          },
          "execution_count": 124
        }
      ]
    },
    {
      "cell_type": "code",
      "metadata": {
        "id": "OKQ3uV57wGoO",
        "colab": {
          "base_uri": "https://localhost:8080/",
          "height": 349
        },
        "outputId": "ff544ac9-1e39-48e7-b784-22921ba23379"
      },
      "source": [
        "plt.plot([1,2,3,4,5,6,7,8],SSE,'o-b')  \n",
        "#เอาค่า SSE ที่คำนวณได้ มา เพื่อที่จะได้ทำการ plot graph ของข้อมูล"
      ],
      "execution_count": 125,
      "outputs": [
        {
          "output_type": "execute_result",
          "data": {
            "text/plain": [
              "[<matplotlib.lines.Line2D at 0x7fd97f454b10>]"
            ]
          },
          "metadata": {
            "tags": []
          },
          "execution_count": 125
        },
        {
          "output_type": "display_data",
          "data": {
            "image/png": "[encoded data removed]",
            "text/plain": [
              "<Figure size 360x360 with 1 Axes>"
            ]
          },
          "metadata": {
            "tags": [],
            "needs_background": "light"
          }
        }
      ]
    },
    {
      "cell_type": "markdown",
      "metadata": {
        "id": "qOA4l441LanK"
      },
      "source": [
        "*เนื่องจากข้อมูลที่ได้ทำการ plot graph แล้วมจีงสรุปได้ว่า Elbow method หรือ SSE (Sum of Squared Errors) หรือ ศอก มี 2 ศอก เพราะ จุดไปตกที่เลขสอง และถือเป็นศอกของข้อมูล*"
      ]
    },
    {
      "cell_type": "markdown",
      "metadata": {
        "id": "TaH4jaYawUMm"
      },
      "source": [
        "##silhouette coefficient\n",
        "**Silhouette เป็นเทคนิคที่ใช้วัดว่า Instance นั้นมีความเหมือนกับ Cluster ที่มันอยู่มากเพียงใด เมื่อเทียบกับ Cluster อื่นๆ ค่าของ Silhouette อยู่ในช่วง -1 ถึง 1 ยิ่งมีค่ามากแสดงว่า Instance มีความคล้ายกับ cluster ของมันมากและมีความคล้ายกับ Cluster อื่นน้อย\n",
        "Silhouette สามารถใช้ Distance metric อย่างเช่น Euclidean, Manhattan distance มาช่วยเพื่อวัดระยะ**\n",
        "\n"
      ]
    },
    {
      "cell_type": "code",
      "metadata": {
        "id": "ncTNcot4wQXs"
      },
      "source": [
        "from sklearn import metrics"
      ],
      "execution_count": 126,
      "outputs": []
    },
    {
      "cell_type": "code",
      "metadata": {
        "id": "hx8bJadqwbue"
      },
      "source": [
        "SilH = list()\n",
        "for k in [2,3,4,5,6,7,8]:\n",
        "    kmeans = KMeans(n_clusters=k, random_state=2021)\n",
        "    kmeans.fit(Data)\n",
        "    score = metrics.silhouette_score(Data,kmeans.labels_)\n",
        "    SilH.append(score)\n",
        "#การทำ Silhouette Scores ต้องคิดข้อมูลหลายๆกลุ่ม จะคิดแค่กลุ่มเดียวไม่ได้"
      ],
      "execution_count": 127,
      "outputs": []
    },
    {
      "cell_type": "code",
      "metadata": {
        "id": "MC6gUEszGc-3",
        "colab": {
          "base_uri": "https://localhost:8080/",
          "height": 334
        },
        "outputId": "60c4ff7b-69c0-40cf-933d-42997d783045"
      },
      "source": [
        "plt.plot([2,3,4,5,6,7,8],SilH,'o-g')\n",
        "plt.xlabel('k')\n",
        "plt.ylabel('Silhouette Score');\n",
        "#ถ้าดูจากจุดกราฟของ Silhouette Scores ที่สูงที่สุด \n",
        "#ถ้ามีค่ามากแสดงว่าใกล้กันมาก และจะมีค่าตั้งแต่-1ถึง 1"
      ],
      "execution_count": 128,
      "outputs": [
        {
          "output_type": "display_data",
          "data": {
            "image/png": "[encoded data removed]",
            "text/plain": [
              "<Figure size 360x360 with 1 Axes>"
            ]
          },
          "metadata": {
            "tags": [],
            "needs_background": "light"
          }
        }
      ]
    },
    {
      "cell_type": "code",
      "metadata": {
        "id": "YHEUn5Ek9wSP",
        "outputId": "238300dd-b890-438e-e57d-5f0ad636d3f5",
        "colab": {
          "base_uri": "https://localhost:8080/",
          "height": 338
        }
      },
      "source": [
        "kmeans = KMeans(random_state=2021)\n",
        "kmeans.fit(Data)\n",
        "y = kmeans.predict(Data)\n",
        "plt.scatter(new_pca[:,0],new_pca[:,1],c=y)"
      ],
      "execution_count": 129,
      "outputs": [
        {
          "output_type": "execute_result",
          "data": {
            "text/plain": [
              "<matplotlib.collections.PathCollection at 0x7fd981771790>"
            ]
          },
          "metadata": {
            "tags": []
          },
          "execution_count": 129
        },
        {
          "output_type": "display_data",
          "data": {
            "image/png": "[encoded data removed]",
            "text/plain": [
              "<Figure size 360x360 with 1 Axes>"
            ]
          },
          "metadata": {
            "tags": [],
            "needs_background": "light"
          }
        }
      ]
    },
    {
      "cell_type": "markdown",
      "metadata": {
        "id": "gY8qr24S-IXE"
      },
      "source": [
        "##3. ลด Dimension ของข้อมูลเหลือ 2 มิติ แล้วทำ clustering แล้ว visualize ข้อมูลแบบ 2 มิติ"
      ]
    },
    {
      "cell_type": "code",
      "metadata": {
        "id": "eZydN0-b-Om_"
      },
      "source": [
        "from sklearn.manifold import MDS"
      ],
      "execution_count": 131,
      "outputs": []
    },
    {
      "cell_type": "code",
      "metadata": {
        "id": "J8VKOZlD-Rth"
      },
      "source": [
        "mds = MDS(n_components=2)\n",
        "#กำหนดว่าเราจะใช้ components ของ mds เป็น 2"
      ],
      "execution_count": 132,
      "outputs": []
    },
    {
      "cell_type": "code",
      "metadata": {
        "id": "PkxHWMTS-VJr"
      },
      "source": [
        "New_mds = mds.fit_transform(Data)\n",
        "#คำนวณระยะห่างระหว่างจุด"
      ],
      "execution_count": 133,
      "outputs": []
    },
    {
      "cell_type": "markdown",
      "metadata": {
        "id": "44Rph78Ybb9H"
      },
      "source": [
        "##K-mean"
      ]
    },
    {
      "cell_type": "code",
      "metadata": {
        "id": "pMNcxhkE-hiP"
      },
      "source": [
        "kmeans2= KMeans(n_clusters=8,random_state=2021)  \n",
        "#ให้ k= 8 ตามที่หาไว้\n",
        "kmeans2.fit(Data)\n",
        "g = kmeans2.predict(Data)\n",
        "#กำหนดให้ข้อมูลที่ทำการจัดกลุ่มเป็น g"
      ],
      "execution_count": 134,
      "outputs": []
    },
    {
      "cell_type": "code",
      "metadata": {
        "id": "uHgO0QXXf5ie",
        "outputId": "607bd7f0-bd82-4cd5-ca39-fb22aadf86a8",
        "colab": {
          "base_uri": "https://localhost:8080/",
          "height": 338
        }
      },
      "source": [
        "kmeans = KMeans(random_state=2021)\n",
        "kmeans.fit(Data)\n",
        "y = kmeans.predict(Data)\n",
        "plt.scatter(New_mds[:,0],New_mds[:,1],c=y)"
      ],
      "execution_count": 135,
      "outputs": [
        {
          "output_type": "execute_result",
          "data": {
            "text/plain": [
              "<matplotlib.collections.PathCollection at 0x7fd97f6c1650>"
            ]
          },
          "metadata": {
            "tags": []
          },
          "execution_count": 135
        },
        {
          "output_type": "display_data",
          "data": {
            "image/png": "[encoded data removed]",
            "text/plain": [
              "<Figure size 360x360 with 1 Axes>"
            ]
          },
          "metadata": {
            "tags": [],
            "needs_background": "light"
          }
        }
      ]
    },
    {
      "cell_type": "markdown",
      "metadata": {
        "id": "zFcIVbxa-vln"
      },
      "source": [
        "##4. เปรียบเทียบความแตกต่างของผลข้อ 2. กับ ข้อ 3."
      ]
    },
    {
      "cell_type": "code",
      "metadata": {
        "id": "j4pO7265gL3l",
        "outputId": "b0bfb8ec-0150-496b-ae59-5a3cb91322f9",
        "colab": {
          "base_uri": "https://localhost:8080/",
          "height": 338
        }
      },
      "source": [
        "kmeans = KMeans(random_state=2021)\n",
        "kmeans.fit(Data)\n",
        "y = kmeans.predict(Data)\n",
        "plt.scatter(new_pca[:,0],new_pca[:,1],c=y)"
      ],
      "execution_count": 136,
      "outputs": [
        {
          "output_type": "execute_result",
          "data": {
            "text/plain": [
              "<matplotlib.collections.PathCollection at 0x7fd97f7618d0>"
            ]
          },
          "metadata": {
            "tags": []
          },
          "execution_count": 136
        },
        {
          "output_type": "display_data",
          "data": {
            "image/png": "[encoded data removed]",
            "text/plain": [
              "<Figure size 360x360 with 1 Axes>"
            ]
          },
          "metadata": {
            "tags": [],
            "needs_background": "light"
          }
        }
      ]
    },
    {
      "cell_type": "markdown",
      "metadata": {
        "id": "xvzPdEbOg3iZ"
      },
      "source": [
        "##กราฟของข้อ 3 ลด Dimension ของข้อมูลเหลือ 2 มิติ แล้วทำ clustering แล้ว visualize ข้อมูลแบบ 2 มิติ\n",
        "\n"
      ]
    },
    {
      "cell_type": "code",
      "metadata": {
        "id": "eTGjlJsDgIhN",
        "outputId": "049ed849-1a4c-4d9b-c9d4-7326e55e289d",
        "colab": {
          "base_uri": "https://localhost:8080/",
          "height": 338
        }
      },
      "source": [
        "kmeans = KMeans(random_state=2021)\n",
        "kmeans.fit(Data)\n",
        "y = kmeans.predict(Data)\n",
        "plt.scatter(New_mds[:,0],New_mds[:,1],c=y)"
      ],
      "execution_count": 137,
      "outputs": [
        {
          "output_type": "execute_result",
          "data": {
            "text/plain": [
              "<matplotlib.collections.PathCollection at 0x7fd97f420990>"
            ]
          },
          "metadata": {
            "tags": []
          },
          "execution_count": 137
        },
        {
          "output_type": "display_data",
          "data": {
            "image/png": "[encoded data removed]",
            "text/plain": [
              "<Figure size 360x360 with 1 Axes>"
            ]
          },
          "metadata": {
            "tags": [],
            "needs_background": "light"
          }
        }
      ]
    },
    {
      "cell_type": "markdown",
      "metadata": {
        "id": "fLOAMOsTgX9E"
      },
      "source": [
        ""
      ]
    },
    {
      "cell_type": "markdown",
      "metadata": {
        "id": "e0ZyPVNBhF21"
      },
      "source": [
        "จากการเปรียบเทียบการทำ clustering และ visualize ข้อมูลแบบ 2 มิติ ข้อ 2 กับ ข้อ3 แล้ว ลด Dimension ของข้อมูลเหลือ 2 มิติ แล้วทำ clustering และ visualize ข้อมูลแบบ 2 มิติ จะลด dimension ก่อน แล้วค่อยทำ clustering จะเห็นว่ากราฟข้อ 3 มีการกระจายข้อมูลที่เปลี่ยนไป และลักษณะการกระจายข้อมูลเล็กลง เนื่องจาก มี dimension ลดลง และ ระยะห่างยังคงเดิม แต่ ข้อ 2 การกระจายของข้อมูลมีขนาดใหญ่ เนื่องจาก ไม่มีการลด dimension "
      ]
    }
  ]
}