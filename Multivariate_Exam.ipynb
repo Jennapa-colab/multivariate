{
  "nbformat": 4,
  "nbformat_minor": 0,
  "metadata": {
    "colab": {
      "name": "Multivariate Exam.ipynb",
      "provenance": [],
      "include_colab_link": true
    },
    "kernelspec": {
      "name": "python3",
      "display_name": "Python 3"
    },
    "language_info": {
      "name": "python"
    }
  },
  "cells": [
    {
      "cell_type": "markdown",
      "metadata": {
        "id": "view-in-github",
        "colab_type": "text"
      },
      "source": [
        "<a href=\"https://colab.research.google.com/github/Jennapa-colab/multivariate/blob/main/Multivariate_Exam.ipynb\" target=\"_parent\"><img src=\"https://colab.research.google.com/assets/colab-badge.svg\" alt=\"Open In Colab\"/></a>"
      ]
    },
    {
      "cell_type": "markdown",
      "metadata": {
        "id": "JZxiNADfaDtv"
      },
      "source": [
        "ให้นักศึกษาทำข้อสอบใน Colab Notebook นี้โดยกรอกข้อมูลของตัวเองใน cell ที่ 2 แล้วรัน cell ที่ 1 - 5 และเริ่มทำข้อสอบใน cell ที่ 6 เป็นต้นไป\n",
        "\n",
        "โดยโจทย์คือ\n",
        "1. ข้อมูลโจทย์ อยู่ใน ตัวแปร ```Data```\n",
        "2. ทำ clustering แล้วทำ visualize ข้อมูลแบบ 2 มิติ\n",
        "3. ลด Dimension ของข้อมูลเหลือ 2 มิติ แล้วทำ clustering แล้ว visualize ข้อมูลแบบ 2 มิติ\n",
        "4. เปรียบเทียบความแตกต่างของผลข้อ 2. กับ ข้อ 3.\n",
        "5. เขียน comments อธิบายทุกขั้นตอน\n",
        "6. อัด video อธิบาย code ทุกๆขั้นตอนรวมถึงผลแล้วอัพลง youtube ในรูปแบบ unlist \n",
        "7. commit โดยใช้ชื่อ commit เป็น link youtube ที่อธิบาย code ในข้อ 6.\n",
        "\n",
        "กำหนดส่งวันที่ 2 พฤษภาคม 2564 (โดยให้มากรอกวันที่ commit ครั้งสุดท้ายใน sheet: https://docs.google.com/spreadsheets/d/1_qJwLDJVtOW1HxBcf_FHVc6UT4J_SOonuR6o3EEnVzw/edit?usp=sharing ช่อง Final)"
      ]
    },
    {
      "cell_type": "code",
      "metadata": {
        "id": "cWl2x1bPGtQl"
      },
      "source": [
        "from sklearn.datasets import make_blobs\n",
        "import random,math\n",
        "import numpy as np\n",
        "import pandas"
      ],
      "execution_count": 1,
      "outputs": []
    },
    {
      "cell_type": "code",
      "metadata": {
        "id": "gZfzuiHsZksh"
      },
      "source": [
        "Name = 'เจนนภา พุนานิล'\n",
        "ID = '620205153'"
      ],
      "execution_count": 8,
      "outputs": []
    },
    {
      "cell_type": "code",
      "metadata": {
        "id": "8hFQXkF5aAiA"
      },
      "source": [
        "def DataGenerator(name , id):\n",
        "    random.seed(int(id[3:6]))\n",
        "    numfeat = random.randint(20,30)\n",
        "    ct = random.randint(len(name)-6,len(name))\n",
        "    \n",
        "    X, y = make_blobs(n_samples=10000, centers=ct, n_features=numfeat , random_state=int(id[3:6]))\n",
        "\n",
        "    print(f'{id[3:6]}:{numfeat}:{ct}')\n",
        "    X_t = (X[:,1]*2)+int(id[3])\n",
        "    X_t2 = (X[:,-1]*5)+int(id[4])\n",
        "\n",
        "    DT = np.append(X,X_t.reshape([10000,1]),axis=1)\n",
        "    DT = np.append(DT,X_t2.reshape([10000,1]),axis=1)\n",
        "    \n",
        "    return pandas.DataFrame(DT)"
      ],
      "execution_count": 16,
      "outputs": []
    },
    {
      "cell_type": "code",
      "metadata": {
        "colab": {
          "base_uri": "https://localhost:8080/"
        },
        "id": "hbXlxumSBX9i",
        "outputId": "8e93ab65-03ea-4615-89ad-d0205ea84067"
      },
      "source": [
        "Data = DataGenerator(Name,ID)"
      ],
      "execution_count": 65,
      "outputs": [
        {
          "output_type": "stream",
          "text": [
            "205:26:11\n"
          ],
          "name": "stdout"
        }
      ]
    },
    {
      "cell_type": "code",
      "metadata": {
        "colab": {
          "base_uri": "https://localhost:8080/",
          "height": 411
        },
        "id": "pQcCySXvBdN-",
        "outputId": "f2e29a3a-15c6-4dbd-f376-36b6de5bd826"
      },
      "source": [
        "Data"
      ],
      "execution_count": 66,
      "outputs": [
        {
          "output_type": "execute_result",
          "data": {
            "text/html": [
              "<div>\n",
              "<style scoped>\n",
              "    .dataframe tbody tr th:only-of-type {\n",
              "        vertical-align: middle;\n",
              "    }\n",
              "\n",
              "    .dataframe tbody tr th {\n",
              "        vertical-align: top;\n",
              "    }\n",
              "\n",
              "    .dataframe thead th {\n",
              "        text-align: right;\n",
              "    }\n",
              "</style>\n",
              "<table border=\"1\" class=\"dataframe\">\n",
              "  <thead>\n",
              "    <tr style=\"text-align: right;\">\n",
              "      <th></th>\n",
              "      <th>0</th>\n",
              "      <th>1</th>\n",
              "      <th>2</th>\n",
              "      <th>3</th>\n",
              "      <th>4</th>\n",
              "      <th>5</th>\n",
              "      <th>6</th>\n",
              "      <th>7</th>\n",
              "      <th>8</th>\n",
              "      <th>9</th>\n",
              "      <th>10</th>\n",
              "      <th>11</th>\n",
              "      <th>12</th>\n",
              "      <th>13</th>\n",
              "      <th>14</th>\n",
              "      <th>15</th>\n",
              "      <th>16</th>\n",
              "      <th>17</th>\n",
              "      <th>18</th>\n",
              "      <th>19</th>\n",
              "      <th>20</th>\n",
              "      <th>21</th>\n",
              "      <th>22</th>\n",
              "      <th>23</th>\n",
              "      <th>24</th>\n",
              "      <th>25</th>\n",
              "      <th>26</th>\n",
              "      <th>27</th>\n",
              "    </tr>\n",
              "  </thead>\n",
              "  <tbody>\n",
              "    <tr>\n",
              "      <th>0</th>\n",
              "      <td>0.746081</td>\n",
              "      <td>1.963649</td>\n",
              "      <td>-3.176159</td>\n",
              "      <td>-6.402508</td>\n",
              "      <td>-7.359925</td>\n",
              "      <td>4.730829</td>\n",
              "      <td>5.799691</td>\n",
              "      <td>-6.149527</td>\n",
              "      <td>7.347787</td>\n",
              "      <td>0.023327</td>\n",
              "      <td>-4.965278</td>\n",
              "      <td>-0.004448</td>\n",
              "      <td>8.948408</td>\n",
              "      <td>9.677902</td>\n",
              "      <td>6.208102</td>\n",
              "      <td>-0.463013</td>\n",
              "      <td>5.781165</td>\n",
              "      <td>-0.794780</td>\n",
              "      <td>-2.692595</td>\n",
              "      <td>5.232439</td>\n",
              "      <td>3.777623</td>\n",
              "      <td>5.294714</td>\n",
              "      <td>-6.155839</td>\n",
              "      <td>7.682633</td>\n",
              "      <td>-2.159569</td>\n",
              "      <td>0.450328</td>\n",
              "      <td>5.927297</td>\n",
              "      <td>2.251642</td>\n",
              "    </tr>\n",
              "    <tr>\n",
              "      <th>1</th>\n",
              "      <td>-4.807520</td>\n",
              "      <td>3.760107</td>\n",
              "      <td>-5.621673</td>\n",
              "      <td>9.387034</td>\n",
              "      <td>7.098877</td>\n",
              "      <td>-7.837570</td>\n",
              "      <td>-5.120543</td>\n",
              "      <td>-1.691722</td>\n",
              "      <td>9.725839</td>\n",
              "      <td>10.768628</td>\n",
              "      <td>0.672162</td>\n",
              "      <td>5.976725</td>\n",
              "      <td>-1.741181</td>\n",
              "      <td>-3.056779</td>\n",
              "      <td>7.790765</td>\n",
              "      <td>-2.222485</td>\n",
              "      <td>-7.677237</td>\n",
              "      <td>5.695793</td>\n",
              "      <td>-4.916433</td>\n",
              "      <td>8.563735</td>\n",
              "      <td>-9.088730</td>\n",
              "      <td>3.367314</td>\n",
              "      <td>0.758942</td>\n",
              "      <td>-2.398818</td>\n",
              "      <td>-0.260307</td>\n",
              "      <td>6.044223</td>\n",
              "      <td>9.520215</td>\n",
              "      <td>30.221117</td>\n",
              "    </tr>\n",
              "    <tr>\n",
              "      <th>2</th>\n",
              "      <td>5.593417</td>\n",
              "      <td>-4.931845</td>\n",
              "      <td>-8.901668</td>\n",
              "      <td>-7.038077</td>\n",
              "      <td>9.885714</td>\n",
              "      <td>3.533791</td>\n",
              "      <td>6.471191</td>\n",
              "      <td>-5.604961</td>\n",
              "      <td>-9.256491</td>\n",
              "      <td>1.070084</td>\n",
              "      <td>-1.175886</td>\n",
              "      <td>9.047849</td>\n",
              "      <td>7.756356</td>\n",
              "      <td>4.308344</td>\n",
              "      <td>-1.331975</td>\n",
              "      <td>-0.623895</td>\n",
              "      <td>5.628885</td>\n",
              "      <td>0.972647</td>\n",
              "      <td>-4.020952</td>\n",
              "      <td>4.208513</td>\n",
              "      <td>9.227652</td>\n",
              "      <td>9.120627</td>\n",
              "      <td>-3.041579</td>\n",
              "      <td>4.442665</td>\n",
              "      <td>10.270662</td>\n",
              "      <td>2.319351</td>\n",
              "      <td>-7.863690</td>\n",
              "      <td>11.596756</td>\n",
              "    </tr>\n",
              "    <tr>\n",
              "      <th>3</th>\n",
              "      <td>2.719730</td>\n",
              "      <td>-2.958296</td>\n",
              "      <td>7.403377</td>\n",
              "      <td>-7.562966</td>\n",
              "      <td>4.354402</td>\n",
              "      <td>6.672606</td>\n",
              "      <td>5.438045</td>\n",
              "      <td>1.112302</td>\n",
              "      <td>-8.184561</td>\n",
              "      <td>-8.173706</td>\n",
              "      <td>-7.698810</td>\n",
              "      <td>2.058201</td>\n",
              "      <td>3.327009</td>\n",
              "      <td>-10.397335</td>\n",
              "      <td>-0.371899</td>\n",
              "      <td>-8.825595</td>\n",
              "      <td>3.291795</td>\n",
              "      <td>4.297427</td>\n",
              "      <td>-4.077083</td>\n",
              "      <td>-0.571625</td>\n",
              "      <td>3.014798</td>\n",
              "      <td>9.271884</td>\n",
              "      <td>9.882933</td>\n",
              "      <td>-0.983544</td>\n",
              "      <td>-7.272469</td>\n",
              "      <td>7.801703</td>\n",
              "      <td>-3.916593</td>\n",
              "      <td>39.008513</td>\n",
              "    </tr>\n",
              "    <tr>\n",
              "      <th>4</th>\n",
              "      <td>-8.595029</td>\n",
              "      <td>7.107728</td>\n",
              "      <td>1.542347</td>\n",
              "      <td>-3.011885</td>\n",
              "      <td>-9.271411</td>\n",
              "      <td>1.021657</td>\n",
              "      <td>9.781685</td>\n",
              "      <td>-5.654519</td>\n",
              "      <td>8.917947</td>\n",
              "      <td>8.823196</td>\n",
              "      <td>-1.250732</td>\n",
              "      <td>8.700323</td>\n",
              "      <td>-9.317812</td>\n",
              "      <td>0.825720</td>\n",
              "      <td>2.474870</td>\n",
              "      <td>8.082394</td>\n",
              "      <td>2.857187</td>\n",
              "      <td>-7.718466</td>\n",
              "      <td>5.080408</td>\n",
              "      <td>-6.808975</td>\n",
              "      <td>5.000012</td>\n",
              "      <td>-9.687336</td>\n",
              "      <td>1.580805</td>\n",
              "      <td>-4.616937</td>\n",
              "      <td>-4.824128</td>\n",
              "      <td>6.648780</td>\n",
              "      <td>16.215457</td>\n",
              "      <td>33.243901</td>\n",
              "    </tr>\n",
              "    <tr>\n",
              "      <th>...</th>\n",
              "      <td>...</td>\n",
              "      <td>...</td>\n",
              "      <td>...</td>\n",
              "      <td>...</td>\n",
              "      <td>...</td>\n",
              "      <td>...</td>\n",
              "      <td>...</td>\n",
              "      <td>...</td>\n",
              "      <td>...</td>\n",
              "      <td>...</td>\n",
              "      <td>...</td>\n",
              "      <td>...</td>\n",
              "      <td>...</td>\n",
              "      <td>...</td>\n",
              "      <td>...</td>\n",
              "      <td>...</td>\n",
              "      <td>...</td>\n",
              "      <td>...</td>\n",
              "      <td>...</td>\n",
              "      <td>...</td>\n",
              "      <td>...</td>\n",
              "      <td>...</td>\n",
              "      <td>...</td>\n",
              "      <td>...</td>\n",
              "      <td>...</td>\n",
              "      <td>...</td>\n",
              "      <td>...</td>\n",
              "      <td>...</td>\n",
              "    </tr>\n",
              "    <tr>\n",
              "      <th>9995</th>\n",
              "      <td>-2.416864</td>\n",
              "      <td>5.567816</td>\n",
              "      <td>-6.360796</td>\n",
              "      <td>1.673636</td>\n",
              "      <td>3.862207</td>\n",
              "      <td>-6.409543</td>\n",
              "      <td>-9.457410</td>\n",
              "      <td>-6.302617</td>\n",
              "      <td>8.918462</td>\n",
              "      <td>1.541444</td>\n",
              "      <td>0.294547</td>\n",
              "      <td>-6.152960</td>\n",
              "      <td>7.622955</td>\n",
              "      <td>-5.109692</td>\n",
              "      <td>7.026165</td>\n",
              "      <td>-6.354529</td>\n",
              "      <td>3.843526</td>\n",
              "      <td>7.801566</td>\n",
              "      <td>2.079603</td>\n",
              "      <td>-5.183824</td>\n",
              "      <td>-6.572174</td>\n",
              "      <td>2.441687</td>\n",
              "      <td>-7.288748</td>\n",
              "      <td>-3.054824</td>\n",
              "      <td>-3.772848</td>\n",
              "      <td>-7.222291</td>\n",
              "      <td>13.135633</td>\n",
              "      <td>-36.111456</td>\n",
              "    </tr>\n",
              "    <tr>\n",
              "      <th>9996</th>\n",
              "      <td>2.186832</td>\n",
              "      <td>-5.586467</td>\n",
              "      <td>8.024322</td>\n",
              "      <td>-7.995908</td>\n",
              "      <td>3.438596</td>\n",
              "      <td>7.660373</td>\n",
              "      <td>6.623906</td>\n",
              "      <td>4.097856</td>\n",
              "      <td>-9.483874</td>\n",
              "      <td>-7.463528</td>\n",
              "      <td>-8.390956</td>\n",
              "      <td>2.324239</td>\n",
              "      <td>4.174721</td>\n",
              "      <td>-9.877421</td>\n",
              "      <td>-0.828186</td>\n",
              "      <td>-8.099301</td>\n",
              "      <td>3.301888</td>\n",
              "      <td>4.199326</td>\n",
              "      <td>-4.612607</td>\n",
              "      <td>-0.023282</td>\n",
              "      <td>2.460059</td>\n",
              "      <td>8.898448</td>\n",
              "      <td>7.971302</td>\n",
              "      <td>-0.830947</td>\n",
              "      <td>-8.309971</td>\n",
              "      <td>8.500479</td>\n",
              "      <td>-9.172934</td>\n",
              "      <td>42.502396</td>\n",
              "    </tr>\n",
              "    <tr>\n",
              "      <th>9997</th>\n",
              "      <td>-5.381866</td>\n",
              "      <td>5.906657</td>\n",
              "      <td>2.799436</td>\n",
              "      <td>-9.719801</td>\n",
              "      <td>-8.263723</td>\n",
              "      <td>-1.467805</td>\n",
              "      <td>-2.142341</td>\n",
              "      <td>1.607989</td>\n",
              "      <td>-6.840705</td>\n",
              "      <td>-1.658529</td>\n",
              "      <td>1.134903</td>\n",
              "      <td>-4.226189</td>\n",
              "      <td>-2.039111</td>\n",
              "      <td>8.990565</td>\n",
              "      <td>2.321984</td>\n",
              "      <td>-9.156661</td>\n",
              "      <td>-8.921819</td>\n",
              "      <td>0.872673</td>\n",
              "      <td>8.124689</td>\n",
              "      <td>4.477137</td>\n",
              "      <td>-6.214742</td>\n",
              "      <td>-2.701106</td>\n",
              "      <td>7.174459</td>\n",
              "      <td>0.368499</td>\n",
              "      <td>0.075974</td>\n",
              "      <td>-7.220183</td>\n",
              "      <td>13.813313</td>\n",
              "      <td>-36.100917</td>\n",
              "    </tr>\n",
              "    <tr>\n",
              "      <th>9998</th>\n",
              "      <td>-4.497349</td>\n",
              "      <td>6.695842</td>\n",
              "      <td>2.452071</td>\n",
              "      <td>-3.451667</td>\n",
              "      <td>-9.798585</td>\n",
              "      <td>-0.595841</td>\n",
              "      <td>9.201871</td>\n",
              "      <td>-4.383545</td>\n",
              "      <td>7.723183</td>\n",
              "      <td>10.101979</td>\n",
              "      <td>-1.636417</td>\n",
              "      <td>7.612986</td>\n",
              "      <td>-5.801983</td>\n",
              "      <td>-0.876524</td>\n",
              "      <td>1.688253</td>\n",
              "      <td>10.428903</td>\n",
              "      <td>2.618210</td>\n",
              "      <td>-8.520074</td>\n",
              "      <td>4.707777</td>\n",
              "      <td>-9.585377</td>\n",
              "      <td>2.757491</td>\n",
              "      <td>-8.226398</td>\n",
              "      <td>1.557084</td>\n",
              "      <td>-4.931987</td>\n",
              "      <td>-5.360272</td>\n",
              "      <td>5.391540</td>\n",
              "      <td>15.391683</td>\n",
              "      <td>26.957699</td>\n",
              "    </tr>\n",
              "    <tr>\n",
              "      <th>9999</th>\n",
              "      <td>-6.725083</td>\n",
              "      <td>3.810336</td>\n",
              "      <td>-7.357701</td>\n",
              "      <td>9.929943</td>\n",
              "      <td>5.235598</td>\n",
              "      <td>-7.008766</td>\n",
              "      <td>-3.975769</td>\n",
              "      <td>1.350686</td>\n",
              "      <td>5.562501</td>\n",
              "      <td>10.356916</td>\n",
              "      <td>2.204121</td>\n",
              "      <td>7.177307</td>\n",
              "      <td>-2.864131</td>\n",
              "      <td>-3.019604</td>\n",
              "      <td>9.236347</td>\n",
              "      <td>-1.472736</td>\n",
              "      <td>-5.015611</td>\n",
              "      <td>6.067998</td>\n",
              "      <td>-5.397748</td>\n",
              "      <td>7.483631</td>\n",
              "      <td>-9.301822</td>\n",
              "      <td>3.447087</td>\n",
              "      <td>0.156512</td>\n",
              "      <td>-2.315479</td>\n",
              "      <td>-1.732602</td>\n",
              "      <td>8.780604</td>\n",
              "      <td>9.620672</td>\n",
              "      <td>43.903021</td>\n",
              "    </tr>\n",
              "  </tbody>\n",
              "</table>\n",
              "<p>10000 rows × 28 columns</p>\n",
              "</div>"
            ],
            "text/plain": [
              "            0         1         2   ...        25         26         27\n",
              "0     0.746081  1.963649 -3.176159  ...  0.450328   5.927297   2.251642\n",
              "1    -4.807520  3.760107 -5.621673  ...  6.044223   9.520215  30.221117\n",
              "2     5.593417 -4.931845 -8.901668  ...  2.319351  -7.863690  11.596756\n",
              "3     2.719730 -2.958296  7.403377  ...  7.801703  -3.916593  39.008513\n",
              "4    -8.595029  7.107728  1.542347  ...  6.648780  16.215457  33.243901\n",
              "...        ...       ...       ...  ...       ...        ...        ...\n",
              "9995 -2.416864  5.567816 -6.360796  ... -7.222291  13.135633 -36.111456\n",
              "9996  2.186832 -5.586467  8.024322  ...  8.500479  -9.172934  42.502396\n",
              "9997 -5.381866  5.906657  2.799436  ... -7.220183  13.813313 -36.100917\n",
              "9998 -4.497349  6.695842  2.452071  ...  5.391540  15.391683  26.957699\n",
              "9999 -6.725083  3.810336 -7.357701  ...  8.780604   9.620672  43.903021\n",
              "\n",
              "[10000 rows x 28 columns]"
            ]
          },
          "metadata": {
            "tags": []
          },
          "execution_count": 66
        }
      ]
    },
    {
      "cell_type": "markdown",
      "metadata": {
        "id": "JGROOoES6GIH"
      },
      "source": [
        "##Clustering data แล้วต่อด้วยการทำ Visualize เพื่อให้ข้อมูลออกมา ในรปแบบที่เป็น 2 มิติ"
      ]
    },
    {
      "cell_type": "markdown",
      "metadata": {
        "id": "Sok-bWok6fy2"
      },
      "source": [
        "##Import"
      ]
    },
    {
      "cell_type": "markdown",
      "metadata": {
        "id": "2U7aB_Mm6kg2"
      },
      "source": [
        "##Import funcion ที่ใช้ในการทำ K-mean "
      ]
    },
    {
      "cell_type": "markdown",
      "metadata": {
        "id": "nLBFO8076wcj"
      },
      "source": [
        "##DATA มากจาก sklearn.cluster"
      ]
    },
    {
      "cell_type": "code",
      "metadata": {
        "id": "Y_sGS58Y67d_"
      },
      "source": [
        "from sklearn.cluster import KMeans"
      ],
      "execution_count": 42,
      "outputs": []
    },
    {
      "cell_type": "markdown",
      "metadata": {
        "id": "3qekW2oP7H88"
      },
      "source": [
        "##Defind\n",
        "**เพื่อกำหนดค่า K"
      ]
    },
    {
      "cell_type": "code",
      "metadata": {
        "id": "cgr5TkKG7UO7"
      },
      "source": [
        "Kmeans = KMeans(n_clusters  =  5, random_state = 2021 )"
      ],
      "execution_count": 43,
      "outputs": []
    },
    {
      "cell_type": "code",
      "metadata": {
        "id": "jUARadkFEuyJ",
        "colab": {
          "base_uri": "https://localhost:8080/"
        },
        "outputId": "cc850be2-f325-4633-9de2-dbe9a30c8059"
      },
      "source": [
        "Kmeans.fit(Data)"
      ],
      "execution_count": 44,
      "outputs": [
        {
          "output_type": "execute_result",
          "data": {
            "text/plain": [
              "KMeans(algorithm='auto', copy_x=True, init='k-means++', max_iter=300,\n",
              "       n_clusters=5, n_init=10, n_jobs=None, precompute_distances='auto',\n",
              "       random_state=2021, tol=0.0001, verbose=0)"
            ]
          },
          "metadata": {
            "tags": []
          },
          "execution_count": 44
        }
      ]
    },
    {
      "cell_type": "markdown",
      "metadata": {
        "id": "Vfc1rpww83xw"
      },
      "source": [
        "##จุดที่คำนวณได้"
      ]
    },
    {
      "cell_type": "code",
      "metadata": {
        "colab": {
          "base_uri": "https://localhost:8080/"
        },
        "id": "JdGBmVdk81jg",
        "outputId": "e7eea956-8b5d-4b7e-d4a6-d57f820f6fb0"
      },
      "source": [
        "Kmeans.cluster_centers_"
      ],
      "execution_count": 45,
      "outputs": [
        {
          "output_type": "execute_result",
          "data": {
            "text/plain": [
              "array([[ -3.74230115,   5.78649129,  -6.94085527,   2.13450369,\n",
              "          3.40389707,  -4.22696688,  -8.5499172 ,  -5.17579621,\n",
              "          8.44874267,   0.95339396,  -0.61889975,  -8.08146135,\n",
              "          9.3958979 ,  -2.76432562,   7.46979947,  -6.6563544 ,\n",
              "          2.87198356,   9.085865  ,   2.12760119,  -4.1052084 ,\n",
              "         -6.76361083,   1.65133596,  -6.25738954,  -2.35432573,\n",
              "         -4.55230999,  -8.7077212 ,  13.57298258, -43.53860602],\n",
              "       [  4.46871173,  -3.10601333,   0.62599241,  -1.33081726,\n",
              "          4.60224799,   6.23763047,   0.42282574,   6.44556786,\n",
              "         -8.74566491,  -7.64774869,  -8.07235523,   5.02419226,\n",
              "          5.53358584,  -4.14875876,   0.73588393,  -1.62670776,\n",
              "          6.22143004,   0.87122864,   0.10090318,   0.72166175,\n",
              "          5.54175152,   3.68234552,   7.79434691,  -1.41692966,\n",
              "         -4.48201227,   6.87854786,  -4.21202667,  34.39273928],\n",
              "       [  4.37215271,  -1.56559782,  -5.79713694,  -6.25838349,\n",
              "          1.25154084,   4.97718325,   5.81315342,  -6.45105564,\n",
              "         -0.50402151,   0.29868342,  -3.77004957,   3.51344297,\n",
              "          9.3880859 ,   6.84447341,   2.68215261,  -1.45613735,\n",
              "          5.28621682,  -0.69259988,  -3.43392257,   5.28050486,\n",
              "          6.58444555,   8.33707966,  -4.87968059,   5.43225051,\n",
              "          3.93671977,   1.86089037,  -1.13119565,   9.30445185],\n",
              "       [ -1.80226578,   2.27316714,   5.67902885,   0.69987178,\n",
              "          3.25444464,  -1.27205232,  -1.95942163,   3.30909814,\n",
              "         -3.41731935,  -0.27120998,  -1.73379859,  -0.45173567,\n",
              "         -3.49002943,   3.58271263,   2.08624059,  -3.76141458,\n",
              "         -1.98042425,   5.82847131,  -1.48242948,  -0.33581681,\n",
              "         -2.64099411,  -0.74468394,   3.16746517,   1.50476922,\n",
              "          1.69422104,  -3.19664474,   6.54633428, -15.98322368],\n",
              "       [ -5.95556888,   5.56207864,  -1.57684201,   2.38194302,\n",
              "         -1.43270299,  -4.40568174,   2.28092636,  -1.92609059,\n",
              "          7.81505581,   9.56667138,  -0.13885343,   6.67954466,\n",
              "         -5.75595608,  -1.650185  ,   5.6026825 ,   3.80421957,\n",
              "         -1.95880604,  -0.3750818 ,  -0.79068849,   0.2107146 ,\n",
              "         -2.89554053,  -3.21039346,   0.39305327,  -3.82085458,\n",
              "         -3.52024674,   6.36797106,  13.12415727,  31.83985531]])"
            ]
          },
          "metadata": {
            "tags": []
          },
          "execution_count": 45
        }
      ]
    },
    {
      "cell_type": "markdown",
      "metadata": {
        "id": "qUdnsE3y7R7I"
      },
      "source": [
        "##การจัดกลุ่มของ DATA"
      ]
    },
    {
      "cell_type": "code",
      "metadata": {
        "colab": {
          "base_uri": "https://localhost:8080/"
        },
        "id": "P3awMzbo9hLB",
        "outputId": "f09f2d12-b00e-4a06-e912-4b062eddf65e"
      },
      "source": [
        "y = Kmeans.predict(Data)\n",
        "y"
      ],
      "execution_count": 48,
      "outputs": [
        {
          "output_type": "execute_result",
          "data": {
            "text/plain": [
              "array([2, 4, 2, ..., 3, 4, 4], dtype=int32)"
            ]
          },
          "metadata": {
            "tags": []
          },
          "execution_count": 48
        }
      ]
    },
    {
      "cell_type": "markdown",
      "metadata": {
        "id": "9u8zvBbj91xG"
      },
      "source": [
        "##PCA เพื่อลด DIMENTION"
      ]
    },
    {
      "cell_type": "code",
      "metadata": {
        "id": "6-IAOP7T-MNH"
      },
      "source": [
        "from sklearn.decomposition import PCA"
      ],
      "execution_count": 72,
      "outputs": []
    },
    {
      "cell_type": "code",
      "metadata": {
        "id": "6AeNelKh-XQU"
      },
      "source": [
        "pca= PCA(n_components=4 )"
      ],
      "execution_count": 73,
      "outputs": []
    },
    {
      "cell_type": "code",
      "metadata": {
        "id": "AXmb2vry-t_j"
      },
      "source": [
        "new_pca2 = pca.fit_transform(Data)"
      ],
      "execution_count": 85,
      "outputs": []
    },
    {
      "cell_type": "code",
      "metadata": {
        "colab": {
          "base_uri": "https://localhost:8080/",
          "height": 306
        },
        "id": "lDTLJMkD-2SB",
        "outputId": "a81c620d-4fbe-44b3-9b0f-f863cfc5a3d8"
      },
      "source": [
        "Kmeans = KMeans(random_state = 2021)\n",
        "Kmeans.fit(Data)\n",
        "y = Kmeans.predict(Data)\n",
        "Data.scatter(new_pca2[:,0] ,new_pca2[:,1] , c=y)"
      ],
      "execution_count": 90,
      "outputs": [
        {
          "output_type": "error",
          "ename": "AttributeError",
          "evalue": "ignored",
          "traceback": [
            "\u001b[0;31m---------------------------------------------------------------------------\u001b[0m",
            "\u001b[0;31mAttributeError\u001b[0m                            Traceback (most recent call last)",
            "\u001b[0;32m<ipython-input-90-c781583d8a16>\u001b[0m in \u001b[0;36m<module>\u001b[0;34m()\u001b[0m\n\u001b[1;32m      2\u001b[0m \u001b[0mKmeans\u001b[0m\u001b[0;34m.\u001b[0m\u001b[0mfit\u001b[0m\u001b[0;34m(\u001b[0m\u001b[0mData\u001b[0m\u001b[0;34m)\u001b[0m\u001b[0;34m\u001b[0m\u001b[0;34m\u001b[0m\u001b[0m\n\u001b[1;32m      3\u001b[0m \u001b[0my\u001b[0m \u001b[0;34m=\u001b[0m \u001b[0mKmeans\u001b[0m\u001b[0;34m.\u001b[0m\u001b[0mpredict\u001b[0m\u001b[0;34m(\u001b[0m\u001b[0mData\u001b[0m\u001b[0;34m)\u001b[0m\u001b[0;34m\u001b[0m\u001b[0;34m\u001b[0m\u001b[0m\n\u001b[0;32m----> 4\u001b[0;31m \u001b[0mData\u001b[0m\u001b[0;34m.\u001b[0m\u001b[0mscatter\u001b[0m\u001b[0;34m(\u001b[0m\u001b[0mnew_pca2\u001b[0m\u001b[0;34m[\u001b[0m\u001b[0;34m:\u001b[0m\u001b[0;34m,\u001b[0m\u001b[0;36m0\u001b[0m\u001b[0;34m]\u001b[0m \u001b[0;34m,\u001b[0m\u001b[0mnew_pca2\u001b[0m\u001b[0;34m[\u001b[0m\u001b[0;34m:\u001b[0m\u001b[0;34m,\u001b[0m\u001b[0;36m1\u001b[0m\u001b[0;34m]\u001b[0m \u001b[0;34m,\u001b[0m \u001b[0mc\u001b[0m\u001b[0;34m=\u001b[0m\u001b[0my\u001b[0m\u001b[0;34m)\u001b[0m\u001b[0;34m\u001b[0m\u001b[0;34m\u001b[0m\u001b[0m\n\u001b[0m",
            "\u001b[0;32m/usr/local/lib/python3.7/dist-packages/pandas/core/generic.py\u001b[0m in \u001b[0;36m__getattr__\u001b[0;34m(self, name)\u001b[0m\n\u001b[1;32m   5139\u001b[0m             \u001b[0;32mif\u001b[0m \u001b[0mself\u001b[0m\u001b[0;34m.\u001b[0m\u001b[0m_info_axis\u001b[0m\u001b[0;34m.\u001b[0m\u001b[0m_can_hold_identifiers_and_holds_name\u001b[0m\u001b[0;34m(\u001b[0m\u001b[0mname\u001b[0m\u001b[0;34m)\u001b[0m\u001b[0;34m:\u001b[0m\u001b[0;34m\u001b[0m\u001b[0;34m\u001b[0m\u001b[0m\n\u001b[1;32m   5140\u001b[0m                 \u001b[0;32mreturn\u001b[0m \u001b[0mself\u001b[0m\u001b[0;34m[\u001b[0m\u001b[0mname\u001b[0m\u001b[0;34m]\u001b[0m\u001b[0;34m\u001b[0m\u001b[0;34m\u001b[0m\u001b[0m\n\u001b[0;32m-> 5141\u001b[0;31m             \u001b[0;32mreturn\u001b[0m \u001b[0mobject\u001b[0m\u001b[0;34m.\u001b[0m\u001b[0m__getattribute__\u001b[0m\u001b[0;34m(\u001b[0m\u001b[0mself\u001b[0m\u001b[0;34m,\u001b[0m \u001b[0mname\u001b[0m\u001b[0;34m)\u001b[0m\u001b[0;34m\u001b[0m\u001b[0;34m\u001b[0m\u001b[0m\n\u001b[0m\u001b[1;32m   5142\u001b[0m \u001b[0;34m\u001b[0m\u001b[0m\n\u001b[1;32m   5143\u001b[0m     \u001b[0;32mdef\u001b[0m \u001b[0m__setattr__\u001b[0m\u001b[0;34m(\u001b[0m\u001b[0mself\u001b[0m\u001b[0;34m,\u001b[0m \u001b[0mname\u001b[0m\u001b[0;34m:\u001b[0m \u001b[0mstr\u001b[0m\u001b[0;34m,\u001b[0m \u001b[0mvalue\u001b[0m\u001b[0;34m)\u001b[0m \u001b[0;34m->\u001b[0m \u001b[0;32mNone\u001b[0m\u001b[0;34m:\u001b[0m\u001b[0;34m\u001b[0m\u001b[0;34m\u001b[0m\u001b[0m\n",
            "\u001b[0;31mAttributeError\u001b[0m: 'DataFrame' object has no attribute 'scatter'"
          ]
        }
      ]
    },
    {
      "cell_type": "code",
      "metadata": {
        "id": "ipuvgU0IAuyM"
      },
      "source": [
        ""
      ],
      "execution_count": null,
      "outputs": []
    }
  ]
}