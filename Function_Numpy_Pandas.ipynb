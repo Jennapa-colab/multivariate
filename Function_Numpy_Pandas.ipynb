{
  "nbformat": 4,
  "nbformat_minor": 0,
  "metadata": {
    "colab": {
      "name": "Function_Numpy_Pandas.ipynb",
      "provenance": [],
      "authorship_tag": "ABX9TyM9VIDMUQGKV16QY+2MfYZY",
      "include_colab_link": true
    },
    "kernelspec": {
      "name": "python3",
      "display_name": "Python 3"
    }
  },
  "cells": [
    {
      "cell_type": "markdown",
      "metadata": {
        "id": "view-in-github",
        "colab_type": "text"
      },
      "source": [
        "<a href=\"https://colab.research.google.com/github/Jennapa-colab/multivariate/blob/main/Function_Numpy_Pandas.ipynb\" target=\"_parent\"><img src=\"https://colab.research.google.com/assets/colab-badge.svg\" alt=\"Open In Colab\"/></a>"
      ]
    },
    {
      "cell_type": "markdown",
      "metadata": {
        "id": "1BWbuMpqSqPY"
      },
      "source": [
        "**Function**"
      ]
    },
    {
      "cell_type": "markdown",
      "metadata": {
        "id": "36Df3_AqS8uN"
      },
      "source": [
        "         def function_name(_Input_) :\r\n",
        "         do_something with _Input_to get _ Output_\r\n",
        "         return_Output_"
      ]
    },
    {
      "cell_type": "markdown",
      "metadata": {
        "id": "2J2VWZW9Twzo"
      },
      "source": [
        "         **Function มีส่วนสำคัญทั้งหมด 4 ส่วน**\n",
        "        1.บอก python ว่าเราจะเขียนฟังก์ชั่น ชื่ออะไร def function_name(): (ขาดไม่ได้)\n",
        "        2.กำหนดตัวแปรที่จะเป็น input Input (ขาดได้)\n",
        "        3.ส่วนประมวลผล do_something with Input to get Output (ขาดไม่ได้)\n",
        "        4.ส่วน output return Output(ขาดได้)\n",
        "เราใช้ เว้นวรรค (indent) เพื่อบอกขอบเขตของ code"
      ]
    },
    {
      "cell_type": "code",
      "metadata": {
        "id": "_DcY6wxQSIy7"
      },
      "source": [
        "def print_name(name,surname,ID):\r\n",
        "  st = f'ชื่อ {name} นามสกุล {surname} ID {ID}'\r\n",
        "  return st"
      ],
      "execution_count": null,
      "outputs": []
    },
    {
      "cell_type": "code",
      "metadata": {
        "colab": {
          "base_uri": "https://localhost:8080/",
          "height": 38
        },
        "id": "m-VBzpSOVXe6",
        "outputId": "b558b860-5069-4b13-b8b2-a0c19bf0c77b"
      },
      "source": [
        "print_name('เจนนภา', 'พุนานิล' , '623020515-3')"
      ],
      "execution_count": null,
      "outputs": [
        {
          "output_type": "execute_result",
          "data": {
            "application/vnd.google.colaboratory.intrinsic+json": {
              "type": "string"
            },
            "text/plain": [
              "'ชื่อ เจนนภา นามสกุล พุนานิล ID 623020515-3'"
            ]
          },
          "metadata": {
            "tags": []
          },
          "execution_count": 12
        }
      ]
    },
    {
      "cell_type": "code",
      "metadata": {
        "colab": {
          "base_uri": "https://localhost:8080/"
        },
        "id": "cTD9MD5oXBjd",
        "outputId": "b263fffb-2ec2-49f5-cc71-8c68d2c87995"
      },
      "source": [
        "output_string = print_name('เจนนภา' ,'พุนานิล','623020515-3')\r\n",
        "print(output_string)"
      ],
      "execution_count": null,
      "outputs": [
        {
          "output_type": "stream",
          "text": [
            "ชื่อ เจนนภา นามสกุล พุนานิล ID 623020515-3\n"
          ],
          "name": "stdout"
        }
      ]
    },
    {
      "cell_type": "code",
      "metadata": {
        "id": "F1VHHLPCXeZq"
      },
      "source": [
        "def print_name2(surname,ID,name):\r\n",
        "  st=f'ชื่อ {name} นามสกุล {surname} รหัส {ID}'\r\n",
        "  print(st)"
      ],
      "execution_count": null,
      "outputs": []
    },
    {
      "cell_type": "code",
      "metadata": {
        "colab": {
          "base_uri": "https://localhost:8080/"
        },
        "id": "gNKXbXfFX-Ps",
        "outputId": "86363dc2-8886-422c-b227-8aa7077f9839"
      },
      "source": [
        "print_name2('เจนนภา' , 'พุนานิล' , '623020515-3')"
      ],
      "execution_count": null,
      "outputs": [
        {
          "output_type": "stream",
          "text": [
            "ชื่อ 623020515-3 นามสกุล เจนนภา รหัส พุนานิล\n"
          ],
          "name": "stdout"
        }
      ]
    },
    {
      "cell_type": "code",
      "metadata": {
        "colab": {
          "base_uri": "https://localhost:8080/"
        },
        "id": "3Rz3ewZ9YThz",
        "outputId": "263a48a6-5f25-44df-e9d2-3fb3ce0a52e9"
      },
      "source": [
        "op2=print_name2('เจนนภา' , 'พุนานิล' , '623020515-3')"
      ],
      "execution_count": null,
      "outputs": [
        {
          "output_type": "stream",
          "text": [
            "ชื่อ 623020515-3 นามสกุล เจนนภา รหัส พุนานิล\n"
          ],
          "name": "stdout"
        }
      ]
    },
    {
      "cell_type": "code",
      "metadata": {
        "colab": {
          "base_uri": "https://localhost:8080/"
        },
        "id": "ZZ1_9gomYvkD",
        "outputId": "5bc2a427-3369-4db6-f68d-c03e0a624756"
      },
      "source": [
        "print(op2)"
      ],
      "execution_count": null,
      "outputs": [
        {
          "output_type": "stream",
          "text": [
            "None\n"
          ],
          "name": "stdout"
        }
      ]
    },
    {
      "cell_type": "markdown",
      "metadata": {
        "id": "bMSQz4lhZQYG"
      },
      "source": [
        "**ฟังก์ชันไม่จำเป็นต้องมี input**"
      ]
    },
    {
      "cell_type": "code",
      "metadata": {
        "id": "-X_HkPSYY90d"
      },
      "source": [
        "def Pi():\r\n",
        "  return 3.14159265359"
      ],
      "execution_count": null,
      "outputs": []
    },
    {
      "cell_type": "code",
      "metadata": {
        "colab": {
          "base_uri": "https://localhost:8080/"
        },
        "id": "SDVTnHc5ZOd8",
        "outputId": "bb7ff773-9c51-4825-e8a9-bd5b186417f0"
      },
      "source": [
        "#คำนวณพื้นที่วงกลมที่มีขนาดเส้นผ่านศูนย์กลางเท่ากับ 3\r\n",
        "Pi()*(1.5**2)"
      ],
      "execution_count": null,
      "outputs": [
        {
          "output_type": "execute_result",
          "data": {
            "text/plain": [
              "7.0685834705775"
            ]
          },
          "metadata": {
            "tags": []
          },
          "execution_count": 28
        }
      ]
    },
    {
      "cell_type": "code",
      "metadata": {
        "id": "MwP7AtITZ-DC"
      },
      "source": [
        "def print_my_name():\r\n",
        "  print('เจนนภา พุนานิล ID 623020515-3')"
      ],
      "execution_count": null,
      "outputs": []
    },
    {
      "cell_type": "code",
      "metadata": {
        "colab": {
          "base_uri": "https://localhost:8080/"
        },
        "id": "aEGcefqOaPBg",
        "outputId": "c6af182f-9f02-4859-e9cc-cf61534f564e"
      },
      "source": [
        "print_my_name()"
      ],
      "execution_count": null,
      "outputs": [
        {
          "output_type": "stream",
          "text": [
            "เจนนภา พุนานิล ID 623020515-3\n"
          ],
          "name": "stdout"
        }
      ]
    },
    {
      "cell_type": "markdown",
      "metadata": {
        "id": "NRzpEfpHaVNi"
      },
      "source": [
        "**input ของ function ใน phython ที่จำเป็นต้องใส่ กับ input ที่ไม่จำเป็นต้องใส่(มีค่า default)**\r\n",
        "**เราต้องเรียบ input ที่จำเป็นต้องใส่ขึ้น**"
      ]
    },
    {
      "cell_type": "code",
      "metadata": {
        "id": "-GkMrN92aUlD"
      },
      "source": [
        "def print_21ines_default(name, surname, grade='F'):\r\n",
        "  st=f'ชื่อ{name} นามสกุล{surname} รหัส{ID}'\r\n",
        "  print(st)\r\n",
        "  st2=f'เกรดวิชา Mutivariat >>>{grade}'\r\n",
        "  print(st2)\r\n"
      ],
      "execution_count": null,
      "outputs": []
    },
    {
      "cell_type": "markdown",
      "metadata": {
        "id": "crYB6hI5c2Yg"
      },
      "source": [
        "      HW3 ให้เขียน Function คำนวณจำนวนวินาที เวลาต่อไปนี้\r\n",
        "          '14-15-31'\r\n",
        "          '13-00-01'\r\n",
        "          '05-49-44'\r\n",
        "          '00-00-16'\r\n",
        "           และ print ให้สวยงาม"
      ]
    },
    {
      "cell_type": "code",
      "metadata": {
        "id": "SYs1sDohc13t"
      },
      "source": [
        " def print_time(time):\n",
        "    st = time.split('-')\n",
        "    answer = int(st[0]) * 3600 + int(st[1]) * 60 +int(st[2])\n",
        "    print(f'{time} คำนวณเป็นจำนวนวินาทีได้เท่ากับ {answer} วินาที ')"
      ],
      "execution_count": null,
      "outputs": []
    },
    {
      "cell_type": "code",
      "metadata": {
        "id": "RavVqjIGp5bB",
        "colab": {
          "base_uri": "https://localhost:8080/"
        },
        "outputId": "c0b0275f-648a-40c1-8a2b-3c1fb54e4304"
      },
      "source": [
        " print_time('14-15-31')"
      ],
      "execution_count": null,
      "outputs": [
        {
          "output_type": "stream",
          "text": [
            "14-15-31 คำนวณเป็นจำนวนวินาทีได้เท่ากับ 51331 วินาที \n"
          ],
          "name": "stdout"
        }
      ]
    },
    {
      "cell_type": "code",
      "metadata": {
        "id": "jgOgpPVHqDKf",
        "colab": {
          "base_uri": "https://localhost:8080/"
        },
        "outputId": "19106dcd-8317-4d80-f666-42a0b1e32655"
      },
      "source": [
        "print_time('13-00-01')"
      ],
      "execution_count": null,
      "outputs": [
        {
          "output_type": "stream",
          "text": [
            "13-00-01 คำนวณเป็นจำนวนวินาทีได้เท่ากับ 46801 วินาที \n"
          ],
          "name": "stdout"
        }
      ]
    },
    {
      "cell_type": "code",
      "metadata": {
        "id": "Zbbv6exOqH1V",
        "colab": {
          "base_uri": "https://localhost:8080/"
        },
        "outputId": "692c1c68-2a4e-41c9-cb12-0d63cf9935eb"
      },
      "source": [
        " print_time('05-49-44')"
      ],
      "execution_count": null,
      "outputs": [
        {
          "output_type": "stream",
          "text": [
            "05-49-44 คำนวณเป็นจำนวนวินาทีได้เท่ากับ 20984 วินาที \n"
          ],
          "name": "stdout"
        }
      ]
    },
    {
      "cell_type": "code",
      "metadata": {
        "id": "gtPRNSfwqMxC",
        "colab": {
          "base_uri": "https://localhost:8080/"
        },
        "outputId": "9c087135-d32f-40be-c08e-53c757ee9c7b"
      },
      "source": [
        " print_time('00-00-16')"
      ],
      "execution_count": null,
      "outputs": [
        {
          "output_type": "stream",
          "text": [
            "00-00-16 คำนวณเป็นจำนวนวินาทีได้เท่ากับ 16 วินาที \n"
          ],
          "name": "stdout"
        }
      ]
    },
    {
      "cell_type": "markdown",
      "metadata": {
        "id": "z9KGNHjPD0TY"
      },
      "source": [
        "**Numpy -> package สำหรับจัดการกับ Array ที่เป็นตัวเลข (Matrix)¶ **\n",
        "\n",
        "Num + py -> Number-Numerical + python\n",
        "\n",
        "การใช้ package\n",
        "\n",
        "      1.import ชื่อ package #เรียกใช้ package\n",
        "      2.ชื่อ package , ชื่อฟังก์ชั่น #เรียกใช้ function\n",
        "\n"
      ]
    },
    {
      "cell_type": "code",
      "metadata": {
        "id": "HKTJoakPERER"
      },
      "source": [
        "import numpy"
      ],
      "execution_count": null,
      "outputs": []
    },
    {
      "cell_type": "markdown",
      "metadata": {
        "id": "iRzIgtj_EXkN"
      },
      "source": [
        "    data structure -> array\n",
        "    สร้าง array(numpy array)\n",
        "\n",
        "\n",
        "\n"
      ]
    },
    {
      "cell_type": "code",
      "metadata": {
        "id": "jb4ABGKGRFwL",
        "outputId": "6e9701c8-63c3-4890-c96e-448880170f18",
        "colab": {
          "base_uri": "https://localhost:8080/"
        }
      },
      "source": [
        "mat_ex1 = numpy.array([[5.2,3.0,4.5],[9.1,0.1,0.3]])\n",
        "print(mat_ex1)"
      ],
      "execution_count": 33,
      "outputs": [
        {
          "output_type": "stream",
          "text": [
            "[[5.2 3.  4.5]\n",
            " [9.1 0.1 0.3]]\n"
          ],
          "name": "stdout"
        }
      ]
    },
    {
      "cell_type": "markdown",
      "metadata": {
        "id": "Rl1tkKu-SL7G"
      },
      "source": [
        "**ชี้ค่าใน numpy array**"
      ]
    },
    {
      "cell_type": "code",
      "metadata": {
        "id": "mOKNlJtwS77x",
        "outputId": "864e168b-fcc5-47f0-8a53-0b8bfd430619",
        "colab": {
          "base_uri": "https://localhost:8080/"
        }
      },
      "source": [
        "mat_ex1[1,1] #[แถว,หลัก]"
      ],
      "execution_count": 34,
      "outputs": [
        {
          "output_type": "execute_result",
          "data": {
            "text/plain": [
              "0.1"
            ]
          },
          "metadata": {
            "tags": []
          },
          "execution_count": 34
        }
      ]
    },
    {
      "cell_type": "markdown",
      "metadata": {
        "id": "XkUXhi09TEnI"
      },
      "source": [
        "*ถ้าไม่มี numpy array*"
      ]
    },
    {
      "cell_type": "code",
      "metadata": {
        "id": "epE4hT_5TLrW",
        "outputId": "f81e4128-1703-4fb4-ef54-02f6a850a3dd",
        "colab": {
          "base_uri": "https://localhost:8080/"
        }
      },
      "source": [
        "list_ex1 = [[5.2,3.0,4.5],[9.1,0.1,0.3]]\n",
        "print(list_ex1)\n"
      ],
      "execution_count": 35,
      "outputs": [
        {
          "output_type": "stream",
          "text": [
            "[[5.2, 3.0, 4.5], [9.1, 0.1, 0.3]]\n"
          ],
          "name": "stdout"
        }
      ]
    },
    {
      "cell_type": "code",
      "metadata": {
        "id": "xtSIuVJNTS5Y",
        "outputId": "5d9f7909-46b8-4dbf-a421-5f33e44850b7",
        "colab": {
          "base_uri": "https://localhost:8080/",
          "height": 171
        }
      },
      "source": [
        "list_ex1[1,1]"
      ],
      "execution_count": 36,
      "outputs": [
        {
          "output_type": "error",
          "ename": "TypeError",
          "evalue": "ignored",
          "traceback": [
            "\u001b[0;31m---------------------------------------------------------------------------\u001b[0m",
            "\u001b[0;31mTypeError\u001b[0m                                 Traceback (most recent call last)",
            "\u001b[0;32m<ipython-input-36-0fb0b321fd3a>\u001b[0m in \u001b[0;36m<module>\u001b[0;34m()\u001b[0m\n\u001b[0;32m----> 1\u001b[0;31m \u001b[0mlist_ex1\u001b[0m\u001b[0;34m[\u001b[0m\u001b[0;36m1\u001b[0m\u001b[0;34m,\u001b[0m\u001b[0;36m1\u001b[0m\u001b[0;34m]\u001b[0m\u001b[0;34m\u001b[0m\u001b[0;34m\u001b[0m\u001b[0m\n\u001b[0m",
            "\u001b[0;31mTypeError\u001b[0m: list indices must be integers or slices, not tuple"
          ]
        }
      ]
    },
    {
      "cell_type": "code",
      "metadata": {
        "id": "D9omFUNkTZz6",
        "outputId": "6636cead-fab4-49de-e68b-7331538cc296",
        "colab": {
          "base_uri": "https://localhost:8080/"
        }
      },
      "source": [
        "list_ex1[1][1]"
      ],
      "execution_count": 38,
      "outputs": [
        {
          "output_type": "execute_result",
          "data": {
            "text/plain": [
              "0.1"
            ]
          },
          "metadata": {
            "tags": []
          },
          "execution_count": 38
        }
      ]
    },
    {
      "cell_type": "code",
      "metadata": {
        "id": "xEDPsZ9BTjOu",
        "outputId": "3b0a025d-230e-440a-a25b-df017c79bae3",
        "colab": {
          "base_uri": "https://localhost:8080/"
        }
      },
      "source": [
        "print(list_ex1)\n",
        "a = list_ex1[1]\n",
        "print(a)\n",
        "print(a[1])"
      ],
      "execution_count": 39,
      "outputs": [
        {
          "output_type": "stream",
          "text": [
            "[[5.2, 3.0, 4.5], [9.1, 0.1, 0.3]]\n",
            "[9.1, 0.1, 0.3]\n",
            "0.1\n"
          ],
          "name": "stdout"
        }
      ]
    },
    {
      "cell_type": "markdown",
      "metadata": {
        "id": "t05GWob4TsYX"
      },
      "source": [
        "**Matrix Operations**\n",
        "\n",
        "data 2 แบบ -> matrix (2D array), scalar (ตัวเลขค่าคงที่)"
      ]
    },
    {
      "cell_type": "code",
      "metadata": {
        "id": "Prq2jyesTveG",
        "outputId": "3722af1f-f696-4abf-9e83-2948e8fbd6e9",
        "colab": {
          "base_uri": "https://localhost:8080/"
        }
      },
      "source": [
        "mat_ex1 = numpy.array([[5.2,3.0,4.5],[9.1,0.1,0.3]])\n",
        "print(mat_ex1)\n",
        "mat_ex2 = numpy.array([[2,3.7,5.9],[91,1.5,7.3]])\n",
        "print(mat_ex2)"
      ],
      "execution_count": 40,
      "outputs": [
        {
          "output_type": "stream",
          "text": [
            "[[5.2 3.  4.5]\n",
            " [9.1 0.1 0.3]]\n",
            "[[ 2.   3.7  5.9]\n",
            " [91.   1.5  7.3]]\n"
          ],
          "name": "stdout"
        }
      ]
    },
    {
      "cell_type": "markdown",
      "metadata": {
        "id": "t85sinsPT9lg"
      },
      "source": [
        "**บวกกับลบ matrix เอาตัวเลขตำแหน่งเดียวกันมาบวกหรือลบกัน**\n",
        "\n",
        "(หน้าตาของ matrix ต้องเหมือนกัน)"
      ]
    },
    {
      "cell_type": "code",
      "metadata": {
        "id": "nIW0fRIPUEDO",
        "outputId": "a0f16abc-25cc-4ff5-85be-3705ca43d4c3",
        "colab": {
          "base_uri": "https://localhost:8080/"
        }
      },
      "source": [
        "mat_ex0 = numpy.array([[1,2],[3,4]])\n",
        "print(mat_ex0)"
      ],
      "execution_count": 41,
      "outputs": [
        {
          "output_type": "stream",
          "text": [
            "[[1 2]\n",
            " [3 4]]\n"
          ],
          "name": "stdout"
        }
      ]
    },
    {
      "cell_type": "code",
      "metadata": {
        "id": "MbM3n2szUNsC",
        "outputId": "8d0c2c09-9367-48c3-cccd-71724c5fd425",
        "colab": {
          "base_uri": "https://localhost:8080/"
        }
      },
      "source": [
        "mat_ex3 = mat_ex1 + mat_ex2\n",
        "print(mat_ex3)\n",
        "mat_ex4 = mat_ex1 - mat_ex2\n",
        "print(mat_ex4)"
      ],
      "execution_count": 42,
      "outputs": [
        {
          "output_type": "stream",
          "text": [
            "[[  7.2   6.7  10.4]\n",
            " [100.1   1.6   7.6]]\n",
            "[[  3.2  -0.7  -1.4]\n",
            " [-81.9  -1.4  -7. ]]\n"
          ],
          "name": "stdout"
        }
      ]
    },
    {
      "cell_type": "code",
      "metadata": {
        "id": "Qrv95-G-UVs2",
        "outputId": "8ce192ce-381e-4ee9-d21e-9b87af05e5d8",
        "colab": {
          "base_uri": "https://localhost:8080/",
          "height": 171
        }
      },
      "source": [
        "mat_ex1 + mat_ex0"
      ],
      "execution_count": 43,
      "outputs": [
        {
          "output_type": "error",
          "ename": "ValueError",
          "evalue": "ignored",
          "traceback": [
            "\u001b[0;31m---------------------------------------------------------------------------\u001b[0m",
            "\u001b[0;31mValueError\u001b[0m                                Traceback (most recent call last)",
            "\u001b[0;32m<ipython-input-43-806ad2057085>\u001b[0m in \u001b[0;36m<module>\u001b[0;34m()\u001b[0m\n\u001b[0;32m----> 1\u001b[0;31m \u001b[0mmat_ex1\u001b[0m \u001b[0;34m+\u001b[0m \u001b[0mmat_ex0\u001b[0m\u001b[0;34m\u001b[0m\u001b[0;34m\u001b[0m\u001b[0m\n\u001b[0m",
            "\u001b[0;31mValueError\u001b[0m: operands could not be broadcast together with shapes (2,3) (2,2) "
          ]
        }
      ]
    },
    {
      "cell_type": "code",
      "metadata": {
        "id": "lZC1Bu8WUaJO",
        "outputId": "4dd048c4-cc11-46d3-b8d7-b987ae122189",
        "colab": {
          "base_uri": "https://localhost:8080/"
        }
      },
      "source": [
        "mat_ex3.shape"
      ],
      "execution_count": 45,
      "outputs": [
        {
          "output_type": "execute_result",
          "data": {
            "text/plain": [
              "(2, 3)"
            ]
          },
          "metadata": {
            "tags": []
          },
          "execution_count": 45
        }
      ]
    },
    {
      "cell_type": "code",
      "metadata": {
        "id": "eAqtahgwUcXP",
        "outputId": "3437fd91-c2a3-4b42-f117-fd9ec5074c56",
        "colab": {
          "base_uri": "https://localhost:8080/"
        }
      },
      "source": [
        "mat_ex3.shape[0]"
      ],
      "execution_count": 46,
      "outputs": [
        {
          "output_type": "execute_result",
          "data": {
            "text/plain": [
              "2"
            ]
          },
          "metadata": {
            "tags": []
          },
          "execution_count": 46
        }
      ]
    },
    {
      "cell_type": "markdown",
      "metadata": {
        "id": "lizaAok1Uiwl"
      },
      "source": [
        "**คูณ Matrix**"
      ]
    },
    {
      "cell_type": "code",
      "metadata": {
        "id": "ekUh4vVZUoI5",
        "outputId": "9d4c7880-9c47-4dbb-8775-0acb7e716815",
        "colab": {
          "base_uri": "https://localhost:8080/"
        }
      },
      "source": [
        "print(mat_ex1)\n",
        "print(mat_ex1.shape)\n",
        "print(mat_ex2)\n",
        "print(mat_ex2.shape)"
      ],
      "execution_count": 47,
      "outputs": [
        {
          "output_type": "stream",
          "text": [
            "[[5.2 3.  4.5]\n",
            " [9.1 0.1 0.3]]\n",
            "(2, 3)\n",
            "[[ 2.   3.7  5.9]\n",
            " [91.   1.5  7.3]]\n",
            "(2, 3)\n"
          ],
          "name": "stdout"
        }
      ]
    },
    {
      "cell_type": "code",
      "metadata": {
        "id": "ACmKEc48Usp3",
        "outputId": "770ead61-7ed1-4a65-be98-d55c4be40bb2",
        "colab": {
          "base_uri": "https://localhost:8080/"
        }
      },
      "source": [
        "mat_ex1 * mat_ex2"
      ],
      "execution_count": 48,
      "outputs": [
        {
          "output_type": "execute_result",
          "data": {
            "text/plain": [
              "array([[1.040e+01, 1.110e+01, 2.655e+01],\n",
              "       [8.281e+02, 1.500e-01, 2.190e+00]])"
            ]
          },
          "metadata": {
            "tags": []
          },
          "execution_count": 48
        }
      ]
    },
    {
      "cell_type": "markdown",
      "metadata": {
        "id": "Ge-5jt0ZUwZ0"
      },
      "source": [
        "**การคูณ matrix (แถวคูณหลัก)**\n",
        "\n",
        "(หลักของ Matrix ตัวข้างหน้า ต้องเท่ากับแถวของ Matrix ตัวข้างหลัง)\n",
        "(AAA,x) . (x,ZZZ) = (AAA,ZZZ)"
      ]
    },
    {
      "cell_type": "code",
      "metadata": {
        "id": "IdO_NPZnUwMm",
        "outputId": "9bacb93e-3f67-4e71-a568-90aeca43dcb3",
        "colab": {
          "base_uri": "https://localhost:8080/",
          "height": 207
        }
      },
      "source": [
        "numpy.dot(mat_ex1,mat_ex2)"
      ],
      "execution_count": 49,
      "outputs": [
        {
          "output_type": "error",
          "ename": "ValueError",
          "evalue": "ignored",
          "traceback": [
            "\u001b[0;31m---------------------------------------------------------------------------\u001b[0m",
            "\u001b[0;31mValueError\u001b[0m                                Traceback (most recent call last)",
            "\u001b[0;32m<ipython-input-49-87326e5d09ab>\u001b[0m in \u001b[0;36m<module>\u001b[0;34m()\u001b[0m\n\u001b[0;32m----> 1\u001b[0;31m \u001b[0mnumpy\u001b[0m\u001b[0;34m.\u001b[0m\u001b[0mdot\u001b[0m\u001b[0;34m(\u001b[0m\u001b[0mmat_ex1\u001b[0m\u001b[0;34m,\u001b[0m\u001b[0mmat_ex2\u001b[0m\u001b[0;34m)\u001b[0m\u001b[0;34m\u001b[0m\u001b[0;34m\u001b[0m\u001b[0m\n\u001b[0m",
            "\u001b[0;32m<__array_function__ internals>\u001b[0m in \u001b[0;36mdot\u001b[0;34m(*args, **kwargs)\u001b[0m\n",
            "\u001b[0;31mValueError\u001b[0m: shapes (2,3) and (2,3) not aligned: 3 (dim 1) != 2 (dim 0)"
          ]
        }
      ]
    },
    {
      "cell_type": "code",
      "metadata": {
        "id": "JcVbwpFDU98P",
        "outputId": "5c1a7ae5-99eb-41bb-e3b6-1867a3c45ab9",
        "colab": {
          "base_uri": "https://localhost:8080/"
        }
      },
      "source": [
        "print(mat_ex1)\n",
        "print(mat_ex1.shape)\n",
        "print(mat_ex2)\n",
        "print(mat_ex2.shape)"
      ],
      "execution_count": 50,
      "outputs": [
        {
          "output_type": "stream",
          "text": [
            "[[5.2 3.  4.5]\n",
            " [9.1 0.1 0.3]]\n",
            "(2, 3)\n",
            "[[ 2.   3.7  5.9]\n",
            " [91.   1.5  7.3]]\n",
            "(2, 3)\n"
          ],
          "name": "stdout"
        }
      ]
    },
    {
      "cell_type": "markdown",
      "metadata": {
        "id": "IFWzNohTVRnX"
      },
      "source": [
        "**Transpose กลับแถวเป็นหลักกลับหลักเป็นแถว**\n",
        "\n",
        "matrix.T"
      ]
    },
    {
      "cell_type": "code",
      "metadata": {
        "id": "KlcX6-zAVXr5",
        "outputId": "1aaa6e18-e597-42d1-ead3-b488f632e2c1",
        "colab": {
          "base_uri": "https://localhost:8080/"
        }
      },
      "source": [
        "print(mat_ex2)\n",
        "print(mat_ex2.shape)"
      ],
      "execution_count": 51,
      "outputs": [
        {
          "output_type": "stream",
          "text": [
            "[[ 2.   3.7  5.9]\n",
            " [91.   1.5  7.3]]\n",
            "(2, 3)\n"
          ],
          "name": "stdout"
        }
      ]
    },
    {
      "cell_type": "code",
      "metadata": {
        "id": "VvjZ5bznVcPD",
        "outputId": "6a0a5683-9f94-4919-ba74-c812cd793f28",
        "colab": {
          "base_uri": "https://localhost:8080/"
        }
      },
      "source": [
        "print(mat_ex2.T)\n",
        "print(mat_ex2.T.shape)"
      ],
      "execution_count": 53,
      "outputs": [
        {
          "output_type": "stream",
          "text": [
            "[[ 2.  91. ]\n",
            " [ 3.7  1.5]\n",
            " [ 5.9  7.3]]\n",
            "(3, 2)\n"
          ],
          "name": "stdout"
        }
      ]
    },
    {
      "cell_type": "code",
      "metadata": {
        "id": "QN5HBHViVjki",
        "outputId": "5f0e8622-080e-4f6a-b5ee-40abb00fe9ce",
        "colab": {
          "base_uri": "https://localhost:8080/"
        }
      },
      "source": [
        "numpy.dot(mat_ex1,mat_ex2.T) #(2,3).(3,2)\n"
      ],
      "execution_count": 55,
      "outputs": [
        {
          "output_type": "execute_result",
          "data": {
            "text/plain": [
              "array([[ 48.05, 510.55],\n",
              "       [ 20.34, 830.44]])"
            ]
          },
          "metadata": {
            "tags": []
          },
          "execution_count": 55
        }
      ]
    },
    {
      "cell_type": "code",
      "metadata": {
        "id": "hNsRQtxTVwcx",
        "outputId": "ccc962c6-49a0-4714-e3f0-d27ad5cd72fb",
        "colab": {
          "base_uri": "https://localhost:8080/"
        }
      },
      "source": [
        "numpy.dot(mat_ex1.T,mat_ex2) #(3,2).(2,3) = (3,3)"
      ],
      "execution_count": 56,
      "outputs": [
        {
          "output_type": "execute_result",
          "data": {
            "text/plain": [
              "array([[838.5 ,  32.89,  97.11],\n",
              "       [ 15.1 ,  11.25,  18.43],\n",
              "       [ 36.3 ,  17.1 ,  28.74]])"
            ]
          },
          "metadata": {
            "tags": []
          },
          "execution_count": 56
        }
      ]
    },
    {
      "cell_type": "markdown",
      "metadata": {
        "id": "sc4tShtRV2sJ"
      },
      "source": [
        "**HW4 อธิบายการหา Determinant และ Inverse matrix (รูป และ คำอธิบาย)**\n",
        "\n",
        "Determinant\n",
        "เป็นค่าที่ได้จากการคำนวณจากเมตริกซ์ที่ กำหนดให้ A เป็น nxn เมตริกซ์ ดีเทอร์มิแนนท์ของเมตริกซ์ A เขียน แทนด้วย det(A) หรือ |A} ดังนี้"
      ]
    },
    {  
      "cell_type": "markdown",
      "metadata": {
        "id": "8L3_MBXbVXev"
      },
      "source": [
        ""
      ]
    }
  ]
}
.md => Markdown

![_] square brackets

( ) parenthe

![image](10.JPG)
![image](11.JPG)
