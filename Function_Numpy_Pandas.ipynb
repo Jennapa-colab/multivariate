{
  "nbformat": 4,
  "nbformat_minor": 0,
  "metadata": {
    "colab": {
      "name": "Function_Numpy_Pandas.ipynb",
      "provenance": [],
      "authorship_tag": "ABX9TyP1oXlleiRhNqPp3PZPJGy2",
      "include_colab_link": true
    },
    "kernelspec": {
      "name": "python3",
      "display_name": "Python 3"
    }
  },
  "cells": [
    {
      "cell_type": "markdown",
      "metadata": {
        "id": "view-in-github",
        "colab_type": "text"
      },
      "source": [
        "<a href=\"https://colab.research.google.com/github/Jennapa-colab/multivariate/blob/main/Function_Numpy_Pandas.ipynb\" target=\"_parent\"><img src=\"https://colab.research.google.com/assets/colab-badge.svg\" alt=\"Open In Colab\"/></a>"
      ]
    },
    {
      "cell_type": "markdown",
      "metadata": {
        "id": "1BWbuMpqSqPY"
      },
      "source": [
        "**Function**"
      ]
    },
    {
      "cell_type": "markdown",
      "metadata": {
        "id": "36Df3_AqS8uN"
      },
      "source": [
        "         def function_name(_Input_) :\r\n",
        "         do_something with _Input_to get _ Output_\r\n",
        "         return_Output_"
      ]
    },
    {
      "cell_type": "markdown",
      "metadata": {
        "id": "2J2VWZW9Twzo"
      },
      "source": [
        "         **Function มีส่วนสำคัญทั้งหมด 4 ส่วน**\n",
        "        1.บอก python ว่าเราจะเขียนฟังก์ชั่น ชื่ออะไร def function_name(): (ขาดไม่ได้)\n",
        "        2.กำหนดตัวแปรที่จะเป็น input Input (ขาดได้)\n",
        "        3.ส่วนประมวลผล do_something with Input to get Output (ขาดไม่ได้)\n",
        "        4.ส่วน output return Output(ขาดได้)\n",
        "เราใช้ เว้นวรรค (indent) เพื่อบอกขอบเขตของ code"
      ]
    },
    {
      "cell_type": "code",
      "metadata": {
        "id": "_DcY6wxQSIy7"
      },
      "source": [
        "def print_name(name,surname,ID):\r\n",
        "  st = f'ชื่อ {name} นามสกุล {surname} ID {ID}'\r\n",
        "  return st"
      ],
      "execution_count": null,
      "outputs": []
    },
    {
      "cell_type": "code",
      "metadata": {
        "colab": {
          "base_uri": "https://localhost:8080/",
          "height": 38
        },
        "id": "m-VBzpSOVXe6",
        "outputId": "b558b860-5069-4b13-b8b2-a0c19bf0c77b"
      },
      "source": [
        "print_name('เจนนภา', 'พุนานิล' , '623020515-3')"
      ],
      "execution_count": null,
      "outputs": [
        {
          "output_type": "execute_result",
          "data": {
            "application/vnd.google.colaboratory.intrinsic+json": {
              "type": "string"
            },
            "text/plain": [
              "'ชื่อ เจนนภา นามสกุล พุนานิล ID 623020515-3'"
            ]
          },
          "metadata": {
            "tags": []
          },
          "execution_count": 12
        }
      ]
    },
    {
      "cell_type": "code",
      "metadata": {
        "colab": {
          "base_uri": "https://localhost:8080/"
        },
        "id": "cTD9MD5oXBjd",
        "outputId": "b263fffb-2ec2-49f5-cc71-8c68d2c87995"
      },
      "source": [
        "output_string = print_name('เจนนภา' ,'พุนานิล','623020515-3')\r\n",
        "print(output_string)"
      ],
      "execution_count": null,
      "outputs": [
        {
          "output_type": "stream",
          "text": [
            "ชื่อ เจนนภา นามสกุล พุนานิล ID 623020515-3\n"
          ],
          "name": "stdout"
        }
      ]
    },
    {
      "cell_type": "code",
      "metadata": {
        "id": "F1VHHLPCXeZq"
      },
      "source": [
        "def print_name2(surname,ID,name):\r\n",
        "  st=f'ชื่อ {name} นามสกุล {surname} รหัส {ID}'\r\n",
        "  print(st)"
      ],
      "execution_count": null,
      "outputs": []
    },
    {
      "cell_type": "code",
      "metadata": {
        "colab": {
          "base_uri": "https://localhost:8080/"
        },
        "id": "gNKXbXfFX-Ps",
        "outputId": "86363dc2-8886-422c-b227-8aa7077f9839"
      },
      "source": [
        "print_name2('เจนนภา' , 'พุนานิล' , '623020515-3')"
      ],
      "execution_count": null,
      "outputs": [
        {
          "output_type": "stream",
          "text": [
            "ชื่อ 623020515-3 นามสกุล เจนนภา รหัส พุนานิล\n"
          ],
          "name": "stdout"
        }
      ]
    },
    {
      "cell_type": "code",
      "metadata": {
        "colab": {
          "base_uri": "https://localhost:8080/"
        },
        "id": "3Rz3ewZ9YThz",
        "outputId": "263a48a6-5f25-44df-e9d2-3fb3ce0a52e9"
      },
      "source": [
        "op2=print_name2('เจนนภา' , 'พุนานิล' , '623020515-3')"
      ],
      "execution_count": null,
      "outputs": [
        {
          "output_type": "stream",
          "text": [
            "ชื่อ 623020515-3 นามสกุล เจนนภา รหัส พุนานิล\n"
          ],
          "name": "stdout"
        }
      ]
    },
    {
      "cell_type": "code",
      "metadata": {
        "colab": {
          "base_uri": "https://localhost:8080/"
        },
        "id": "ZZ1_9gomYvkD",
        "outputId": "5bc2a427-3369-4db6-f68d-c03e0a624756"
      },
      "source": [
        "print(op2)"
      ],
      "execution_count": null,
      "outputs": [
        {
          "output_type": "stream",
          "text": [
            "None\n"
          ],
          "name": "stdout"
        }
      ]
    },
    {
      "cell_type": "markdown",
      "metadata": {
        "id": "bMSQz4lhZQYG"
      },
      "source": [
        "**ฟังก์ชันไม่จำเป็นต้องมี input**"
      ]
    },
    {
      "cell_type": "code",
      "metadata": {
        "id": "-X_HkPSYY90d"
      },
      "source": [
        "def Pi():\r\n",
        "  return 3.14159265359"
      ],
      "execution_count": null,
      "outputs": []
    },
    {
      "cell_type": "code",
      "metadata": {
        "colab": {
          "base_uri": "https://localhost:8080/"
        },
        "id": "SDVTnHc5ZOd8",
        "outputId": "bb7ff773-9c51-4825-e8a9-bd5b186417f0"
      },
      "source": [
        "#คำนวณพื้นที่วงกลมที่มีขนาดเส้นผ่านศูนย์กลางเท่ากับ 3\r\n",
        "Pi()*(1.5**2)"
      ],
      "execution_count": null,
      "outputs": [
        {
          "output_type": "execute_result",
          "data": {
            "text/plain": [
              "7.0685834705775"
            ]
          },
          "metadata": {
            "tags": []
          },
          "execution_count": 28
        }
      ]
    },
    {
      "cell_type": "code",
      "metadata": {
        "id": "MwP7AtITZ-DC"
      },
      "source": [
        "def print_my_name():\r\n",
        "  print('เจนนภา พุนานิล ID 623020515-3')"
      ],
      "execution_count": null,
      "outputs": []
    },
    {
      "cell_type": "code",
      "metadata": {
        "colab": {
          "base_uri": "https://localhost:8080/"
        },
        "id": "aEGcefqOaPBg",
        "outputId": "c6af182f-9f02-4859-e9cc-cf61534f564e"
      },
      "source": [
        "print_my_name()"
      ],
      "execution_count": null,
      "outputs": [
        {
          "output_type": "stream",
          "text": [
            "เจนนภา พุนานิล ID 623020515-3\n"
          ],
          "name": "stdout"
        }
      ]
    },
    {
      "cell_type": "markdown",
      "metadata": {
        "id": "NRzpEfpHaVNi"
      },
      "source": [
        "**input ของ function ใน phython ที่จำเป็นต้องใส่ กับ input ที่ไม่จำเป็นต้องใส่(มีค่า default)**\r\n",
        "**เราต้องเรียบ input ที่จำเป็นต้องใส่ขึ้น**"
      ]
    },
    {
      "cell_type": "code",
      "metadata": {
        "id": "-GkMrN92aUlD"
      },
      "source": [
        "def print_21ines_default(name, surname, grade='F'):\r\n",
        "  st=f'ชื่อ{name} นามสกุล{surname} รหัส{ID}'\r\n",
        "  print(st)\r\n",
        "  st2=f'เกรดวิชา Mutivariat >>>{grade}'\r\n",
        "  print(st2)\r\n"
      ],
      "execution_count": null,
      "outputs": []
    },
    {
      "cell_type": "markdown",
      "metadata": {
        "id": "crYB6hI5c2Yg"
      },
      "source": [
        "      HW3 ให้เขียน Function คำนวณจำนวนวินาที เวลาต่อไปนี้\r\n",
        "          '14-15-31'\r\n",
        "          '13-00-01'\r\n",
        "          '05-49-44'\r\n",
        "          '00-00-16'\r\n",
        "           และ print ให้สวยงาม"
      ]
    },
    {
      "cell_type": "code",
      "metadata": {
        "id": "SYs1sDohc13t"
      },
      "source": [
        " def print_time(time):\n",
        "    st = time.split('-')\n",
        "    answer = int(st[0]) * 3600 + int(st[1]) * 60 +int(st[2])\n",
        "    print(f'{time} คำนวณเป็นจำนวนวินาทีได้เท่ากับ {answer} วินาที ')"
      ],
      "execution_count": null,
      "outputs": []
    },
    {
      "cell_type": "code",
      "metadata": {
        "id": "RavVqjIGp5bB",
        "colab": {
          "base_uri": "https://localhost:8080/"
        },
        "outputId": "c0b0275f-648a-40c1-8a2b-3c1fb54e4304"
      },
      "source": [
        " print_time('14-15-31')"
      ],
      "execution_count": null,
      "outputs": [
        {
          "output_type": "stream",
          "text": [
            "14-15-31 คำนวณเป็นจำนวนวินาทีได้เท่ากับ 51331 วินาที \n"
          ],
          "name": "stdout"
        }
      ]
    },
    {
      "cell_type": "code",
      "metadata": {
        "id": "jgOgpPVHqDKf",
        "colab": {
          "base_uri": "https://localhost:8080/"
        },
        "outputId": "19106dcd-8317-4d80-f666-42a0b1e32655"
      },
      "source": [
        "print_time('13-00-01')"
      ],
      "execution_count": null,
      "outputs": [
        {
          "output_type": "stream",
          "text": [
            "13-00-01 คำนวณเป็นจำนวนวินาทีได้เท่ากับ 46801 วินาที \n"
          ],
          "name": "stdout"
        }
      ]
    },
    {
      "cell_type": "code",
      "metadata": {
        "id": "Zbbv6exOqH1V",
        "colab": {
          "base_uri": "https://localhost:8080/"
        },
        "outputId": "692c1c68-2a4e-41c9-cb12-0d63cf9935eb"
      },
      "source": [
        " print_time('05-49-44')"
      ],
      "execution_count": null,
      "outputs": [
        {
          "output_type": "stream",
          "text": [
            "05-49-44 คำนวณเป็นจำนวนวินาทีได้เท่ากับ 20984 วินาที \n"
          ],
          "name": "stdout"
        }
      ]
    },
    {
      "cell_type": "code",
      "metadata": {
        "id": "gtPRNSfwqMxC",
        "colab": {
          "base_uri": "https://localhost:8080/"
        },
        "outputId": "9c087135-d32f-40be-c08e-53c757ee9c7b"
      },
      "source": [
        " print_time('00-00-16')"
      ],
      "execution_count": null,
      "outputs": [
        {
          "output_type": "stream",
          "text": [
            "00-00-16 คำนวณเป็นจำนวนวินาทีได้เท่ากับ 16 วินาที \n"
          ],
          "name": "stdout"
        }
      ]
    },
    {
      "cell_type": "code",
      "metadata": {
        "id": "BpHsgtVNqQdu",
        "outputId": "11f83924-e9bc-48a3-9266-6648f137e773",
        "colab": {
          "base_uri": "https://localhost:8080/",
          "height": 189
        }
      },
      "source": [
        "mat_ex1 = numy.array[[5.2,3.0,4.5],[9.10,0.1,0.3]]\n",
        "print(mat_ex1)"
      ],
      "execution_count": 10,
      "outputs": [
        {
          "output_type": "error",
          "ename": "NameError",
          "evalue": "ignored",
          "traceback": [
            "\u001b[0;31m---------------------------------------------------------------------------\u001b[0m",
            "\u001b[0;31mNameError\u001b[0m                                 Traceback (most recent call last)",
            "\u001b[0;32m<ipython-input-10-b1585ba8e09c>\u001b[0m in \u001b[0;36m<module>\u001b[0;34m()\u001b[0m\n\u001b[0;32m----> 1\u001b[0;31m \u001b[0mmat_ex1\u001b[0m \u001b[0;34m=\u001b[0m \u001b[0mnumy\u001b[0m\u001b[0;34m.\u001b[0m\u001b[0marray\u001b[0m\u001b[0;34m[\u001b[0m\u001b[0;34m[\u001b[0m\u001b[0;36m5.2\u001b[0m\u001b[0;34m,\u001b[0m\u001b[0;36m3.0\u001b[0m\u001b[0;34m,\u001b[0m\u001b[0;36m4.5\u001b[0m\u001b[0;34m]\u001b[0m\u001b[0;34m,\u001b[0m\u001b[0;34m[\u001b[0m\u001b[0;36m9.10\u001b[0m\u001b[0;34m,\u001b[0m\u001b[0;36m0.1\u001b[0m\u001b[0;34m,\u001b[0m\u001b[0;36m0.3\u001b[0m\u001b[0;34m]\u001b[0m\u001b[0;34m]\u001b[0m\u001b[0;34m\u001b[0m\u001b[0;34m\u001b[0m\u001b[0m\n\u001b[0m\u001b[1;32m      2\u001b[0m \u001b[0mprint\u001b[0m\u001b[0;34m(\u001b[0m\u001b[0mmat_ex1\u001b[0m\u001b[0;34m)\u001b[0m\u001b[0;34m\u001b[0m\u001b[0;34m\u001b[0m\u001b[0m\n",
            "\u001b[0;31mNameError\u001b[0m: name 'numy' is not defined"
          ]
        }
      ]
    },
    {
      "cell_type": "code",
      "metadata": {
        "id": "fOmFYQDbWOag",
        "outputId": "6c5d85d1-14fe-4b5a-a7d3-c446a74775e2",
        "colab": {
          "base_uri": "https://localhost:8080/"
        }
      },
      "source": [
        "list_ex1 = [[5.2,3.0,4.5],[9.1,0.1,0.3]]\n",
        "print(list_ex1)"
      ],
      "execution_count": 12,
      "outputs": [
        {
          "output_type": "stream",
          "text": [
            "[[5.2, 3.0, 4.5], [9.1, 0.1, 0.3]]\n"
          ],
          "name": "stdout"
        }
      ]
    },
    {
      "cell_type": "code",
      "metadata": {
        "id": "qNJLdMc-XGEQ",
        "outputId": "25a653c8-5ca2-47f6-a390-ed99b80be660",
        "colab": {
          "base_uri": "https://localhost:8080/"
        }
      },
      "source": [
        "list_ex1[1][1]"
      ],
      "execution_count": 13,
      "outputs": [
        {
          "output_type": "execute_result",
          "data": {
            "text/plain": [
              "0.1"
            ]
          },
          "metadata": {
            "tags": []
          },
          "execution_count": 13
        }
      ]
    },
    {
      "cell_type": "code",
      "metadata": {
        "id": "N3kzYDGhX1zy",
        "outputId": "280b7c8e-88a6-42ba-87d1-862781ae10c9",
        "colab": {
          "base_uri": "https://localhost:8080/"
        }
      },
      "source": [
        "print(list_ex1)\n",
        "a = list_ex1[1]\n",
        "print(a)\n",
        "print(a[1])"
      ],
      "execution_count": 15,
      "outputs": [
        {
          "output_type": "stream",
          "text": [
            "[[5.2, 3.0, 4.5], [9.1, 0.1, 0.3]]\n",
            "[9.1, 0.1, 0.3]\n",
            "0.1\n"
          ],
          "name": "stdout"
        }
      ]
    },
    {
      "cell_type": "code",
      "metadata": {
        "id": "ChoQSJpYYEsr"
      },
      "source": [
        ""
      ],
      "execution_count": null,
      "outputs": []
    }
  ]
}