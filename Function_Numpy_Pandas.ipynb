{
  "nbformat": 4,
  "nbformat_minor": 0,
  "metadata": {
    "colab": {
      "name": "Function_Numpy_Pandas.ipynb",
      "provenance": [],
      "authorship_tag": "ABX9TyPtPir0V6cCK1eardxidXVd",
      "include_colab_link": true
    },
    "kernelspec": {
      "name": "python3",
      "display_name": "Python 3"
    }
  },
  "cells": [
    {
      "cell_type": "markdown",
      "metadata": {
        "id": "view-in-github",
        "colab_type": "text"
      },
      "source": [
        "<a href=\"https://colab.research.google.com/github/Jennapa-colab/multivariate/blob/main/Function_Numpy_Pandas.ipynb\" target=\"_parent\"><img src=\"https://colab.research.google.com/assets/colab-badge.svg\" alt=\"Open In Colab\"/></a>"
      ]
    },
    {
      "cell_type": "markdown",
      "metadata": {
        "id": "1BWbuMpqSqPY"
      },
      "source": [
        "**Function**"
      ]
    },
    {
      "cell_type": "markdown",
      "metadata": {
        "id": "36Df3_AqS8uN"
      },
      "source": [
        "         def function_name(_Input_) :\r\n",
        "         do_something with _Input_to get _ Output_\r\n",
        "         return_Output_"
      ]
    },
    {
      "cell_type": "markdown",
      "metadata": {
        "id": "2J2VWZW9Twzo"
      },
      "source": [
        "         **Function มีส่วนสำคัญทั้งหมด 4 ส่วน**\r\n",
        "           1.บอก phython ว่าเราจะเขียนฟังก์ชันชื่ออะไร              \r\n",
        "            def function_name():(ขาดไม่ได้)\r\n",
        "            2."
      ]
    },
    {
      "cell_type": "code",
      "metadata": {
        "id": "_DcY6wxQSIy7"
      },
      "source": [
        "def print_name(name,surname,ID):\r\n",
        "  st = f'ชื่อ {name} นามสกุล {surname} ID {ID}'\r\n",
        "  return st"
      ],
      "execution_count": null,
      "outputs": []
    },
    {
      "cell_type": "code",
      "metadata": {
        "colab": {
          "base_uri": "https://localhost:8080/",
          "height": 38
        },
        "id": "m-VBzpSOVXe6",
        "outputId": "b558b860-5069-4b13-b8b2-a0c19bf0c77b"
      },
      "source": [
        "print_name('เจนนภา', 'พุนานิล' , '623020515-3')"
      ],
      "execution_count": null,
      "outputs": [
        {
          "output_type": "execute_result",
          "data": {
            "application/vnd.google.colaboratory.intrinsic+json": {
              "type": "string"
            },
            "text/plain": [
              "'ชื่อ เจนนภา นามสกุล พุนานิล ID 623020515-3'"
            ]
          },
          "metadata": {
            "tags": []
          },
          "execution_count": 12
        }
      ]
    },
    {
      "cell_type": "code",
      "metadata": {
        "colab": {
          "base_uri": "https://localhost:8080/"
        },
        "id": "cTD9MD5oXBjd",
        "outputId": "b263fffb-2ec2-49f5-cc71-8c68d2c87995"
      },
      "source": [
        "output_string = print_name('เจนนภา' ,'พุนานิล','623020515-3')\r\n",
        "print(output_string)"
      ],
      "execution_count": null,
      "outputs": [
        {
          "output_type": "stream",
          "text": [
            "ชื่อ เจนนภา นามสกุล พุนานิล ID 623020515-3\n"
          ],
          "name": "stdout"
        }
      ]
    },
    {
      "cell_type": "code",
      "metadata": {
        "id": "F1VHHLPCXeZq"
      },
      "source": [
        "def print_name2(surname,ID,name):\r\n",
        "  st=f'ชื่อ {name} นามสกุล {surname} รหัส {ID}'\r\n",
        "  print(st)"
      ],
      "execution_count": null,
      "outputs": []
    },
    {
      "cell_type": "code",
      "metadata": {
        "colab": {
          "base_uri": "https://localhost:8080/"
        },
        "id": "gNKXbXfFX-Ps",
        "outputId": "86363dc2-8886-422c-b227-8aa7077f9839"
      },
      "source": [
        "print_name2('เจนนภา' , 'พุนานิล' , '623020515-3')"
      ],
      "execution_count": null,
      "outputs": [
        {
          "output_type": "stream",
          "text": [
            "ชื่อ 623020515-3 นามสกุล เจนนภา รหัส พุนานิล\n"
          ],
          "name": "stdout"
        }
      ]
    },
    {
      "cell_type": "code",
      "metadata": {
        "colab": {
          "base_uri": "https://localhost:8080/"
        },
        "id": "3Rz3ewZ9YThz",
        "outputId": "263a48a6-5f25-44df-e9d2-3fb3ce0a52e9"
      },
      "source": [
        "op2=print_name2('เจนนภา' , 'พุนานิล' , '623020515-3')"
      ],
      "execution_count": null,
      "outputs": [
        {
          "output_type": "stream",
          "text": [
            "ชื่อ 623020515-3 นามสกุล เจนนภา รหัส พุนานิล\n"
          ],
          "name": "stdout"
        }
      ]
    },
    {
      "cell_type": "code",
      "metadata": {
        "colab": {
          "base_uri": "https://localhost:8080/"
        },
        "id": "ZZ1_9gomYvkD",
        "outputId": "5bc2a427-3369-4db6-f68d-c03e0a624756"
      },
      "source": [
        "print(op2)"
      ],
      "execution_count": null,
      "outputs": [
        {
          "output_type": "stream",
          "text": [
            "None\n"
          ],
          "name": "stdout"
        }
      ]
    },
    {
      "cell_type": "markdown",
      "metadata": {
        "id": "bMSQz4lhZQYG"
      },
      "source": [
        "**ฟังก์ชันไม่จำเป็นต้องมี input**"
      ]
    },
    {
      "cell_type": "code",
      "metadata": {
        "id": "-X_HkPSYY90d"
      },
      "source": [
        "def Pi():\r\n",
        "  return 3.14159265359"
      ],
      "execution_count": null,
      "outputs": []
    },
    {
      "cell_type": "code",
      "metadata": {
        "colab": {
          "base_uri": "https://localhost:8080/"
        },
        "id": "SDVTnHc5ZOd8",
        "outputId": "bb7ff773-9c51-4825-e8a9-bd5b186417f0"
      },
      "source": [
        "#คำนวณพื้นที่วงกลมที่มีขนาดเส้นผ่านศูนย์กลางเท่ากับ 3\r\n",
        "Pi()*(1.5**2)"
      ],
      "execution_count": null,
      "outputs": [
        {
          "output_type": "execute_result",
          "data": {
            "text/plain": [
              "7.0685834705775"
            ]
          },
          "metadata": {
            "tags": []
          },
          "execution_count": 28
        }
      ]
    },
    {
      "cell_type": "code",
      "metadata": {
        "id": "MwP7AtITZ-DC"
      },
      "source": [
        "def print_my_name():\r\n",
        "  print('เจนนภา พุนานิล ID 623020515-3')"
      ],
      "execution_count": null,
      "outputs": []
    },
    {
      "cell_type": "code",
      "metadata": {
        "colab": {
          "base_uri": "https://localhost:8080/"
        },
        "id": "aEGcefqOaPBg",
        "outputId": "c6af182f-9f02-4859-e9cc-cf61534f564e"
      },
      "source": [
        "print_my_name()"
      ],
      "execution_count": null,
      "outputs": [
        {
          "output_type": "stream",
          "text": [
            "เจนนภา พุนานิล ID 623020515-3\n"
          ],
          "name": "stdout"
        }
      ]
    },
    {
      "cell_type": "markdown",
      "metadata": {
        "id": "NRzpEfpHaVNi"
      },
      "source": [
        "**input ของ function ใน phython ที่จำเป็นต้องใส่ กับ input ที่ไม่จำเป็นต้องใส่(มีค่า default)**\r\n",
        "**เราต้องเรียบ input ที่จำเป็นต้องใส่ขึ้น**"
      ]
    },
    {
      "cell_type": "code",
      "metadata": {
        "id": "-GkMrN92aUlD"
      },
      "source": [
        "def print_21ines_default(name, surname, grade='F'):\r\n",
        "  st=f'ชื่อ{name} นามสกุล{surname} รหัส{ID}'\r\n",
        "  print(st)\r\n",
        "  st2=f'เกรดวิชา Mutivariat >>>{grade}'\r\n",
        "  print(st2)\r\n"
      ],
      "execution_count": null,
      "outputs": []
    },
    {
      "cell_type": "markdown",
      "metadata": {
        "id": "crYB6hI5c2Yg"
      },
      "source": [
        "      HW3 ให้เขียน Function คำนวณจำนวนวินาที เวลาต่อไปนี้\r\n",
        "          '14-15-31'\r\n",
        "          '13-00-01'\r\n",
        "          '05-49-44'\r\n",
        "          '00-00-16'\r\n",
        "           และ print ให้สวยงาม"
      ]
    },
    {
      "cell_type": "code",
      "metadata": {
        "id": "SYs1sDohc13t"
      },
      "source": [
        ""
      ],
      "execution_count": null,
      "outputs": []
    }
  ]
}